{
  "cells": [
    {
      "cell_type": "markdown",
      "metadata": {
        "id": "view-in-github",
        "colab_type": "text"
      },
      "source": [
        "<a href=\"https://colab.research.google.com/github/nafisenik/NLP-CA2/blob/main/Main.ipynb\" target=\"_parent\"><img src=\"https://colab.research.google.com/assets/colab-badge.svg\" alt=\"Open In Colab\"/></a>"
      ]
    },
    {
      "cell_type": "markdown",
      "source": [
        "### Import libraries"
      ],
      "metadata": {
        "id": "2lmOoa_tdhho"
      },
      "id": "2lmOoa_tdhho"
    },
    {
      "cell_type": "code",
      "source": [
        "!pip install ner-d"
      ],
      "metadata": {
        "id": "27zO7gTRmtd8",
        "outputId": "09a8bec6-adaa-4e88-e03d-c4b122a75581",
        "colab": {
          "base_uri": "https://localhost:8080/"
        }
      },
      "id": "27zO7gTRmtd8",
      "execution_count": 1,
      "outputs": [
        {
          "output_type": "stream",
          "name": "stdout",
          "text": [
            "Requirement already satisfied: ner-d in /usr/local/lib/python3.7/dist-packages (0.4.0)\n",
            "Requirement already satisfied: spacy==2.2.2 in /usr/local/lib/python3.7/dist-packages (from ner-d) (2.2.2)\n",
            "Requirement already satisfied: setuptools in /usr/local/lib/python3.7/dist-packages (from spacy==2.2.2->ner-d) (57.4.0)\n",
            "Requirement already satisfied: cymem<2.1.0,>=2.0.2 in /usr/local/lib/python3.7/dist-packages (from spacy==2.2.2->ner-d) (2.0.6)\n",
            "Requirement already satisfied: blis<0.5.0,>=0.4.0 in /usr/local/lib/python3.7/dist-packages (from spacy==2.2.2->ner-d) (0.4.1)\n",
            "Requirement already satisfied: requests<3.0.0,>=2.13.0 in /usr/local/lib/python3.7/dist-packages (from spacy==2.2.2->ner-d) (2.23.0)\n",
            "Requirement already satisfied: wasabi<1.1.0,>=0.3.0 in /usr/local/lib/python3.7/dist-packages (from spacy==2.2.2->ner-d) (0.9.1)\n",
            "Requirement already satisfied: importlib-metadata>=0.20 in /usr/local/lib/python3.7/dist-packages (from spacy==2.2.2->ner-d) (4.11.3)\n",
            "Requirement already satisfied: murmurhash<1.1.0,>=0.28.0 in /usr/local/lib/python3.7/dist-packages (from spacy==2.2.2->ner-d) (1.0.6)\n",
            "Requirement already satisfied: srsly<1.1.0,>=0.1.0 in /usr/local/lib/python3.7/dist-packages (from spacy==2.2.2->ner-d) (1.0.5)\n",
            "Requirement already satisfied: plac<1.2.0,>=0.9.6 in /usr/local/lib/python3.7/dist-packages (from spacy==2.2.2->ner-d) (1.1.3)\n",
            "Requirement already satisfied: thinc<7.4.0,>=7.3.0 in /usr/local/lib/python3.7/dist-packages (from spacy==2.2.2->ner-d) (7.3.1)\n",
            "Requirement already satisfied: numpy>=1.15.0 in /usr/local/lib/python3.7/dist-packages (from spacy==2.2.2->ner-d) (1.21.5)\n",
            "Requirement already satisfied: preshed<3.1.0,>=3.0.2 in /usr/local/lib/python3.7/dist-packages (from spacy==2.2.2->ner-d) (3.0.6)\n",
            "Requirement already satisfied: typing-extensions>=3.6.4 in /usr/local/lib/python3.7/dist-packages (from importlib-metadata>=0.20->spacy==2.2.2->ner-d) (4.1.1)\n",
            "Requirement already satisfied: zipp>=0.5 in /usr/local/lib/python3.7/dist-packages (from importlib-metadata>=0.20->spacy==2.2.2->ner-d) (3.8.0)\n",
            "Requirement already satisfied: chardet<4,>=3.0.2 in /usr/local/lib/python3.7/dist-packages (from requests<3.0.0,>=2.13.0->spacy==2.2.2->ner-d) (3.0.4)\n",
            "Requirement already satisfied: idna<3,>=2.5 in /usr/local/lib/python3.7/dist-packages (from requests<3.0.0,>=2.13.0->spacy==2.2.2->ner-d) (2.10)\n",
            "Requirement already satisfied: certifi>=2017.4.17 in /usr/local/lib/python3.7/dist-packages (from requests<3.0.0,>=2.13.0->spacy==2.2.2->ner-d) (2021.10.8)\n",
            "Requirement already satisfied: urllib3!=1.25.0,!=1.25.1,<1.26,>=1.21.1 in /usr/local/lib/python3.7/dist-packages (from requests<3.0.0,>=2.13.0->spacy==2.2.2->ner-d) (1.24.3)\n",
            "Requirement already satisfied: tqdm<5.0.0,>=4.10.0 in /usr/local/lib/python3.7/dist-packages (from thinc<7.4.0,>=7.3.0->spacy==2.2.2->ner-d) (4.64.0)\n"
          ]
        }
      ]
    },
    {
      "cell_type": "code",
      "execution_count": 2,
      "id": "0cffcd95-f61f-4027-9739-1ec66b3631c8",
      "metadata": {
        "id": "0cffcd95-f61f-4027-9739-1ec66b3631c8",
        "outputId": "3853488c-3ab8-433f-a3ab-27b18ef69b3d",
        "colab": {
          "base_uri": "https://localhost:8080/"
        }
      },
      "outputs": [
        {
          "output_type": "stream",
          "name": "stderr",
          "text": [
            "/usr/local/lib/python3.7/dist-packages/nltk/twitter/__init__.py:20: UserWarning: The twython library has not been installed. Some functionality from the twitter package will not be available.\n",
            "  warnings.warn(\"The twython library has not been installed. \"\n"
          ]
        }
      ],
      "source": [
        "import os\n",
        "import pandas as pd\n",
        "from itertools import groupby\n",
        "from operator import itemgetter\n",
        "import re\n",
        "from collections import Counter\n",
        "import numpy as np\n",
        "import tqdm\n",
        "from wordcloud import WordCloud\n",
        "import matplotlib.pyplot as plt\n",
        "from string import punctuation\n",
        "import string\n",
        "from collections import Counter\n",
        "\n",
        "\n",
        "\n",
        "from nltk import regexp_tokenize\n",
        "from nltk.stem.wordnet import WordNetLemmatizer\n",
        "from nltk import pos_tag\n",
        "import nltk\n",
        "from nltk.corpus import stopwords\n",
        "from nltk.tokenize import word_tokenize\n",
        "from nltk.sentiment.vader import SentimentIntensityAnalyzer\n",
        "from nltk import RegexpParser\n",
        "from nltk import FreqDist\n",
        "\n",
        "\n",
        "from sklearn.feature_extraction.text import TfidfVectorizer\n",
        "from sklearn.cluster import KMeans\n",
        "from sklearn.decomposition import PCA\n",
        "from sklearn.manifold import TSNE\n",
        "\n",
        "import spacy\n",
        "from spacy import displacy\n",
        "\n",
        "from nerd import ner\n",
        "\n",
        "import datetime"
      ]
    },
    {
      "cell_type": "markdown",
      "source": [
        "### Download nltk packages"
      ],
      "metadata": {
        "id": "ILqFQySfd1I9"
      },
      "id": "ILqFQySfd1I9"
    },
    {
      "cell_type": "code",
      "source": [
        "nltk.download('averaged_perceptron_tagger')\n",
        "nltk.download('omw-1.4')\n",
        "nltk.download('wordnet')\n",
        "nltk.download('stopwords')\n",
        "nltk.download('punkt')\n",
        "nltk.download('vader_lexicon')"
      ],
      "metadata": {
        "id": "n9MYiLjGjxsN",
        "colab": {
          "base_uri": "https://localhost:8080/"
        },
        "outputId": "56bbfd9c-3a84-4d39-e362-d8d692ea3370"
      },
      "id": "n9MYiLjGjxsN",
      "execution_count": 3,
      "outputs": [
        {
          "output_type": "stream",
          "name": "stdout",
          "text": [
            "[nltk_data] Downloading package averaged_perceptron_tagger to\n",
            "[nltk_data]     /root/nltk_data...\n",
            "[nltk_data]   Package averaged_perceptron_tagger is already up-to-\n",
            "[nltk_data]       date!\n",
            "[nltk_data] Downloading package omw-1.4 to /root/nltk_data...\n",
            "[nltk_data]   Package omw-1.4 is already up-to-date!\n",
            "[nltk_data] Downloading package wordnet to /root/nltk_data...\n",
            "[nltk_data]   Package wordnet is already up-to-date!\n",
            "[nltk_data] Downloading package stopwords to /root/nltk_data...\n",
            "[nltk_data]   Package stopwords is already up-to-date!\n",
            "[nltk_data] Downloading package punkt to /root/nltk_data...\n",
            "[nltk_data]   Package punkt is already up-to-date!\n",
            "[nltk_data] Downloading package vader_lexicon to /root/nltk_data...\n",
            "[nltk_data]   Package vader_lexicon is already up-to-date!\n"
          ]
        },
        {
          "output_type": "execute_result",
          "data": {
            "text/plain": [
              "True"
            ]
          },
          "metadata": {},
          "execution_count": 3
        }
      ]
    },
    {
      "cell_type": "markdown",
      "source": [
        "### Read text files and save as a list"
      ],
      "metadata": {
        "id": "73qNUnuqeNI6"
      },
      "id": "73qNUnuqeNI6"
    },
    {
      "cell_type": "code",
      "execution_count": 4,
      "id": "ee2612ba-0267-410e-b0d5-d4e52524556d",
      "metadata": {
        "id": "ee2612ba-0267-410e-b0d5-d4e52524556d"
      },
      "outputs": [],
      "source": [
        "# a function to read files \n",
        "def read_file(file):\n",
        "    with open(file, 'r', encoding=\"utf-8\") as f:\n",
        "        text = f.read()\n",
        "    return text\n",
        "\n",
        "# set path to text files\n",
        "file_dir = './Data/Text_Files/'\n",
        "text_list = []\n",
        "\n",
        "# find files with .txt and read them\n",
        "for file in os.listdir(file_dir):\n",
        "    if file.endswith(\".txt\"):\n",
        "        file_path = f'{file_dir}{file}'\n",
        "        text_list.append(read_file(file_path))"
      ]
    },
    {
      "cell_type": "code",
      "source": [
        "print(f\"number of texts: {len(text_list)}\")"
      ],
      "metadata": {
        "id": "RgzaIFv4lvvH",
        "outputId": "e6a0fdc4-6603-436e-da04-448b1ed948fe",
        "colab": {
          "base_uri": "https://localhost:8080/"
        }
      },
      "id": "RgzaIFv4lvvH",
      "execution_count": 5,
      "outputs": [
        {
          "output_type": "stream",
          "name": "stdout",
          "text": [
            "number of texts: 82\n"
          ]
        }
      ]
    },
    {
      "cell_type": "markdown",
      "source": [
        "### Sample of our data"
      ],
      "metadata": {
        "id": "012zu9Z7eaYJ"
      },
      "id": "012zu9Z7eaYJ"
    },
    {
      "cell_type": "code",
      "source": [
        "# sample text\n",
        "print(f\"sample text: {text_list[0][:500]}\")"
      ],
      "metadata": {
        "id": "OvWlRuF7kt2e",
        "outputId": "4873eb00-0815-4b47-931d-3b0a29143db0",
        "colab": {
          "base_uri": "https://localhost:8080/"
        }
      },
      "id": "OvWlRuF7kt2e",
      "execution_count": 6,
      "outputs": [
        {
          "output_type": "stream",
          "name": "stdout",
          "text": [
            "sample text: \n",
            "To the Congress of the United States:\n",
            "We enter 1974 not at the beginning of an historical cycle, but in the middle of one. Beginnings have been made in many vital areas, beginnings which we now must build upon. New needs have arisen which we are in the process of addressing. Opportunities are coalescing which give us a chance to make historic progress toward a stable peace and expanding prosperity.\n",
            "In looking at the agenda for 1974, we cannot consider the work of this or of any one year in isol\n"
          ]
        }
      ]
    },
    {
      "cell_type": "code",
      "execution_count": 7,
      "id": "b253656b-2310-4973-8f8f-a131b116dae8",
      "metadata": {
        "id": "b253656b-2310-4973-8f8f-a131b116dae8",
        "outputId": "02a485a4-40c4-4273-fc92-8e821bb24e57",
        "colab": {
          "base_uri": "https://localhost:8080/",
          "height": 337
        }
      },
      "outputs": [
        {
          "output_type": "execute_result",
          "data": {
            "text/plain": [
              "   Index        President                                         Categories  \\\n",
              "0      0  Harry S. Truman  ['Presidential', 'State of the Union Addresses...   \n",
              "1      1  Harry S. Truman  ['Presidential', 'State of the Union Addresses...   \n",
              "2      2  Harry S. Truman  ['Presidential', 'State of the Union Addresses...   \n",
              "3      3  Harry S. Truman  ['Presidential', 'State of the Union Addresses...   \n",
              "4      4  Harry S. Truman  ['Presidential', 'State of the Union Addresses...   \n",
              "\n",
              "               Date                                           Citation  \\\n",
              "0  January 06, 1947  Harry S. Truman, Annual Message to the Congres...   \n",
              "1  January 07, 1948  Harry S. Truman, Annual Message to the Congres...   \n",
              "2  January 05, 1949  Harry S. Truman, Annual Message to the Congres...   \n",
              "3  January 04, 1950  Harry S. Truman, Annual Message to the Congres...   \n",
              "4  January 08, 1951  Harry S. Truman, Annual Message to the Congres...   \n",
              "\n",
              "                                               Title  \n",
              "0  Annual Message to the Congress on the State of...  \n",
              "1  Annual Message to the Congress on the State of...  \n",
              "2  Annual Message to the Congress on the State of...  \n",
              "3  Annual Message to the Congress on the State of...  \n",
              "4  Annual Message to the Congress on the State of...  "
            ],
            "text/html": [
              "\n",
              "  <div id=\"df-b9c87015-66b5-4d5b-9d57-7ed8ef778daa\">\n",
              "    <div class=\"colab-df-container\">\n",
              "      <div>\n",
              "<style scoped>\n",
              "    .dataframe tbody tr th:only-of-type {\n",
              "        vertical-align: middle;\n",
              "    }\n",
              "\n",
              "    .dataframe tbody tr th {\n",
              "        vertical-align: top;\n",
              "    }\n",
              "\n",
              "    .dataframe thead th {\n",
              "        text-align: right;\n",
              "    }\n",
              "</style>\n",
              "<table border=\"1\" class=\"dataframe\">\n",
              "  <thead>\n",
              "    <tr style=\"text-align: right;\">\n",
              "      <th></th>\n",
              "      <th>Index</th>\n",
              "      <th>President</th>\n",
              "      <th>Categories</th>\n",
              "      <th>Date</th>\n",
              "      <th>Citation</th>\n",
              "      <th>Title</th>\n",
              "    </tr>\n",
              "  </thead>\n",
              "  <tbody>\n",
              "    <tr>\n",
              "      <th>0</th>\n",
              "      <td>0</td>\n",
              "      <td>Harry S. Truman</td>\n",
              "      <td>['Presidential', 'State of the Union Addresses...</td>\n",
              "      <td>January 06, 1947</td>\n",
              "      <td>Harry S. Truman, Annual Message to the Congres...</td>\n",
              "      <td>Annual Message to the Congress on the State of...</td>\n",
              "    </tr>\n",
              "    <tr>\n",
              "      <th>1</th>\n",
              "      <td>1</td>\n",
              "      <td>Harry S. Truman</td>\n",
              "      <td>['Presidential', 'State of the Union Addresses...</td>\n",
              "      <td>January 07, 1948</td>\n",
              "      <td>Harry S. Truman, Annual Message to the Congres...</td>\n",
              "      <td>Annual Message to the Congress on the State of...</td>\n",
              "    </tr>\n",
              "    <tr>\n",
              "      <th>2</th>\n",
              "      <td>2</td>\n",
              "      <td>Harry S. Truman</td>\n",
              "      <td>['Presidential', 'State of the Union Addresses...</td>\n",
              "      <td>January 05, 1949</td>\n",
              "      <td>Harry S. Truman, Annual Message to the Congres...</td>\n",
              "      <td>Annual Message to the Congress on the State of...</td>\n",
              "    </tr>\n",
              "    <tr>\n",
              "      <th>3</th>\n",
              "      <td>3</td>\n",
              "      <td>Harry S. Truman</td>\n",
              "      <td>['Presidential', 'State of the Union Addresses...</td>\n",
              "      <td>January 04, 1950</td>\n",
              "      <td>Harry S. Truman, Annual Message to the Congres...</td>\n",
              "      <td>Annual Message to the Congress on the State of...</td>\n",
              "    </tr>\n",
              "    <tr>\n",
              "      <th>4</th>\n",
              "      <td>4</td>\n",
              "      <td>Harry S. Truman</td>\n",
              "      <td>['Presidential', 'State of the Union Addresses...</td>\n",
              "      <td>January 08, 1951</td>\n",
              "      <td>Harry S. Truman, Annual Message to the Congres...</td>\n",
              "      <td>Annual Message to the Congress on the State of...</td>\n",
              "    </tr>\n",
              "  </tbody>\n",
              "</table>\n",
              "</div>\n",
              "      <button class=\"colab-df-convert\" onclick=\"convertToInteractive('df-b9c87015-66b5-4d5b-9d57-7ed8ef778daa')\"\n",
              "              title=\"Convert this dataframe to an interactive table.\"\n",
              "              style=\"display:none;\">\n",
              "        \n",
              "  <svg xmlns=\"http://www.w3.org/2000/svg\" height=\"24px\"viewBox=\"0 0 24 24\"\n",
              "       width=\"24px\">\n",
              "    <path d=\"M0 0h24v24H0V0z\" fill=\"none\"/>\n",
              "    <path d=\"M18.56 5.44l.94 2.06.94-2.06 2.06-.94-2.06-.94-.94-2.06-.94 2.06-2.06.94zm-11 1L8.5 8.5l.94-2.06 2.06-.94-2.06-.94L8.5 2.5l-.94 2.06-2.06.94zm10 10l.94 2.06.94-2.06 2.06-.94-2.06-.94-.94-2.06-.94 2.06-2.06.94z\"/><path d=\"M17.41 7.96l-1.37-1.37c-.4-.4-.92-.59-1.43-.59-.52 0-1.04.2-1.43.59L10.3 9.45l-7.72 7.72c-.78.78-.78 2.05 0 2.83L4 21.41c.39.39.9.59 1.41.59.51 0 1.02-.2 1.41-.59l7.78-7.78 2.81-2.81c.8-.78.8-2.07 0-2.86zM5.41 20L4 18.59l7.72-7.72 1.47 1.35L5.41 20z\"/>\n",
              "  </svg>\n",
              "      </button>\n",
              "      \n",
              "  <style>\n",
              "    .colab-df-container {\n",
              "      display:flex;\n",
              "      flex-wrap:wrap;\n",
              "      gap: 12px;\n",
              "    }\n",
              "\n",
              "    .colab-df-convert {\n",
              "      background-color: #E8F0FE;\n",
              "      border: none;\n",
              "      border-radius: 50%;\n",
              "      cursor: pointer;\n",
              "      display: none;\n",
              "      fill: #1967D2;\n",
              "      height: 32px;\n",
              "      padding: 0 0 0 0;\n",
              "      width: 32px;\n",
              "    }\n",
              "\n",
              "    .colab-df-convert:hover {\n",
              "      background-color: #E2EBFA;\n",
              "      box-shadow: 0px 1px 2px rgba(60, 64, 67, 0.3), 0px 1px 3px 1px rgba(60, 64, 67, 0.15);\n",
              "      fill: #174EA6;\n",
              "    }\n",
              "\n",
              "    [theme=dark] .colab-df-convert {\n",
              "      background-color: #3B4455;\n",
              "      fill: #D2E3FC;\n",
              "    }\n",
              "\n",
              "    [theme=dark] .colab-df-convert:hover {\n",
              "      background-color: #434B5C;\n",
              "      box-shadow: 0px 1px 3px 1px rgba(0, 0, 0, 0.15);\n",
              "      filter: drop-shadow(0px 1px 2px rgba(0, 0, 0, 0.3));\n",
              "      fill: #FFFFFF;\n",
              "    }\n",
              "  </style>\n",
              "\n",
              "      <script>\n",
              "        const buttonEl =\n",
              "          document.querySelector('#df-b9c87015-66b5-4d5b-9d57-7ed8ef778daa button.colab-df-convert');\n",
              "        buttonEl.style.display =\n",
              "          google.colab.kernel.accessAllowed ? 'block' : 'none';\n",
              "\n",
              "        async function convertToInteractive(key) {\n",
              "          const element = document.querySelector('#df-b9c87015-66b5-4d5b-9d57-7ed8ef778daa');\n",
              "          const dataTable =\n",
              "            await google.colab.kernel.invokeFunction('convertToInteractive',\n",
              "                                                     [key], {});\n",
              "          if (!dataTable) return;\n",
              "\n",
              "          const docLinkHtml = 'Like what you see? Visit the ' +\n",
              "            '<a target=\"_blank\" href=https://colab.research.google.com/notebooks/data_table.ipynb>data table notebook</a>'\n",
              "            + ' to learn more about interactive tables.';\n",
              "          element.innerHTML = '';\n",
              "          dataTable['output_type'] = 'display_data';\n",
              "          await google.colab.output.renderOutput(dataTable, element);\n",
              "          const docLink = document.createElement('div');\n",
              "          docLink.innerHTML = docLinkHtml;\n",
              "          element.appendChild(docLink);\n",
              "        }\n",
              "      </script>\n",
              "    </div>\n",
              "  </div>\n",
              "  "
            ]
          },
          "metadata": {},
          "execution_count": 7
        }
      ],
      "source": [
        "df = pd.read_csv(\"./Data/metadata.csv\")\n",
        "df.head()"
      ]
    },
    {
      "cell_type": "markdown",
      "source": [
        "#### Change Date Type to datetime"
      ],
      "metadata": {
        "id": "4axQUZMMmetO"
      },
      "id": "4axQUZMMmetO"
    },
    {
      "cell_type": "code",
      "execution_count": 8,
      "id": "879ca449-379a-48ab-a80b-e60532fbe187",
      "metadata": {
        "id": "879ca449-379a-48ab-a80b-e60532fbe187",
        "outputId": "faa56066-b3d5-4a69-a1c5-57af6f2d560d",
        "colab": {
          "base_uri": "https://localhost:8080/"
        }
      },
      "outputs": [
        {
          "output_type": "stream",
          "name": "stdout",
          "text": [
            "object\n"
          ]
        }
      ],
      "source": [
        "print(df['Title'].dtypes)"
      ]
    },
    {
      "cell_type": "code",
      "execution_count": 9,
      "id": "282f32ed-bf2c-4ccc-8c98-5cc12901fe85",
      "metadata": {
        "id": "282f32ed-bf2c-4ccc-8c98-5cc12901fe85",
        "outputId": "639d6d34-8c9d-4528-dd8c-64f361d259c7",
        "colab": {
          "base_uri": "https://localhost:8080/"
        }
      },
      "outputs": [
        {
          "output_type": "execute_result",
          "data": {
            "text/plain": [
              "0    1947-01-06\n",
              "1    1948-01-07\n",
              "2    1949-01-05\n",
              "3    1950-01-04\n",
              "4    1951-01-08\n",
              "        ...    \n",
              "77   2016-01-12\n",
              "78   2018-01-30\n",
              "79   2019-02-05\n",
              "80   2020-02-04\n",
              "81   2022-03-01\n",
              "Name: Date, Length: 82, dtype: datetime64[ns]"
            ]
          },
          "metadata": {},
          "execution_count": 9
        }
      ],
      "source": [
        "df['Date'] = pd.to_datetime(df['Date'], format='%B %d, %Y')\n",
        "df['Date']"
      ]
    },
    {
      "cell_type": "markdown",
      "source": [
        "### Groupby persidents:\n",
        "`dict[president_name]` = `[texts]`\n"
      ],
      "metadata": {
        "id": "lgT1Zb1CmovG"
      },
      "id": "lgT1Zb1CmovG"
    },
    {
      "cell_type": "code",
      "execution_count": 10,
      "id": "ee391dbb-899d-4847-82db-199160b4818c",
      "metadata": {
        "id": "ee391dbb-899d-4847-82db-199160b4818c"
      },
      "outputs": [],
      "source": [
        "president_name = df['President'].tolist()\n",
        "president_text_dict = {keys: [i for _, i in sub] for keys, sub in groupby(\n",
        "         zip(president_name, text_list), key = itemgetter(0))}"
      ]
    },
    {
      "cell_type": "code",
      "execution_count": 11,
      "id": "75359f45-ceae-4124-96e3-4e3b9ef537ff",
      "metadata": {
        "id": "75359f45-ceae-4124-96e3-4e3b9ef537ff",
        "outputId": "45d71e90-f50e-4c34-ec90-2997f3dc95a3",
        "colab": {
          "base_uri": "https://localhost:8080/"
        }
      },
      "outputs": [
        {
          "output_type": "execute_result",
          "data": {
            "text/plain": [
              "dict_keys(['Harry S. Truman', 'Dwight D. Eisenhower', 'John F. Kennedy', 'Lyndon B. Johnson', 'Richard Nixon', 'Gerald R. Ford', 'Jimmy Carter', 'Ronald Reagan', 'George Bush', 'William J. Clinton', 'George W. Bush', 'Barack Obama', 'Donald J. Trump', 'Joseph R. Biden'])"
            ]
          },
          "metadata": {},
          "execution_count": 11
        }
      ],
      "source": [
        "president_text_dict.keys()"
      ]
    },
    {
      "cell_type": "code",
      "execution_count": 12,
      "id": "4d9427e7-9145-4184-8b90-77b62d834872",
      "metadata": {
        "id": "4d9427e7-9145-4184-8b90-77b62d834872",
        "outputId": "79f0b953-cba0-4c6e-c159-ed8c8575a162",
        "colab": {
          "base_uri": "https://localhost:8080/"
        }
      },
      "outputs": [
        {
          "output_type": "execute_result",
          "data": {
            "text/plain": [
              "7"
            ]
          },
          "metadata": {},
          "execution_count": 12
        }
      ],
      "source": [
        "len(president_text_dict['Barack Obama'])"
      ]
    },
    {
      "cell_type": "markdown",
      "source": [
        "### Tokenizer"
      ],
      "metadata": {
        "id": "qkUF2encenjV"
      },
      "id": "qkUF2encenjV"
    },
    {
      "cell_type": "code",
      "execution_count": 13,
      "id": "69ff092b-0dd8-458b-88e9-5d7c8dad74e3",
      "metadata": {
        "id": "69ff092b-0dd8-458b-88e9-5d7c8dad74e3"
      },
      "outputs": [],
      "source": [
        "# http://stackoverflow.com/questions/36353125/nltk-regular-expression-tokenizer\n",
        "pattern = r'''(?x)          # set flag to allow verbose regexps\n",
        "        (?:[a-zA-Z]\\.)+(?:[a-zA-Z])?         # abbreviations, e.g. U.S.A.\n",
        "      | \\w+(?:-\\w+)*        # words with optional internal hyphens\n",
        "      | \\$?\\d+(?:\\.\\d+)?%?\\s?  # currency and percentages, e.g. $12.40, 82%\n",
        "      | \\.\\.\\.              # ellipsis\n",
        "      | [][.,;\"'?():_`-]    # these are separate tokens; includes ], [\n",
        "    '''\n",
        "\n",
        "pattern = re.compile(pattern)\n",
        "\n",
        "def tokenize_text(text):\n",
        "    return regexp_tokenize(text, pattern)"
      ]
    },
    {
      "cell_type": "markdown",
      "source": [
        "### Lemmatizer"
      ],
      "metadata": {
        "id": "jhJV0CUse5QV"
      },
      "id": "jhJV0CUse5QV"
    },
    {
      "cell_type": "code",
      "execution_count": 14,
      "id": "5361f260-bc04-4dd7-b6bc-ac627eebc793",
      "metadata": {
        "id": "5361f260-bc04-4dd7-b6bc-ac627eebc793"
      },
      "outputs": [],
      "source": [
        "def lemmatize_all(sentence):\n",
        "    l = []\n",
        "    wnl = WordNetLemmatizer()\n",
        "    for word, tag in pos_tag(tokenize_text(sentence)):\n",
        "        if tag.startswith('N'):\n",
        "            l.append(wnl.lemmatize(word, pos='n'))\n",
        "        elif tag.startswith('V'):\n",
        "            l.append(wnl.lemmatize(word, pos='v'))\n",
        "        elif tag.startswith('J'):\n",
        "            l.append(wnl.lemmatize(word, pos='a'))\n",
        "        elif tag.startswith('R'):\n",
        "            l.append(wnl.lemmatize(word, pos='r'))\n",
        "            \n",
        "        else:\n",
        "            l.append(wnl.lemmatize(word, pos='n'))\n",
        "    return l"
      ]
    },
    {
      "cell_type": "code",
      "source": [
        ""
      ],
      "metadata": {
        "id": "WHNLENIpfF3u"
      },
      "id": "WHNLENIpfF3u",
      "execution_count": 14,
      "outputs": []
    },
    {
      "cell_type": "markdown",
      "source": [
        "#### Test of lemmatizer"
      ],
      "metadata": {
        "id": "IMGj56ZYfGp6"
      },
      "id": "IMGj56ZYfGp6"
    },
    {
      "cell_type": "code",
      "execution_count": 15,
      "id": "13190e72-5ae3-4427-8fcb-d7c02fe5bd99",
      "metadata": {
        "id": "13190e72-5ae3-4427-8fcb-d7c02fe5bd99",
        "outputId": "1983f348-f476-4979-dba1-b54d3f921200",
        "colab": {
          "base_uri": "https://localhost:8080/"
        }
      },
      "outputs": [
        {
          "output_type": "stream",
          "name": "stdout",
          "text": [
            "['The', 'striped', 'bat', 'be', 'hang', 'on', 'their', 'foot', 'for', 'best', 'and', 'write', 'you', 'be']\n"
          ]
        }
      ],
      "source": [
        "sentence_sample = 'The striped bats are  hanging on their feet for best and wrote you are'\n",
        "print(lemmatize_all(sentence_sample))\n",
        "\n"
      ]
    },
    {
      "cell_type": "code",
      "source": [
        ""
      ],
      "metadata": {
        "id": "_H7OjHINfg_b"
      },
      "id": "_H7OjHINfg_b",
      "execution_count": 15,
      "outputs": []
    },
    {
      "cell_type": "markdown",
      "source": [
        "### Normalizing and Cleaning"
      ],
      "metadata": {
        "id": "nJsrIaVHfh3g"
      },
      "id": "nJsrIaVHfh3g"
    },
    {
      "cell_type": "code",
      "execution_count": 16,
      "id": "53b4f313-78c8-4477-8079-719ab6e7a842",
      "metadata": {
        "id": "53b4f313-78c8-4477-8079-719ab6e7a842"
      },
      "outputs": [],
      "source": [
        "stop_words = set(stopwords.words('english'))\n",
        "def normalize_and_cleaning(text, lemm=True, remove_punct=True, lower=True, stop_word=True, remove_number=True, min_len = 2):\n",
        "\n",
        "    text = re.sub(r'(:?\\[Laughter\\]|\\[Applause\\]|\\[applause\\]|\\[laughter\\])', '', text)\n",
        "    \n",
        "\n",
        "    word_tokens = tokenize_text(text)\n",
        "    \n",
        "    if lower:\n",
        "        text = text.lower()\n",
        "    \n",
        "    \n",
        "    if remove_number:\n",
        "        my_reg = r'\\$?\\d+\\.?\\d*\\w*\\d*'\n",
        "        text = re.sub(my_reg, '', text)\n",
        "    \n",
        "    if remove_punct:\n",
        "        #text =' '.join([word.strip(punctuation) for word in tokenize_text(text) if len(word) > 1])\n",
        "        text =' '.join([word.strip(punctuation) for word in tokenize_text(text) if word not in string.punctuation])\n",
        "    \n",
        "    if lemm:\n",
        "      text = ' '.join(lemmatize_all(text))\n",
        "    \n",
        "    \n",
        "    if stop_word:\n",
        "        text = ' '.join([w for w in tokenize_text(text) if not w.lower() in stop_words])\n",
        "    \n",
        "\n",
        "    \n",
        "    if min_len>1:\n",
        "        text = ' '.join([word for word in tokenize_text(text) if len(word)>min_len])  \n",
        "\n",
        "    \n",
        "    text = re.sub(' +', ' ', text)\n",
        "    \n",
        "    return text\n",
        "    \n",
        "    "
      ]
    },
    {
      "cell_type": "code",
      "source": [
        "#Test normalize_and_cleaning\n",
        "test_text ='''[Laughter]poster-print The President. That 1993s Asia—the asia-pacific 22nd 33nd33 6-year U.S.A. wrote good example. [Applause] Well—[applause]. are [Applause] costs $12.40... Michelle Move! u.'''\n",
        "tokens = tokenize_text(test_text)\n",
        "res = normalize_and_cleaning(test_text)\n",
        "res2 = normalize_and_cleaning(test_text,remove_number=False)\n",
        "print(res)\n",
        "\n",
        "print(res2)\n",
        "\n"
      ],
      "metadata": {
        "colab": {
          "base_uri": "https://localhost:8080/"
        },
        "id": "OtOV3xIPvNp1",
        "outputId": "3384bda1-ccfd-423a-ea36-d6cec5e95539"
      },
      "id": "OtOV3xIPvNp1",
      "execution_count": 17,
      "outputs": [
        {
          "output_type": "stream",
          "name": "stdout",
          "text": [
            "poster-print president asia asia-pacific year u.s.a write good example well cost michelle move\n",
            "poster-print president 1993s asia asia-pacific 22nd 33nd33 6-year u.s.a write good example well cost michelle move\n"
          ]
        }
      ]
    },
    {
      "cell_type": "markdown",
      "source": [
        "### Join all text and create our corpuse"
      ],
      "metadata": {
        "id": "IXLosu6ijU9y"
      },
      "id": "IXLosu6ijU9y"
    },
    {
      "cell_type": "code",
      "source": [
        "all_doc = ' '.join(text_list)\n",
        "clean_corpuse = normalize_and_cleaning(all_doc)\n",
        "corpuse_tokens = tokenize_text(clean_corpuse)\n"
      ],
      "metadata": {
        "id": "2fm9irBxY2lI"
      },
      "id": "2fm9irBxY2lI",
      "execution_count": 18,
      "outputs": []
    },
    {
      "cell_type": "markdown",
      "source": [
        "### Most frequent words of our corpuse"
      ],
      "metadata": {
        "id": "dPQI4zd5jpBV"
      },
      "id": "dPQI4zd5jpBV"
    },
    {
      "cell_type": "code",
      "source": [
        "counter = Counter(corpuse_tokens)\n",
        "most_occur = counter.most_common(50)\n",
        "corpuse_fre_df = pd.DataFrame.from_records(most_occur, columns =['word', 'frequency'])\n",
        "total_freq = [(x[1]/len(corpuse_tokens))*100 for x in most_occur]\n",
        "corpuse_fre_df['% total frequency'] = total_freq\n",
        "corpuse_fre_df"
      ],
      "metadata": {
        "colab": {
          "base_uri": "https://localhost:8080/",
          "height": 1000
        },
        "id": "wpvOJ-XQRc6C",
        "outputId": "f49277b5-669a-465e-e0a4-62f55bfb15ab"
      },
      "id": "wpvOJ-XQRc6C",
      "execution_count": 19,
      "outputs": [
        {
          "output_type": "execute_result",
          "data": {
            "text/plain": [
              "              word  frequency  % total frequency\n",
              "0             year       3291           1.132855\n",
              "1         american       2114           0.727698\n",
              "2              new       2047           0.704635\n",
              "3           people       1904           0.655410\n",
              "4           nation       1870           0.643707\n",
              "5             must       1848           0.636134\n",
              "6             make       1829           0.629593\n",
              "7         congress       1828           0.629249\n",
              "8          program       1773           0.610317\n",
              "9            world       1747           0.601367\n",
              "10            work       1603           0.551798\n",
              "11         america       1565           0.538717\n",
              "12      government       1540           0.530111\n",
              "13           state       1539           0.529767\n",
              "14            need       1360           0.468150\n",
              "15         federal       1296           0.446120\n",
              "16            help       1261           0.434072\n",
              "17             one       1125           0.387257\n",
              "18         country       1071           0.368668\n",
              "19            also       1070           0.368324\n",
              "20           great       1054           0.362816\n",
              "21            time       1050           0.361440\n",
              "22        increase       1015           0.349392\n",
              "23        continue        966           0.332524\n",
              "24            last        957           0.329426\n",
              "25        economic        925           0.318411\n",
              "26            good        899           0.309461\n",
              "27          effort        898           0.309117\n",
              "28            take        882           0.303609\n",
              "29           every        849           0.292250\n",
              "30           would        844           0.290529\n",
              "31             job        834           0.287086\n",
              "32             tax        833           0.286742\n",
              "33         provide        833           0.286742\n",
              "34           right        829           0.285365\n",
              "35  administration        806           0.277448\n",
              "36         million        803           0.276415\n",
              "37        security        796           0.274006\n",
              "38          system        790           0.271940\n",
              "39        national        790           0.271940\n",
              "40          united        768           0.264367\n",
              "41            many        752           0.258860\n",
              "42           peace        743           0.255762\n",
              "43          health        743           0.255762\n",
              "44           first        739           0.254385\n",
              "45           child        723           0.248877\n",
              "46         economy        722           0.248533\n",
              "47          policy        718           0.247156\n",
              "48         support        716           0.246467\n",
              "49             act        715           0.246123"
            ],
            "text/html": [
              "\n",
              "  <div id=\"df-92037e7f-9056-45cc-bf3e-0d6154af4a29\">\n",
              "    <div class=\"colab-df-container\">\n",
              "      <div>\n",
              "<style scoped>\n",
              "    .dataframe tbody tr th:only-of-type {\n",
              "        vertical-align: middle;\n",
              "    }\n",
              "\n",
              "    .dataframe tbody tr th {\n",
              "        vertical-align: top;\n",
              "    }\n",
              "\n",
              "    .dataframe thead th {\n",
              "        text-align: right;\n",
              "    }\n",
              "</style>\n",
              "<table border=\"1\" class=\"dataframe\">\n",
              "  <thead>\n",
              "    <tr style=\"text-align: right;\">\n",
              "      <th></th>\n",
              "      <th>word</th>\n",
              "      <th>frequency</th>\n",
              "      <th>% total frequency</th>\n",
              "    </tr>\n",
              "  </thead>\n",
              "  <tbody>\n",
              "    <tr>\n",
              "      <th>0</th>\n",
              "      <td>year</td>\n",
              "      <td>3291</td>\n",
              "      <td>1.132855</td>\n",
              "    </tr>\n",
              "    <tr>\n",
              "      <th>1</th>\n",
              "      <td>american</td>\n",
              "      <td>2114</td>\n",
              "      <td>0.727698</td>\n",
              "    </tr>\n",
              "    <tr>\n",
              "      <th>2</th>\n",
              "      <td>new</td>\n",
              "      <td>2047</td>\n",
              "      <td>0.704635</td>\n",
              "    </tr>\n",
              "    <tr>\n",
              "      <th>3</th>\n",
              "      <td>people</td>\n",
              "      <td>1904</td>\n",
              "      <td>0.655410</td>\n",
              "    </tr>\n",
              "    <tr>\n",
              "      <th>4</th>\n",
              "      <td>nation</td>\n",
              "      <td>1870</td>\n",
              "      <td>0.643707</td>\n",
              "    </tr>\n",
              "    <tr>\n",
              "      <th>5</th>\n",
              "      <td>must</td>\n",
              "      <td>1848</td>\n",
              "      <td>0.636134</td>\n",
              "    </tr>\n",
              "    <tr>\n",
              "      <th>6</th>\n",
              "      <td>make</td>\n",
              "      <td>1829</td>\n",
              "      <td>0.629593</td>\n",
              "    </tr>\n",
              "    <tr>\n",
              "      <th>7</th>\n",
              "      <td>congress</td>\n",
              "      <td>1828</td>\n",
              "      <td>0.629249</td>\n",
              "    </tr>\n",
              "    <tr>\n",
              "      <th>8</th>\n",
              "      <td>program</td>\n",
              "      <td>1773</td>\n",
              "      <td>0.610317</td>\n",
              "    </tr>\n",
              "    <tr>\n",
              "      <th>9</th>\n",
              "      <td>world</td>\n",
              "      <td>1747</td>\n",
              "      <td>0.601367</td>\n",
              "    </tr>\n",
              "    <tr>\n",
              "      <th>10</th>\n",
              "      <td>work</td>\n",
              "      <td>1603</td>\n",
              "      <td>0.551798</td>\n",
              "    </tr>\n",
              "    <tr>\n",
              "      <th>11</th>\n",
              "      <td>america</td>\n",
              "      <td>1565</td>\n",
              "      <td>0.538717</td>\n",
              "    </tr>\n",
              "    <tr>\n",
              "      <th>12</th>\n",
              "      <td>government</td>\n",
              "      <td>1540</td>\n",
              "      <td>0.530111</td>\n",
              "    </tr>\n",
              "    <tr>\n",
              "      <th>13</th>\n",
              "      <td>state</td>\n",
              "      <td>1539</td>\n",
              "      <td>0.529767</td>\n",
              "    </tr>\n",
              "    <tr>\n",
              "      <th>14</th>\n",
              "      <td>need</td>\n",
              "      <td>1360</td>\n",
              "      <td>0.468150</td>\n",
              "    </tr>\n",
              "    <tr>\n",
              "      <th>15</th>\n",
              "      <td>federal</td>\n",
              "      <td>1296</td>\n",
              "      <td>0.446120</td>\n",
              "    </tr>\n",
              "    <tr>\n",
              "      <th>16</th>\n",
              "      <td>help</td>\n",
              "      <td>1261</td>\n",
              "      <td>0.434072</td>\n",
              "    </tr>\n",
              "    <tr>\n",
              "      <th>17</th>\n",
              "      <td>one</td>\n",
              "      <td>1125</td>\n",
              "      <td>0.387257</td>\n",
              "    </tr>\n",
              "    <tr>\n",
              "      <th>18</th>\n",
              "      <td>country</td>\n",
              "      <td>1071</td>\n",
              "      <td>0.368668</td>\n",
              "    </tr>\n",
              "    <tr>\n",
              "      <th>19</th>\n",
              "      <td>also</td>\n",
              "      <td>1070</td>\n",
              "      <td>0.368324</td>\n",
              "    </tr>\n",
              "    <tr>\n",
              "      <th>20</th>\n",
              "      <td>great</td>\n",
              "      <td>1054</td>\n",
              "      <td>0.362816</td>\n",
              "    </tr>\n",
              "    <tr>\n",
              "      <th>21</th>\n",
              "      <td>time</td>\n",
              "      <td>1050</td>\n",
              "      <td>0.361440</td>\n",
              "    </tr>\n",
              "    <tr>\n",
              "      <th>22</th>\n",
              "      <td>increase</td>\n",
              "      <td>1015</td>\n",
              "      <td>0.349392</td>\n",
              "    </tr>\n",
              "    <tr>\n",
              "      <th>23</th>\n",
              "      <td>continue</td>\n",
              "      <td>966</td>\n",
              "      <td>0.332524</td>\n",
              "    </tr>\n",
              "    <tr>\n",
              "      <th>24</th>\n",
              "      <td>last</td>\n",
              "      <td>957</td>\n",
              "      <td>0.329426</td>\n",
              "    </tr>\n",
              "    <tr>\n",
              "      <th>25</th>\n",
              "      <td>economic</td>\n",
              "      <td>925</td>\n",
              "      <td>0.318411</td>\n",
              "    </tr>\n",
              "    <tr>\n",
              "      <th>26</th>\n",
              "      <td>good</td>\n",
              "      <td>899</td>\n",
              "      <td>0.309461</td>\n",
              "    </tr>\n",
              "    <tr>\n",
              "      <th>27</th>\n",
              "      <td>effort</td>\n",
              "      <td>898</td>\n",
              "      <td>0.309117</td>\n",
              "    </tr>\n",
              "    <tr>\n",
              "      <th>28</th>\n",
              "      <td>take</td>\n",
              "      <td>882</td>\n",
              "      <td>0.303609</td>\n",
              "    </tr>\n",
              "    <tr>\n",
              "      <th>29</th>\n",
              "      <td>every</td>\n",
              "      <td>849</td>\n",
              "      <td>0.292250</td>\n",
              "    </tr>\n",
              "    <tr>\n",
              "      <th>30</th>\n",
              "      <td>would</td>\n",
              "      <td>844</td>\n",
              "      <td>0.290529</td>\n",
              "    </tr>\n",
              "    <tr>\n",
              "      <th>31</th>\n",
              "      <td>job</td>\n",
              "      <td>834</td>\n",
              "      <td>0.287086</td>\n",
              "    </tr>\n",
              "    <tr>\n",
              "      <th>32</th>\n",
              "      <td>tax</td>\n",
              "      <td>833</td>\n",
              "      <td>0.286742</td>\n",
              "    </tr>\n",
              "    <tr>\n",
              "      <th>33</th>\n",
              "      <td>provide</td>\n",
              "      <td>833</td>\n",
              "      <td>0.286742</td>\n",
              "    </tr>\n",
              "    <tr>\n",
              "      <th>34</th>\n",
              "      <td>right</td>\n",
              "      <td>829</td>\n",
              "      <td>0.285365</td>\n",
              "    </tr>\n",
              "    <tr>\n",
              "      <th>35</th>\n",
              "      <td>administration</td>\n",
              "      <td>806</td>\n",
              "      <td>0.277448</td>\n",
              "    </tr>\n",
              "    <tr>\n",
              "      <th>36</th>\n",
              "      <td>million</td>\n",
              "      <td>803</td>\n",
              "      <td>0.276415</td>\n",
              "    </tr>\n",
              "    <tr>\n",
              "      <th>37</th>\n",
              "      <td>security</td>\n",
              "      <td>796</td>\n",
              "      <td>0.274006</td>\n",
              "    </tr>\n",
              "    <tr>\n",
              "      <th>38</th>\n",
              "      <td>system</td>\n",
              "      <td>790</td>\n",
              "      <td>0.271940</td>\n",
              "    </tr>\n",
              "    <tr>\n",
              "      <th>39</th>\n",
              "      <td>national</td>\n",
              "      <td>790</td>\n",
              "      <td>0.271940</td>\n",
              "    </tr>\n",
              "    <tr>\n",
              "      <th>40</th>\n",
              "      <td>united</td>\n",
              "      <td>768</td>\n",
              "      <td>0.264367</td>\n",
              "    </tr>\n",
              "    <tr>\n",
              "      <th>41</th>\n",
              "      <td>many</td>\n",
              "      <td>752</td>\n",
              "      <td>0.258860</td>\n",
              "    </tr>\n",
              "    <tr>\n",
              "      <th>42</th>\n",
              "      <td>peace</td>\n",
              "      <td>743</td>\n",
              "      <td>0.255762</td>\n",
              "    </tr>\n",
              "    <tr>\n",
              "      <th>43</th>\n",
              "      <td>health</td>\n",
              "      <td>743</td>\n",
              "      <td>0.255762</td>\n",
              "    </tr>\n",
              "    <tr>\n",
              "      <th>44</th>\n",
              "      <td>first</td>\n",
              "      <td>739</td>\n",
              "      <td>0.254385</td>\n",
              "    </tr>\n",
              "    <tr>\n",
              "      <th>45</th>\n",
              "      <td>child</td>\n",
              "      <td>723</td>\n",
              "      <td>0.248877</td>\n",
              "    </tr>\n",
              "    <tr>\n",
              "      <th>46</th>\n",
              "      <td>economy</td>\n",
              "      <td>722</td>\n",
              "      <td>0.248533</td>\n",
              "    </tr>\n",
              "    <tr>\n",
              "      <th>47</th>\n",
              "      <td>policy</td>\n",
              "      <td>718</td>\n",
              "      <td>0.247156</td>\n",
              "    </tr>\n",
              "    <tr>\n",
              "      <th>48</th>\n",
              "      <td>support</td>\n",
              "      <td>716</td>\n",
              "      <td>0.246467</td>\n",
              "    </tr>\n",
              "    <tr>\n",
              "      <th>49</th>\n",
              "      <td>act</td>\n",
              "      <td>715</td>\n",
              "      <td>0.246123</td>\n",
              "    </tr>\n",
              "  </tbody>\n",
              "</table>\n",
              "</div>\n",
              "      <button class=\"colab-df-convert\" onclick=\"convertToInteractive('df-92037e7f-9056-45cc-bf3e-0d6154af4a29')\"\n",
              "              title=\"Convert this dataframe to an interactive table.\"\n",
              "              style=\"display:none;\">\n",
              "        \n",
              "  <svg xmlns=\"http://www.w3.org/2000/svg\" height=\"24px\"viewBox=\"0 0 24 24\"\n",
              "       width=\"24px\">\n",
              "    <path d=\"M0 0h24v24H0V0z\" fill=\"none\"/>\n",
              "    <path d=\"M18.56 5.44l.94 2.06.94-2.06 2.06-.94-2.06-.94-.94-2.06-.94 2.06-2.06.94zm-11 1L8.5 8.5l.94-2.06 2.06-.94-2.06-.94L8.5 2.5l-.94 2.06-2.06.94zm10 10l.94 2.06.94-2.06 2.06-.94-2.06-.94-.94-2.06-.94 2.06-2.06.94z\"/><path d=\"M17.41 7.96l-1.37-1.37c-.4-.4-.92-.59-1.43-.59-.52 0-1.04.2-1.43.59L10.3 9.45l-7.72 7.72c-.78.78-.78 2.05 0 2.83L4 21.41c.39.39.9.59 1.41.59.51 0 1.02-.2 1.41-.59l7.78-7.78 2.81-2.81c.8-.78.8-2.07 0-2.86zM5.41 20L4 18.59l7.72-7.72 1.47 1.35L5.41 20z\"/>\n",
              "  </svg>\n",
              "      </button>\n",
              "      \n",
              "  <style>\n",
              "    .colab-df-container {\n",
              "      display:flex;\n",
              "      flex-wrap:wrap;\n",
              "      gap: 12px;\n",
              "    }\n",
              "\n",
              "    .colab-df-convert {\n",
              "      background-color: #E8F0FE;\n",
              "      border: none;\n",
              "      border-radius: 50%;\n",
              "      cursor: pointer;\n",
              "      display: none;\n",
              "      fill: #1967D2;\n",
              "      height: 32px;\n",
              "      padding: 0 0 0 0;\n",
              "      width: 32px;\n",
              "    }\n",
              "\n",
              "    .colab-df-convert:hover {\n",
              "      background-color: #E2EBFA;\n",
              "      box-shadow: 0px 1px 2px rgba(60, 64, 67, 0.3), 0px 1px 3px 1px rgba(60, 64, 67, 0.15);\n",
              "      fill: #174EA6;\n",
              "    }\n",
              "\n",
              "    [theme=dark] .colab-df-convert {\n",
              "      background-color: #3B4455;\n",
              "      fill: #D2E3FC;\n",
              "    }\n",
              "\n",
              "    [theme=dark] .colab-df-convert:hover {\n",
              "      background-color: #434B5C;\n",
              "      box-shadow: 0px 1px 3px 1px rgba(0, 0, 0, 0.15);\n",
              "      filter: drop-shadow(0px 1px 2px rgba(0, 0, 0, 0.3));\n",
              "      fill: #FFFFFF;\n",
              "    }\n",
              "  </style>\n",
              "\n",
              "      <script>\n",
              "        const buttonEl =\n",
              "          document.querySelector('#df-92037e7f-9056-45cc-bf3e-0d6154af4a29 button.colab-df-convert');\n",
              "        buttonEl.style.display =\n",
              "          google.colab.kernel.accessAllowed ? 'block' : 'none';\n",
              "\n",
              "        async function convertToInteractive(key) {\n",
              "          const element = document.querySelector('#df-92037e7f-9056-45cc-bf3e-0d6154af4a29');\n",
              "          const dataTable =\n",
              "            await google.colab.kernel.invokeFunction('convertToInteractive',\n",
              "                                                     [key], {});\n",
              "          if (!dataTable) return;\n",
              "\n",
              "          const docLinkHtml = 'Like what you see? Visit the ' +\n",
              "            '<a target=\"_blank\" href=https://colab.research.google.com/notebooks/data_table.ipynb>data table notebook</a>'\n",
              "            + ' to learn more about interactive tables.';\n",
              "          element.innerHTML = '';\n",
              "          dataTable['output_type'] = 'display_data';\n",
              "          await google.colab.output.renderOutput(dataTable, element);\n",
              "          const docLink = document.createElement('div');\n",
              "          docLink.innerHTML = docLinkHtml;\n",
              "          element.appendChild(docLink);\n",
              "        }\n",
              "      </script>\n",
              "    </div>\n",
              "  </div>\n",
              "  "
            ]
          },
          "metadata": {},
          "execution_count": 19
        }
      ]
    },
    {
      "cell_type": "code",
      "source": [
        "# https://github.com/language-ml/1-nlp-exploring-datasets/blob/main/notebooks/ExploreYourTextCollection-English.ipynb\n",
        "def chunkTechnicalTerm(sentence):\n",
        "    grammar = r\"\"\"\n",
        "      TECHTERM: {<JJ|NN>+<NN|CD>|<NN>}\n",
        "    \"\"\"\n",
        "    cp = RegexpParser(grammar)\n",
        "    return (cp.parse(sentence))"
      ],
      "metadata": {
        "id": "HoNgCJC_lZ4n"
      },
      "id": "HoNgCJC_lZ4n",
      "execution_count": 26,
      "outputs": []
    },
    {
      "cell_type": "code",
      "source": [
        ""
      ],
      "metadata": {
        "id": "8_IWhengu6QY"
      },
      "id": "8_IWhengu6QY",
      "execution_count": 22,
      "outputs": []
    },
    {
      "cell_type": "code",
      "source": [
        ""
      ],
      "metadata": {
        "id": "5OqWGVRfuY-L"
      },
      "id": "5OqWGVRfuY-L",
      "execution_count": 22,
      "outputs": []
    },
    {
      "cell_type": "code",
      "source": [
        ""
      ],
      "metadata": {
        "id": "YbD244tFvDRB"
      },
      "id": "YbD244tFvDRB",
      "execution_count": 22,
      "outputs": []
    },
    {
      "cell_type": "code",
      "source": [
        ""
      ],
      "metadata": {
        "id": "oTDKe26OvLfJ"
      },
      "id": "oTDKe26OvLfJ",
      "execution_count": 22,
      "outputs": []
    },
    {
      "cell_type": "code",
      "source": [
        "def extract_key_phrases2(dict_of_corpous, min_count):\n",
        "    president_technical_terms = {}\n",
        "\n",
        "    for president in dict_of_corpous.keys():\n",
        "        president_technical_terms[president] = []\n",
        "        sentences_tagged = []\n",
        "        corpus_normlized = normalize_and_cleaning(dict_of_corpous[president])\n",
        "        sentences = tokenize_text(corpus_normlized)\n",
        "        sentences = [normalize_and_cleaning(sen, lemm=False, stop_word=False) for sen in sentences]\n",
        "        for sent in sentences:\n",
        "            try:\n",
        "                sentences_tagged.append(pos_tag(sent.split(' ')))\n",
        "            except:\n",
        "                pass\n",
        "        for the_sentence in sentences_tagged:\n",
        "            tree=chunkTechnicalTerm(the_sentence)\n",
        "            for subtree in tree.subtrees():\n",
        "                if subtree.label() == 'TECHTERM':\n",
        "                    president_technical_terms[president].append(subtree.leaves())\n",
        "\n",
        "\n",
        "\n",
        "    for president in president_technical_terms.keys():\n",
        "        president_technical_terms[president]=FreqDist([' '.join([x for x,y in sent]) for sent in president_technical_terms[president] if len(sent)>1]).most_common(min_count)    \n",
        "\n",
        "\n",
        "    president_technical_terms = pd.DataFrame(president_technical_terms) \n",
        "    president_technical_terms\n",
        "    return president_technical_terms"
      ],
      "metadata": {
        "id": "rpGaxlPpqtoc"
      },
      "id": "rpGaxlPpqtoc",
      "execution_count": 27,
      "outputs": []
    },
    {
      "cell_type": "code",
      "source": [
        ""
      ],
      "metadata": {
        "id": "1k9GTtL5lhKh"
      },
      "id": "1k9GTtL5lhKh",
      "execution_count": null,
      "outputs": []
    },
    {
      "cell_type": "code",
      "source": [
        ""
      ],
      "metadata": {
        "id": "tFDXerEescgB"
      },
      "id": "tFDXerEescgB",
      "execution_count": null,
      "outputs": []
    },
    {
      "cell_type": "code",
      "source": [
        "join_text_dict = {}\n",
        "for president, text_list in president_text_dict.items():\n",
        "    president_texts = (' '.join(text_list))\n",
        "    join_text_dict [president] = president_texts"
      ],
      "metadata": {
        "id": "LRqqFcMlnk30"
      },
      "id": "LRqqFcMlnk30",
      "execution_count": 28,
      "outputs": []
    },
    {
      "cell_type": "code",
      "source": [
        "join_text_dict['Barack Obama']"
      ],
      "metadata": {
        "id": "5mYGlIp6ugVX",
        "outputId": "a2594358-9d23-4947-c8c3-aa4c2c791a6a",
        "colab": {
          "base_uri": "https://localhost:8080/",
          "height": 1000
        }
      },
      "id": "5mYGlIp6ugVX",
      "execution_count": 31,
      "outputs": [
        {
          "output_type": "execute_result",
          "data": {
            "text/plain": [
              "'\\nThank you very much. And tonight I have the high privilege and distinct honor of my own as the first President to begin the State of the Union message with these words: Madam Speaker.\\nIn his day, the late Congressman Thomas D\\'Alesandro, Jr., from Baltimore, Maryland, saw Presidents Roosevelt and Truman at this rostrum. But nothing could compare with the sight of his only daughter, Nancy, presiding tonight as Speaker of the House of Representatives. Congratulations, Madam Speaker.\\nTwo Members of the House and Senate are not with us tonight, and we pray for the recovery and speedy return of Senator Tim Johnson and Congressman Charlie Norwood.\\nMadam Speaker, Vice President Cheney, Members of Congress, distinguished guests, and fellow citizens: The rite of custom brings us together at a defining hour when decisions are hard and courage is needed. We enter the year 2007 with large endeavors underway and others that are ours to begin. In all of this, much is asked of us. We must have the will to face difficult challenges and determined enemies and the wisdom to face them together.\\nSome in this Chamber are new to the House and the Senate, and I congratulate the Democrat majority. Congress has changed, but not our responsibilities. Each of us is guided by our own convictions, and to these we must stay faithful. Yet we\\'re all held to the same standards and called to serve the same good purposes: to extend this Nation\\'s prosperity, to spend the people\\'s money wisely, to solve problems, not leave them to future generations, to guard America against all evil, and to keep faith with those we have sent forth to defend us.\\nWe\\'re not the first to come here with a government divided and uncertainty in the air. Like many before us, we can work through our differences, and we can achieve big things for the American people. Our citizens don\\'t much care which side of the aisle we sit on, as long as we\\'re willing to cross that aisle when there is work to be done. Our job is to make life better for our fellow Americans and to help them build a future of hope and opportunity, and this is the business before us tonight.\\nA future of hope and opportunity begins with a growing economy, and that is what we have. We\\'re now in the 41st month of uninterrupted job growth, a recovery that has created 7.2 million new jobs so far. Unemployment is low; inflation is low; wages are rising. This economy is on the move, and our job is to keep it that way, not with more government but with more enterprise.\\nNext week, I\\'ll deliver a full report on the state of our economy. Tonight I want to discuss three economic reforms that deserve to be priorities for this Congress.\\nFirst, we must balance the Federal budget. We can do so without raising taxes. What we need is spending discipline in Washington, DC. We set a goal of cutting the deficit in half by 2009 and met that goal 3 years ahead of schedule. Now let us take the next step. In the coming weeks, I will submit a budget that eliminates the Federal deficit within the next 5 years. I ask you to make the same commitment. Together, we can restrain the spending appetite of the Federal Government, and we can balance the Federal budget.\\nNext, there is the matter of earmarks. These special interest items are often slipped into bills at the last hour, when not even C-SPAN is watching. [Laughter] In 2005 alone, the number of earmarks grew to over 13,000 and totaled nearly $18 billion. Even worse, over 90 percent of the earmarks never make it to the floor of the House and Senate. They are dropped into committee reports that are not even part of the bill that arrives on my desk. You didn\\'t vote them into law, I didn\\'t sign them into law, yet they\\'re treated as if they have the force of law. The time has come to end this practice. So let us work together to reform the budget process, expose every earmark to the light of day and to a vote in Congress, and cut the number and cost of earmarks at least in half by the end of this session.\\nAnd finally, to keep this economy strong, we must take on the challenge of entitlements. Social Security and Medicare and Medicaid are commitments of conscience, and so it is our duty to keep them permanently sound. Yet we\\'re failing in that duty. And this failure will one day leave our children with three bad options: huge tax increases, huge deficits, or huge and immediate cuts in benefits. Everyone in this Chamber knows this to be true, yet somehow we have not found it in ourselves to act. So let us work together and do it now. With enough good sense and good will, you and I can fix Medicare and Medicaid and save Social Security.\\nSpreading opportunity and hope in America also requires public schools that give children the knowledge and character they need in life. Five years ago, we rose above partisan differences to pass the No Child Left Behind Act, preserving local control, raising standards, and holding schools accountable for results. And because we acted, students are performing better in reading and math, and minority students are closing the achievement gap.\\nNow the task is to build on the success without watering down standards, without taking control from local communities, and without backsliding and calling it reform. We can lift student achievement even higher by giving local leaders flexibility to turn around failing schools and by giving families with children stuck in failing schools the right to choose someplace better. We must increase funds for students who struggle and make sure these children get the special help they need. And we can make sure our children are prepared for the jobs of the future and our country is more competitive by strengthening math and science skills. The No Child Left Behind Act has worked for America\\'s children, and I ask Congress to reauthorize this good law.\\nA future of hope and opportunity requires that all our citizens have affordable and available health care. When it comes to health care, Government has an obligation to care for the elderly, the disabled, and poor children, and we will meet those responsibilities. For all other Americans, private health insurance is the best way to meet their needs.\\nBut many Americans cannot afford a health insurance policy, and so tonight I propose two new initiatives to help more Americans afford their own insurance. First, I propose a standard tax deduction for health insurance that will be like the standard tax deduction for dependents. Families with health insurance will pay no income on payroll tax—or payroll taxes on $15,000 of their income. Single Americans with health insurance will pay no income or payroll taxes on $7,500 of their income. With this reform, more than 100 million men, women, and children who are now covered by employer-provided insurance will benefit from lower tax bills. At the same time, this reform will level the playing field for those who do not get health insurance through their job. For Americans who now purchase health insurance on their own, this proposal would mean a substantial tax savings, $4,500 for a family of four making $60,000 a year. And for the millions of other Americans who have no health insurance at all, this deduction would help put a basic, private health insurance plan within their reach. Changing the Tax Code is a vital and necessary step to making health care affordable for more Americans.\\nMy second proposal is to help the States that are coming up with innovative ways to cover the uninsured. States that make basic private health insurance available to all their citizens should receive Federal funds to help them provide this coverage to the poor and the sick. I have asked the Secretary of Health and Human Services to work with Congress to take existing Federal funds and use them to create Affordable Choices grants. These grants would give our Nation\\'s Governors more money and more flexibility to get private health insurance to those most in need.\\nThere are many other ways that Congress can help. We need to expand health savings accounts. We need to help small businesses through association health plans. We need to reduce costs and medical errors with better information technology. We will encourage price transparency. And to protect good doctors from junk lawsuits, we need to pass medical liability reform. In all we do, we must remember that the best health care decisions are not made by government and insurance companies but by patients and their doctors.\\nExtending hope and opportunity in our country requires an immigration system worthy of America, with laws that are fair and borders that are secure. When laws and borders are routinely violated, this harms the interests of our country. To secure our border, we\\'re doubling the size of the Border Patrol and funding new infrastructure and technology.\\nYet even with all these steps, we cannot fully secure the border unless we take pressure off the border, and that requires a temporary-worker program. We should establish a legal and orderly path for foreign workers to enter our country to work on a temporary basis. As a result, they won\\'t have to try to sneak in, and that will leave border agents free to chase down drug smugglers and criminals and terrorists. We\\'ll enforce our immigration laws at the worksite and give employers the tools to verify the legal status of their workers, so there\\'s no excuse left for violating the law.\\nWe need to uphold the great tradition of the melting pot that welcomes and assimilates new arrivals. We need to resolve the status of the illegal immigrants who are already in our country without animosity and without amnesty. Convictions run deep in this Capitol when it comes to immigration. Let us have a serious, civil, and conclusive debate, so that you can pass and I can sign comprehensive immigration reform into law.\\nExtending hope and opportunity depends on a stable supply of energy that keeps America\\'s economy running and America\\'s environment clean. For too long, our Nation has been dependent on foreign oil. And this dependence leaves us more vulnerable to hostile regimes and to terrorists who could cause huge disruptions of oil shipments and raise the price of oil and do great harm to our economy.\\nIt\\'s in our vital interest to diversify America\\'s energy supply. The way forward is through technology. We must continue changing the way America generates electric power by even greater use of clean coal technology, solar and wind energy, and clean, safe nuclear power. We need to press on with battery research for plug-in and hybrid vehicles and expand the use of clean diesel vehicles and biodiesel fuel. We must continue investing in new methods of producing ethanol, using everything from wood chips to grasses to agricultural wastes.\\nWe made a lot of progress, thanks to good policies here in Washington and the strong response of the market. And now even more dramatic advances are within reach. Tonight I ask Congress to join me in pursuing a great goal. Let us build on the work we\\'ve done and reduce gasoline usage in the United States by 20 percent in the next 10 years. When we do that, we will have cut our total imports by the equivalent of three-quarters of all the oil we now import from the Middle East.\\nTo reach this goal, we must increase the supply of alternative fuels by setting a mandatory fuels standard to require 35 billion gallons of renewable and alternative fuels in 2017, and that is nearly five times the current target. At the same time, we need to reform and modernize fuel economy standards for cars the way we did for light trucks, and conserve up to 81⁄2 billion more gallons of gasoline by 2017.\\nAchieving these ambitious goals will dramatically reduce our dependence on foreign oil, but it\\'s not going to eliminate it. And so as we continue to diversify our fuel supply, we must step up domestic oil production in environmentally sensitive ways. And to further protect America against severe disruptions to our oil supply, I ask Congress to double the current capacity of the Strategic Petroleum Reserve.\\nAmerica is on the verge of technological breakthroughs that will enable us to live our lives less dependent on oil. And these technologies will help us be better stewards of the environment, and they will help us to confront the serious challenge of global climate change.\\nA future of hope and opportunity requires a fair, impartial system of justice. The lives of our citizens across our Nation are affected by the outcome of cases pending in our Federal courts. We have a shared obligation to ensure that the Federal courts have enough judges to hear those cases and deliver timely rulings. As President, I have a duty to nominate qualified men and women to vacancies on the Federal bench, and the United States Senate has a duty as well, to give those nominees a fair hearing and a prompt up-or-down vote on the Senate floor.\\nFor all of us in this room, there is no higher responsibility than to protect the people of this country from danger. Five years have come and gone since we saw the scenes and felt the sorrow that the terrorists can cause. We\\'ve had time to take stock of our situation. We\\'ve added many critical protections to guard the homeland. We know with certainty that the horrors of that September morning were just a glimpse of what the terrorists intend for us, unless we stop them.\\nWith the distance of time, we find ourselves debating the causes of conflict and the course we have followed. Such debates are essential when a great democracy faces great questions. Yet one question has surely been settled: that to win the war on terror, we must take the fight to the enemy.\\nFrom the start, America and our allies have protected our people by staying on the offense. The enemy knows that the days of comfortable sanctuary, easy movement, steady financing, and free flowing communications are long over. For the terrorists, life since 9/11 has never been the same.\\nOur success in this war is often measured by the things that did not happen. We cannot know the full extent of the attacks that we and our allies have prevented, but here is some of what we do know. We stopped an Al Qaida plot to fly a hijacked airplane into the tallest building on the west coast. We broke up a Southeast Asian terror cell grooming operatives for attacks inside the United States. We uncovered an Al Qaida cell developing anthrax to be used in attacks against America. And just last August, British authorities uncovered a plot to blow up passenger planes bound for America over the Atlantic Ocean. For each life saved, we owe a debt of gratitude to the brave public servants who devote their lives to finding the terrorists and stopping them.\\nEvery success against the terrorists is a reminder of the shoreless ambitions of this enemy. The evil that inspired and rejoiced in 9/11 is still at work in the world. And so long as that\\'s the case, America is still a nation at war.\\nIn the mind of the terrorists, this war began well before September the 11th and will not end until their radical vision is fulfilled. And these past 5 years have given us a much clearer view of the nature of this enemy. Al Qaida and its followers are Sunni extremists possessed by hatred and commanded by a harsh and narrow ideology. Take almost any principle of civilization, and their goal is the opposite. They preach with threats, instruct with bullets and bombs, and promise paradise for the murder of the innocent.\\nOur enemies are quite explicit about their intentions. They want to overthrow moderate governments and establish safe havens from which to plan and carry out new attacks on our country. By killing and terrorizing Americans, they want to force our country to retreat from the world and abandon the cause of liberty. They would then be free to impose their will and spread their totalitarian ideology. Listen to this warning from the late terrorist Zarqawi: \"We will sacrifice our blood and bodies to put an end to your dreams, and what is coming is even worse.\" Usama bin Laden declared: \"Death is better than living on this Earth with the unbelievers among us.\"\\nThese men are not given to idle words, and they are just one camp in the Islamist radical movement. In recent times, it has also become clear that we face an escalating danger from Shi\\'a extremists who are just as hostile to America and are also determined to dominate the Middle East. Many are known to take direction from the regime in Iran, which is funding and arming terrorists like Hizballah, a group second only to Al Qaida in the American lives it has taken.\\nThe Shi\\'a and Sunni extremists are different faces of the same totalitarian threat. Whatever slogans they chant when they slaughter the innocent, they have the same wicked purposes. They want to kill Americans, kill democracy in the Middle East, and gain the weapons to kill on an even more horrific scale.\\nIn the sixth year since our Nation was attacked, I wish I could report to you that the dangers have ended. They have not. And so it remains the policy of this Government to use every lawful and proper tool of intelligence, diplomacy, law enforcement, and military action to do our duty, to find these enemies, and to protect the American people.\\nThis war is more than a clash of arms; it is a decisive ideological struggle. And the security of our Nation is in the balance. To prevail, we must remove the conditions that inspire blind hatred and drove 19 men to get onto airplanes and to come and kill us. What every terrorist fears most is human freedom: societies where men and women make their own choices, answer to their own conscience, and live by their hopes instead of their resentments. Free people are not drawn to violent and malignant ideologies, and most will choose a better way when they\\'re given a chance. So we advance our own security interests by helping moderates and reformers and brave voices for democracy. The great question of our day is whether America will help men and women in the Middle East to build free societies and share in the rights of all humanity. And I say, for the sake of our own security, we must.\\nIn the last 2 years, we\\'ve seen the desire for liberty in the broader Middle East, and we have been sobered by the enemy\\'s fierce reaction. In 2005, the world watched as the citizens of Lebanon raised the banner of the Cedar Revolution. They drove out the Syrian occupiers and chose new leaders in free elections. In 2005, the people of Afghanistan defied the terrorists and elected a democratic legislature. And in 2005, the Iraqi people held three national elections, choosing a transitional government, adopting the most progressive, democratic Constitution in the Arab world, and then electing a Government under that Constitution. Despite endless threats from the killers in their midst, nearly 12 million Iraqi citizens came out to vote in a show of hope and solidarity that we should never forget.\\nA thinking enemy watched all of these scenes, adjusted their tactics, and, in 2006, they struck back. In Lebanon, assassins took the life of Pierre Gemayel, a prominent participant in the Cedar Revolution. Hizballah terrorists, with support from Syria and Iran, sowed conflict in the region and are seeking to undermine Lebanon\\'s legitimately elected Government. In Afghanistan, Taliban and Al Qaida fighters tried to regain power by regrouping and engaging Afghan and NATO forces. In Iraq, Al Qaida and other Sunni extremists blew up one of the most sacred places in Shi\\'a Islam, the Golden Mosque of Samarra. This atrocity, directed at a Muslim house of prayer, was designed to provoke retaliation from Iraqi Shi\\'a, and it succeeded. Radical Shi\\'a elements, some of whom receive support from Iran, formed death squads. The result was a tragic escalation of sectarian rage and reprisal that continues to this day.\\nThis is not the fight we entered in Iraq, but it is the fight we\\'re in. Every one of us wishes this war were over and won. Yet it would not be like us to leave our promises unkept, our friends abandoned, and our own security at risk. Ladies and gentlemen, on this day, at this hour, it is still within our power to shape the outcome of this battle. Let us find our resolve and turn events toward victory.\\nWe\\'re carrying out a new strategy in Iraq, a plan that demands more from Iraq\\'s elected Government and gives our forces in Iraq the reinforcements they need to complete their mission. Our goal is a democratic Iraq that upholds the rule of law, respects the rights of its people, provides them security, and is an ally in the war on terror.\\nIn order to make progress toward this goal, the Iraqi Government must stop the sectarian violence in its capital. But the Iraqis are not yet ready to do this on their own. So we\\'re deploying reinforcements of more than 20,000 additional soldiers and marines to Iraq. The vast majority will go to Baghdad, where they will help Iraqi forces to clear and secure neighborhoods and serve as advisers embedded in Iraqi Army units. With Iraqis in the lead, our forces will help secure the city by chasing down the terrorists, insurgents, and the roaming death squads. And in Anbar Province, where Al Qaida terrorists have gathered and local forces have begun showing a willingness to fight them, we\\'re sending an additional 4,000 United States marines, with orders to find the terrorists and clear them out. We didn\\'t drive Al Qaida out of their safe haven in Afghanistan only to let them set up a new safe haven in a free Iraq.\\nThe people of Iraq want to live in peace, and now it\\'s time for their Government to act. Iraq\\'s leaders know that our commitment is not open ended. They have promised to deploy more of their own troops to secure Baghdad, and they must do so. They pledged that they will confront violent radicals of any faction or political party, and they need to follow through and lift needless restrictions on Iraqi and coalition forces, so these troops can achieve their mission of bringing security to all of the people of Baghdad. Iraq\\'s leaders have committed themselves to a series of benchmarks: to achieve reconciliation, to share oil revenues among all of Iraq\\'s citizens, to put the wealth of Iraq into the rebuilding of Iraq, to allow more Iraqis to reenter their nation\\'s civic life, to hold local elections, and to take responsibility for security in every Iraqi Province. But for all of this to happen, Baghdad must be secure, and our plan will help the Iraqi Government take back its capital and make good on its commitments.\\nMy fellow citizens, our military commanders and I have carefully weighed the options. We discussed every possible approach. In the end, I chose this course of action because it provides the best chance for success. Many in this Chamber understand that America must not fail in Iraq, because you understand that the consequences of failure would be grievous and far-reaching.\\nIf American forces step back before Baghdad is secure, the Iraqi Government would be overrun by extremists on all sides. We could expect an epic battle between Shi\\'a extremists backed by Iran and Sunni extremists aided by Al Qaida and supporters of the old regime. A contagion of violence could spill out across the country, and, in time, the entire region could be drawn into the conflict.\\nFor America, this is a nightmare scenario; for the enemy, this is the objective. Chaos is the greatest ally, their greatest ally in this struggle. And out of chaos in Iraq would emerge an emboldened enemy with new safe havens, new recruits, new resources, and an even greater determination to harm America. To allow this to happen would be to ignore the lessons of September the 11th and invite tragedy. Ladies and gentlemen, nothing is more important at this moment in our history than for America to succeed in the Middle East, to succeed in Iraq, and to spare the American people from this danger.\\nThis is where matters stand tonight, in the here and now. I have spoken with many of you in person. I respect you and the arguments you\\'ve made. We went into this largely united, in our assumptions and in our convictions. And whatever you voted for, you did not vote for failure. Our country is pursuing a new strategy in Iraq, and I ask you to give it a chance to work. And I ask you to support our troops in the field and those on their way.\\nThe war on terror we fight today is a generational struggle that will continue long after you and I have turned our duties over to others. And that\\'s why it\\'s important to work together so our Nation can see this great effort through. Both parties and both branches should work in close consultation. It\\'s why I\\'ve proposed to establish a special advisory council on the war on terror, made up of leaders in Congress from both political parties. We will share ideas for how to position America to meet every challenge that confronts us. We\\'ll show our enemies abroad that we are united in the goal of victory.\\nAnd one of the first steps we can take together is to add to the ranks of our military so that the American Armed Forces are ready for all the challenges ahead. Tonight I ask the Congress to authorize an increase in the size of our active Army and Marine Corps by 92,000 in the next 5 years. A second task we can take on together is to design and establish a volunteer civilian reserve corps. Such a corps would function much like our military reserve. It would ease the burden on the Armed Forces by allowing us to hire civilians with critical skills to serve on missions abroad when America needs them. It would give people across America who do not wear the uniform a chance to serve in the defining struggle of our time.\\nAmericans can have confidence in the outcome of this struggle because we\\'re not in this struggle alone. We have a diplomatic strategy that is rallying the world to join in the fight against extremism. In Iraq, multinational forces are operating under a mandate from the United Nations. We\\'re working with Jordan and Saudi Arabia and Egypt and the Gulf States to increase support for Iraq\\'s Government.\\nThe United Nations has imposed sanctions on Iran and made it clear that the world will not allow the regime in Tehran to acquire nuclear weapons. With the other members of the Quartet—the U.N., the EU, and Russia—we\\'re pursuing diplomacy to help bring peace to the Holy Land and pursuing the establishment of a democratic Palestinian state living side by side with Israel in peace and security. In Afghanistan, NATO has taken the lead in turning back the Taliban and Al Qaida offensive, the first time the Alliance has deployed forces outside the North Atlantic area. Together with our partners in China and Japan, Russia and South Korea, we\\'re pursuing intensive diplomacy to achieve a Korean Peninsula free of nuclear weapons.\\nWe will continue to speak out for the cause of freedom in places like Cuba, Belarus, and Burma, and continue to awaken the conscience of the world to save the people of Darfur.\\nAmerican foreign policy is more than a matter of war and diplomacy. Our work in the world is also based on a timeless truth: To whom much is given, much is required. We hear the call to take on the challenges of hunger and poverty and disease, and that is precisely what America is doing. We must continue to fight HIV/ AIDS, especially on the continent of Africa. Because you funded the Emergency Plan for AIDS Relief, the number of people receiving lifesaving drugs has grown from 50,000 to more than 800,000 in 3 short years. I ask you to continue funding our efforts to fight HIV/AIDS, and I ask you to provide $1.2 billion over 5 years so we can combat malaria in 15 African countries.\\nI ask that you fund the Millennium Challenge Account, so that American aid reaches the people who need it, in nations where democracy is on the rise and corruption is in retreat. And let us continue to support the expanded trade and debt relief that are the best hope for lifting lives and eliminating poverty.\\nWhen America serves others in this way, we show the strength and generosity of our country. These deeds reflect the character of our people. The greatest strength we have is the heroic kindness and courage and self-sacrifice of the American people. You see this spirit often if you know where to look, and tonight we need only look above to the gallery.\\nDikembe Mutombo grew up in Africa amid great poverty and disease. He came to Georgetown University on a scholarship to study medicine, but Coach John Thompson took a look at Dikembe and had a different idea. [Laughter] Dikembe became a star in the NBA and a citizen of the United States, but he never forgot the land of his birth or the duty to share his blessings with others. He built a brand new hospital in his old hometown. A friend has said of this good-hearted man: \"Mutombo believes that God has given him this opportunity to do great things.\" And we are proud to call this son of the Congo a citizen of the United States of America.\\nAfter her daughter was born, Julie Aigner-Clark searched for ways to share her love of music and art with her child. So she borrowed some equipment and began filming children\\'s videos in her basement. The Baby Einstein Company was born, and in just 5 years, her business grew to more than $20 million in sales. In November 2001, Julie sold Baby Einstein to Walt Disney Company, and with her help, Baby Einstein has grown into a $200 million business. Julie represents the great enterprising spirit of America. And she is using her success to help others, producing child safety videos with John Walsh of the National Center for Missing and Exploited Children. Julie says of her new project: \"I believe it is the most important thing I have ever done. I believe that children have the right to live in a world that is safe.\" And so tonight we are pleased to welcome this talented business entrepreneur and generous social entrepreneur, Julie Aigner-Clark.\\nThree weeks ago, Wesley Autrey was waiting at a Harlem subway station with his two little girls when he saw a man fall into the path of a train. With seconds to act, Wesley jumped onto the tracks, pulled the man into the space between the rails, and held him as the train passed right above their heads. He insists he\\'s not a hero. He says: \"We got guys and girls overseas dying for us to have our freedoms. We have got to show each other some love.\" There is something wonderful about a country that produces a brave and humble man like Wesley Autrey.\\nTommy Rieman was a teenager pumping gas in Independence, Kentucky, when he enlisted in the United States Army. In December 2003, he was on a reconnaissance mission in Iraq when his team came under heavy enemy fire. From his Humvee, Sergeant Rieman returned fire. He used his body as a shield to protect his gunner. He was shot in the chest and arm and received shrapnel wounds to his legs, yet he refused medical attention and stayed in the fight. He helped to repel a second attack, firing grenades at the enemy\\'s position. For his exceptional courage, Sergeant Rieman was awarded the Silver Star. And like so many other Americans who have volunteered to defend us, he has earned the respect and the gratitude of our entire country.\\nIn such courage and compassion, ladies and gentlemen, we see the spirit and character of America. And these qualities are not in short supply. This is a decent and honorable country and resilient too. We\\'ve been through a lot together. We\\'ve met challenges and faced dangers, and we know that more lie ahead. Yet we can go forward with confidence, because the State of our Union is strong; our cause in the world is right; and tonight that cause goes on. God bless.\\nSee you next year. Thank you for your prayers.\\n \\nThe President. Mr. Speaker, Mr. Vice President, Members of the 105th Congress, distinguished guests, my fellow Americans: Since the last time we met in this Chamber, America has lost two patriots and fine public servants. Though they sat on opposite sides of the aisle, Representatives Walter Capps and Sonny Bono shared a deep love for this House and an unshakable commitment to improving the lives of all our people. In the past few weeks, they\\'ve both been eulogized. Tonight I think we should begin by sending a message to their families and their friends that we celebrate their lives and give thanks for their service to our Nation.\\nFor 209 years, it has been the President\\'s duty to report to you on the state of the Union. Because of the hard work and high purpose of the American people, these are good times for America. We have more than 14 million new jobs, the lowest unemployment in 24 years, the lowest core inflation in 30 years; incomes are rising; and we have the highest homeownership in history. Crime has dropped for a record 5 years in a row, and the welfare rolls are at their lowest levels in 27 years. Our leadership in the world is unrivaled. Ladies and gentlemen, the state of our Union is strong.\\nBut with barely 700 days left in the 20th century, this is not a time to rest. It is a time to build, to build the America within reach, an America where everybody has a chance to get ahead with hard work; where every citizen can live in a safe community; where families are strong, schools are good, and all our young people can go on to college; an America where scientists find cures for diseases from diabetes to Alzheimer\\'s to AIDS; an America where every child can stretch a hand across a keyboard and reach every book ever written, every painting ever painted, every symphony ever composed; where government provides opportunity and citizens honor the responsibility to give something back to their communities; an America which leads the world to new heights of peace and prosperity. This is the America we have begun to build; this is the America we can leave to our children if we join together to finish the work at hand. Let us strengthen our Nation for the 21st century.\\nRarely have Americans lived through so much change in so many ways in so short a time. Quietly, but with gathering force, the ground has shifted beneath our feet as we have moved into an information age, a global economy, a truly new world. For 5 years now, we have met the challenge of these changes, as Americans have at every turning point in our history, by renewing the very idea of America: widening the circle of opportunity, deepening the meaning of our freedom, forging a more perfect Union.\\nWe shaped a new kind of Government for the information age. I thank the Vice President for his leadership and the Congress for its support in building a Government that is leaner, more flexible, a catalyst for new ideas, and most of all, a Government that gives the American people the tools they need to make the most of their own lives.\\nWe have moved past the sterile debate between those who say government is the enemy and those who say government is the answer. My fellow Americans, we have found a third way. We have the smallest Government in 35 years, but a more progressive one. We have a smaller Government, but a stronger Nation. We are moving steadily toward an even stronger America in the 21st century: an economy that offers opportunity, a society rooted in responsibility, and a nation that lives as a community.\\nFirst, Americans in this Chamber and across our Nation have pursued a new strategy for prosperity: fiscal discipline to cut interest rates and spur growth; investments in education and skills, in science and technology and transportation, to prepare our people for the new economy; new markets for American products and American workers.\\nWhen I took office, the deficit for 1998 was projected to be $357 billion and heading higher. This year, our deficit is projected to be $10 billion and heading lower. For three decades, six Presidents have come before you to warn of the damage deficits pose to our Nation. Tonight I come before you to announce that the Federal deficit, once so incomprehensibly large that it had 11 zeros, will be, simply, zero. I will submit to Congress for 1999 the first balanced budget in 30 years. And if we hold fast to fiscal discipline, we may balance the budget this year—4 years ahead of schedule.\\nYou can all be proud of that, because turning a sea of red ink into black is no miracle. It is the product of hard work by the American people and of two visionary actions in Congress: the courageous vote in 1993 that led to a cut in the deficit of 90 percent, and the truly historic bipartisan balanced budget agreement passed by this Congress. Here\\'s the really good news: If we maintain our resolve, we will produce balanced budgets as far as the eye can see.\\nWe must not go back to unwise spending or untargeted tax cuts that risk reopening the deficit. Last year, together, we enacted targeted tax cuts so that the typical middle class family will now have the lowest tax rates in 20 years. My plan to balance the budget next year includes both new investments and new tax cuts targeted to the needs of working families, for education, for child care, for the environment.\\nBut whether the issue is tax cuts or spending, I ask all of you to meet this test: Approve only those priorities that can actually be accomplished without adding a dime to the deficit.\\nNow, if we balance the budget for next year, it is projected that we\\'ll then have a sizable surplus in the years that immediately follow. What should we do with this projected surplus? I have a simple four-word answer: Save Social Security first.\\nTonight I propose that we reserve 100 percent of the surplus—that\\'s every penny of any surplus—until we have taken all the necessary measures to strengthen the Social Security system for the 21st century. Let us say to all Americans watching tonight—whether you\\'re 70 or 50 or whether you just started paying into the system—Social Security will be there when you need it. Let us make this commitment: Social Security first. Let\\'s do that together.\\nI also want to say that all the American people who are watching us tonight should be invited to join in this discussion, in facing these issues squarely and forming a true consensus on how we should proceed. We\\'ll start by conducting nonpartisan forums in every region of the country, and I hope that lawmakers of both parties will participate. We\\'ll hold a White House conference on Social Security in December. And one year from now, I will convene the leaders of Congress to craft historic, bipartisan legislation to achieve a landmark for our generation: a Social Security system that is strong in the 21st century.\\nIn an economy that honors opportunity, all Americans must be able to reap the rewards of prosperity. Because these times are good, we can afford to take one simple, sensible step to help millions of workers struggling to provide for their families: We should raise the minimum wage.\\nThe information age is, first and foremost, an education age, in which education must start at birth and continue throughout a lifetime. Last year, from this podium, I said that education has to be our highest priority. I laid out a 10point plan to move us forward and urged all of us to let politics stop at the schoolhouse door. Since then, this Congress—across party lines— and the American people have responded, in the most important year for education in a generation, expanding public school choice, opening the way to 3,000 new charter schools, working to connect every classroom in the country to the information superhighway, committing to expand Head Start to a million children, launching America Reads, sending literally thousands of college students into our elementary schools to make sure all our 8-year-olds can read.\\nLast year I proposed and you passed 220,000 new Pell grant scholarships for deserving students. Student loans, already less expensive and easier to repay—now you get to deduct the interest. Families all over America now can put their savings into new tax-free education IRA\\'s. And this year, for the first 2 years of college, families will get a $1,500 tax credit—a HOPE scholarship that will cover the cost of most community college tuition. And for junior and senior year, graduate school, and job training, there is a lifetime learning credit. You did that, and you should be very proud of it.\\nAnd because of these actions, I have something to say to every family listening to us tonight: Your children can go on to college. If you know a child from a poor family, tell her not to give up; she can go on to college. If you know a young couple struggling with bills, worried they won\\'t be able to send their children to college, tell them not to give up; their children can go on to college. If you know somebody who\\'s caught in a dead-end job and afraid he can\\'t afford the classes necessary to get better jobs for the rest of his life, tell him not to give up; he can go on to college. Because of the things that have been done, we can make college as universal in the 21st century as high school is today. And my friends, that will change the face and future of America.\\nWe have opened wide the doors of the world\\'s best system of higher education. Now we must make our public elementary and secondary schools the world\\'s best, as well, by raising standards, raising expectations, and raising accountability. Thanks to the actions of this Congress last year, we will soon have, for the very first time, a voluntary national test based on national standards in fourth grade reading and eighth grade math. Parents have a right to know whether their children are mastering the basics. And every parent already knows the key: good teachers and small classes.\\nTonight I propose the first ever national effort to reduce class size in the early grades. My balanced budget will help to hire 100,000 new teachers who\\'ve passed a State competency test. Now, with these teachers—listen—with these teachers, we will actually be able to reduce class size in the first, second, and third grades to an average of 18 students a class, all across America.\\nIf I\\'ve got the math right, more teachers teaching smaller classes requires more classrooms. So I also propose a school construction tax cut to help communities modernize or build 5,000 schools.\\nWe must also demand greater accountability. When we promote a child from grade to grade who hasn\\'t mastered the work, we don\\'t do that child any favors. It is time to end social promotion in America\\'s schools. Last year, in Chicago, they made that decision—not to hold our children back but to lift them up. Chicago stopped social promotion and started mandatory summer school to help students who are behind to catch up. I propose to help other communities follow Chicago\\'s lead. Let\\'s say to them: Stop promoting children who don\\'t learn, and we will give you the tools to make sure they do.\\nI also ask this Congress to support our efforts to enlist colleges and universities to reach out to disadvantaged children, starting in the sixth grade, so that they can get the guidance and hope they need so they can know that they, too, will be able to go on to college.\\nAs we enter the 21st century, the global economy requires us to seek opportunity not just at home but in all the markets of the world. We must shape this global economy, not shrink from it. In the last 5 years, we have led the way in opening new markets, with 240 trade agreements that remove foreign barriers to products bearing the proud stamp \"Made in the USA.\" Today, record high exports account for fully one-third of our economic growth. I want to keep them going, because that\\'s the way to keep America growing and to advance a safer, more stable world.\\nAll of you know, whatever your views are, that I think this is a great opportunity for America. I know there is opposition to more comprehensive trade agreements. I have listened carefully, and I believe that the opposition is rooted in two fears: first, that our trading partners will have lower environmental and labor standards which will give them an unfair advantage in our market and do their own people no favors, even if there\\'s more business; and, second, that if we have more trade, more of our workers will lose their jobs and have to start over. I think we should seek to advance worker and environmental standards around the world. I have made it abundantly clear that it should be a part of our trade agenda. But we cannot influence other countries\\' decisions if we send them a message that we\\'re backing away from trade with them.\\nThis year I will send legislation to Congress, and ask other nations to join us, to fight the most intolerable labor practice of all: abusive child labor. We should also offer help and hope to those Americans temporarily left behind by the global marketplace or by the march of technology, which may have nothing to do with trade. That\\'s why we have more than doubled funding for training dislocated workers since 1993. And if my new budget is adopted, we will triple funding. That\\'s why we must do more, and more quickly, to help workers who lose their jobs for whatever reason.\\nYou know, we help communities in a special way when their military base closes; we ought to help them in the same way if their factory closes. Again, I ask the Congress to continue its bipartisan work to consolidate the tangle of training programs we have today into one single \"GI bill\" for workers, a simple skills grant so people can, on their own, move quickly to new jobs, to higher incomes, and brighter futures.\\nWe all know, in every way in life, change is not always easy, but we have to decide whether we\\'re going to try to hold it back and hide from it or reap its benefits. And remember the big picture here: While we\\'ve been entering into hundreds of new trade agreements, we\\'ve been creating millions of new jobs.\\nSo this year we will forge new partnerships with Latin America, Asia, and Europe. And we should pass the new \"African Trade Act\"; it has bipartisan support. I will also renew my request for the fast-track negotiating authority necessary to open more new markets, create more new jobs, which every President has had for two decades.\\nYou know, whether we like it or not, in ways that are mostly positive, the world\\'s economies are more and more interconnected and interdependent. Today, an economic crisis anywhere can affect economies everywhere. Recent months have brought serious financial problems to Thailand, Indonesia, South Korea, and beyond.\\nNow, why should Americans be concerned about this? First, these countries are our customers. If they sink into recession, they won\\'t be able to buy the goods we\\'d like to sell them. Second, they\\'re also our competitors. So if their currencies lose their value and go down, then the price of their goods will drop, flooding our market and others with much cheaper goods, which makes it a lot tougher for our people to compete. And finally, they are our strategic partners. Their stability bolsters our security.\\nThe American economy remains sound and strong, and I want to keep it that way. But because the turmoil in Asia will have an impact on all the world\\'s economies, including ours, making that negative impact as small as possible is the right thing to do for America and the right thing to do for a safer world.\\nOur policy is clear: No nation can recover if it does not reform itself. But when nations are willing to undertake serious economic reform, we should help them do it. So I call on Congress to renew America\\'s commitment to the International Monetary Fund. And I think we should say to all the people we\\'re trying to represent here that preparing for a far-off storm that may reach our shores is far wiser than ignoring the thunder till the clouds are just overhead.\\nA strong nation rests on the rock of responsibility. A society rooted in responsibility must first promote the value of work, not welfare. We can be proud that after decades of fingerpointing and failure, together we ended the old welfare system. And we\\'re now replacing welfare checks with paychecks.\\nLast year, after a record 4-year decline in welfare rolls, I challenged our Nation to move 2 million more Americans off welfare by the year 2000. I\\'m pleased to report we have also met that goal, 2 full years ahead of schedule.\\nThis is a grand achievement, the sum of many acts of individual courage, persistence, and hope. For 13 years, Elaine Kinslow of Indianapolis, Indiana, was on and off welfare. Today, she\\'s a dispatcher with a van company. She\\'s saved enough money to move her family into a good neighborhood, and she\\'s helping other welfare recipients go to work. Elaine Kinslow and all those like her are the real heroes of the welfare revolution. There are millions like her all across America. And I\\'m happy she could join the First Lady tonight. Elaine, we\\'re very proud of you. Please stand up. [Applause]\\nWe still have a lot more to do, all of us, to make welfare reform a success—providing child care, helping families move closer to available jobs, challenging more companies to join our welfare-to-work partnership, increasing child support collections from deadbeat parents who have a duty to support their own children. I also want to thank Congress for restoring some of the benefits to immigrants who are here legally and working hard, and I hope you will finish that job this year.\\nWe have to make it possible for all hardworking families to meet their most important responsibilities. Two years ago we helped guarantee that Americans can keep their health insurance when they change jobs. Last year we extended health care to up to 5 million children. This year I challenge Congress to take the next historic steps.\\nA hundred and sixty million of our fellow citizens are in managed care plans. These plans save money, and they can improve care. But medical decisions ought to be made by medical doctors, not insurance company accountants. I urge this Congress to reach across the aisle and write into law a consumer bill of rights that says this: You have the right to know all your medical options, not just the cheapest. You have the right to choose the doctor you want for the care you need. You have the right to emergency room care, wherever and whenever you need it. You have the right to keep your medical records confidential. Traditional care or managed care, every American deserves quality care.\\nMillions of Americans between the ages of 55 and 65 have lost their health insurance. Some are retired; some are laid off; some lose their coverage when their spouses retire. After a lifetime of work, they are left with nowhere to turn. So I ask the Congress, let these hardworking Americans buy into the Medicare system. It won\\'t add a dime to the deficit, but the peace of mind it will provide will be priceless.\\nNext, we must help parents protect their children from the gravest health threat that they face: an epidemic of teen smoking, spread by multimillion-dollar marketing campaigns. I challenge Congress: Let\\'s pass bipartisan, comprehensive legislation that will improve public health, protect our tobacco farmers, and change the way tobacco companies do business forever. Let\\'s do what it takes to bring teen smoking down. Let\\'s raise the price of cigarettes by up to a dollar and a half a pack over the next 10 years, with penalties on the tobacco industry if it keeps marketing to our children. Tomorrow, like every day, 3,000 children will start smoking, and 1,000 will die early as a result. Let this Congress be remembered as the Congress that saved their lives.\\nIn the new economy, most parents work harder than ever. They face a constant struggle to balance their obligations to be good workers and their even more important obligations to be good parents. The Family and Medical Leave Act was the very first bill I was privileged to sign into law as President in 1993. Since then, about 15 million people have taken advantage of it, and I\\'ve met a lot of them all across this country. I ask you to extend that law to cover 10 million more workers and to give parents time off when they have to go see their children\\'s teachers or take them to the doctor.\\nChild care is the next frontier we must face to enable people to succeed at home and at work. Last year I cohosted the very first White House Conference on Child Care with one of our foremost experts, America\\'s First Lady. From all corners of America, we heard the same message, without regard to region or income or political affiliation: We\\'ve got to raise the quality of child care. We\\'ve got to make it safer. We\\'ve got to make it more affordable.\\nSo here\\'s my plan: Help families to pay for child care for a million more children; scholarships and background checks for child care workers, and a new emphasis on early learning; tax credits for businesses that provide child care for their employees; and a larger child care tax credit for working families. Now, if you pass my plan, what this means is that a family of four with an income of $35,000 and high child care costs will no longer pay a single penny of Federal income tax.\\nI think this is such a big issue with me because of my own personal experience. I have often wondered how my mother, when she was a young widow, would have been able to go away to school and get an education and come back and support me if my grandparents hadn\\'t been able to take care of me. She and I were really very lucky. How many other families have never had that same opportunity? The truth is, we don\\'t know the answer to that question. But we do know what the answer should be: Not a single American family should ever have to choose between the job they need and the child they love.\\nA society rooted in responsibility must provide safe streets, safe schools, and safe neighborhoods. We pursued a strategy of more police, tougher punishment, smarter prevention, with crimefighting partnerships with local law enforcement and citizen groups, where the rubber hits the road. I can report to you tonight that it\\'s working. Violent crime is down; robbery is down; assault is down; burglary is down—for 5 years in a row, all across America. We need to finish the job of putting 100,000 more police on our streets.\\nAgain, I ask Congress to pass a juvenile crime bill that provides more prosecutors and probation officers, to crack down on gangs and guns and drugs, and bar violent juveniles from buying guns for life. And I ask you to dramatically expand our support for after-school programs. I think every American should know that most juvenile crime is committed between the hours of 3 in the afternoon and 8 at night. We can keep so many of our children out of trouble in the first place if we give them someplace to go other than the streets, and we ought to do it.\\nDrug use is on the decline. I thank General McCaffrey for his leadership, and I thank this Congress for passing the largest antidrug budget in history. Now I ask you to join me in a groundbreaking effort to hire 1,000 new Border Patrol agents and to deploy the most sophisticated available new technologies to help close the door on drugs at our borders.\\nPolice, prosecutors, and prevention programs, as good as they are, they can\\'t work if our court system doesn\\'t work. Today, there are large numbers of vacancies in our Federal courts. Here is what the Chief Justice of the United States wrote: \"Judicial vacancies cannot remain at such high levels indefinitely without eroding the quality of justice.\" I simply ask the United States Senate to heed this plea and vote on the highly qualified judicial nominees before you, up or down.\\nWe must exercise responsibility not just at home but around the world. On the eve of a new century, we have the power and the duty to build a new era of peace and security. But make no mistake about it; today\\'s possibilities are not tomorrow\\'s guarantees. America must stand against the poisoned appeals of extreme nationalism. We must combat an unholy axis of new threats from terrorists, international criminals, and drug traffickers. These 21st century predators feed on technology and the free flow of information and ideas and people. And they will be all the more lethal if weapons of mass destruction fall into their hands.\\nTo meet these challenges, we are helping to write international rules of the road for the 21st century, protecting those who join the family of nations and isolating those who do not. Within days, I will ask the Senate for its advice and consent to make Hungary, Poland, and the Czech Republic the newest members of NATO. For 50 years, NATO contained communism and kept America and Europe secure. Now, these three formerly Communist countries have said yes to democracy. I ask the Senate to say yes to them, our new allies. By taking in new members and working closely with new partners, including Russia and Ukraine, NATO can help to assure that Europe is a stronghold for peace in the 21st century.\\nNext, I will ask Congress to continue its support of our troops and their mission in Bosnia. This Christmas, Hillary and I traveled to Sarajevo with Senator and Mrs. Dole and a bipartisan congressional delegation. We saw children playing in the streets, where 2 years ago they were hiding from snipers and shells. The shops are filled with food; the cafes were alive with conversation. The progress there is unmistakable, but it is not yet irreversible. To take firm root, Bosnia\\'s fragile peace still needs the support of American and allied troops when the current NATO mission ends in June. I think Senator Dole actually said it best. He said, \"This is like being ahead in the fourth quarter of a football game. Now is not the time to walk off the field and forfeit the victory.\"\\nI wish all of you could have seen our troops in Tuzla. They\\'re very proud of what they\\'re doing in Bosnia, and we\\'re all very proud of them. One of those brave soldiers is sitting with the First Lady tonight: Army Sergeant Michael Tolbert. His father was a decorated Vietnam vet. After college in Colorado, he joined the Army. Last year he led an infantry unit that stopped a mob of extremists from taking over a radio station that is a voice of democracy and tolerance in Bosnia. Thank you very much, Sergeant, for what you represent. Please stand up. [Applause]\\nIn Bosnia and around the world, our men and women in uniform always do their mission well. Our mission must be to keep them welltrained and ready, to improve their quality of life, and to provide the 21st century weapons they need to defeat any enemy.\\nI ask Congress to join me in pursuing an ambitious agenda to reduce the serious threat of weapons of mass destruction. This year, four decades after it was first proposed by President Eisenhower, a comprehensive nuclear test ban is within reach. By ending nuclear testing, we can help to prevent the development of new and more dangerous weapons and make it more difficult for non-nuclear states to build them. I\\'m pleased to announce that four former Chairmen of the Joint Chiefs of Staff—Generals John Shalikashvili, Colin Powell, and David Jones and Admiral William Crowe—have endorsed this treaty. And I ask the Senate to approve it this year.\\nTogether, we must confront the new hazards of chemical and biological weapons and the outlaw states, terrorists, and organized criminals seeking to acquire them. Saddam Hussein has spent the better part of this decade and much of his nation\\'s wealth not on providing for the Iraqi people but on developing nuclear, chemical, and biological weapons and the missiles to deliver them. The United Nations weapons inspectors have done a truly remarkable job finding and destroying more of Iraq\\'s arsenal than was destroyed during the entire Gulf war. Now Saddam Hussein wants to stop them from completing their mission.\\nI know I speak for everyone in this chamber, Republicans and Democrats, when I say to Saddam Hussein, \"You cannot defy the will of the world,\" and when I say to him, \"You have used weapons of mass destruction before. We are determined to deny you the capacity to use them again.\"\\nLast year the Senate ratified the Chemical Weapons Convention to protect our soldiers and citizens from poison gas. Now we must act to prevent the use of disease as a weapon of war and terror. The Biological Weapons Convention has been in effect for 23 years now. The rules are good, but the enforcement is weak. We must strengthen it with a new international inspection system to detect and deter cheating.\\nIn the months ahead, I will pursue our security strategy with old allies in Asia and Europe and new partners from Africa to India and Pakistan, from South America to China. And from Belfast to Korea to the Middle East, America will continue to stand with those who stand for peace.\\nFinally, it\\'s long past time to make good on our debt to the United Nations. More and more, we are working with other nations to achieve common goals. If we want America to lead, we\\'ve got to set a good example. As we see so clearly in Bosnia, allies who share our goals can also share our burdens. In this new era, our freedom and independence are actually enriched, not weakened, by our increasing interdependence with other nations. But we have to do our part.\\nOur Founders set America on a permanent course toward a more perfect Union. To all of you I say, it is a journey we can only make together, living as one community. First, we have to continue to reform our Government, the instrument of our national community. Everyone knows elections have become too expensive, fueling a fundraising arms race. This year, by March 6th, at long last the Senate will actually vote on bipartisan campaign finance reform proposed by Senators McCain and Feingold. Let\\'s be clear: A vote against McCain-Feingold is a vote for soft money and for the status quo. I ask you to strengthen our democracy and pass campaign finance reform this year.\\nAt least equally important, we have to address the real reason for the explosion in campaign costs: the high cost of media advertising.\\n[At this point, audience members responded.]\\nThe President. To the folks watching at home, those were the groans of pain in the audience. [Laughter] I will formally request that the Federal Communications Commission act to provide free or reduced-cost television time for candidates who observe spending limits voluntarily. The airwaves are a public trust, and broadcasters also have to help us in this effort to strengthen our democracy.\\nUnder the leadership of Vice President Gore, we\\'ve reduced the Federal payroll by 300,000 workers, cut 16,000 pages of regulation, eliminated hundreds of programs, and improved the operations of virtually every Government agency. But we can do more. Like every taxpayer, I\\'m outraged by the reports of abuses by the IRS. We need some changes there: new citizen advocacy panels, a stronger taxpayer advocate, phone lines open 24 hours a day, relief for innocent taxpayers. Last year, by an overwhelming bipartisan margin, the House of Representatives passed sweeping IRS reforms. This bill must not now languish in the Senate. Tonight I ask the Senate: Follow the House; pass the bipartisan package as your first order of business.\\nI hope to goodness before I finish I can think of something to say \"follow the Senate\" on, so I\\'ll be out of trouble. [Laughter]\\nA nation that lives as a community must value all its communities. For the past 5 years, we have worked to bring the spark of private enterprise to inner city and poor rural areas, with community development banks, more commercial loans in the poor neighborhoods, cleanup of polluted sites for development. Under the continued leadership of the Vice President, we propose to triple the number of empowerment zones to give business incentives to invest in those areas. We should also give poor families more help to move into homes of their own, and we should use tax cuts to spur the construction of more low-income housing.\\nLast year, this Congress took strong action to help the District of Columbia. Let us renew our resolve to make our Capital City a great city for all who live and visit here. Our cities are the vibrant hubs of great metropolitan areas. They are still the gateways for new immigrants from every continent, who come here to work for their own American dreams. Let\\'s keep our cities going strong into the 21st century; they\\'re a very important part of our future.\\nOur communities are only as healthy as the air our children breathe, the water they drink, the Earth they will inherit. Last year we put in place the toughest-ever controls on smog and soot. We moved to protect Yellowstone, the Everglades, Lake Tahoe. We expanded every community\\'s right to know about the toxins that threaten their children. Just yesterday, our food safety plan took effect, using new science to protect consumers from dangers like E. coli and salmonella.\\nTonight I ask you to join me in launching a new clean water initiative, a far-reaching effort to clean our rivers, our lakes, and our coastal waters for our children.\\nOur overriding environmental challenge tonight is the worldwide problem of climate change, global warming, the gathering crisis that requires worldwide action. The vast majority of scientists have concluded unequivocally that if we don\\'t reduce the emission of greenhouse gases, at some point in the next century, we\\'ll disrupt our climate and put our children and grandchildren at risk. This past December, America led the world to reach a historic agreement committing our Nation to reduce greenhouse gas emissions through market forces, new technologies, energy efficiency. We have it in our power to act right here, right now. I propose $6 billion in tax cuts and research and development to encourage innovation, renewable energy, fuel-efficient cars, energy-efficient homes.\\nEvery time we have acted to heal our environment, pessimists have told us it would hurt the economy. Well, today, our economy is the strongest in a generation, and our environment is the cleanest in a generation. We have always found a way to clean the environment and grow the economy at the same time. And when it comes to global warming, we\\'ll do it again.\\nFinally, community means living by the defining American value, the ideal heard \\'round the world, that we are all created equal. Throughout our history, we haven\\'t always honored that ideal and we\\'ve never fully lived up to it. Often it\\'s easier to believe that our differences matter more than what we have in common. It may be easier, but it\\'s wrong.\\nWhat we have to do in our day and generation to make sure that America becomes truly one nation—what do we have to do? We\\'re becoming more and more and more diverse. Do you believe we can become one nation? The answer cannot be to dwell on our differences but to build on our shared values. We all cherish family and faith, freedom and responsibility. We all want our children to grow up in a world where their talents are matched by their opportunities.\\nI\\'ve launched this national initiative on race to help us recognize our common interests and to bridge the opportunity gaps that are keeping us from becoming one America. Let us begin by recognizing what we still must overcome. Discrimination against any American is un-American. We must vigorously enforce the laws that make it illegal. I ask your help to end the backlog at the Equal Employment Opportunity Commission. Sixty thousand of our fellow citizens are waiting in line for justice, and we should act now to end their wait.\\nWe also should recognize that the greatest progress we can make toward building one America lies in the progress we make for all Americans, without regard to race. When we open the doors of college to all Americans, when we rid all our streets of crime, when there are jobs available to people from all our neighborhoods, when we make sure all parents have the child care they need, we\\'re helping to build one nation.\\nWe, in this Chamber and in this Government, must do all we can to address the continuing American challenge to build one America. But we\\'ll only move forward if all our fellow citizens, including every one of you at home watching tonight, is also committed to this cause. We must work together, learn together, live together, serve together. On the forge of common enterprise, Americans of all backgrounds can hammer out a common identity. We see it today in the United States military, in the Peace Corps, in AmeriCorps. Wherever people of all races and backgrounds come together in a shared endeavor and get a fair chance, we do just fine. With shared values and meaningful opportunities and honest communication and citizen service, we can unite a diverse people in freedom and mutual respect. We are many; we must be one.\\nIn that spirit, let us lift our eyes to the new millennium. How will we mark that passage? It just happens once every 1,000 years. This year Hillary and I launched the White House Millennium Program to promote America\\'s creativity and innovation, and to preserve our heritage and culture into the 21st century. Our culture lives in every community, and every community has places of historic value that tell our stories as Americans. We should protect them. I am proposing a public-private partnership to advance our arts and humanities and to celebrate the millennium by saving American\\'s treasures, great and small.\\nAnd while we honor the past, let us imagine the future. Now, think about this: The entire store of human knowledge now doubles every 5 years. In the 1980\\'s, scientists identified the gene causing cystic fibrosis; it took 9 years. Last year scientists located the gene that causes Parkinson\\'s disease in only 9 days. Within a decade, \"gene chips\" will offer a roadmap for prevention of illnesses throughout a lifetime. Soon we\\'ll be able to carry all the phone calls on Mother\\'s Day on a single strand of fiber the width of a human hair. A child born in 1998 may well live to see the 22d century.\\nTonight, as part of our gift to the millennium, I propose a 21st century research fund for pathbreaking scientific inquiry, the largest funding increase in history for the National Institutes of Health, the National Science Foundation, the National Cancer Institute. We have already discovered genes for breast cancer and diabetes. I ask you to support this initiative so ours will be the generation that finally wins the war against cancer and begins a revolution in our fight against all deadly diseases.\\nAs important as all this scientific progress is, we must continue to see that science serves humanity, not the other way around. We must prevent the misuse of genetic tests to discriminate against any American. And we must ratify the ethical consensus of the scientific and religious communities and ban the cloning of human beings.\\nWe should enable all the world\\'s people to explore the far reaches of cyberspace. Think of this: The first time I made a State of the Union speech to you, only a handful of physicists used the World Wide Web—literally, just a handful of people. Now, in schools, in libraries, homes, and businesses, millions and millions of Americans surf the Net every day. We must give parents the tools they need to help protect their children from inappropriate material on the Internet, but we also must make sure that we protect the exploding global commercial potential of the Internet. We can do the kinds of things that we need to do and still protect our kids. For one thing, I ask Congress to step up support for building the next generation Internet. It\\'s getting kind of clogged, you know, and the next generation Internet will operate at speeds up to 1,000 times faster than today.\\nEven as we explore this inner space in the new millennium, we\\'re going to open new frontiers in outer space. Throughout all history, humankind has had only one place to call home, our planet, Earth. Beginning this year, 1998, men and women from 16 countries will build a foothold in the heavens, the international space station. With its vast expanses, scientists and engineers will actually set sail on an uncharted sea of limitless mystery and unlimited potential.\\nAnd this October, a true American hero, a veteran pilot of 149 combat missions and one 5-hour space flight that changed the world, will return to the heavens. Godspeed, John Glenn. [Applause] John, you will carry with you America\\'s hopes. And on your uniform, once again, you will carry America\\'s flag, marking the unbroken connection between the deeds of America\\'s past and the daring of America\\'s future.\\nNearly 200 years ago, a tattered flag, its broad stripes and bright stars still gleaming through the smoke of a fierce battle, moved Francis Scott Key to scribble a few words on the back of an envelope, the words that became our national anthem. Today, that Star-Spangled Banner, along with the Declaration of Independence, the Constitution, and the Bill of Rights, are on display just a short walk from here. They are America\\'s treasures, and we must also save them for the ages.\\nI ask all Americans to support our project to restore all our treasures so that the generations of the 21st century can see for themselves the images and the words that are the old and continuing glory of America, an America that has continued to rise through every age, against every challenge, a people of great works and greater possibilities, who have always, always found the wisdom and strength to come together as one nation to widen the circle of opportunity, to deepen the meaning of our freedom, to form that more perfect Union. Let that be our gift to the 21st century.\\nGod bless you, and God bless the United States.\\n \\nMr. Speaker, Mr. President, my colleagues in the Congress, our distinguished guests, my fellow Americans:\\nAs this 92d Congress begins its session, America has lost a great Senator, and all of us who had the privilege to know him have lost a loyal friend. I had the privilege of visiting Senator Russell in the hospital just a few days before he died. He never spoke about himself. He only spoke eloquently about the need for a strong national defense.\\nIn tribute to one of the most magnificent Americans of all time, I respectfully ask that all those here will rise in silent prayer for Senator Russell.\\n[Moment of silence]\\nThank you.\\nMr. Speaker, before I begin my formal address, I want to use this opportunity to congratulate all of those who were winners in the rather spirited contest for leadership positions in the House and the Senate and, also, to express my condolences to the losers. I know how both of you feel.\\nAnd I particularly want to join with all of the Members of the House and the Senate as well in congratulating the new Speaker of the United States Congress.\\nTo those new Members of this House who may have some doubts about the possibilities for advancement in the years ahead, I would remind you that the Speaker and I met just 24 years ago in this Chamber as freshmen Members of the 80th Congress. As you see, we both have come up in the world a bit since then.\\nMr. Speaker, this 92d Congress has a chance to be recorded as the greatest Congress in America\\'s history.\\nIn these troubled years just past, America has been going through a long nightmare of war and division, of crime and inflation. Even more deeply, we have gone through a long, dark night of the American spirit. But now that night is ending. Now we must let our spirits soar again. Now we are ready for the lift of a driving dream.\\nThe people of this Nation are eager to get on with the quest for new greatness. They see challenges, and they are prepared to meet those challenges. It is for us here to open the doors that will set free again the real greatness of this Nation-the genius of the American people.\\nHow shall we meet this challenge? How can we truly open the doors, and set free the full genius of our people?\\nThe way in which the 92d Congress answers these questions will determine its place in history. More importantly, it can determine this Nation\\'s place in history as we enter the third century of our independence.\\nTonight I shall present to the Congress six great goals. I shall ask not simply for more new programs in the old framework. I shall ask to change the framework of government itself---to reform the entire structure of American government so we can make it again fully responsive to the needs and the wishes of the American people.\\nIf we act boldly--if we seize this moment and achieve these goals--we can close the gap between promise and performance in American government. We can bring together the resources of this Nation and the spirit of the American people.\\nIn discussing these great goals, I shall deal tonight only with matters on the domestic side of the Nation\\'s agenda. I shall make a separate report to the Congress and the Nation next month on developments in foreign policy.\\nThe first of these great goals is already before the Congress.\\nI urge that the unfinished business of the 91st Congress be made the first priority business of the 92d Congress.\\nOver the next 2 weeks, I will call upon Congress to take action on more than 35 pieces of proposed legislation on which action was not completed last year.\\nThe most important is welfare reform.\\nThe present welfare system has become a monstrous, consuming outrage--an outrage against the community, against the taxpayer, and particularly against the children it is supposed to help.\\nWe may honestly disagree, as we do, on what to do about it. But we can all agree that we must meet the challenge, not by pouring more money into a bad program, but by abolishing the present welfare system and adopting a new one.\\nSo let us place a floor under the income of every family with children in America-and without those demeaning, soul-stifling affronts to human dignity that so blight the lives of welfare children today. But let us also establish an effective work incentive and an effective work requirement.\\nLet us provide the means by which more can help themselves. This shall be our goal.\\nLet us generously help those who are not able to help themselves. But let us stop helping those who are able to help themselves but refuse to do so.\\nThe second great goal is to achieve what Americans have not enjoyed since 1957--full prosperity in peacetime.\\nThe tide of inflation has turned. The rise in the cost of living, which had been gathering dangerous momentum in the late sixties, was reduced last year. Inflation will be further reduced this year.\\nBut as we have moved from runaway inflation toward reasonable price stability and at the same time as we have been moving from a wartime economy to a peacetime economy, we have paid a price in increased unemployment.\\nWe should take no comfort from the fact that the level of unemployment in this transition from a wartime to a peacetime economy is lower than in any peacetime year of the sixties.\\nThis is not good enough for the man who is unemployed in the seventies. We must do better for workers in peacetime and we will do better.\\nTo achieve this, I will submit an expansionary budget this year--one that will help stimulate the economy and thereby open up new job opportunities for millions of Americans.\\nIt will be a full employment budget, a budget designed to be in balance if the economy were operating at its peak potential. By spending as if we were at full employment, we will help to bring about full employment.\\nI ask the Congress to accept these expansionary policies--to accept the concept of a full employment budget. At the same time, I ask the Congress to cooperate in resisting expenditures that go beyond the limits of the full employment budget. For as we wage a campaign to bring about a widely shared prosperity, we must not reignite the fires of inflation and so undermine that prosperity.\\nWith the stimulus and the discipline of a full employment budget, with the commitment of the independent Federal Reserve System to provide fully for the monetary needs of a growing economy, and with a much greater effort on the part of labor and management to make their wage and price decisions in the light of the national interest and their own self-interest--then for the worker, the farmer, the consumer, for Americans everywhere we shall gain the goal of a new prosperity: more jobs, more income, more profits, without inflation and without war.\\nThis is a great goal, and one that we can achieve together.\\nThe third great goal is to continue the effort so dramatically begun last year: to restore and enhance our natural environment.\\nBuilding on the foundation laid in the 37-point program that I submitted to Congress last year, I will propose a strong new set of initiatives to clean up our air and water, to combat noise, and to preserve and restore our surroundings.\\nI will propose programs to make better use of our land, to encourage a balanced national growth--growth that will revitalize our rural heartland and enhance the quality of life in America.\\nAnd not only to meet today\\'s needs but to anticipate those of tomorrow, I will put forward the most extensive program ever proposed by a President of the United States to expand the Nation\\'s parks, recreation areas, open spaces, in a way that truly brings parks to the people where the people are. For only if we leave a legacy of parks will the next generation have parks to enjoy.\\nAs a fourth great goal, I will offer a far-reaching set of proposals for improving America\\'s health care and making it available more fairly to more people.\\nI will propose:\\n--A program to insure that no American family will be prevented from obtaining basic medical care by inability to pay.\\n--I will propose a major increase in and redirection of aid to medical schools, to greatly increase the number of doctors and other health personnel.\\n--Incentives to improve the delivery of health services, to get more medical care resources into those areas that have not been adequately served, to make greater use of medical assistants, and to slow the alarming rise in the costs of medical care.\\n--New programs to encourage better preventive medicine, by attacking the causes of disease and injury, and by providing incentives to doctors to keep people well rather than just to treat them when they are sick.\\nI will also ask for an appropriation of an extra $100 million to launch an intensive campaign to find a cure for cancer, and I will ask later for whatever additional funds can effectively be used. The time has come in America when the same kind of concentrated effort that split the atom and took man to the moon should be turned toward conquering this dread disease. Let us make a total national commitment to achieve this goal.\\nAmerica has long been the wealthiest nation in the world. Now it is time we became the healthiest nation in the world.\\nThe fifth great goal is to strengthen and to renew our State and local governments.\\nAs we approach our 200th anniversary in 1976, we remember that this Nation launched itself as a loose confederation of separate States, without a workable central government. At that time, the mark of its leaders\\' vision was that they quickly saw the need to balance the separate powers of the States with a government of central powers.\\nAnd so they gave us a constitution of balanced powers, of unity with diversity-and so clear was their vision that it survives today as the oldest written constitution still in force in the world.\\nFor almost two centuries since--and dramatically in the 1930\\'s--at those great turning points when the question has been between the States and the Federal Government, that question has been resolved in favor of a stronger central Federal Government.\\nDuring this time the Nation grew and the Nation prospered. But one thing history tells us is that no great movement goes in the same direction forever. Nations change, they adapt, or they slowly die.\\nThe time has now come in America to reverse the flow of power and resources from the States and communities to Washington, and start power and resources flowing back from Washington to the States and communities and, more important, to the people all across America.\\nThe time has come for a new partnership between the Federal Government and the States and localities--a partnership in which we entrust the States and localities with a larger share of the Nation\\'s responsibilities, and in which we share our Federal revenues with them so that they can meet those responsibilities.\\nTo achieve this goal, I propose to the Congress tonight that we enact a plan of revenue sharing historic in scope and bold in concept.\\nAll across America today, States and cities are confronted with a financial crisis. Some have already been cutting back on essential services---for example, just recently San Diego and Cleveland cut back on trash collections. Most are caught between the prospects of bankruptcy on the one hand and adding to an already crushing tax burden on the other.\\nAs one indication of the rising costs of local government, I discovered the other day that my home town of Whittier, California-which has a population of 67,000--has a larger budget for 1971 than the entire Federal budget was in 1791.\\nNow the time has come to take a new direction, and once again to introduce a new and more creative balance to our approach to government.\\nSo let us put the money where the needs are. And let us put the power to spend it where the people are.\\nI propose that the Congress make a $ 16 billion investment in renewing State and local government. Five billion dollars of this will be in new and unrestricted funds to be used as the States and localities see fit. The other $11 billion will be provided by allocating $1 billion of new funds and converting one-third of the money going to the present narrow-purpose aid programs into Federal revenue sharing funds for six broad purposes for urban development, rural development, education, transportation, job training, and law enforcement but with the States and localities making their own decisions on how it should be spent within each category.\\nFor the next fiscal year, this would increase total Federal aid to the States and localities more than 25 percent over the present level.\\nThe revenue sharing proposals I send to the Congress will include the safeguards against discrimination that accompany all other Federal funds allocated to the States. Neither the President nor the Congress nor the conscience of this Nation can permit money which comes from all the people to be used in a way which discriminates against some of the people.\\nThe Federal Government will still have a large and vital role to play in achieving our national progress. Established functions that are clearly and essentially Federal in nature will still be performed by the Federal Government. New functions that need to be sponsored or performed by the Federal Government--such as those I have urged tonight in welfare and health--will be added to the Federal agenda. Whenever it makes the best sense for us to act as a whole nation, the Federal Government should and will lead the way. But where States or local governments can better do what needs to be done, let us see that they have the resources to do it there.\\nUnder this plan, the Federal Government will provide the States and localities with more money and less interference-and by cutting down the interference the same amount of money will go a lot further.\\nLet us share our resources.\\nLet us share them to rescue the States and localities from the brink of financial crisis.\\nLet us share them to give homeowners and wage earners a chance to escape from ever-higher property taxes and sales taxes.\\nLet us share our resources for two other reasons as well.\\nThe first of these reasons has to do with government itself, and the second has to do it, h each of us, with the individual.\\nLet s face it. Most Americans today are simply fed up with government at all levels. They will not--and they should not--continue to tolerate the gap between promise and performance in government.\\nThe fact is that we have made the Federal Government so strong it grows muscle-bound and the States and localities so weak they approach impotence.\\nIf we put more power in more places, we can make government more creative in more places. That way we multiply the number of people with the ability to make things happen--and we can open the way to a new burst of creative energy throughout America.\\nThe final reason I urge this historic shift is much more personal, for each and for every one of us.\\nAs everything seems to have grown bigger and more complex in America, as the forces that shape our lives seem to have grown more distant and more impersonal, a great feeling of frustration has crept across this land.\\nWhether it is the workingman who feels neglected, the black man who feels oppressed, or the mother concerned about her children, there has been a growing feeling that \"Things are in the saddle, and ride mankind.\"\\nMillions of frustrated young Americans today are crying out--asking not what will government do for me, but what can I do, how can I contribute, how can I matter?\\nAnd so let us answer them. Let us say to them and let us say to all Americans, \"We hear you. We will give you a chance. We are going to give you a new chance to have more to say about the decisions that affect your future--a chance to participate in government--because we are going to provide more centers of power where what you do can make a difference that you can see and feel in your own life and the life of your whole community.\"\\nThe further away government is from people, the stronger government becomes and the weaker people become. And a nation with a strong government and a weak people is an empty shell.\\nI reject the patronizing idea that government in Washington, D.C., is inevitably more wise, more honest, and more efficient than government at the local or State level. The honesty and efficiency of government depends on people. Government at all levels has good people and bad people. And the way to get more good people into government is to give them more opportunity to do good things.\\nThe idea that a bureaucratic elite in Washington knows best what is best for people everywhere and that you cannot trust local governments is really a contention that you cannot trust people to govern themselves. This notion is completely foreign to the American experience. Local government is the government closest to the people, it is most responsive to the individual person. It is people\\'s government in a far more intimate way than the Government in Washington can ever be.\\nPeople came to America because they wanted to determine their own future rather than to live in a country where others determined their future for them.\\nWhat this change means is that once again in America we are placing our trust in people.\\nI have faith in people. I trust the judgment of people. Let us give the people of America a chance, a bigger voice in deciding for themselves those questions that so greatly affect their lives.\\nThe sixth great goal is a complete reform of the Federal Government itself.\\nBased on a long and intensive study with the aid of the best advice obtainable, I have concluded that a sweeping reorganization of the executive branch is needed if the Government is to keep up with the times and with the needs of the people.\\nI propose, therefore, that we reduce the present 12 Cabinet Departments to eight.\\nI propose that the Departments of State, Treasury, Defense, and Justice remain, but that all the other departments be consolidated into four: Human Resources, Community Development, Natural Resources, and Economic Development.\\nLet us look at what these would be:\\n--First, a department dealing with the concerns of people--as individuals, as members of a family--a department focused on human needs.\\n--Second, a department concerned with the community--rural communities and urban communities-and with all that it takes to make a community function as a community.\\n--Third, a department concerned with our physical environment, with the preservation and balanced use of those great natural resources on which our Nation depends.\\n--And fourth, a department concerned with our prosperity--with our jobs, our businesses, and those many activities that keep our economy running smoothly and well.\\nUnder this plan, rather than dividing up our departments by narrow subjects, we would organize them around the great purposes of government. Rather than scattering responsibility by adding new levels of bureaucracy, we would focus and concentrate the responsibility for getting problems solved.\\nWith these four departments, when we have a problem we will know where to go--and the department will have the authority and the resources to do something about it.\\nOver the years we have added departments and created agencies at the Federal level, each to serve a new constituency, to handle a particular task--and these have grown and multiplied in what has become a hopeless confusion of form and function.\\nThe time has come to match our structure to our purposes---to look with a fresh eye, to organize the Government by conscious, comprehensive design to meet the new needs of a new era.\\nOne hundred years ago, Abraham Lincoln stood on a battlefield and spoke of a \"government of the people, by the people, for the people.\" Too often since then, we have become a nation of the Government, by the Government, for the Government.\\nBy enacting these reforms, we can renew that principle that Lincoln stated so simply and so well.\\nBy giving everyone\\'s voice a chance to be heard, we will have government that truly is of the people.\\nBy creating more centers of meaningful power, more places where decisions that really count can be made, by giving more people a chance to do something, we can have government that truly is by the people.\\nAnd by setting up a completely modern, functional system of government at the national level, we in Washington will at last be able to provide government that is truly for the people.\\nI realize that what I am asking is that not only the executive branch in Washington but that even this Congress will have to change by giving up some of its power.\\nChange is hard. But without change there can be no progress. And for each of us the question then becomes, not \"Will change cause me inconvenience?\" but \"Will change bring progress for America?\"\\nGiving up power is hard. But I would urge all of you, as leaders of this country, to remember that the truly revered leaders in world history are those who gave power to people, and not those who took it away.\\nAs we consider these reforms we will be acting, not for the next 2 years or for the next 10 years, but for the next 100 years.\\nSo let us approach these six great goals with a sense not only of this moment in history but also of history itself.\\nLet us act with the willingness to work together and the vision and the boldness and the courage of those great Americans who met in Philadelphia almost 190 years ago to write a constitution.\\nLet us leave a heritage as they did--not just for our children but for millions yet unborn--of a nation where every American will have a chance not only to live in peace and to enjoy prosperity and opportunity but to participate in a system of government where he knows not only his votes but his ideas count--a system of government which will provide the means for America to reach heights of achievement undreamed of before.\\nThose men who met at Philadelphia left a great heritage because they had a vision--not only of what the Nation was but of what it could become.\\nAs I think of that vision, I recall that America was founded as the land of the open door--as a haven for the oppressed, a land of opportunity, a place of refuge, of hope.\\nWhen the first settlers opened the door of America three and a half centuries ago, they came to escape persecution and to find opportunity--and they left wide the door of welcome for others to follow.\\nWhen the Thirteen Colonies declared their independence almost two centuries ago, they opened the door to a new vision of liberty and of human fulfillment--not just for an elite but for all.\\nTo the generations that followed, America\\'s was the open door that beckoned millions from the old world to the new in search of a better life, a freer life, a fuller life, and in which, by their own decisions, they could shape their own destinies.\\nFor the black American, the Indian, the Mexican-American, and for those others in our land who have not had an equal chance, the Nation at last has begun to confront the need to press open the door of full and equal opportunity, and of human dignity.\\nFor all Americans, with these changes I have proposed tonight we can open the door to a new era of opportunity. We can open the door to full and effective participation in the decisions that affect their lives. We can open the door to a new partnership among governments at all levels, between those governments and the people themselves. And by so doing, we can open wide the doors of human fulfillment for millions of people here in America now and in the years to come.\\nIn the next few weeks I will spell out in greater detail the way I propose that we achieve these six great goals. I ask this Congress to be responsive. If it is, then the 92d Congress, your Congress, our Congress, at the end of its term, will be able to look back on a record more splendid than any in our history.\\nThis can be the Congress that helped us end the longest war in the Nation\\'s history, and end it in a way that will give us at last a genuine chance to enjoy what we have not had in this century: a full generation of peace.\\nThis can be the Congress that helped achieve an expanding economy, with full employment and without inflation--and without the deadly stimulus of war.\\nThis can be the Congress that reformed a welfare system that has robbed recipients of their dignity and robbed States and cities of their resources.\\nThis can be the Congress that pressed forward the rescue of our environment, and established for the next generation an enduring legacy of parks for the people.\\nThis can be the Congress that launched a new era in American medicine, in which the quality of medical care was enhanced while the costs were made less burdensome.\\nBut above all, what this Congress can be remembered for is opening the way to a new American revolution--a peaceful revolution in which power was turned back to the people--in which government at all levels was refreshed and renewed and made truly responsive. This can be a revolution as profound, as far-reaching, as exciting as that first revolution almost 200 years ago--and it can mean that just 5 years from now America will enter its third century as a young nation new in spirit, with all the vigor and the freshness with which it began its first century.\\nMy colleagues in the Congress, these are great goals. They can make the sessions of this Congress a great moment for America. So let us pledge together to go forward together--by achieving these goals to give America the foundation today for a new greatness tomorrow and in all the years to come, and in so doing to make this the greatest Congress in the history of this great and good country.\\n \\nThank you. Mr. Speaker, Mr. Vice President, Members of Congress, my fellow Americans: Tonight marks the eighth year that I\\'ve come here to report on the State of the Union. And for this final one, I\\'m going to try to make it a little shorter. I know some of you are antsy to get back to Iowa. [Laughter] I\\'ve been there. I\\'ll be shaking hands afterwards if you want some tips. [Laughter]\\nNow, I understand that because it\\'s an election season, expectations for what we will achieve this year are low. But, Mr. Speaker, I appreciate the constructive approach that you and other leaders took at the end of last year to pass a budget and make tax cuts permanent for working families. So I hope we can work together this year on some bipartisan priorities like criminal justice reform and helping people who are battling prescription drug abuse and heroin abuse. So, who knows, we might surprise the cynics again.\\nBut tonight I want to go easy on the traditional list of proposals for the year ahead. Don\\'t worry, I\\'ve got plenty—[laughter]—from helping students learn to write computer code to personalizing medical treatments for patients. And I will keep pushing for progress on the work that I believe still needs to be done: fixing a broken immigration system, protecting our kids from gun violence, equal pay for equal work, paid leave, raising the minimum wage. All these things still matter to hard-working families. They\\'re still the right thing to do. And I won\\'t let up until they get done.\\nBut for my final address to this Chamber, I don\\'t want to just talk about next year. I want to focus on the next 5 years, the next 10 years, and beyond. I want to focus on our future.\\nWe live in a time of extraordinary change, change that\\'s reshaping the way we live, the way we work, our planet, our place in the world. It\\'s change that promises amazing medical breakthroughs, but also economic disruptions that strain working families. It promises this education for girls in the most remote villages, but also connects terrorists plotting an ocean away. It\\'s change that can broaden opportunity or widen inequality. And whether we like it or not, the pace of this change will only accelerate.\\nAmerica has been through big changes before: wars and depression, the influx of new immigrants, workers fighting for a fair deal, movements to expand civil rights. Each time, there have been those who told us to fear the future; who claimed we could slam the brakes on change; who promised to restore past glory if we just got some group or idea that was threatening America under control. And each time, we overcame those fears. We did not, in the words of Lincoln, adhere to the \"dogmas of the quiet past.\" Instead, we thought anew and acted anew. We made change work for us, always extending America\\'s promise outward, to the next frontier, to more people. And because we did, because we saw opportunity with a—where others saw peril, we emerged stronger and better than before.\\nWhat was true then can be true now. Our unique strengths as a nation—our optimism and work ethic, our spirit of discovery, our diversity, our commitment to rule of law—these things give us everything we need to ensure prosperity and security for generations to come.\\nIn fact, it\\'s in that spirit that we have made progress these past 7 years. That\\'s how we recovered from the worst economic crisis in generations. That\\'s how we reformed our health care system and reinvented our energy sector. That\\'s how we delivered more care and benefits to our troops coming home and our veterans. That\\'s how we secured the freedom in every State to marry the person we love.\\nBut such progress is not inevitable. It\\'s the result of choices we make together. And we face such choices right now. Will we respond to the changes of our time with fear, turning inward as a nation, turning against each other as a people? Or will we face the future with confidence in who we are, in what we stand for, in the incredible things that we can do together?\\nSo let\\'s talk about the future and four big questions that I believe we as a country have to answer, regardless of who the next President is or who controls the next Congress. First, how do we give everyone a fair shot at opportunity and security in this new economy? Second, how do we make technology work for us and not against us, especially when it comes to solving urgent challenges like climate change? Third, how do we keep America safe and lead the world without becoming its policeman? And finally, how can we make our politics reflect what\\'s best in us and not what\\'s worst?\\nLet me start with the economy and a basic fact: The United States of America right now has the strongest, most durable economy in the world. We\\'re in the middle of the longest streak of private sector job creation in history. More than 14 million new jobs, the strongest 2 years of job growth since the 1990s, an unemployment rate cut in half. Our auto industry just had its best year ever. That\\'s just part of a manufacturing surge that\\'s created nearly 900,000 new jobs in the past 6 years. And we\\'ve done all this while cutting our deficits by almost three-quarters.\\nAnyone claiming that America\\'s economy is in decline is peddling fiction. Now, what is true—and the reason that a lot of Americans feel anxious—is that the economy has been changing in profound ways, changes that started long before the great recession hit, changes that have not let up.\\nToday, technology doesn\\'t just replace jobs on the assembly line, but any job where work can be automated. Companies in a global economy can locate anywhere, and they face tougher competition. As a result, workers have less leverage for a raise. Companies have less loyalty to their communities. And more and more wealth and income is concentrated at the very top.\\nAll these trends have squeezed workers, even when they have jobs, even when the economy is growing. It\\'s made it harder for a hard-working family to pull itself out of poverty, harder for young people to start their careers, tougher for workers to retire when they want to. And although none of these trends are unique to America, they do offend our uniquely American belief that everybody who works hard should get a fair shot.\\nFor the past 7 years, our goal has been a growing economy that also works better for everybody. We\\'ve made progress, but we need to make more. And despite all the political arguments that we\\'ve had these past few years, there are actually some areas where Americans broadly agree.\\nWe agree that real opportunity requires every American to get the education and training they need to land a good-paying job. The bipartisan reform of No Child Left Behind was an important start, and together, we\\'ve increased early childhood education, lifted high school graduation rates to new highs, boosted graduates in fields like engineering. In the coming years, we should build on that progress, by providing pre-K for all and offering every student the hands-on computer science and math classes that make them job-ready on day one. We should recruit and support more great teachers for our kids.\\nAnd we have to make college affordable for every American. No hard-working student should be stuck in the red. We\\'ve already reduced student loan payments by—to 10 percent of a borrower\\'s income. And that\\'s good. But now we\\'ve actually got to cut the cost of college. Providing 2 years of community college at no cost for every responsible student is one of the best ways to do that, and I\\'m going to keep fighting to get that started this year. It\\'s the right thing to do.\\nBut a great education isn\\'t all we need in this new economy. We also need benefits and protections that provide a basic measure of security. It\\'s not too much of a stretch to say that some of the only people in America who are going to work the same job, in the same place, with a health and retirement package for 30 years are sitting in this Chamber. [Laughter] For everyone else, especially folks in their forties and fifties, saving for retirement or bouncing back from job loss has gotten a lot tougher. Americans understand that at some point in their careers, in this new economy, they may have to retool, they may have to retrain. But they shouldn\\'t lose what they\\'ve already worked so hard to build in the process.\\nThat\\'s why Social Security and Medicare are more important than ever. We shouldn\\'t weaken them, we should strengthen them. And for Americans short of retirement, basic benefits should be just as mobile as everything else is today. That, by the way, is what the Affordable Care Act is all about. It\\'s about filling the gaps in employer-based care so that when you lose a job or you go back to school or you strike out and launch that new business, you\\'ll still have coverage. Nearly 18 million people have gained coverage so far. And in the process, health care inflation has slowed. And our businesses have created jobs every single month since it became law.\\nNow, I\\'m guessing we won\\'t agree on health care anytime soon, but—[laughter]—a little applause back there. [Laughter] Just a guess. But there should be other ways parties can work together to improve economic security. Say a hard-working American loses his job. We shouldn\\'t just make sure that he can get unemployment insurance, we should make sure that program encourages him to retrain for a business that\\'s ready to hire him. If that new job doesn\\'t pay as much, there should be a system of wage insurance in place so that he can still pay his bills. And even if he\\'s going from job to job, he should still be able to save for retirement and take his savings with him. That\\'s the way we make the new economy work better for everybody.\\nI also know Speaker Ryan has talked about his interest in tackling poverty. America is about giving everybody willing to work a chance, a hand up. And I\\'d welcome a serious discussion about strategies we can all support, like expanding tax cuts for low-income workers who don\\'t have children.\\nBut there are some areas where—we just have to be honest—it has been difficult to find agreement over the last 7 years. And a lot of them fall under the category of what role the Government should play in making sure the system\\'s not rigged in favor of the wealthiest and biggest corporations. And it\\'s an honest disagreement, and the American people have a choice to make.\\nI believe a thriving private sector is the lifeblood of our economy. I think there are outdated regulations that need to be changed. There is redtape that needs to be cut. [Applause] There you go! Yes! See? But after years now of record corporate profits, working families won\\'t get more opportunity or bigger paychecks just by letting big banks or big oil or hedge funds make their own rules at everybody else\\'s expense. Middle class families are not going to feel more secure because we allowed attacks on collective bargaining to go unanswered. Food stamp recipients did not cause the financial crisis; recklessness on Wall Street did. Immigrants aren\\'t the principal reason wages haven\\'t gone up; those decisions are made in the boardrooms that all too often put quarterly earnings over long-term returns. It\\'s sure not the average family watching tonight that avoids paying taxes through offshore accounts. [Laughter]\\nThe point is, I believe that in this new economy, workers and startups and small businesses need more of a voice, not less. The rules should work for them. And I\\'m not alone in this. This year, I plan to lift up the many businesses who have figured out that doing right by their workers or their customers or their communities ends up being good for their shareholders. And I want to spread those best practices across America. That\\'s part of a brighter future.\\nIn fact, it turns, out many of our best corporate citizens are also our most creative. And this brings me to the second big question we as a country have to answer: How do we reignite that spirit of innovation to meet our biggest challenges?\\nSixty years ago, when the Russians beat us into space, we didn\\'t deny Sputnik was up there. [Laughter] We didn\\'t argue about the science or shrink our research and development budget. We built a space program almost overnight. And 12 years later, we were walking on the Moon.\\nNow, that spirit of discovery is in our DNA. America is Thomas Edison and the Wright Brothers and George Washington Carver. America is Grace Hopper and Katherine Johnson and Sally Ride. America is every immigrant and entrepreneur from Boston to Austin to Silicon Valley, racing to shape a better future. That\\'s who we are.\\nAnd over the past 7 years, we\\'ve nurtured that spirit. We\\'ve protected an open Internet and taken bold new steps to get more students and low-income Americans online. We\\'ve launched next-generation manufacturing hubs and online tools that give an entrepreneur everything he or she needs to start a business in a single day. But we can do so much more.\\nLast year, Vice President Biden said that with a new moonshot, America can cure cancer. Last month, he worked with this Congress to give scientists at the National Institutes of Health the strongest resources that they\\'ve had in over a decade. Well—so tonight I\\'m announcing a new national effort to get it done. And because he\\'s gone to the mat for all of us on so many issues over the past 40 years, I\\'m putting Joe in charge of mission control. For the loved ones we\\'ve all lost, for the families that we can still save, let\\'s make America the country that cures cancer once and for all. What do you say, Joe? Let\\'s make it happen.\\nNow, medical research is critical. We need the same level of commitment when it comes to developing clean energy sources. Look, if anybody still wants to dispute the science around climate change, have at it. [Laughter] You will be pretty lonely, because you\\'ll be debating our military, most of America\\'s business leaders, the majority of the American people, almost the entire scientific community, and 200 nations around the world who agree it\\'s a problem and intend to solve it. But even if the planet wasn\\'t at stake, even if 2014 wasn\\'t the warmest year on record—until 2015 turned out to be even hotter—why would we want to pass up the chance for American businesses to produce and sell the energy of the future? Listen, 7 years ago, we made the single biggest investment in clean energy in our history. Here are the results. In fields from Iowa to Texas, wind power is now cheaper than dirtier, conventional power. On rooftops from Arizona to New York, solar is saving Americans tens of millions of dollars a year on their energy bills and employs more Americans than coal in jobs that pay better than average. We\\'re taking steps to give homeowners the freedom to generate and store their own energy, something, by the way, that environmentalists and Tea Partiers have teamed up to support. And meanwhile, we\\'ve cut our imports of foreign oil by nearly 60 percent and cut carbon pollution more than any other country on Earth. Gas under 2 bucks a gallon ain\\'t bad either. [Laughter]\\nNow we\\'ve got to accelerate the transition away from old, dirtier energy sources. Rather than subsidize the past, we should invest in the future, especially in communities that rely on fossil fuels. We do them no favor when we don\\'t show them where the trends are going. And that\\'s why I\\'m going to push to change the way we manage our oil and coal resources so that they better reflect the costs they impose on taxpayers and our planet. And that way, we put money back into those communities and put tens of thousands of Americans to work building a 21st-century transportation system.\\nNow, none of this is going to happen overnight. And yes, there are plenty of entrenched interests who want to protect the status quo. But the jobs we\\'ll create, the money we\\'ll save, the planet we\\'ll preserve—that is the kind of future our kids and our grandkids deserve. And it\\'s within our grasp.\\nNow, climate change is just one of many issues where our security is linked to the rest of the world. And that\\'s why the third big question that we have to answer together is how to keep America safe and strong without either isolating ourselves or trying to nation-build everywhere there\\'s a problem.\\nNow, I told you earlier all the talk of America\\'s economic decline is political hot air. Well, so is all the rhetoric you hear about our enemies getting stronger and America getting weaker. Let me tell you something: The United States of America is the most powerful nation on Earth. Period. [Applause] Period. It\\'s not even close. [Applause] It\\'s not even close. It\\'s not even close. We spend more on our military than the next eight nations combined. Our troops are the finest fighting force in the history of the world. [Applause] All right. No nation attacks us directly, or our allies, because they know that\\'s the path to ruin. Surveys show our standing around the world is higher than when I was elected to this office, and when it comes to every important international issue, people of the world do not look to Beijing or Moscow to lead. They call us. So I think it\\'s useful to level set here, because when we don\\'t, we don\\'t make good decisions.\\nNow, as someone who begins every day with an intelligence briefing, I know this is a dangerous time. But that\\'s not primarily because of some looming superpower out there, and it\\'s certainly not because of diminished American strength. In today\\'s world, we\\'re threatened less by evil empires and more by failing states.\\nThe Middle East is going through a transformation that will play out for a generation, rooted in conflicts that date back millennia. Economic headwinds are blowing in from a Chinese economy that is in significant transition. Even as their economy severely contracts, Russia is pouring resources in to prop up Ukraine and Syria, client states that they saw slipping away from their orbit. And the international system we built after World War II is now struggling to keep pace with this new reality. It\\'s up to us, the United States of America, to help remake that system. And to do that well, it means that we\\'ve got to set priorities. Priority number one is protecting the American people and going after terrorist networks. Both Al Qaida and now ISIL pose a direct threat to our people, because in today\\'s world, even a handful of terrorists who place no value on human life, including their own, can do a lot of damage. They use the Internet to poison the minds of individuals inside our country. Their actions undermine and destabilize our allies. We have to take them out.\\nBut as we focus on destroying ISIL, over-the-top claims that this is world war III just play into their hands. Masses of fighters on the back of pickup trucks, twisted souls plotting in apartments or garages, they pose an enormous danger to civilians; they have to be stopped. But they do not threaten our national existence. That is the story ISIL wants to tell. That\\'s the kind of propaganda they use to recruit. We don\\'t need to build them up to show that we\\'re serious, and we sure don\\'t need to push away vital allies in this fight by echoing the lie that ISIL is somehow representative of one of the world\\'s largest religions. We just need to call them what they are: killers and fanatics who have to be rooted out, hunted down, and destroyed.\\nAnd that\\'s exactly what we\\'re doing. For more than a year, America has led a coalition of more than 60 countries to cut off ISIL\\'s financing, disrupt their plots, stop the flow of terrorist fighters, and stamp out their vicious ideology. With nearly 10,000 airstrikes, we\\'re taking out their leadership, their oil, their training camps, their weapons. We\\'re training, arming, and supporting forces who are steadily reclaiming territory in Iraq and Syria.\\nIf this Congress is serious about winning this war and wants to send a message to our troops and the world, authorize the use of military force against ISIL. Take a vote. [Applause] Take a vote. But the American people should know that with or without congressional action, ISIL will learn the same lessons as terrorists before them. If you doubt America\\'s commitment—or mine—to see that justice is done, just ask Usama bin Laden. Ask the leader of Al Qaida in Yemen, who was taken out last year, or the perpetrator of the Benghazi attacks, who sits in a prison cell. When you come after Americans, we go after you. And it may take time, but we have long memories, and our reach has no limits.\\nOur foreign policy has to be focused on the threat from ISIL and Al Qaida, but it can\\'t stop there. For even without ISIL, even without Al Qaida, instability will continue for decades in many parts of the world: in the Middle East, in Afghanistan and parts of Pakistan, in parts of Central America, in Africa and Asia. Some of these places may become safe havens for new terrorist networks. Others will just fall victim to ethnic conflict or famine, feeding the next wave of refugees. The world will look to us to help solve these problems, and our answer needs to be more than tough talk or calls to carpet-bomb civilians. That may work as a TV sound bite, but it doesn\\'t pass muster on the world stage.\\nWe also can\\'t try to take over and rebuild every country that falls into crisis, even if it\\'s done with the best of intentions. That\\'s not leadership; that\\'s a recipe for quagmire, spilling American blood and treasure that ultimately will weaken us. It\\'s the lesson of Vietnam; it\\'s the lesson of Iraq. And we should have learned it by now.\\nNow, fortunately there is a smarter approach: a patient and disciplined strategy that uses every element of our national power. It says America will always act, alone if necessary, to protect our people and our allies, but on issues of global concern, we will mobilize the world to work with us and make sure other countries pull their own weight. That\\'s our approach to conflicts like Syria, where we\\'re partnering with local forces and leading international efforts to help that broken society pursue a lasting peace. That\\'s why we built a global coalition, with sanctions and principled diplomacy, to prevent a nuclear-armed Iran. And as we speak, Iran has rolled back its nuclear program, shipped out its uranium stockpile, and the world has avoided another war.\\nThat\\'s how we stopped the spread of Ebola in West Africa. Our military, our doctors, our development workers—they were heroic; they set up the platform that then allowed other countries to join in behind us and stamp out that epidemic. Hundreds of thousands, maybe a couple million, lives were saved.\\nThat\\'s how we forged a Trans-Pacific Partnership to open markets and protect workers and the environment and advance American leadership in Asia. It cuts 18,000 taxes on products made in America, which will then support more good jobs here in America. With TPP, China does not set the rules in that region, we do. You want to show our strength in this new century? Approve this agreement. Give us the tools to enforce it. It\\'s the right thing to do.\\nLet me give you another example. Fifty years of isolating Cuba had failed to promote democracy. It set us back in Latin America. That\\'s why we restored diplomatic relations, opened the door to travel and commerce, positioned ourselves to improve the lives of the Cuban people. So if you want to consolidate our leadership and credibility in the hemisphere, recognize that the cold war is over. Lift the embargo.\\nThe point is, American leadership in the 21st century is not a choice between ignoring the rest of the world—except when we kill terrorists—or occupying and rebuilding whatever society is unraveling. Leadership means a wise application of military power and rallying the world behind causes that are right. It means seeing our foreign assistance as a part of our national security, not something separate, not charity.\\nWhen we lead nearly 200 nations to the most ambitious agreement in history to fight climate change, yes, that helps vulnerable countries, but it also protects our kids. When we help Ukraine defend its democracy or Colombia resolve a decades-long war, that strengthens the international order we depend on. When we help African countries feed their people and care for the sick, it\\'s the right thing to do, and it prevents the next pandemic from reaching our shores. Right now we\\'re on track to end the scourge of HIV/AIDS. That\\'s within our grasp. And we have the chance to accomplish the same thing with malaria, something I\\'ll be pushing this Congress to fund this year.\\nThat\\'s American strength. That\\'s American leadership. And that kind of leadership depends on the power of our example. That\\'s why I will keep working to shut down the prison at Guantanamo. It is expensive, it is unnecessary, and it only serves as a recruitment brochure for our enemies. There\\'s a better way.\\nAnd that\\'s why we need to reject any politics—any politics—that targets people because of race or religion. Let me just say this. This is not a matter of political correctness, this is a matter of understanding just what it is that makes us strong. The world respects us not just for our arsenal, it respects us for our diversity and our openness and the way we respect every faith.\\nHis Holiness Pope Francis told this body from the very spot that I\\'m standing on tonight that \"to imitate the hatred and violence of tyrants and murderers is the best way to take their place.\" When politicians insult Muslims, whether abroad or our fellow citizens, when a mosque is vandalized or a kid is called names, that doesn\\'t make us safer. That\\'s not telling it what—telling it like it is. It\\'s just wrong. It diminishes us in the eyes of the world. It makes it harder to achieve our goals. It betrays who we are as a country. \"We the People.\" Our Constitution begins with those three simple words, words we\\'ve come to recognize mean all the people, not just some; words that insist we rise and fall together, that that\\'s how we might perfect our Union. And that brings me to the fourth and maybe most important thing that I want to say tonight.\\nThe future we want—all of us want—opportunity and security for our families, a rising standard of living, a sustainable, peaceful planet for our kids—all that is within our reach. But it will only happen if we work together. It will only happen if we can have rational, constructive debates. It will only happen if we fix our politics.\\nA better politics doesn\\'t mean we have to agree on everything. This is a big country: different regions, different attitudes, different interests. That\\'s one of our strengths too. Our Founders distributed power between States and branches of government and expected us to argue, just as they did, fiercely, over the size and shape of government, over commerce and foreign relations, over the meaning of liberty and the imperatives of security.\\nBut democracy does require basic bonds of trust between its citizens. It doesn\\'t work if we think the people who disagree with us are all motivated by malice. It doesn\\'t work if we think that our political opponents are unpatriotic or trying to weaken America. Democracy grinds to a halt without a willingness to compromise or when even basic facts are contested or when we listen only to those who agree with us. Our public life withers when only the most extreme voices get all the attention. And most of all, democracy breaks down when the average person feels their voice doesn\\'t matter, that the system is rigged in favor of the rich or the powerful or some special interest.\\nToo many Americans feel that way right now. It\\'s one of the few regrets of my Presidency: that the rancor and suspicion between the parties has gotten worse instead of better. I have no doubt, a President with the gifts of Lincoln or Roosevelt might have better bridged the divide, and I guarantee, I\\'ll keep trying to be better so long as I hold this office.\\nBut, my fellow Americans, this cannot be my task—or any President\\'s—alone. There are a whole lot of folks in this Chamber, good people, who would like to see more cooperation, would like to see a more elevated debate in Washington, but feel trapped by the imperatives of getting elected, by the noise coming out of your base. I know; you\\'ve told me. It\\'s the worst kept secret in Washington. And a lot of you aren\\'t enjoying being trapped in that kind of rancor.\\nBut that means if we want a better politics—and I\\'m addressing the American people now—if we want a better politics, it\\'s not enough just to change a Congressman or change a Senator or even change a President. We have to change the system to reflect our better selves.\\nI think we\\'ve got to end the practice of drawing our congressional districts so that politicians can pick their voters and not the other way around. Let a bipartisan group do it.\\nI believe we\\'ve got to reduce the influence of money in our politics so that a handful of families or hidden interests can\\'t bankroll our elections. And if our existing approach to campaign finance reform can\\'t pass muster in the courts, we need to work together to find a real solution. Because it\\'s a problem. And most of you don\\'t like raising money. [Laughter] I know. I\\'ve done it.\\nWe\\'ve got to make it easier to vote, not harder. We need to modernize it for the way we live now. This is America: We want to make it easier for people to participate. And over the course of this year, I intend to travel the country to push for reforms that do just that. But I can\\'t do these things on my own. Changes in our political process—in not just who gets elected, but how they get elected—that will only happen when the American people demand it. It depends on you. That\\'s what\\'s meant by a government of, by, and for the people.\\nWhat I\\'m suggesting is hard. It\\'s a lot easier to be cynical; to accept that change is not possible and politics is hopeless and the problem is, all the folks who are elected don\\'t care; and to believe that our voices and our actions don\\'t matter. But if we give up now, then we forsake a better future. Those with money and power will gain greater control over the decisions that could send a young soldier to war or allow another economic disaster or roll back the equal rights and voting rights that generations of Americans have fought, even died, to secure. And then, as frustration grows, there will be voices urging us to fall back into our respective tribes, to scapegoat fellow citizens who don\\'t look like us or pray like us or vote like we do or share the same background.\\nWe can\\'t afford to go down that path. It won\\'t deliver the economy we want. It will not produce the security we want. But most of all, it contradicts everything that makes us the envy of the world.\\nSo, my fellow Americans, whatever you may believe, whether you prefer one party or no party, whether you supported my agenda or fought as hard as you could against it, our collective futures depends on your willingness to uphold your duties as a citizen. To vote. To speak out. To stand up for others, especially the weak, especially the vulnerable, knowing that each of us is only here because somebody, somewhere, stood up for us. We need every American to stay active in our public life—and not just during election time—so that our public life reflects the goodness and the decency that I see in the American people every single day.\\nIt is not easy. Our brand of democracy is hard. But I can promise that a little over a year from now, when I no longer hold this office, I will be right there with you as a citizen, inspired by those voices of fairness and vision, of grit and good humor and kindness, that have helped America travel so far. Voices that help us see ourselves not, first and foremost, as Black or White or Asian or Latino, not as gay or straight, immigrant or native born, not Democrat or Republican, but as Americans first, bound by a common creed. Voices Dr. King believed would have the final word: voices of \"unarmed truth and unconditional love.\"\\nAnd they\\'re out there, those voices. They don\\'t get a lot of attention; they don\\'t seek a lot of fanfare; but they\\'re busy doing the work this country needs doing. I see them everywhere I travel in this incredible country of ours. I see you, the American people. And in your daily acts of citizenship, I see our future unfolding.\\nI see it in the worker on the assembly line who clocked extra shifts to keep his company open and the boss who pays him higher wages instead of laying him off. I see it in the dreamer who stays up late at night to finish her science project and the teacher who comes in early, maybe with some extra supplies that she bought because she knows that that young girl might someday cure a disease.\\nI see it in the American who served his time, made bad mistakes as a child, but now is dreaming of starting over. And I see it in the business owner who gives him that second chance. The protester determined to prove that justice matters and the young cop walking the beat, treating everybody with respect, doing the brave, quiet work of keeping us safe.\\nI see it in the soldier who gives almost everything to save his brothers, the nurse who tends to him till he can run a marathon, the community that lines up to cheer him on. It\\'s the son who finds the courage to come out as who he is and the father whose love for that son overrides everything he\\'s been taught.\\nI see it in the elderly woman who will wait in line to cast her vote as long as she has to, the new citizen who casts his vote for the first time, the volunteers at the polls who believe every vote should count. Because each of them, in different ways, know how much that precious right is worth.\\nThat\\'s the America I know. That\\'s the country we love: clear eyed, big hearted, undaunted by challenge. Optimistic that unarmed truth and unconditional love will have the final word. That\\'s what makes me so hopeful about our future. I believe in change because I believe in you, the American people. And that\\'s why I stand here as confident as I have ever been that the state of our Union is strong.\\nThank you. God bless you. God bless the United States of America. Thank you.\\n \\nTo the Congress of the United States:\\nWith the opening of a new Congress and the beginning of a new Presidential term come fresh opportunities for achievement in America. To help us consider more adequately the very special challenges of this new year, I am presenting my 1973 State of the Union Message in\\' a number of sections.\\nTwo weeks ago I sent the first of those sections to the Congress--an overview reporting that \"the basic state of our Union today is sound, and full of promise.\"\\nToday I wish to report to the Congress on the state of our natural resources and environment. It is appropriate that this topic be first of our substantive policy discussions in the State of the Union presentation, since nowhere in our national affairs do we have more gratifying progress--nor more urgent, remaining problems.\\nThere was a time when Americans took our natural resources largely for granted. For example, President Lincoln observed in his State of the Union message for 1862 that \"A nation may be said to consist of its territory, its people, and its laws. The territory is the only part which is of certain durability.\"\\nIn recent years, however, we have come to realize that our \"territory\"--that is, our land, air, water, minerals, and the like--is not of \"certain durability\" after all. We have learned that these natural resources are fragile and finite, and that many have been seriously damaged or despoiled.\\nWhen we came to office in 1969, we tackled this problem with all the power at our command. Now there is encouraging evidence that the United States has moved away from the environmental crisis that could have been and toward a new era of restoration and renewal. Today, in 1973, I can report to the Congress that we are well on the way to winning the war against environmental degradation-well on the way to making our peace with nature.\\nYEARS OF PROGRESS\\nWhile I am disappointed that the 92nd Congress failed to act upon 19 of my key natural resources and environment proposals, I am pleased to have signed many of the proposals I supported into law during the past four years. They have included air quality legislation, strengthened water quality and pesticide control legislation, new authorities to control noise and ocean dumping, regulations to prevent oil and other spills in our ports and waterways, and legislation establishing major national recreation areas at America\\'s Atlantic and Pacific gateways, New York and San Francisco.\\nOn the organizational front, the National Environmental Policy Act of 1969 has reformed programs and decision-making processes in our Federal agencies and has given citizens a greater opportunity to contribute as decisions are made. In 1970 I appointed the first Council on Environmental Quality--a group which has provided active leadership in environmental policies. In the same year, I established the Environmental Protection Agency and the National Oceanic and Atmospheric Administration to provide more coordinated and vigorous environmental management. Our natural resource programs still need to be consolidated, however, and I will again submit legislation to the Congress to meet this need.\\nThe results of these efforts are tangible and measurable. Day by day, our air is getting cleaner; in virtually every one of our major cities the levels of air pollution are declining. Month by month, our water pollution problems are also being conquered, our noise and pesticide problems are coming under control, our parklands and protected wilderness areas are increasing.\\nYear by year, our commitment of public funds for environmental programs continues to grow; it has increased four-fold in the last four years. In the area of water quality alone, it has grown fifteen-fold. In fact, we are now buying new facilities nearly as fast as the construction industry can build them. Spending still more money would not buy us more pollution control facilities but only more expensive ones.\\nIn addition to what Government is doing in the battle against pollution, our private industries are assuming a steadily growing share of responsibility in this field. Last year industrial spending for pollution control jumped by 50 percent, and this year it could reach as much as $5 billion.\\nAll nations, regardless of their economic systems, share to some extent in the environmental problem--but with vigorous United States leadership, joint efforts to solve this global problem are showing results. The United Nations has adopted the American proposal for a special U.N. environmental fund to coordinate and support international environmental programs.\\nSome 92 nations have concluded an international convention to control the ocean dumping of wastes. An agreement is now being forged in the Intergovernmental Maritime Consultative Organization to end the intentional discharge of oil from ships into the ocean..This objective, first recommended by my Administration, was adopted by the NATO Committee on the Challenges of Modern Society.\\nRepresentatives of almost 70 countries are meeting in Washington this week at our initiative to draft a treaty to protect endangered species of plant and animal wildlife. The U.S.-USSR environmental cooperation agreement which I signed in Moscow last year makes two of the world\\'s greatest industrial powers allies against pollution. Another agreement which we concluded last year with Canada will help to clean up the Great Lakes.\\nDomestically, we can also be proud of the steady progress being made in improving the quality of life in rural and agricultural America. We are beginning to break away from the old rigid system of controls which eroded the farmer\\'s freedom through Government intrusion in the marketplace. The new flexibility permitted by the Agricultural Act of 1970 has enabled us to help expand farm markets and take advantage of the opportunity to increase exports by almost 60 percent in just three years. Net farm income is at an all-time high, up from $16.1 billion in 1971 to $19 billion in 1972.\\nPRINCIPLES TO GUIDE US\\nA record is not something to stand on; it is something to build on. And in this field of natural resources and the environment, we intend to build diligently and well.\\nAs we strive to transform our concern into action, our efforts will be guided by five basic principles:\\nThe first principle is that we must strike a balance so that the protection of our irreplaceable heritage becomes as important as its use. The price of economic growth need not and will not be deterioration in the quality of our lives and our surroundings.\\nSecond, because there are no local or State boundaries to the problems of our environment, the Federal Government must play an active, positive role. We can and will set standards and exercise leadership. We are providing necessary funding support. And we will provide encouragement and incentive for others to help with the job. But Washington must not displace State and local initiative, and we shall expect the State and local governments-along with the private sector--to play the central role in making the difficult, particular decisions which lie ahead.\\nThird, the costs of pollution should be more fully met in the free marketplace, not in the Federal budget. For example, the price of pollution control devices for automobiles should be borne by the owner and the user and not by the general taxpayer. The costs of eliminating pollution should be reflected in the ,costs of goods and services.\\nFourth, we must realize that each individual must take the responsibility for \\'looking after his own home and workplace. These daily surroundings are the environment where most Americans spend most of their time. They reflect people\\'s pride in themselves and their consideration for their communities. A person\\'s backyard is not the domain of the Federal Government.\\nFinally, we must remain confident that America\\'s technological and economic ingenuity will be equal to our environmental challenges. We will not look upon these challenges as insurmountable obstacles.\\nInstead, we shall convert the so-called crisis of the environment into an opportunity for unprecedented progress.\\nCONTROLLING POLLUTION\\nWe have made great progress in developing the laws and institutions to clean up pollution. We now have formidable new tools to protect against air, water and noise pollution and the special problem of pesticides. But to protect ourselves fully from harmful contaminants, we must still close several gaps in governmental authority.\\nI was keenly disappointed when the last Congress failed to take action on many of my legislative requests related to our natural resources and environment. In the coming weeks I shall once again send these urgently needed proposals to the Congress so that the unfinished environmental business of the 92nd Congress can become the environmental achievements of the 93rd.\\nAmong these 19 proposals are eight whose passage would give us much greater control over the sources of pollution:\\n--Toxic Substances. Many new chemicals can pose hazards to humans and the environment and are not well regulated. Authority is now needed to provide adequate testing standards for chemical substances and to restrict or prevent their distribution if testing confirms a hazard.\\n--Hazardous Wastes. Land disposal of hazardous wastes has always been widely practiced but is now becoming more prevalent because of strict air and water pollution control programs. The disposal of the extremely hazardous wastes which endanger the health of humans and other organisms is a problem requiring direct Federal regulation. For other hazardous wastes, Federal standards should be established with guidelines for State regulatory programs to carry them out.\\n--Safe Drinking Water. Federal action is also needed to stimulate greater State and local action to ensure high standards for our drinking water. We should establish national drinking water standards, with primary enforcement and monitoring powers retained by the State and local agencies, as well as a Federal requirement that suppliers notify their customers of the quality of their water.\\n-Sulfur Oxides Emissions Charge. We now have national standards to help curtail sulfur emitted into the atmosphere from combustion, refining, smelting and other processes, but sulfur oxides continue to be among our most harmful air pollutants. For that reason, I favor legislation which would allow the Federal Government to impose a special financial charge on those who produce sulfur oxide emissions. This legislation would also help to ensure that low-sulfur fuels are allocated to areas where they are most urgently needed to protect the public health.\\n--Sediment Control. Sediment from soil erosion and runoff continues to be a pervasive pollutant of our waters. Legislation is needed to ensure that the States make the control of sediment from new construction a vital part of their water quality programs.\\n--Controlling Environmental Impacts of Transportation. As we have learned in recent years, we urgently need a mass transportation system not only to relieve urban congestion but also to reduce the concentrations of pollution that are too often the result of our present methods of transportation. Thus I will continue to place high priority upon my request to permit use of the Highway Trust Fund for mass transit purposes and to help State and local governments achieve air quality, conserve energy, and meet other environmental objectives.\\n--United Nations Environmental Fund. Last year the United Nations adopted my proposal to establish a fund to coordinate and support international environmental programs. My 1974 budget includes a request for $10 million as our initial contribution toward the Fund\\'s five-year goal of $100 million, and I recommend authorizing legislation for this purpose.\\n--Ocean Dumping Convention. Along with 91 other nations, the United States recently concluded an international convention calling for regulation of ocean dumping. I am most anxious to obtain the advice and consent of the Senate for this convention as soon as possible. Congressional action is also needed on several other international conventions and amendments to control oil pollution from ships in the oceans.\\nMANAGING THE LAND\\nAS we steadily bring our pollution problems under control, more effective and sensible use of our land is rapidly emerging as among the highest of our priorities. The land is our Nation\\'s basic natural resource, and our stewardship of this resource today will affect generations to come.\\nAmerica\\'s land once seemed inexhaustible. There was always more of it beyond the horizon. Until the twentieth century we displayed a carelessness about our land, born of our youthful innocence and desire to expand. But our land is no longer an open frontier.\\nAmericans not only need, but also very much want to preserve diverse and beautiful landscapes, to maintain essential farm lands, to save wetlands and wildlife habitats, to keep open recreational space near crowded population centers, and to protect our shorelines and beaches. Our goal is to harmonize development with environmental quality and to add creatively to the beauty and long-term worth of land already being used.\\nLand use policy is a basic responsibility of State and local governments. They are closer to the problems and closer to the people. Some localities are already reforming land use regulation--a trend I hope will accelerate. But because land is a national heritage, the Federal Government must exercise leadership in land use decision processes, and I am today again proposing that we provide it. In the coming weeks, I will ask the Congress to enact a number of legislative initiatives which will help us achieve this goal:\\n--National Land Use Policy. Our greatest need is for comprehensive new legislation to stimulate State land use controls. We especially need a National Land Use Policy Act authorizing Federal assistance to encourage the States, in cooperation with local governments, to protect lands of critical environmental concern and to regulate the siting of key facilities such as airports, highways and major private developments. Appropriate Federal funds should be withheld from States that fail to act.\\n--Power plant Siting. An open, long-range planning process is needed to help meet our power needs while also protecting the environment. We can avoid unnecessary delays with a power plant siting law which assures that electric power facilities are constructed on a timely basis, but with early and thorough review of long-range plans and specific provisions to protect the environment.\\n--Protection of Wetlands. Our coastal wetlands are increasingly threatened by residential and commercial development. To increase their protection, I believe we should use the Federal tax laws to discourage unwise development in wetlands.\\n--Historic Preservation and Rehabilitation. An important part of our national heritage are those historic structures in our urban areas which should be rehabilitated and preserved, not demolished. To help meet this goal, our tax laws should be revised to encourage rehabilitation of older buildings, and we should provide Federal insurance of loans to restore historic buildings for residential purposes.\\n--Management of Public Lands. Approximately one-fifth of the Nation\\'s land is considered \"public domain\", and lacks the protection of an overall management policy with environmental safeguards. Legislation is required to enable the Secretary of the Interior to protect our environmental interest on those lands.\\n--Legacy of Parks. Under the Legacy of Parks program which I initiated in 1971, 257 separate parcels of parklands and underused Federal lands in all 50 States have been turned over to local control for park and recreational purposes. Most of these parcels are near congested urban areas, so that millions of citizens can now have easy access to parklands. I am pleased to announce today that 16 more parcels of Federal land will soon be made available under this same program 1\\n1A list of the 16 properties was issued by the White House on the same day. Included were lands in California, Colorado, Indiana, Kansas, Michigan, New York, Ohio, Rhode Island, Texas, and Washington.\\nWe must not be content, however, with just the Legacy of Parks program. New authority is needed to revise the formula for allocating grant funds to the States from the Land and Water Conservation Fund. More of these funds should be channelled to States with large urban populations.\\n--Mining on Public Lands. Under a statute now over a century old, public lands must be transferred to private ownership at the request of any person who discovers minerals on them. We thus have no effective control over mining on these properties. Because the public lands belong to all Americans, this 1872 Mining Act should be repealed and replaced with new legislation which I shall send to the Congress.\\n--Mined Area Protection. Surface and underground mining can too often cause serious air and water pollution as well as unnecessary destruction of wildlife habitats and aesthetic and recreational areas. New legislation with stringent performance standards is required to regulate abuses of surface and underground mining in a manner compatible with the environment.\\nAMERICAN AGRICULTURE A BASIC NATIONAL RESOURCE\\nNearly three-fifths of America\\'s land is in the stewardship of the farmer and the rancher. We can be grateful that farmers have been among our best conservationists over the years. Farmers know better than most that sound conservation means better long-term production and improved land values. More importantly, no one respects and understands our soil and land better than those who make their living by the land.\\nBut Americans know their farmers and ranchers best for all they have done to keep us the best-fed and best-clothed people in the history of mankind. A forward-looking agricultural economy is not only essential for environmental progress, but also to provide for our burgeoning food and fiber needs.\\nMy Administration is not going to express its goal for farmers in confusing terms. Our goal, instead, is very simple. The farmer wants, has earned, and deserves more freedom to make his own decisions. The Nation wants and needs expanded supplies of reasonably priced goods and commodities.\\nThese goals are complementary. Both have been advanced by the basic philosophy of the Agricultural Act of 1970. They must be further advanced by Congressional action this year.\\nThe Agricultural Act of 1970 expires with the 1973 crop. We now face the fundamental challenge of developing legislation appropriate to the economy of the 1970\\'S. Over the next several months, the future direction of the farm program must he discussed, debated and written into law. The outcome of this process will be crucial not only to farmers and ranchers, but to consumers and taxpayers as well.\\nMy Administration\\'s fundamental approach to farm policy is to build on the forward course set by the 1970 Act. These principles should guide us in enacting new farm legislation:\\n--Farmers must be provided with greater freedom to make production and marketing decisions. I have never known anyone in Washington who knows better than a farmer what is in his own best interest.\\n--Government influence in the farm commodity marketplace must be reduced. Old fashioned Federal intrusion is as inappropriate to today\\'s farm economy as the old McCormick reaper would be on a highly sophisticated modern farm.\\n--We must allow farmers the opportunity to produce for expanding domestic demands and to continue our vigorous competition in export markets. We will not accomplish that goal by telling the farmer how much he can grow or the rancher how much livestock he can raise. Fidelity to this principle will have the welcome effect of encouraging both fair food prices for consumers and growing income from the marketplace for farmers.\\n--We must reduce the farmer\\'s dependence on Government payments through increased returns from sales of farm products at home and abroad. Because some of our current methods of handling farm problems are outmoded, the farmer has been unfairly saddled with the unflattering image of drinking primarily at the Federal well. Let us remember that more than 93 percent of gross farm income comes directly through the marketplace. Farmers and ranchers are strong and independent businessmen; we should expand their opportunity to exercise their strength and independence.\\n--Finally, we need a program that will put the United States in a good posture for forthcoming trade negotiations.\\nIn pursuing all of these goals, we will work closely through the Secretary of Agriculture with the Senate Committee on Agriculture and Forestry and the House Committee on Agriculture to formulate and enact new legislation in areas where it is needed.\\nI believe, for example, that dairy support systems, wheat, feed grains and cotton allotments and bases--some established decades ago---are drastically outdated. They tend to be discriminatory for many farm operators.\\nIt would be desirable to establish, after a reasonable transition period, a more equitable basis for production adjustment in the agricultural economy should such adjustment be needed in the years ahead. Direct Federal payments should, at the end of the transition period, be limited to the amounts necessary to compensate farmers for withholding unneeded land from crop production.\\nAs new farm legislation is debated in the months ahead, I hope the Congress will address this important subject with a deep appreciation of the need to keep the Government off the farm as well as keeping the farmer on.\\nPROTECTING, OUR NATURAL HERITAGE\\nAn important measure of our true commitment to environmental quality is our dedication to protecting the wilderness and its inhabitants. We must recognize their ecological significance and preserve them as sources of inspiration and education. And we need them as places of quiet refuge and reflection.\\nImportant progress has been made in recent years, but still further action is needed in the Congress. Specifically, I will ask the 93rd Congress to direct its attention to the following areas of concern:\\n--Endangered Species. The limited scope of existing laws requires new authority to identify and protect endangered species before they are so depleted that it is too late. New legislation must also make the taking of an endangered animal a Federal offense.\\n--Predator Control. The widespread use of highly toxic poisons to kill coyotes and other predatory animals has spread persistent poisons to range and forest lands without adequate foresight of environmental effects. I believe Federal assistance is now required so that we can find better means of controlling predators without endangering other wildlife.\\n--Wilderness Areas. Historically, Americans have always looked westward to enjoy wilderness areas. Today we realize that we must also preserve the remaining areas of wilderness in the East, if the majority of our people are to have the full benefit of our natural glories. Therefore I will ask the Congress to amend the legislation that established the Wilderness Preservation System so that more of our Eastern lands can be included.\\n--Wild and Scenic Rivers. New legislation is also needed to continue our expansion of the national system of wild and scenic rivers. Funding authorization must be increased by $20 million to complete acquisitions in seven areas, and we must extend the moratorium on Federal licensing for water resource projects on those rivers being considered for inclusion in the system.\\n--Big Cypress National Fresh Water Preserve. It is our great hope that we can create a reserve of Florida\\'s Big Cypress Swamp in order to protect the outstanding wildlife in that area, preserve the water supply of Everglades National Park and provide the Nation with an outstanding recreation area. Prompt passage of Federal legislation would allow the Interior Department to forestall private or commercial development and inflationary pressures that will build if we delay.\\n--Protecting Marine Fisheries. Current regulation of fisheries off U.S. coasts is inadequate to conserve and manage these resources. Legislation is needed to authorize U.S. regulation of foreign fishing off U.S. coasts to the fullest extent authorized by international agreements. In addition, domestic fishing should be regulated in the U.S. fisheries zone and in the high seas beyond that zone.\\n--World Heritage Trust. The United States has endorsed an international convention for a World Heritage Trust embodying our proposals to accord special recognition and protection to areas of the world which are of such unique natural, historical, or cultural value that they are a part of the heritage of all mankind. I am hopeful that this convention will be ratified early in 1973.\\n--Weather Modification. Our capacity to affect the weather has grown considerably in sophistication and predictability, but with this advancement has also come a new potential for endangering lives and property and causing adverse environmental effects. With additional Federal regulations, I believe that we can minimize these dangers.\\nMEETING OUR ENERGY NEEDS\\nOne of the highest priorities of my Administration during the coming year will be a concern for energy supplies--a concern underscored this winter by occasional fuel shortages. We must face up to a stark fact in America: we are now consuming more energy than we produce.\\nA year and a half ago I sent to the Congress the first Presidential message ever devoted to the energy question. I shall soon submit a new and far more comprehensive energy message containing wide-ranging initiatives to ensure necessary supplies of energy at acceptable economic and environmental costs. In the meantime, to help meet immediate needs, I have temporarily suspended import quotas on home heating oil east of the Rocky Mountains.\\nAs we work to expand our supplies of energy, we should also recognize that we must balance those efforts with our concern to preserve our environment. In the past, as we have sought new energy sources, we have too often damaged or despoiled our land. Actions to avoid such damage will probably aggravate our energy problems to some extent and may lead to higher prices. But all development and use of energy sources carry environmental risks, and we must find ways to minimize those risks while also providing adequate supplies of energy. I am fully confident that we can satisfy both of these imperatives.\\nGOING FORWARD IN CONFIDENCE\\nThe environmental awakening of recent years has triggered substantial progress in the fight to preserve and renew the great legacies of nature. Unfortunately, it has also triggered a certain tendency to despair. Some people have moved from complacency to the opposite extreme of alarmism, suggesting that our pollution problems were hopeless and predicting impending ecological disaster. Some have suggested that we could never reconcile environmental protection with continued economic growth.\\nI reject this doomsday mentality--and I hope the Congress will also reject it. I believe that we can meet our environmental challenges without turning our back on progress. What we must do is to stop the hand-wringing, roll up our sleeves and get on with the job.\\nThe advocates of defeatism warn us of all that is wrong. But I believe they underestimate this Nation\\'s genius for responsive adaptability and its enormous reservoir of spirit.\\nI believe there is always a sensible middle ground between the Cassandras and the Pollyannas. We must take our stand upon that ground.\\nI have profound respect for the enormous challenge ahead, but I have even stronger respect for the capacity and character of the American people. Many of us have heard the adage that the last letters of the word, \"American,\" say \"I can.\" I am confident that we can, and we will, meet our natural resource challenges.\\nRICHARD NIXON\\nThe White House,\\nFebruary 15, 1973.\\n \\nThe President. Thank you very much. Thank you. Thank you very much.\\nMadam Speaker, Mr. Vice President, Members of Congress, the First Lady of the United States, and my fellow citizens: Three years ago, we launched the great American comeback. Tonight, I stand before you to share the incredible results. Jobs are booming, incomes are soaring, poverty is plummeting, crime is falling, confidence is surging, and our country is thriving and highly respected again. America\\'s enemies are on the run, America\\'s fortunes are on the rise, and America\\'s future is blazing bright.\\nThe years of economic decay are over. The days of our country being used, taken advantage of, and even scorned by other nations are long behind us. Gone too are the broken promises, jobless recoveries, tired platitudes, and constant excuses for the depletion of American wealth, power, and prestige.\\nIn just 3 short years, we have shattered the mentality of American decline, and we have rejected the downsizing of America\\'s destiny. We have totally rejected the downsizing. We are moving forward at a pace that was unimaginable just a short time ago, and we are never, ever going back.\\nI am thrilled to report to you tonight that our economy is the best it has ever been. Our military is completely rebuilt, with its power being unmatched anywhere in the world, and it\\'s not even close. Our borders are secure. Our families are flourishing. Our values are renewed. Our pride is restored. And for all of these reasons, I say to the people of our great country and to the Members of Congress: The state of our Union is stronger than ever before.\\nThe vision I will lay out this evening demonstrates how we are building the world\\'s most prosperous and inclusive society, one where every citizen can join in America\\'s unparalleled success and where every community can take part in America\\'s extraordinary rise.\\nFrom the instant I took office, I moved rapidly to revive the U.S. economy, slashing a record number of job-killing regulations, enacting historic and record-setting tax cuts, and fighting for fair and reciprocal trade agreements. Our agenda is relentlessly pro-worker, pro-family, pro-growth, and, most of all, pro-American. [Applause] Thank you. Thank you. We are advancing with unbridled optimism and lifting our citizens of every race, color, religion, and creed very, very high.\\nSince my election, we have created 7 million new jobs, 5 million more than Government experts projected during the previous administration. The unemployment rate is the lowest in over half a century. And very incredibly, the average unemployment rate under my administration is lower than any administration in the history of our country. [Applause] True. If we hadn\\'t reversed the failed economic policies of the previous administration, the world would not now be witnessing this great economic success.\\nThe unemployment rate for African Americans, Hispanic Americans, and Asian Americans has reached the lowest levels in history. African American youth unemployment has reached an alltime low. African American poverty has declined to the lowest rate ever recorded.\\nThe unemployment rate for women reached the lowest level in almost 70 years. And last year, women filled 72 percent of all new jobs added. The veterans unemployment rate dropped to a record low. The unemployment rate for disabled Americans has reached an alltime low. Workers without a high school diploma have achieved the lowest unemployment rate recorded in U.S. history. A record number of young Americans are now employed.\\nUnder the last administration, more than 10 million people were added to the food stamp rolls. Under my administration, 7 million Americans have come off food stamps, and 10 million people have been lifted off of welfare. In 8 years under the last administration, over 300,000 working-age people dropped out of the workforce. In just 3 years of my administration, 3.5 million people—working-age people—have joined the workforce.\\nSince my election, the net worth of the bottom half of wage earners has increased by 47 percent, three times faster than the increase for the top 1 percent. After decades of flat and falling incomes, wages are rising fast, and wonderfully, they are rising fastest for low-income workers, who have seen a 16-percent pay increase since my election. This is a blue-collar boom. Real median household income is now at the highest level ever recorded.\\nSince my election, U.S. stock markets have soared 70 percent, adding more than $12 trillion to our Nation\\'s wealth, transcending anything anyone believed was possible. This is a record. It is something that every country in the world is looking up to. They admire. Consumer confidence has just reached amazing new highs.\\nAll of those millions of people with 401(k)s and pensions are doing far better than they have ever done before with increases of 60, 70, 80, 90, and 100 percent and even more.\\nJobs and investments are pouring into 9,000 previously neglected neighborhoods thanks to Opportunity Zones, a plan spearheaded by Senator Tim Scott as part of our great Republican tax cuts. In other words, wealthy people and companies are pouring money into poor neighborhoods or areas that haven\\'t seen investment in many decades, creating jobs, energy, and excitement. This is the first time that these deserving communities have seen anything like this. It\\'s all working.\\nOpportunity Zones are helping Americans like Army veteran Tony Rankins from Cincinnati, Ohio. After struggling with drug addiction, Tony lost his job, his house, and his family. He was homeless. But then, Tony found a construction company that invests in Opportunity Zones. He is now a top tradesman, drug-free, reunited with his family, and he is here tonight. Tony, keep up the great work. Tony. Thank you, Tony.\\nOur roaring economy has, for the first time ever, given many former prisoners the ability to get a great job and a fresh start. This second chance at life is made possible because we passed landmark criminal justice reform into law. Everybody said that criminal justice reform couldn\\'t be done, but I got it done, and the people in this room got it done.\\nThanks to our bold regulatory reduction campaign, the United States has become the number one producer of oil and natural gas anywhere in the world, by far. With the tremendous progress we have made over the past 3 years, America is now energy independent, and energy jobs, like so many other elements of our country, are at a record high. We are doing numbers that no one would have thought possible just 3 years ago.\\nLikewise, we are restoring our Nation\\'s manufacturing might, even though predictions were, as you all know, that this could never, ever be done. After losing 60,000 factories under the previous two administrations, America has now gained 12,000 new factories under my administration, with thousands upon thousands of plants and factories being planned or being built. Companies are not leaving; they are coming back to the U.S.A. The fact is that everybody wants to be where the action is, and the United States of America is indeed the place where the action is. One of the biggest promises I made to the American people was to replace the disastrous NAFTA trade deal. In fact, unfair trade is perhaps the single biggest reason that I decided to run for President. Following NAFTA\\'s adoption, our Nation lost one in four manufacturing jobs. Many politicians came and went, pledging to change or replace NAFTA, only to do so, and then absolutely nothing happened. But unlike so many who came before me, I keep my promises: We did our job.\\nSix days ago, I replaced NAFTA and signed the brand-new U.S.-Mexico-Canada Agreement into law. The USMCA will create nearly 100,000 new high-paying American auto jobs and massively boost exports for our farmers, ranchers, and factory workers. It will also bring trade with Mexico and Canada to a much higher level, but also to be a much greater degree of fairness and reciprocity. We will have that: fairness and reciprocity. And I say that, finally, because it\\'s been many, many years that we were treated fairly on trade. This is the first major trade deal in many years to earn the strong backing of America\\'s labor unions.\\nI also promised our citizens that I would impose tariffs to confront China\\'s massive theft of America\\'s jobs. Our strategy has worked. Days ago, we signed the groundbreaking new agreement with China that will defend our workers, protect our intellectual property, bring billions and billions of dollars into our treasury, and open vast new markets for products made and grown right here in the U.S.A.\\nFor decades, China has taken advantage of the United States. Now we have changed that, but, at the same time, we have perhaps the best relationship we\\'ve ever had with China, including with President Xi. They respect what we\\'ve done, because, quite frankly, they could never really believe that they were able to get away with what they were doing year after year, decade after decade, without someone in our country stepping up and saying, \"That\\'s enough.\" Now we want to rebuild our country, and that\\'s exactly what we\\'re doing. We are rebuilding our country.\\nAs we restore American leadership throughout the world, we are once again standing up for freedom in our hemisphere. That\\'s why my administration reversed the failing policies of the previous administration on Cuba.\\nWe are supporting the hopes of Cubans, Nicaraguans, and Venezuelans to restore democracy. The United States is leading a 59-nation diplomatic coalition against the socialist dictator of Venezuela, Nicolás Maduro. Maduro is an illegitimate ruler, a tyrant who brutalizes his people. But Maduro\\'s grip on tyranny will be smashed and broken.\\nHere this evening is a very brave man who carries with him the hopes, dreams, and aspirations of all Venezuelans. Joining us in the Gallery is the true and legitimate President of Venezuela, Juan Guaidó. Mr. President, please take this message back to your homeland. Thank you, Mr. President. Great honor. Thank you very much.\\nPlease take this message back that all Americans are united with the Venezuelan people in their righteous struggle for freedom. Thank you very much, Mr. President. Thank you very much.\\nSocialism destroys nations. But always remember: Freedom unifies the soul.\\nTo safeguard American liberty, we have invested a record-breaking $2.2 trillion in the United States military. We have purchased the finest planes, missiles, rockets, ships, and every other form of military equipment, and it\\'s all made right here in the U.S.A.\\nWe are also getting our allies, finally, to help pay their fair share. I have raised contributions from the other NATO members by more than $400 billion, and the number of allies meeting their minimum obligations has more than doubled. And just weeks ago, for the first time since President Truman established the Air Force more than 70 years earlier, we created a brand-new branch of the United States Armed Forces. It\\'s called the Space Force. Very important.\\nIn the Gallery tonight, we have a young gentleman. And what he wants so badly—13 years old—Iain Lanphier. He\\'s an eighth grader from Arizona. Iain, please stand up. Iain has always dreamed of going to space. He was the first in his class and among the youngest at an aviation academy. He aspires to go to the Air Force Academy, and then he has his eye on the Space Force. As Iain says: \"Most people look up at space. I want to look down on the world.\" [Laughter]\\nBut sitting behind Iain tonight is his greatest hero of them all. Charles McGee was born in Cleveland, Ohio, one century ago. Charles is one of the last surviving Tuskegee Airmen—the first Black fighter pilots—and he also happens to be Iain\\'s great-grandfather. Incredible story.\\nAfter more than 130 combat missions in World War II, he came back home to a country still struggling for civil rights and went on to serve America in Korea and Vietnam. On December 7, Charles celebrated his 100th birthday. A few weeks ago, I signed a bill promoting Charles McGee to Brigadier General. And earlier today I pinned the stars on his shoulders in the Oval Office. General McGee, our Nation salutes you. Thank you, sir.\\nFrom the pilgrims to the Founders, from the soldiers at Valley Forge to the marchers at Selma, and from President Lincoln to the Reverend Martin Luther King, Americans have always rejected limits on our children\\'s future.\\nMembers of Congress, we must never forget that the only victories that matter in Washington are victories that deliver for the American people. The people are the heart of our country, their dreams are the soul of our country, and their love is what powers and sustains our country. We must always remember that our job is to put America first.\\nThe next step forward in building an inclusive society is making sure that every young American gets a great education and the opportunity to achieve the American Dream. Yet, for too long, countless American children have been trapped in failing government schools. To rescue these students, 18 States have created school choice in the form of Opportunity Scholarships. The programs are so popular that tens of thousands of students remain on a waiting list.\\nOne of those students is Janiyah Davis, a fourth grader from Philadelphia. Janiyah. Janiyah\\'s mom, Stephanie, is a single parent. She would do anything to give her daughter a better future. But last year, that future was put further out of reach when Pennsylvania\\'s Governor vetoed legislation to expand school choice to 50,000 children. Janiyah and Stephanie are in the Gallery. Stephanie, thank you so much for being here with your beautiful daughter. Thank you very much.\\nBut, Janiyah, I have some good news for you, because I am pleased to inform you that your long wait is over. I can proudly announce tonight that an \"opportunity scholarship\" has become available, it\\'s going to you, and you will soon be heading to the school of your choice.\\nNow I call on Congress to give 1 million American children the same opportunity Janiyah has just received. Pass the Education Freedom Scholarships and Opportunities Act, because no parent should be forced to send their child to a failing government school.\\nEvery young person should have a safe and secure environment in which to learn and to grow. For this reason, our magnificent First Lady has launched the \"Be Best\" initiative to advance a safe, healthy, supportive, and drug-free life for the next generation: online, in school, and in our communities. Thank you, Melania, for your extraordinary love and profound care for America\\'s children. Thank you very much. My administration is determined to give our citizens the opportunities they need regardless of age or background. Through our Pledge to American Workers, over 400 companies will also provide new jobs and education opportunities to almost 15 million Americans.\\nMy budget also contains an exciting vision for our Nation\\'s high schools. Tonight I ask Congress to support our students and back my plan to offer vocational and technical education in every single high school in America.\\nTo expand equal opportunity, I am also proud that we achieved record and permanent funding for our Nation\\'s Historically Black Colleges and Universities.\\nA good life for American families also requires the most affordable, innovative, and high-quality health care system on Earth. Before I took office, health insurance premiums had more than doubled in just 5 years. I moved quickly to provide affordable alternatives. Our new plans are up to 60-percent less expensive and better.\\nI\\'ve also made an ironclad pledge to American families: We will always protect patients with preexisting conditions. And we will always protect your Medicare, and we will always protect your Social Security. Always.\\nThe American patient should never be blindsided by medical bills. That is why I signed an Executive order requiring price transparency. Many experts believe that transparency, which will go into full effect at the beginning of next year, will be even bigger than health care reform. It will save families massive amounts of money for substantially better care.\\nBut as we work to improve Americans\\' health care, there are those who want to take away your health care, take away your doctor, and abolish private insurance entirely.\\nAudience members. Boo!\\nThe President. One hundred thirty-two lawmakers in this room have endorsed legislation to impose a socialist takeover of our health care system, wiping out the private health insurance plans of 180 million very happy Americans. To those watching at home tonight, I want you to know: We will never let socialism destroy American health care.\\nOver 130 legislators in this Chamber have endorsed legislation that would bankrupt our Nation by providing free taxpayer-funded health care to millions of illegal aliens, forcing taxpayers to subsidize free care for anyone in the world who unlawfully crosses our borders. These proposals would raid the Medicare benefits of our seniors, and that our seniors depend on, while acting as a powerful lure for illegal immigration. That is what is happening in California and other States. Their systems are totally out of control, costing taxpayers vast and unaffordable amounts of money.\\nIf forcing American taxpayers to provide unlimited free health care to illegal aliens sounds fair to you, then stand with the radical left. But if you believe that we should defend American patients and American seniors, then stand with me and pass legislation to prohibit free Government health care for illegal aliens.\\nThis will be a tremendous boon to our already very strongly guarded southern border where, as we speak, a long, tall, and very powerful wall is being built. We have now completed over 100 miles and have over 500 miles fully completed in a very short period of time. Early next year, we will have substantially more than 500 miles completed.\\nMy administration is also taking on the big pharmaceutical companies. We have approved a record number of affordable generic drugs, and medicines are being approved by the FDA at a faster clip than ever before. And I was pleased to announce last year that, for the first time in 51 years, the cost of prescription drugs actually went down. And working together, Congress can reduce drug prices substantially from current levels. I\\'ve been speaking to Senator Chuck Grassley of Iowa and others in Congress in order to get something on drug pricing done, and done quickly and properly. I\\'m calling for bipartisan legislation that achieves the goal of dramatically lowering prescription drug prices. Get a bill on my desk, and I will sign it into law immediately.\\nAudience members. H.R. 3! H.R. 3! H.R. 3!\\nThe President. With unyielding commitment, we are curbing the opioid epidemic. Drug overdose deaths declined for the first time in nearly 30 years. Among the States hardest hit, Ohio is down 22 percent, Pennsylvania is down 18 percent, Wisconsin is down 10 percent, and we will not quit until we have beaten the opioid epidemic once and for all.\\nProtecting Americans\\' health also means fighting infectious diseases. We are coordinating with the Chinese Government and working closely together on the coronavirus outbreak in China. My administration will take all necessary steps to safeguard our citizens from this threat.\\nWe have launched ambitious new initiatives to substantially improve care for Americans with kidney disease, Alzheimer\\'s, and those struggling with mental health. And because Congress was so good as to fund my request, new cures for childhood cancer, and we will eradicate the AIDS epidemic in America by the end of this decade.\\nAlmost every American family knows the pain when a loved one is diagnosed with a serious illness. Here tonight is a special man, beloved by millions of Americans who just received a stage-4 advanced cancer diagnosis. This is not good news, but what is good news is that he is the greatest fighter and winner that you will ever meet. Rush Limbaugh, thank you for your decades of tireless devotion to our country.\\nAnd, Rush, in recognition of all that you have done for our Nation, the millions of people a day that you speak to and that you inspire, and all of the incredible work that you have done for charity, I am proud to announce tonight that you will be receiving our country\\'s highest civilian honor, the Presidential Medal of Freedom.\\nI will now ask the First Lady of the United States to present you with the honor. Please.\\n[At this point, the First Lady presented the Presidential Medal of Freedom to radio show host Rush H. Limbaugh III, who was seated beside her in the House Gallery.]\\nAudience member. Thank you, Rush! [Applause]\\nThe President. Rush and Kathryn, congratulations. Thank you, Kathryn.\\nAs we pray for all who are sick, we know that America is constantly achieving new medical breakthroughs. In 2017, doctors at St. Luke\\'s Hospital in Kansas City delivered one of the earliest premature babies ever to survive. Born at just 21 weeks and 6 days, and weighing less than a pound, Ellie Schneider was a born fighter. Through the skill of her doctors and the prayers of her parents, little Ellie kept on winning the battle of life. Today, Ellie is a strong, healthy 2-year-old girl sitting with her amazing mother Robin in the Gallery. Ellie and Robin, we are glad to have you with us tonight.\\nEllie reminds us that every child is a miracle of life. And thanks to modern medical wonders, 50 percent of very premature babies delivered at the hospital where Ellie was born now survive. It\\'s an incredible thing. Thank you very much.\\nOur goal should be to ensure that every baby has the best chance to thrive and grow just like Ellie. That is why I\\'m asking Congress to provide an additional $50 million to fund neonatal research for America\\'s youngest patients. That is why I\\'m also calling upon Members of Congress here tonight to pass legislation finally banning the late-term abortion of babies. Whether we are Republican, Democrat, or Independent, surely we must all agree that every human life is a sacred gift from God.\\nAs we support America\\'s moms and dads, I was recently proud to sign the law providing new parents in the Federal workforce paid family leave, serving as a model for the rest of the country. Now I call on the Congress to pass the bipartisan Advancing Support for Working Families Act, extending family leave to mothers and fathers all across our Nation.\\nForty million American families have an average $2,200 extra thanks to our child tax credit. I\\'ve also overseen historic funding increases for high-quality childcare, enabling 17 States to help more children, many of which have reduced or eliminated their wait-lists altogether. And I sent Congress a plan with a vision to further expand access to high-quality childcare and urge you to act immediately.\\nTo protect the environment, days ago, I announced that the United States will join the 1 Trillion Trees initiative, an ambitious effort to bring together government and private sector to plant new trees in America and all around the world.\\nWe must also rebuild America\\'s infrastructure. I ask you to pass Senator John Barrasso\\'s highway bill to invest in new roads, bridges, and tunnels all across our land. I\\'m also committed to ensuring that every citizen can have access to high-speed internet, including and especially in rural America.\\nA better tomorrow for all Americans also requires us to keep America safe. That means supporting the men and women of law enforcement at every level, including our Nation\\'s heroic ICE officers. Last year, our brave ICE officers arrested more than 120,000 criminal aliens charged with nearly 10,000 burglaries, 5,000 sexual assaults, 45,000 violent assaults, and 2,000 murders.\\nTragically, there are many cities in America where radical politicians have chosen to provide sanctuary for these criminal illegal aliens.\\nAudience members. Boo!\\nThe President. In sanctuary cities, local officials order police to release dangerous criminal aliens to prey upon the public, instead of handing them over to ICE to be safely removed.\\nJust 29 days ago, a criminal alien freed by the sanctuary city of New York was charged with the brutal rape and murder of a 92-year-old woman. The killer had been previously arrested for assault, but under New York\\'s sanctuary policies, he was set free. If the city had honored ICE\\'s detainer request, his victim would still be alive today.\\nThe State of California passed an outrageous law declaring their whole State to be a sanctuary for criminal illegal immigrants—a very terrible sanctuary—with catastrophic results. Here is just one tragic example. In December 2018, California police detained an illegal alien with five prior arrests, including convictions for robbery and assault. But as required by California\\'s Sanctuary Law, local authorities released him.\\nDays later, the criminal alien went on a gruesome spree of deadly violence. He viciously shot one man going about his daily work. He approached a woman sitting in her car and shot her in the arm and in the chest. He walked into a convenience store and wildly fired his weapon. He hijacked a truck and smashed into vehicles, critically injuring innocent victims. One of the victims is—a terrible, terrible situation; died—51-year-old American named Rocky Jones.\\nRocky was at a gas station when this vile criminal fired eight bullets at him from close range, murdering him in cold blood. Rocky left behind a devoted family, including his brothers, who loved him more than anything else in the world. One of his grieving brothers is here with us tonight. Jody, would you please stand?\\nAudience member. Jody!\\nThe President. Jody, thank you. Jody our hearts weep for your loss, and we will not rest until you have justice. Senator Thom Tillis has introduced legislation to allow Americans like Jody to sue sanctuary cities and States when a loved one is hurt or killed as a result of these deadly practices.\\nI ask Congress to pass the Justice for Victims of Sanctuary Cities Act immediately. The United States of America should be a sanctuary for law-abiding Americans, not criminal aliens.\\nIn the last 3 years, ICE has arrested over 5,000 wicked human traffickers. And I have signed nine pieces of legislation to stamp out the menace of human trafficking, domestically and all around the globe. My administration has undertaken an unprecedented effort to secure the southern border of the United States.\\nBefore I came into office, if you showed up illegally on our southern border and were arrested, you were simply released and allowed into our country, never to be seen again. My administration has ended catch-and-release. If you come illegally, you will now be promptly removed from our country.\\nVery importantly, we entered into historic cooperation agreements with the governments of Mexico, Honduras, El Salvador, and Guatemala. As a result of our unprecedented efforts, illegal crossings are down 75 percent since May, dropping 8 straight months in a row. And as the wall rapidly goes up, drug seizures rise, and the border crossings are down, and going down very rapidly.\\nLast year, I traveled to the border in Texas and met Chief Patrol Agent Raul Ortiz. Over the last 24 months, Agent Ortiz and his team have seized more than 200,000 pounds of poisonous narcotics, arrested more than 3,000 human smugglers, and rescued more than 2,000 migrants. Days ago, Agent Ortiz was promoted to Deputy Chief of Border Patrol, and he joins us tonight. Chief Ortiz, please stand. A grateful nation thanks you and all of the heroes of Border Patrol and ICE. Thank you very much. Thank you.\\nTo build on these historic gains, we are working on legislation to replace our outdated and randomized immigration system with one based on merit, welcoming those who follow the rules, contribute to our economy, support themselves financially, and uphold our values.\\nWith every action, my administration is restoring the rule of law and reasserting the culture of American freedom. Working with Senate Majority Leader Mitch McConnell—thank you, Mitch—and his colleagues in the Senate, we have confirmed a record number of 187 new Federal judges to uphold our Constitution as written. This includes two brilliant new Supreme Court Justices, Neil Gorsuch and Brett Kavanaugh. Thank you. And we have many in the pipeline. [Laughter]\\nMy administration is also defending religious liberty, and that includes the constitutional right to pray in public schools. In America, we don\\'t punish prayer. We don\\'t tear down crosses. We don\\'t ban symbols of faith. We don\\'t muzzle preachers and pastors. In America, we celebrate faith, we cherish religion, we lift our voices in prayer, and we raise our sights to the glory of God.\\nJust as we believe in the First Amendment, we also believe in another constitutional right that is under siege all across our country. So long as I am President, I will always protect your Second Amendment right to keep and bear arms. In reaffirming our heritage as a free nation, we must remember that America has always been a frontier nation. Now we must embrace the next frontier, America\\'s manifest destiny in the stars. I am asking Congress to fully fund the Artemis program to ensure that the next man and the first woman on the Moon will be American astronauts, using this as a launching pad to ensure that America is the first nation to plant its flag on Mars.\\nMy administration is also strongly defending our national security and combating radical Islamic terrorism.\\nLast week, I announced a groundbreaking plan for peace between Israel and the Palestinians. Recognizing that all past attempts have failed, we must be determined and creative in order to stabilize the region and give millions of young people the chance to realize a better future.\\nThree years ago, the barbarians of ISIS held over 20,000 square miles of territory in Iraq and Syria. Today, the ISIS territorial caliphate has been 100 percent destroyed, and the founder and leader of ISIS—the bloodthirsty killer known as al-Baghdadi—is dead.\\nWe are joined this evening by Carl and Marsha Mueller. After graduating from college, their beautiful daughter Kayla became a humanitarian aid worker. She once wrote: \"Some people find God in church. Some people find God in nature. Some people find God in love. I find God in suffering. I\\'ve known for some time what my life\\'s work is, using my hands as tools to relieve suffering.\" In 2013, while caring for suffering civilians in Syria, Kayla was kidnapped, tortured, and enslaved by ISIS and kept as a prisoner of al-Baghdadi himself. After more than 500 horrifying days of captivity, al-Baghdadi murdered young, beautiful Kayla. She was just 26 years old.\\nOn the night that U.S. Special Forces Operations ended al-Baghdadi\\'s miserable life, the Chairman of the Joint Chiefs of Staff, General Mark Milley, received a call in the Situation Room. He was told that the brave men of the elite special forces team that so perfectly carried out the operation had given their mission a name: \"Task Force 8–14.\" It was a reference to a special day: August 14, Kayla\\'s birthday. Carl and Marsha, America\\'s warriors never forgot Kayla, and neither will we. Thank you.\\nEvery day, America\\'s men and women in uniform demonstrate the infinite depth of love that dwells in the human heart. One of these American heroes was Army Staff Sergeant Christopher Hake. On his second deployment to Iraq in 2008, Sergeant Hake wrote a letter to his 1-year-old son, Gage: \"I will be with you again,\" he wrote to Gage. \"I will teach you to ride your first bike, build your first sandbox, watch you play sports, and see you have kids also. I love you, son. Take care of your mother. I am always with you. Daddy.\"\\nOn Easter Sunday of 2008, Chris was out on patrol in Baghdad when his Bradley fighting vehicle was hit by a roadside bomb. That night, he made the ultimate sacrifice for our country. Sergeant Hake now rests in eternal glory in Arlington, and his wife Kelli is in the Gallery tonight, joined by their son, who is now a 13-year-old and doing very, very well. To Kelli and Gage: Chris will live in our hearts forever. He is looking down on you now. Thank you. Thank you very much. Thank you both very much.\\nThe terrorist responsible for killing Sergeant Hake was Qasem Soleimani, who provided the deadly roadside bomb that took Chris\\'s life. Soleimani was the Iranian regime\\'s most ruthless butcher, a monster who murdered or wounded thousands of American servicemembers in Iraq. As the world\\'s top terrorist, Soleimani orchestrated the deaths of countless men, women, and children. He directed the December assault and went on to assault U.S. forces in Iraq. Was actively planning new attacks when we hit him very hard. And that\\'s why, last month, at my direction, the U.S. military executed a flawless precision strike that killed Soleimani and terminated his evil reign of terror forever. Our message to the terrorists is clear: You will never escape American justice. If you attack our citizens, you forfeit your life.\\nIn recent months, we have seen proud Iranians raise their voices against their oppressive rulers. The Iranian regime must abandon its pursuit of nuclear weapons; stop spreading terror, death, and destruction; and start working for the good of its own people.\\nBecause of our powerful sanctions, the Iranian economy is doing very, very poorly. We can help them make a very good and short-time recovery. It can all go very quickly, but perhaps they are too proud or too foolish to ask for that help. We are here. Let\\'s see which road they choose. It is totally up to them.\\nAs we defend American lives, we are working to end America\\'s wars in the Middle East. In Afghanistan, the determination and valor of our warfighters has allowed us to make tremendous progress, and peace talks are now underway. I am not looking to kill hundreds of thousands of people in Afghanistan, many of them totally innocent. It is also not our function to serve other nations as law enforcement agencies. These are warfighters that we have—the best in the world—and they either want to fight to win or not fight at all. We are working to finally end America\\'s longest war and bring our troops back home.\\nWar places a heavy burden on our Nation\\'s extraordinary military families, especially spouses like Amy Williams from Fort Bragg, North Carolina, and her two children, 6-year-old Elliana and 3-year-old Rowan. Amy works full-time and volunteers countless hours helping other military families. For the past 7 months, she has done it all while her husband, Sergeant First Class Townsend Williams, is in Afghanistan on his fourth deployment in the Middle East. Amy\\'s kids haven\\'t seen their father\\'s face in many months. Amy, your family\\'s sacrifice makes it possible for all of our families to live in safety and in peace, and we want to thank you. Thank you, Amy.\\nBut, Amy, there is one more thing. Tonight we have a very special surprise. I am thrilled to inform you that your husband is back from deployment. He is here with us tonight, and we couldn\\'t keep him waiting any longer.\\nAudience members. U.S.A.! U.S.A.! U.S.A.!\\nThe President. Welcome home, Sergeant Williams. Thank you very much.\\nAs the world bears witness tonight, America is a land of heroes. This is a place where greatness is born, where destinies are forged, and where legends come to life. This is the home of Thomas Edison and Teddy Roosevelt, of many great generals including Washington, Pershing, Patton, and MacArthur. This is the home of Abraham Lincoln, Frederick Douglass, Amelia Earhart, Harriet Tubman, the Wright Brothers, Neil Armstrong, and so many more. This is the country where children learn names like Wyatt Earp, Davy Crockett, and Annie Oakley. This is the place where the pilgrims landed at Plymouth and where Texas patriots made their last stand at the Alamo—[applause]—the beautiful, beautiful Alamo.\\nThe American nation was carved out of the vast frontier by the toughest, strongest, fiercest, and most determined men and women ever to walk on the face of the Earth. Our ancestors braved the unknown; tamed the wilderness; settled the Wild West; lifted millions from poverty, disease, and hunger; vanquished tyranny and fascism; ushered the world to new heights of science and medicine; laid down the railroads, dug out the canals, raised up the skyscrapers. And, ladies and gentlemen, our ancestors built the most exceptional republic ever to exist in all of human history, and we are making it greater than ever before.\\nThis is our glorious and magnificent inheritance. We are Americans. We are pioneers. We are the pathfinders. We settled the New World, we built the modern world, and we changed history forever by embracing the eternal truth that everyone is made equal by the hand of Almighty God.\\nAmerica is the place where anything can happen. America is the place where anyone can rise. And here, on this land, on this soil, on this continent, the most incredible dreams come true.\\nThis Nation is our canvas, and this country is our masterpiece. We look at tomorrow and see unlimited frontiers just waiting to be explored. Our brightest discoveries are not yet known. Our most thrilling stories are not yet told. Our grandest journeys are not yet made. The American age, the American epic, the American adventure has only just begun.\\nOur spirit is still young, the Sun is still rising, God\\'s grace is still shining, and, my fellow Americans, the best is yet to come.\\nThank you, God bless you, and God bless America. Thank you very much.\\n \\n[ As delivered in person before a joint session ]\\nMr. Vice President, Mr. Speaker, Members of the 88th Congress:\\nI congratulate you all--not merely on your electoral victory but on your selected role in history. For you and I are privileged to serve the great Republic in what could be the most decisive decade in its long history. The choices we make, for good or ill, may well shape the state of the Union for generations yet to come.\\nLittle more than 100 weeks ago I assumed the office of President of the United States. In seeking the help of the Congress and our countrymen, I pledged no easy answers. I pledged--and asked--only toil and dedication. These the Congress and the people have given in good measure. And today, having witnessed in recent months a heightened respect for our national purpose and power--having seen the courageous calm of a united people in a perilous hour-and having observed a steady improvement in the opportunities and well-being of our citizens--I can report to you that the state of this old but youthful Union, in the 175th year of its life, is good.\\nIn the world beyond our borders, steady progress has been made in building a world of order. The people of West Berlin remain both free and secure. A settlement, though still precarious, has been reached in Laos. The spearpoint of aggression has been blunted in Viet-Nam. The end of agony may be in sight in the Congo. The doctrine of troika is dead. And, while danger continues, a deadly threat has been removed in Cuba.\\nAt home, the recession is behind us. Well over a million more men and women are working today than were working 2 years ago. The average factory workweek is once again more than 40 hours; our industries are turning out more goods than ever before; and more than half of the manufacturing capacity that lay silent and wasted 100 weeks ago is humming with activity.\\nIn short, both at home and abroad, there may now be a temptation to relax. For the road has been long, the burden heavy, and the pace consistently urgent.\\nBut we cannot be satisfied to rest here. This is the side of the hill, not the top. The mere absence of war is not peace. The mere absence of recession is not growth. We have made a beginning--but we have only begun.\\nNow the time has come to make the most of our gains--to translate the renewal of our national strength into the achievement of our national purpose.\\nII.\\nAmerica has enjoyed 22 months of uninterrupted economic recovery. But recovery is not enough. If we are to prevail in the long run, we must expand the long-run strength of our economy. We must move along the path to a higher rate of growth and full employment.\\nFor this would mean tens of billions of dollars more each year in production, profits, wages, and public revenues. It would mean an end to the persistent slack which has kept our unemployment at or above 5 percent for 61 out of the past 62 months--and an end to the growing pressures for such restrictive measures as the 35-hour week, which alone could increase hourly labor costs by as much as 14 percent, start a new wage-price spiral of inflation, and undercut our efforts to compete with other nations.\\nTo achieve these greater gains, one step, above all, is essential--the enactment this year of a substantial reduction and revision in Federal income taxes.\\nFor it is increasingly clear--to those in Government, business, and labor who are responsible for our economy\\'s success--that our obsolete tax system exerts too heavy a drag on private purchasing power, profits, and employment. Designed to check inflation in earlier years, it now checks growth instead. It discourages extra effort and risk. It distorts the use of resources. It invites recurrent recessions, depresses our Federal revenues, and causes chronic budget deficits.\\nNow, when the inflationary pressures of the war and the post-war years no longer threaten, and the dollar commands new respect-now, when no military crisis strains our resources--now is the time to act. We cannot afford to be timid or slow. For this is the most urgent task confronting the Congress in 1963.\\nIn an early message, I shall propose a permanent reduction in tax rates which will lower liabilities by $13.5 billion. Of this, $11 billion results from reducing individual tax rates, which now range between 20 and 91 percent, to a more sensible range of 14 to 65 percent, with a split in the present first bracket. Two and one-half billion dollars results from reducing corporate tax rates, from 52 percent--which gives the Government today a majority interest in profits-to the permanent pre-Korean level of 47 percent. This is in addition to the more than $2 billion cut in corporate tax liabilities resulting from last year\\'s investment credit and depreciation reform.\\nTo achieve this reduction within the limits of a manageable budgetary deficit, I urge: first, that these cuts be phased over 3 calendar years, beginning in 1963 with a cut of some $6 billion at annual rates; second, that these reductions be coupled with selected structural changes, beginning in 1964, which will broaden the tax base, end unfair or unnecessary preferences, remove or lighten certain hardships, and in the net offset some $3.5 billion of the revenue loss; and third, that budgetary receipts at the outset be increased by $1.5 billion a year, without any change in tax liabilities, by gradually shifting the tax payments of large corporations to a . more current time schedule. This combined program, by increasing the amount of our national income, will in time result in still higher Federal revenues. It is a fiscally responsible program--the surest and the soundest way of achieving in time a balanced budget in a balanced full employment economy.\\nThis net reduction in tax liabilities of $10 billion will increase the purchasing power of American families and business enterprises in every tax bracket, with greatest increase going to our low-income consumers. It will, in addition, encourage the initiative and risk-taking on which our free system depends--induce more investment, production, and capacity use--help provide the 2 million new jobs we need every year--and reinforce the American principle of additional reward for additional effort.\\nI do not say that a measure for tax reduction and reform is the only way to achieve these goals.\\n--No doubt a massive increase in Federal spending could also create jobs and growth-but, in today\\'s setting, private consumers, employers, and investors should be given a full opportunity first.\\n--No doubt a temporary tax cut could provide a spur to our economy--but a long run problem compels a long-run solution.\\n--No doubt a reduction in either individual or corporation taxes alone would be of great help--but corporations need customers and job seekers need jobs.\\n--No doubt tax reduction without reform would sound simpler and more attractive to many--but our growth is also hampered by a host of tax inequities and special preferences which have distorted the flow of investment.\\n--And, finally, there are no doubt some who would prefer to put off a tax cut in the hope that ultimately an end to the cold war would make possible an equivalent cut in expenditures-but that end is not in view and to wait for it would be costly and self-defeating.\\nIn submitting a tax program which will, of course, temporarily increase the deficit but can ultimately end it--and in recognition of the need to control expenditures--I will shortly submit a fiscal 1964 administrative budget which, while allowing for needed rises in defense, space, and fixed interest charges, holds total expenditures for all other purposes below this year\\'s level.\\nThis requires the reduction or postponement of many desirable programs, the absorption of a large part of last year\\'s Federal pay raise through personnel and other economies, the termination of certain installations and projects, and the substitution in several programs of private for public credit. But I am convinced that the enactment this year of tax reduction and tax reform overshadows all other domestic problems in this Congress. For we cannot for long lead the cause of peace and freedom, if we ever cease to set the pace here at home.\\nIII.\\nTax reduction alone, however, is not enough to strengthen our society, to provide opportunities for the four million Americans who are born every year, to improve the lives of 32 million Americans who live on the outskirts of poverty.\\nThe quality of American life must keep pace with the quantity of American goods.\\nThis country cannot afford to be materially rich and spiritually poor.\\nTherefore, by holding down the budgetary cost of existing programs to keep within the limitations I have set, it is both possible and imperative to adopt other new measures that we cannot afford to postpone.\\nThese measures are based on a series of fundamental premises, grouped under four related headings:\\nFirst, we need to strengthen our Nation by investing in our youth:\\n--The future of any country which is dependent upon the will and wisdom of its citizens is damaged, and irreparably damaged, whenever any of its children is not educated to the full extent of his talent, from grade school through graduate school. Today, an estimated 4 out of every 10 students in the 5th grade will not even finish high school--and that is a waste we cannot afford.\\n--In addition, there is no reason why one million young Americans, out of school and out of work, should all remain unwanted and often untrained on our city streets when their energies can be put to good use.\\n--Finally, the overseas success of our Peace Corps volunteers, most of them young men and women carrying skills and ideas to needy people, suggests the merit of a similar corps serving our own community needs: in mental hospitals, on Indian reservations, in centers for the aged or for young delinquents, in schools for the illiterate or the handicapped. As the idealism of our youth has served world peace, so can it serve the domestic tranquility.\\nSecond, we need to strengthen our Nation by safeguarding its health:\\n--Our working men and women, instead of being forced to beg for help from public charity once they are old and ill, should start contributing now to their own retirement health program through the Social Security System.\\n--Moreover, all our miracles of medical research will count for little if we cannot reverse the growing nationwide shortage of doctors, dentists, and nurses, and the widespread shortages of nursing homes and modern urban hospital facilities. Merely to keep the present ratio of doctors and dentists from declining any further, we must over the next 10 years increase the capacity of our medical schools by 50 percent and our dental schools by 100 percent.\\n--Finally, and of deep concern, I believe that the abandonment of the mentally ill and the mentally retarded to the grim mercy of custodial institutions too often inflicts on them and on their families a needless cruelty which this Nation should not endure. The incidence of mental retardation in this country is three times as high as that of Sweden, for example--and that figure can and must be reduced.\\nThird, we need to strengthen our Nation by protecting the basic rights of its citizens:\\n--The right to competent counsel must be assured to every man accused of crime in Federal court, regardless of his means.\\n--And the most precious and powerful right in the world, the right to vote in a free American election, must not be denied to any citizen on grounds of his race or color. I wish that all qualified Americans permitted to vote were willing to vote, but surely in this centennial year of Emancipation all those who are willing to vote should always be permitted.\\nFourth, we need to strengthen our Nation by making the best and the most economical use of its resources and facilities:\\n--Our economic health depends on healthy transportation arteries; and I believe the way to a more modern, economical choice of national transportation service is through increased competition and decreased regulation. Local mass transit, faring even worse, is as essential a community service as hospitals and highways. Nearly three-fourths of our citizens live in urban areas, which occupy only 2 percent of our land-and if local transit is to survive and relieve the congestion of these cities, it needs Federal stimulation and assistance.\\n--Next, this Government is in the storage and stockpile business to the melancholy tune of more than $ 16 billion. We must continue to support farm income, but we should not pile more farm surpluses on top of the $7.5 billion we already own. We must maintain a stockpile of strategic materials, but the $8.5 billion we have acquired--for reasons both good and bad--is much more than we need; and we should be empowered to dispose of the excess in ways which will not cause market disruption.\\n--Finally, our already overcrowded national parks and recreation areas will have twice as many visitors 10 years from now as they do today. If we do not plan today for the future growth of these and other great natural assets--not only parks and forests but wildlife and wilderness preserves, and water projects of all kinds--our children and their children will be poorer in every sense of the word.\\nThese are not domestic concerns alone. For upon our achievement of greater vitality and strength here at home hang our fate and future in the world: our ability to sustain and supply the security of free men and nations, our ability to command their respect for our leadership, our ability to expand our trade without threat to our balance of payments, and our ability to adjust to the changing demands of cold war competition and challenge.\\nWe shall be judged more by what we do at home than by what we preach abroad. Nothing we could do to help the developing countries would help them half as much as a booming U.S. economy. And nothing our opponents could do to encourage their own ambitions would encourage them half as much as a chronic lagging U.S. economy. These domestic tasks do not divert energy from our security--they provide the very foundation for freedom\\'s survival and success,\\nIV.\\nTurning to the world outside, it was only a few years ago--in Southeast Asia, Africa, Eastern Europe, Latin America, even outer space--that communism sought to convey the image of a unified, confident, and expanding empire, closing in on a sluggish America and a free world in disarray. But few people would hold to that picture today.\\nIn these past months we have reaffirmed the scientific and military superiority of freedom. We have doubled our efforts in space, to assure us of being first in the future. We have undertaken the most far-reaching defense improvements in the peacetime history of this country. And we have maintained the frontiers of freedom from Viet-Nam to West Berlin.\\nBut complacency or self-congratulation can imperil our security as much as the weapons of tyranny. A moment of pause is not a promise of peace. Dangerous problems remain from Cuba to the South China Sea. The world\\'s prognosis prescribes, in short, not a year\\'s vacation for us, but a year of obligation and opportunity.\\nFour special avenues of opportunity stand out: the Atlantic Alliance, the developing nations, the new Sino-Soviet difficulties, and the search for worldwide peace.\\nV.\\nFirst, how fares the grand alliance? Free Europe is entering into a new phase of its long and brilliant history. The era of colonial expansion has passed; the era of national rivalries is fading; and a new era of interdependence and unity is taking shape. Defying the old prophecies of Marx, consenting to what no conqueror could ever compel, the free nations of Europe are moving toward a unity of purpose and power and policy in every sphere of activity.\\nFor 17 years this movement has had our consistent support, both political and economic. Far from resenting the new Europe, we regard her as a welcome partner, not a rival. For the road to world peace and freedom is still long, and there are burdens which only full partners can share--in supporting the common defense, in expanding world trade, in aligning our balance of payments, in aiding the emergent nations, in concerting political and economic policies, and in welcoming to our common effort other industrialized nations, notably Japan, whose remarkable economic and political development of the 1950\\'s permits it now to play on the world scene a major constructive role.\\nNo doubt differences of opinion will continue to get more attention than agreements on action, as Europe moves from independence to more formal interdependence. But these are honest differences among honorable associates--more real and frequent, in fact, among our Western European allies than between them and the United States. For the unity of freedom has never relied on uniformity of opinion. But the basic agreement of this alliance on fundamental issues continues.\\nThe first task of the alliance remains the common defense. Last month Prime Minister Macmillan and I laid plans for a new stage in our long cooperative effort, one which aims to assist in the wider task of framing a common nuclear defense for the whole alliance.\\nThe Nassau agreement recognizes that the security of the West is indivisible, and so must be our defense. But it also recognizes that this is an alliance of proud and sovereign nations, and works best when we do not forget it. It recognizes further that the nuclear defense of the West is not a matter for the present nuclear powers alone--that France will be such a power in the future--and that ways must be found without increasing the hazards of nuclear diffusion, to increase the role of our other partners in planning, manning, and directing a truly multilateral nuclear force within an increasingly intimate NATO alliance. Finally, the Nassau agreement recognizes that nuclear defense is not enough, that the agreed NATO levels of conventional strength must be met, and that the alliance cannot afford to be in a position of having to answer every threat with nuclear weapons or nothing.\\nWe remain too near the Nassau decisions, and too far from their full realization, to know their place in history. But I believe that, for the first time, the door is open for the nuclear defense of the alliance to become a source of confidence, instead of a cause of contention.\\nThe next most pressing concern of the alliance is our common economic goals of trade and growth. This Nation continues to be concerned about its balance-of-payments deficit, which, despite its decline, remains a stubborn and troublesome problem. We believe, moreover, that closer economic ties among all free nations are essential to prosperity and peace. And neither we nor the members of the European Common Market are so affluent that we can long afford to shelter high cost farms or factories from the winds of foreign competition, or to restrict the channels of trade with other nations of the free world. If the Common Market should move toward protectionism and restrictionism, it would undermine its, own basic principles. This Government means to use the authority conferred on it last year by the Congress to encourage trade expansion on both sides of the Atlantic and around the world.\\nVI,\\nSecond, what of the developing and nonaligned nations? They were shocked by the Soviets\\' sudden and secret attempt to transform Cuba into a nuclear striking base-and by Communist China\\'s arrogant invasion of India. They have been reassured by our prompt assistance to India, by our support through the United Nations of the Congo\\'s unification, by our patient search for disarmament, and by the improvement in our treatment of citizens and visitors whose skins do not happen to be white. And as the older colonialism recedes, and the neocolonialism of the Communist powers stands out more starkly than ever, they realize more clearly that the issue in the world struggle is not communism versus capitalism, but coercion versus free choice.\\nThey are beginning to realize that the longing for independence is the same the world over, whether it is the independence of West Berlin or Viet-Nam. They are beginning to realize that such independence runs athwart all Communist ambitions but is in keeping with our own--and that our approach to their diverse needs is resilient and resourceful, while the Communists are still relying on ancient doctrines and dogmas.\\nNevertheless it is hard for any nation to focus on an external or subversive threat to its independence when its energies are drained in daily combat with the forces of poverty and despair. It makes little sense for us to assail, in speeches and resolutions, the horrors of communism, to spend $50 billion a year to prevent its military advance-and then to begrudge spending, largely on American products, less than one-tenth of that amount to help other nations strengthen their independence and cure the social chaos in which communism always has thrived.\\nI am proud--and I think most Americans are proud--of a mutual defense and assistance program, evolved with bipartisan support in three administrations, which has, with all its recognized problems, contributed to the fact that not a single one of the nearly fifty U.N. members to gain independence since the Second World War has succumbed to Communist control.\\nI am proud of a program that has helped to arm and feed and clothe millions of people who live on the front lines of freedom.\\nI am especially proud that this country has put forward for the 60\\'s a vast cooperative effort to achieve economic growth and social progress throughout the Americas-the Alliance for Progress.\\nI do not underestimate the difficulties that we face in this mutual effort among our close neighbors, but the free states of this hemisphere, working in close collaboration, have begun to make this alliance a living reality. Today it is feeding one out of every four school age children in Latin America an extra food ration from our farm surplus. It has distributed 1.5 million school books and is building 17,000 classrooms. It has helped resettle tens of thousands of farm families on land they can call their own. It is stimulating our good neighbors to more self-help and self-reform--fiscal, social, institutional, and land reforms. It is bringing new housing and hope, new health and dignity, to millions who were forgotten. The men and women of this hemisphere know that the alliance cannot Succeed if it is only another name for United States handouts--that it can succeed only as the Latin American nations themselves devote their best effort to fulfilling its goals.\\nThis story is the same in Africa, in the Middle East, and in Asia. Wherever nations are willing to help themselves, we stand ready to help them build new bulwarks of freedom. We are not purchasing votes for the cold war; we have gone to the aid of imperiled nations, neutrals and allies alike. What we do ask--and all that we ask--is that our help be used to best advantage, and that their own efforts not be diverted by needless quarrels with other independent nations.\\nDespite all its past achievements, the continued progress of the mutual assistance program requires a persistent discontent with present performance. We have been reorganizing this program to make it a more effective, efficient instrument--and that process will continue this year.\\nBut free world development will still be an uphill struggle. Government aid can only supplement the role of private investment, trade expansion, commodity stabilization, and, above all, internal self-improvement. The processes of growth are gradual--bearing fruit in a decade, not a day. Our successes will be neither quick nor dramatic. But if these programs were ever to be ended, our failures in a dozen countries would be sudden and certain.\\nNeither money nor technical assistance, however, can be our only weapon against poverty. In the end, the crucial effort is one of purpose, requiring the fuel of finance but also a torch of idealism. And nothing carries the spirit of this American idealism more effectively to the far corners of the earth than the American Peace Corps.\\nA year ago, less than 900 Peace Corps volunteers were on the job. A year from now they will number more than 9,000-men and women, aged 18 to 79, willing to give 2 years of their lives to helping people in other lands.\\nThere are, in fact, nearly a million Americans serving their country and the cause of freedom in overseas posts, a record no other people can match. Surely those of us who stay at home should be glad to help indirectly; by supporting our aid programs; .by opening our doors to foreign visitors and diplomats and students; and by proving, day by day, by deed as well as word, that we are a just and generous people.\\nVII.\\nThird, what comfort can we take from the increasing strains and tensions within the Communist bloc? Here hope must be tempered with caution. For the Soviet-Chinese disagreement is over means, not ends. A dispute over how best to bury the free world is no grounds for Western rejoicing.\\nNevertheless, while a strain is not a fracture, it is clear that the forces of diversity are at work inside the Communist camp, despite all the iron disciplines of regimentation and all the iron dogmatism\\'s of ideology. Marx is proven wrong once again: for it is the closed Communist societies, not the free and open societies which carry within themselves the seeds of internal disintegration.\\nThe disarray of the Communist empire has been heightened by two other formidable forces. One is the historical force of nationalism-and the yearning of all men to be free. The other is the gross inefficiency of their economies. For a closed society is not open to ideas of progress--and a police state finds that it cannot command the grain to grow.\\nNew nations asked to choose between two competing systems need only compare conditions in East and West Germany, Eastern and Western Europe, North and South Viet-Nam. They need only compare the disillusionment of Communist Cuba with the promise of the Alliance for Progress. And all the world knows that no successful system builds a wall to keep its people in and freedom out--and the wall of shame dividing Berlin is a symbol of Communist failure.\\nVIII.\\nFinally, what can we do to move from the present pause toward enduring peace? Again I would counsel caution. I foresee no spectacular reversal in Communist methods or goals. But if all these trends and developments can persuade the Soviet Union to walk the path of peace, then let her know that all free nations will journey with her. But until that choice is made, and until the world can develop a reliable system of international security, the free peoples have no choice but to keep their arms nearby.\\nThis country, therefore, continues to require the best defense in the world--a defense which is suited to the sixties. This means, unfortunately, a rising defense budget-for there is no substitute for adequate defense, and no \"bargain basement\" way of achieving it. It means the expenditure of more than $15 billion this year on nuclear weapons systems alone, a sum which is about equal to the combined defense budgets of our European Allies.\\nBut it also means improved air and missile defenses, improved civil defense, a strengthened anti-guerrilla capacity and, of prime importance, more powerful and flexible nonnuclear forces. For threats of massive retaliation may not deter piecemeal aggression-and a line of destroyers in a quarantine, or a division of well-equipped men on a border, may be more useful to our real security than the multiplication of awesome weapons beyond all rational need.\\nBut our commitment to national safety is not a commitment to expand our military establishment indefinitely. We do not dismiss disarmament as merely an idle dream. For we believe that, in the end, it is the only way to assure the security of all without impairing the interests of any. Nor do we mistake honorable negotiation for appeasement. While we shall never weary in the defense of freedom, neither shall we ever abandon the pursuit of peace.\\nIn this quest, the United Nations requires our full and continued support. Its value in serving the cause of peace has been shown anew in its role in the West New Guinea settlement, in its use as a forum for the Cuban crisis, and in its task of unification in the Congo. Today the United Nations is primarily the protector of the small and the weak, and a safety valve for the strong. Tomorrow it can form the framework for a world of law--a world in which no nation dictates the destiny of another, and in which the vast resources now devoted to destructive means will serve constructive ends.\\nIn short, let our adversaries choose. If they choose peaceful competition, they shall have it. If they come to realize that their ambitions cannot succeed--if they see their \"wars of liberation\" and subversion will ultimately fail--if they recognize that there is more security in accepting inspection than in permitting new nations to master the black arts of nuclear war--and if they are willing to turn their energies, as we are, to the great unfinished tasks of our own peoples--then, surely, the areas of agreement can be very wide indeed: a clear understanding about Berlin, stability in Southeast Asia, an end to nuclear testing, new checks on surprise or accidental attack, and, ultimately, general and complete disarmament.\\nIX.\\nFor we seek not the worldwide victory of one nation or system but a worldwide victory of man. The modern globe is too small, its weapons are too destructive, and its disorders are too contagious to permit any other kind of victory.\\nTo achieve this end, the United States will continue to spend a greater portion of its national production than any other people in the free world. For 15 years no other free nation has demanded so much of itself. Through hot wars and cold, through recession and prosperity, through the ages of the atom and outer space, the American people have never faltered and their faith has never flagged. If at times our actions seem to make life difficult for others, it is only because history has made life difficult for us all.\\nBut difficult days need not be dark. I think these are proud and memorable days in the cause of peace and freedom. We are proud, for example, of Major Rudolf Anderson who gave his life over the island of Cuba. We salute Specialist James Allen Johnson who died on the border of South Korea. We pay honor to Sergeant Gerald Pendell who was killed in Viet-Nam. They are among the many who in this century, far from home, have died for our country. Our task now, and the task of all Americans is to live up to their commitment.\\nMy friends: I close on a note of hope. We are not lulled by the momentary calm of the sea or the somewhat clearer skies above. We know the turbulence that lies below, and the storms that are beyond the horizon this year. But now the winds of change appear to be blowing more strongly than ever, in the world of communism as well as our own. For 175 years we have sailed with those winds at our back, and with the tides of human freedom in our favor. We steer our ship with hope, as Thomas Jefferson said, \"leaving Fear astern.\"\\nToday we still welcome those winds of change--and we have every reason to believe that our tide is running strong. With thanks to Almighty God for seeing us through a perilous passage, we ask His help anew in guiding the \"Good Ship Union.\"\\n'"
            ],
            "application/vnd.google.colaboratory.intrinsic+json": {
              "type": "string"
            }
          },
          "metadata": {},
          "execution_count": 31
        }
      ]
    },
    {
      "cell_type": "code",
      "source": [
        "MIN_COUNT = 40\n",
        "freq_analysis_phrase2 = extract_key_phrases2(join_text_dict, MIN_COUNT)\n",
        "freq_analysis_phrase2"
      ],
      "metadata": {
        "id": "YPYu6OcpniSM",
        "outputId": "a2491c04-1a79-4e35-b4ea-e1e02ab0ad57",
        "colab": {
          "base_uri": "https://localhost:8080/",
          "height": 128
        }
      },
      "id": "YPYu6OcpniSM",
      "execution_count": 29,
      "outputs": [
        {
          "output_type": "execute_result",
          "data": {
            "text/plain": [
              "Empty DataFrame\n",
              "Columns: [Harry S. Truman, Dwight D. Eisenhower, John F. Kennedy, Lyndon B. Johnson, Richard Nixon, Gerald R. Ford, Jimmy Carter, Ronald Reagan, George Bush, William J. Clinton, George W. Bush, Barack Obama, Donald J. Trump, Joseph R. Biden]\n",
              "Index: []"
            ],
            "text/html": [
              "\n",
              "  <div id=\"df-2063c4ff-b62b-4827-b7f9-843738c8e8b0\">\n",
              "    <div class=\"colab-df-container\">\n",
              "      <div>\n",
              "<style scoped>\n",
              "    .dataframe tbody tr th:only-of-type {\n",
              "        vertical-align: middle;\n",
              "    }\n",
              "\n",
              "    .dataframe tbody tr th {\n",
              "        vertical-align: top;\n",
              "    }\n",
              "\n",
              "    .dataframe thead th {\n",
              "        text-align: right;\n",
              "    }\n",
              "</style>\n",
              "<table border=\"1\" class=\"dataframe\">\n",
              "  <thead>\n",
              "    <tr style=\"text-align: right;\">\n",
              "      <th></th>\n",
              "      <th>Harry S. Truman</th>\n",
              "      <th>Dwight D. Eisenhower</th>\n",
              "      <th>John F. Kennedy</th>\n",
              "      <th>Lyndon B. Johnson</th>\n",
              "      <th>Richard Nixon</th>\n",
              "      <th>Gerald R. Ford</th>\n",
              "      <th>Jimmy Carter</th>\n",
              "      <th>Ronald Reagan</th>\n",
              "      <th>George Bush</th>\n",
              "      <th>William J. Clinton</th>\n",
              "      <th>George W. Bush</th>\n",
              "      <th>Barack Obama</th>\n",
              "      <th>Donald J. Trump</th>\n",
              "      <th>Joseph R. Biden</th>\n",
              "    </tr>\n",
              "  </thead>\n",
              "  <tbody>\n",
              "  </tbody>\n",
              "</table>\n",
              "</div>\n",
              "      <button class=\"colab-df-convert\" onclick=\"convertToInteractive('df-2063c4ff-b62b-4827-b7f9-843738c8e8b0')\"\n",
              "              title=\"Convert this dataframe to an interactive table.\"\n",
              "              style=\"display:none;\">\n",
              "        \n",
              "  <svg xmlns=\"http://www.w3.org/2000/svg\" height=\"24px\"viewBox=\"0 0 24 24\"\n",
              "       width=\"24px\">\n",
              "    <path d=\"M0 0h24v24H0V0z\" fill=\"none\"/>\n",
              "    <path d=\"M18.56 5.44l.94 2.06.94-2.06 2.06-.94-2.06-.94-.94-2.06-.94 2.06-2.06.94zm-11 1L8.5 8.5l.94-2.06 2.06-.94-2.06-.94L8.5 2.5l-.94 2.06-2.06.94zm10 10l.94 2.06.94-2.06 2.06-.94-2.06-.94-.94-2.06-.94 2.06-2.06.94z\"/><path d=\"M17.41 7.96l-1.37-1.37c-.4-.4-.92-.59-1.43-.59-.52 0-1.04.2-1.43.59L10.3 9.45l-7.72 7.72c-.78.78-.78 2.05 0 2.83L4 21.41c.39.39.9.59 1.41.59.51 0 1.02-.2 1.41-.59l7.78-7.78 2.81-2.81c.8-.78.8-2.07 0-2.86zM5.41 20L4 18.59l7.72-7.72 1.47 1.35L5.41 20z\"/>\n",
              "  </svg>\n",
              "      </button>\n",
              "      \n",
              "  <style>\n",
              "    .colab-df-container {\n",
              "      display:flex;\n",
              "      flex-wrap:wrap;\n",
              "      gap: 12px;\n",
              "    }\n",
              "\n",
              "    .colab-df-convert {\n",
              "      background-color: #E8F0FE;\n",
              "      border: none;\n",
              "      border-radius: 50%;\n",
              "      cursor: pointer;\n",
              "      display: none;\n",
              "      fill: #1967D2;\n",
              "      height: 32px;\n",
              "      padding: 0 0 0 0;\n",
              "      width: 32px;\n",
              "    }\n",
              "\n",
              "    .colab-df-convert:hover {\n",
              "      background-color: #E2EBFA;\n",
              "      box-shadow: 0px 1px 2px rgba(60, 64, 67, 0.3), 0px 1px 3px 1px rgba(60, 64, 67, 0.15);\n",
              "      fill: #174EA6;\n",
              "    }\n",
              "\n",
              "    [theme=dark] .colab-df-convert {\n",
              "      background-color: #3B4455;\n",
              "      fill: #D2E3FC;\n",
              "    }\n",
              "\n",
              "    [theme=dark] .colab-df-convert:hover {\n",
              "      background-color: #434B5C;\n",
              "      box-shadow: 0px 1px 3px 1px rgba(0, 0, 0, 0.15);\n",
              "      filter: drop-shadow(0px 1px 2px rgba(0, 0, 0, 0.3));\n",
              "      fill: #FFFFFF;\n",
              "    }\n",
              "  </style>\n",
              "\n",
              "      <script>\n",
              "        const buttonEl =\n",
              "          document.querySelector('#df-2063c4ff-b62b-4827-b7f9-843738c8e8b0 button.colab-df-convert');\n",
              "        buttonEl.style.display =\n",
              "          google.colab.kernel.accessAllowed ? 'block' : 'none';\n",
              "\n",
              "        async function convertToInteractive(key) {\n",
              "          const element = document.querySelector('#df-2063c4ff-b62b-4827-b7f9-843738c8e8b0');\n",
              "          const dataTable =\n",
              "            await google.colab.kernel.invokeFunction('convertToInteractive',\n",
              "                                                     [key], {});\n",
              "          if (!dataTable) return;\n",
              "\n",
              "          const docLinkHtml = 'Like what you see? Visit the ' +\n",
              "            '<a target=\"_blank\" href=https://colab.research.google.com/notebooks/data_table.ipynb>data table notebook</a>'\n",
              "            + ' to learn more about interactive tables.';\n",
              "          element.innerHTML = '';\n",
              "          dataTable['output_type'] = 'display_data';\n",
              "          await google.colab.output.renderOutput(dataTable, element);\n",
              "          const docLink = document.createElement('div');\n",
              "          docLink.innerHTML = docLinkHtml;\n",
              "          element.appendChild(docLink);\n",
              "        }\n",
              "      </script>\n",
              "    </div>\n",
              "  </div>\n",
              "  "
            ]
          },
          "metadata": {},
          "execution_count": 29
        }
      ]
    },
    {
      "cell_type": "code",
      "source": [
        ""
      ],
      "metadata": {
        "id": "GhaYIPjVlYyA"
      },
      "id": "GhaYIPjVlYyA",
      "execution_count": null,
      "outputs": []
    },
    {
      "cell_type": "code",
      "source": [
        ""
      ],
      "metadata": {
        "id": "2ugg60kCmBoA"
      },
      "id": "2ugg60kCmBoA",
      "execution_count": null,
      "outputs": []
    },
    {
      "cell_type": "markdown",
      "source": [
        "### Statistical information"
      ],
      "metadata": {
        "id": "2AT0m8wglKov"
      },
      "id": "2AT0m8wglKov"
    },
    {
      "cell_type": "code",
      "source": [
        "def Statistical_info(text_tokens):\n",
        "  print (f\"Number of words : {len(text_tokens)}\")\n",
        "  print (f\"Number of unique  words : {len(set(text_tokens))}\")\n",
        "  word_len_avg = sum(map(len, text_tokens))/float(len(text_tokens))\n",
        "  print (f\"Average word length : {word_len_avg}\")\n",
        "  sent_len_avg = np.mean([len(' '.join(s)) for s in text_tokens])\n",
        "  max_w = max(text_tokens, key=len)\n",
        "  min_w = min(text_tokens, key=len)\n",
        "  print (f\"Longest word : {max_w}\")\n",
        "  print (f\"Shortest word : {min_w}\")"
      ],
      "metadata": {
        "id": "yc3HdXpuTy6-"
      },
      "id": "yc3HdXpuTy6-",
      "execution_count": null,
      "outputs": []
    },
    {
      "cell_type": "markdown",
      "source": [
        "### Word cloud of corpuse"
      ],
      "metadata": {
        "id": "Uu5cUNTUlVTc"
      },
      "id": "Uu5cUNTUlVTc"
    },
    {
      "cell_type": "code",
      "source": [
        "wordcloud = WordCloud(width = 800, height = 800,\n",
        "                background_color ='white',\n",
        "                min_font_size = 10).generate(clean_corpuse)\n",
        " \n",
        "# plot the WordCloud image                      \n",
        "plt.figure(figsize = (8, 8), facecolor = None)\n",
        "plt.imshow(wordcloud)\n",
        "plt.axis(\"off\")\n",
        "plt.tight_layout(pad = 0)\n",
        " \n",
        "plt.show()"
      ],
      "metadata": {
        "id": "NGELSfswUBsz"
      },
      "id": "NGELSfswUBsz",
      "execution_count": null,
      "outputs": []
    },
    {
      "cell_type": "markdown",
      "source": [
        "### Statistical information of corpuse"
      ],
      "metadata": {
        "id": "HaKu78zAlpOg"
      },
      "id": "HaKu78zAlpOg"
    },
    {
      "cell_type": "code",
      "source": [
        "  print('*' *50)\n",
        "  print('Statical information of corpus')\n",
        "  print('*' *50)\n",
        "  Statistical_info(corpuse_tokens)"
      ],
      "metadata": {
        "id": "-4FepXeFPJhd"
      },
      "id": "-4FepXeFPJhd",
      "execution_count": null,
      "outputs": []
    },
    {
      "cell_type": "markdown",
      "source": [
        "### create new dictionary with clean text and tokenized text"
      ],
      "metadata": {
        "id": "ssmISMcZU6Cu"
      },
      "id": "ssmISMcZU6Cu"
    },
    {
      "cell_type": "code",
      "source": [
        "cleaned_text_dict = {}\n",
        "tokenized_text_dict = {}\n",
        "for president, text_list in tqdm.tqdm_notebook(president_text_dict.items()):\n",
        "  president_texts = (' '.join(text_list))\n",
        "  clean_text = normalize_and_cleaning(president_texts)\n",
        "  cleaned_text_dict[president] = clean_text\n",
        "  president_tokens = tokenize_text(clean_text)\n",
        "  tokenized_text_dict[president] = president_tokens"
      ],
      "metadata": {
        "id": "QZXOqWssTig4"
      },
      "id": "QZXOqWssTig4",
      "execution_count": null,
      "outputs": []
    },
    {
      "cell_type": "markdown",
      "source": [
        "###Statistical information for each president"
      ],
      "metadata": {
        "id": "tKwl8HVXVOnB"
      },
      "id": "tKwl8HVXVOnB"
    },
    {
      "cell_type": "code",
      "source": [
        "for president, tokens_list in tokenized_text_dict.items():\n",
        "  print('*' *50)\n",
        "  print(president)\n",
        "  print('*' *50)\n",
        "  Statistical_info(tokens_list)\n"
      ],
      "metadata": {
        "id": "20skmL3Pw244"
      },
      "id": "20skmL3Pw244",
      "execution_count": null,
      "outputs": []
    },
    {
      "cell_type": "markdown",
      "source": [
        "## Extract Posetive, Negative and Neutral words"
      ],
      "metadata": {
        "id": "4uSLU1yJAYLE"
      },
      "id": "4uSLU1yJAYLE"
    },
    {
      "cell_type": "code",
      "source": [
        "def extract_pos_neg(textTokens):\n",
        "  sid = SentimentIntensityAnalyzer()\n",
        "  pos_word_list=[]\n",
        "  neu_word_list=[]\n",
        "  neg_word_list=[]\n",
        "\n",
        "  for word in textTokens:\n",
        "      if (sid.polarity_scores(word)['compound']) >= 0.5:\n",
        "          pos_word_list.append(word)\n",
        "      elif (sid.polarity_scores(word)['compound']) <= -0.5:\n",
        "          neg_word_list.append(word)\n",
        "      else:\n",
        "          neu_word_list.append(word)                \n",
        "\n",
        "  print('Positive :',list(set(pos_word_list)))        \n",
        "  print('Neutral :',list(set(neu_word_list)))    \n",
        "  print('Negative :',list(set(neg_word_list))) "
      ],
      "metadata": {
        "id": "_Ava6fmjAXiH"
      },
      "id": "_Ava6fmjAXiH",
      "execution_count": null,
      "outputs": []
    },
    {
      "cell_type": "code",
      "source": [
        "for president, tokens_list in tokenized_text_dict.items():\n",
        "  print('*' *250)\n",
        "  print(president)\n",
        "  print('*' *250)\n",
        "  extract_pos_neg(president_tokens)"
      ],
      "metadata": {
        "id": "H5JEOUKo-9TF"
      },
      "id": "H5JEOUKo-9TF",
      "execution_count": null,
      "outputs": []
    },
    {
      "cell_type": "code",
      "source": [
        "from sklearn.feature_extraction.text import TfidfVectorizer\n",
        "all_p_text =[]\n",
        "for president, text_list in tqdm.tqdm_notebook(president_text_dict.items()):\n",
        "  president_texts = (' '.join(text_list))\n",
        "  clean_text = normalize_and_cleaning(president_texts)\n",
        "  all_p_text.append(clean_text)\n",
        "\n"
      ],
      "metadata": {
        "id": "GktujBdtyU60"
      },
      "id": "GktujBdtyU60",
      "execution_count": null,
      "outputs": []
    },
    {
      "cell_type": "markdown",
      "source": [
        "### Clustering"
      ],
      "metadata": {
        "id": "9Q_hGtrhyVqs"
      },
      "id": "9Q_hGtrhyVqs"
    },
    {
      "cell_type": "code",
      "source": [
        "vectorizer = TfidfVectorizer(tokenizer=tokenize_text)\n",
        "X = vectorizer.fit_transform(all_p_text)\n",
        "vectorizer.get_feature_names_out()\n",
        "print(X.shape)\n",
        "#X = vect.fit_transform(docs) \n",
        "count_vect_df = pd.DataFrame(X.todense(), columns=vectorizer.get_feature_names())\n",
        "count_vect_df\n",
        "#X_df = pd.DataFrame(X)\n"
      ],
      "metadata": {
        "id": "GdYHphS-ij1H"
      },
      "id": "GdYHphS-ij1H",
      "execution_count": null,
      "outputs": []
    },
    {
      "cell_type": "code",
      "source": [
        "\n"
      ],
      "metadata": {
        "id": "0fo23FrGb1HA"
      },
      "id": "0fo23FrGb1HA",
      "execution_count": null,
      "outputs": []
    },
    {
      "cell_type": "code",
      "source": [
        "from sklearn.cluster import KMeans\n",
        "kmeans = KMeans(n_clusters=3, init='random', n_init=100, algorithm='full')\n",
        "y = kmeans.fit_predict(X)\n",
        "p_names = list(president_text_dict.keys())\n",
        "vect_df = pd.DataFrame(p_names, columns = ['President'])\n",
        "vect_df['Label'] = y"
      ],
      "metadata": {
        "id": "OinznuPJPtOZ"
      },
      "id": "OinznuPJPtOZ",
      "execution_count": null,
      "outputs": []
    },
    {
      "cell_type": "code",
      "source": [
        "vect_df"
      ],
      "metadata": {
        "id": "D0e44vxcXz85"
      },
      "id": "D0e44vxcXz85",
      "execution_count": null,
      "outputs": []
    },
    {
      "cell_type": "code",
      "source": [
        "final_df = pd.concat([vect_df, count_vect_df], axis=1)\n",
        "f = final_df.iloc[0:12,:]\n",
        "f"
      ],
      "metadata": {
        "id": "nix3nmzWnaQo"
      },
      "id": "nix3nmzWnaQo",
      "execution_count": null,
      "outputs": []
    },
    {
      "cell_type": "code",
      "source": [
        "num_clusters = 3\n",
        "num_seeds = 3\n",
        "max_iterations = 300\n",
        "labels_color_map = {\n",
        "    0: '#20b2aa', 1: '#ff7373', 2: '#ffe4e1'\n",
        "}\n",
        "pca_num_components = 2\n",
        "tsne_num_components = 2\n",
        "\n",
        "X1 = X.todense()\n",
        "reduced_data = PCA(n_components=pca_num_components).fit_transform(X1)\n",
        "# print reduced_data\n",
        "dense_df = pd.DataFrame(reduced_data, columns=['X','Y'])\n",
        "dense_df\n"
      ],
      "metadata": {
        "id": "4r5pOPOGn2G3"
      },
      "id": "4r5pOPOGn2G3",
      "execution_count": null,
      "outputs": []
    },
    {
      "cell_type": "code",
      "source": [
        "dense_df"
      ],
      "metadata": {
        "id": "JCkddVzwwb5U"
      },
      "id": "JCkddVzwwb5U",
      "execution_count": null,
      "outputs": []
    },
    {
      "cell_type": "code",
      "source": [
        "final_dense_df = pd.concat([vect_df, dense_df], axis=1)\n",
        "final_dense_df"
      ],
      "metadata": {
        "id": "gd_DLsgOw0MO"
      },
      "id": "gd_DLsgOw0MO",
      "execution_count": null,
      "outputs": []
    },
    {
      "cell_type": "code",
      "source": [
        "groups = final_dense_df.groupby('Label')\n",
        "cluster_names_0 = {0: 'Cluster 0', 1: 'Cluster 1', 2: 'Cluster 2'}\n",
        "# set up plot\n",
        "fig, ax = plt.subplots(figsize=(17, 9)) # set size\n",
        "ax.margins(0.05) # Optional, just adds 5% padding to the autoscaling\n",
        "\n",
        "#iterate through groups to layer the plot\n",
        "for name, group in groups:\n",
        "    ax.plot(group.X, group.Y, marker='o', linestyle='', ms=12, \n",
        "            label=cluster_names_0[name], \n",
        "            mec='none')\n",
        "    ax.set_aspect('auto')\n",
        "    ax.tick_params(\\\n",
        "        axis= 'x',          \n",
        "        which='both',       #both major and minor ticks are affected\n",
        "        bottom=False,      \n",
        "        top=False,         \n",
        "        labelbottom=False)\n",
        "    ax.tick_params(\\\n",
        "        axis= 'y',         \n",
        "        which='both',     \n",
        "        left=False,      \n",
        "        top=False,         \n",
        "        labelleft=False)\n",
        "    \n",
        "ax.legend(numpoints=1, loc='upper left')  #show legend with only 1 point\n",
        "\n",
        "#add label in x,y position with the label as the speech title\n",
        "for i in range(len(final_dense_df)):\n",
        "    ax.text(final_dense_df.loc[i]['X'], final_dense_df.loc[i]['Y'], final_dense_df.loc[i]['President'], size=13)  \n",
        "\n",
        "    \n",
        "    \n",
        "plt.show()"
      ],
      "metadata": {
        "id": "1Tv9s5zBx8Hc"
      },
      "id": "1Tv9s5zBx8Hc",
      "execution_count": null,
      "outputs": []
    },
    {
      "cell_type": "markdown",
      "source": [
        "NER"
      ],
      "metadata": {
        "id": "-OrxCZBGIUiu"
      },
      "id": "-OrxCZBGIUiu"
    },
    {
      "cell_type": "code",
      "source": [
        "def specify_NER(raw_text):\n",
        "  ents = Counter()\n",
        "  doc = ner.name(raw_text, language='en_core_web_sm')\n",
        "  text_label = [(X.text, X.label_) for X in doc]\n",
        "  for text, label in text_label:\n",
        "      raw_text = raw_text.replace(text, label)\n",
        "      ents[f\"{label}\"] += 1   \n",
        "  return raw_text, ents"
      ],
      "metadata": {
        "id": "reTLgoNyHzmx"
      },
      "id": "reTLgoNyHzmx",
      "execution_count": null,
      "outputs": []
    },
    {
      "cell_type": "code",
      "source": [
        "def create_bar_plot(ents, president):\n",
        "  ents_names, ents_count = zip(*ents.items())\n",
        "  fig = plt.figure(figsize = (25,4))\n",
        " \n",
        "  # creating the bar plot\n",
        "  plt.bar(ents_names, ents_count, color ='#5F9EA0')\n",
        "  \n",
        "  plt.xlabel(\"Entity Names\")\n",
        "  plt.ylabel(\"No. Of Each Entity\")\n",
        "  plt.title(president,fontsize=25)\n",
        "  plt.show()"
      ],
      "metadata": {
        "id": "Wgohv4_bN2yE"
      },
      "id": "Wgohv4_bN2yE",
      "execution_count": null,
      "outputs": []
    },
    {
      "cell_type": "code",
      "source": [
        "for president, clean_text in cleaned_text_dict.items():\n",
        "  text , entity_counter = specify_NER(clean_text)\n",
        "  create_bar_plot(entity_counter,president)\n",
        "  print('\\n')\n",
        "  print('\\n')\n"
      ],
      "metadata": {
        "id": "KuJC09GEN5qB"
      },
      "id": "KuJC09GEN5qB",
      "execution_count": null,
      "outputs": []
    },
    {
      "cell_type": "code",
      "source": [
        "def chunkTechnicalTerm(sentence):\n",
        "    grammar = r\"\"\"\n",
        "      TECHTERM: {<JJ|NN>+<NN|CD>|<NN>}\n",
        "    \"\"\"\n",
        "    cp = RegexpParser(grammar)\n",
        "    return (cp.parse(sentence))"
      ],
      "metadata": {
        "id": "Ud3DTfENahdN"
      },
      "id": "Ud3DTfENahdN",
      "execution_count": null,
      "outputs": []
    },
    {
      "cell_type": "code",
      "source": [
        "def key_phrases(final_dict, min_count):\n",
        "    president_terms = {}\n",
        "    \n",
        "    for president in final_dict.keys():\n",
        "        president_terms[president] = []\n",
        "        sentences_tagged = []\n",
        "        corpus_normlized = normalize_and_cleaning(final_dict[president], lemm=False, remove_punct=False, stop_word=False, remove_number=False)\n",
        "        sentences = tokenize_text(corpus_normlized)\n",
        "        sentences = [normalize_and_cleaning(sen, lemm=False, stop_word=False) for sen in sentences]\n",
        "        for sent in sentences:\n",
        "            try:\n",
        "                sentences_tagged.append(pos_tag(sent.split(' ')))\n",
        "            except:\n",
        "                pass\n",
        "        for the_sentence in sentences_tagged:\n",
        "            tree=chunkTechnicalTerm(the_sentence)\n",
        "            for subtree in tree.subtrees():\n",
        "                if subtree.label() == 'TECHTERM':\n",
        "                    president_terms[president].append(subtree.leaves())\n",
        "\n",
        "\n",
        "\n",
        "    for president in president_terms.keys():\n",
        "        president_terms[president]=FreqDist([' '.join([x for x,y in sent]) for sent in president_terms[president] if len(sent)>1]).most_common(min_count)    \n",
        "\n",
        "\n",
        "    president_technical_terms = pd.DataFrame(president_terms) \n",
        "    president_technical_terms\n",
        "    return president_technical_terms"
      ],
      "metadata": {
        "id": "mqq_P9cJaitU"
      },
      "id": "mqq_P9cJaitU",
      "execution_count": null,
      "outputs": []
    },
    {
      "cell_type": "code",
      "source": [
        ""
      ],
      "metadata": {
        "id": "MajC9u05TIfF"
      },
      "id": "MajC9u05TIfF",
      "execution_count": null,
      "outputs": []
    },
    {
      "cell_type": "code",
      "source": [
        ""
      ],
      "metadata": {
        "id": "PXKOKgtOIrjj"
      },
      "id": "PXKOKgtOIrjj",
      "execution_count": null,
      "outputs": []
    },
    {
      "cell_type": "code",
      "source": [
        "x"
      ],
      "metadata": {
        "id": "3otcFORETJ8m"
      },
      "id": "3otcFORETJ8m",
      "execution_count": null,
      "outputs": []
    },
    {
      "cell_type": "code",
      "source": [
        ""
      ],
      "metadata": {
        "id": "CmJy3LvUEjju"
      },
      "id": "CmJy3LvUEjju",
      "execution_count": null,
      "outputs": []
    },
    {
      "cell_type": "code",
      "source": [
        "NER = spacy.load(\"en_core_web_sm\")\n",
        "raw_text = 'That U.S.A. poster-print e.g the U.S costs $12.40'\n",
        "text1= NER(raw_text)\n",
        "displacy.render(text1,style=\"ent\",jupyter=True)\n",
        "\n"
      ],
      "metadata": {
        "id": "KsNRrhXqCmMh"
      },
      "id": "KsNRrhXqCmMh",
      "execution_count": null,
      "outputs": []
    },
    {
      "cell_type": "code",
      "source": [
        "\n",
        "s = \"That U.S.A. and Nicolas poster-print e.g the U.S costs $12.40\"\n",
        "doc = NER(s)\n",
        "word_tokens = tokenize_text(s)\n",
        "\n",
        "a = \" \".join([t.text if not t.ent_type_ else t.ent_type_ for t in doc])\n",
        "print(tokenize_text(a))\n"
      ],
      "metadata": {
        "id": "QCxMu6RNFwYL"
      },
      "id": "QCxMu6RNFwYL",
      "execution_count": null,
      "outputs": []
    },
    {
      "cell_type": "code",
      "execution_count": null,
      "id": "7952b5c1-daf9-4fc2-80bc-c3185e1fb539",
      "metadata": {
        "id": "7952b5c1-daf9-4fc2-80bc-c3185e1fb539"
      },
      "outputs": [],
      "source": [
        "l = tokenize_text('That U.S.A. poster-print e.g the U.S costs $12.40 amir. hello')\n",
        "t = 'That U.S.A. poster-print e.g the U.S costs $12.40 amir. hello'\n",
        "def punct(text):\n",
        "    text = ' '.join([t for t in tokenize_text(text) if len(t) > 1])\n",
        "    text = ' '.join(word.strip(punctuation) for word in tokenize_text(text))\n",
        "    return text\n",
        "        \n",
        "#punct(t) \n",
        "import re, string\n",
        "\n",
        "def test(text):\n",
        "    out =' '.join([word for word in tokenize_text(text) if word not in string.punctuation])\n",
        "\n",
        "    return out\n",
        "print(test(t))\n",
        "print(punct(t))\n",
        "#print(l)"
      ]
    },
    {
      "cell_type": "code",
      "execution_count": null,
      "id": "a17f4fa1-f1ae-4c39-bb46-b7f8f6c825a0",
      "metadata": {
        "id": "a17f4fa1-f1ae-4c39-bb46-b7f8f6c825a0"
      },
      "outputs": [],
      "source": [
        "l = 'That U.S.A. poster-print e.g the U.S costs $12.40 3th amir. hello 7. 9 2th 2nd2 5-year $56 $4 1890'\n",
        "\n",
        "def remove_num(t):\n",
        "    my_reg = r'\\$?\\d+\\.?\\d*\\w*\\d*'\n",
        "    text = re.sub(my_reg, '', t)\n",
        "    text = re.sub(' +', ' ', text)\n",
        "    return text\n",
        "\n",
        "y = remove_num(l)\n",
        "print(test(y))\n"
      ]
    },
    {
      "cell_type": "code",
      "execution_count": null,
      "id": "5e46dba9-2eed-4eee-9f1f-bb2376813952",
      "metadata": {
        "id": "5e46dba9-2eed-4eee-9f1f-bb2376813952"
      },
      "outputs": [],
      "source": [
        "print(stopwords.words('english'))\n"
      ]
    },
    {
      "cell_type": "code",
      "execution_count": null,
      "id": "e200206d-1c47-418f-af85-daf103cdbe83",
      "metadata": {
        "id": "e200206d-1c47-418f-af85-daf103cdbe83"
      },
      "outputs": [],
      "source": [
        "from nltk.tokenize import word_tokenize\n",
        "min_len = 2\n",
        "l = 'That U.S.A. poster-print e.g the U.S cs $12.40 3th am'\n",
        "t = word_tokenize(l)\n",
        "if min_len>1:\n",
        "    text = ' '.join([word for word in t if len(word)>min_len]) "
      ]
    },
    {
      "cell_type": "code",
      "source": [
        "text"
      ],
      "metadata": {
        "id": "H2PYJAopvRLz"
      },
      "id": "H2PYJAopvRLz",
      "execution_count": null,
      "outputs": []
    },
    {
      "cell_type": "code",
      "source": [
        "text = '[Laughter]poster-print The President. That 1993s [Applause] Asia—the asia-pacific'\n",
        "tt = re.sub(r'(:?\\[Laughter\\]|\\[Applause\\]|\\[applause\\]|\\[laughter\\])', '', text)\n",
        "tt"
      ],
      "metadata": {
        "id": "VVIwK4lWvhSC"
      },
      "id": "VVIwK4lWvhSC",
      "execution_count": null,
      "outputs": []
    },
    {
      "cell_type": "code",
      "source": [
        ""
      ],
      "metadata": {
        "id": "4Jgq-X8gxcgt"
      },
      "id": "4Jgq-X8gxcgt",
      "execution_count": null,
      "outputs": []
    }
  ],
  "metadata": {
    "kernelspec": {
      "display_name": "Python 3 (ipykernel)",
      "language": "python",
      "name": "python3"
    },
    "language_info": {
      "codemirror_mode": {
        "name": "ipython",
        "version": 3
      },
      "file_extension": ".py",
      "mimetype": "text/x-python",
      "name": "python",
      "nbconvert_exporter": "python",
      "pygments_lexer": "ipython3",
      "version": "3.9.9"
    },
    "colab": {
      "name": "Main.ipynb",
      "provenance": [],
      "include_colab_link": true
    }
  },
  "nbformat": 4,
  "nbformat_minor": 5
}