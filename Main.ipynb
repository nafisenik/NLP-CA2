{
  "cells": [
    {
      "cell_type": "code",
      "execution_count": 17,
      "id": "0cffcd95-f61f-4027-9739-1ec66b3631c8",
      "metadata": {
        "id": "0cffcd95-f61f-4027-9739-1ec66b3631c8"
      },
      "outputs": [],
      "source": [
        "import os\n",
        "import pandas as pd\n",
        "from itertools import groupby\n",
        "from operator import itemgetter\n",
        "import re\n",
        "\n",
        "from nltk import regexp_tokenize\n",
        "from nltk.stem.wordnet import WordNetLemmatizer\n",
        "from nltk import pos_tag\n",
        "import nltk\n",
        "from nltk.corpus import stopwords\n",
        "from string import punctuation\n",
        "\n",
        "import datetime"
      ]
    },
    {
      "cell_type": "code",
      "source": [
        "nltk.download('averaged_perceptron_tagger')\n",
        "nltk.download('omw-1.4')"
      ],
      "metadata": {
        "id": "n9MYiLjGjxsN"
      },
      "id": "n9MYiLjGjxsN",
      "execution_count": null,
      "outputs": []
    },
    {
      "cell_type": "code",
      "execution_count": 10,
      "id": "ee2612ba-0267-410e-b0d5-d4e52524556d",
      "metadata": {
        "id": "ee2612ba-0267-410e-b0d5-d4e52524556d"
      },
      "outputs": [],
      "source": [
        "# a function to read files \n",
        "def read_file(file):\n",
        "    with open(file, 'r', encoding=\"utf-8\") as f:\n",
        "        text = f.read()\n",
        "    return text\n",
        "\n",
        "# set path to text files\n",
        "file_dir = './Data/Text_Files/'\n",
        "text_list = []\n",
        "\n",
        "# find files with .txt and read them\n",
        "for file in os.listdir(file_dir):\n",
        "    if file.endswith(\".txt\"):\n",
        "        file_path = f'{file_dir}{file}'\n",
        "        text_list.append(read_file(file_path))"
      ]
    },
    {
      "cell_type": "code",
      "source": [
        "print(f\"number of texts: {len(text_list)}\")"
      ],
      "metadata": {
        "id": "RgzaIFv4lvvH",
        "outputId": "5e9a70d4-b1dc-4ebd-d123-952151e3d122",
        "colab": {
          "base_uri": "https://localhost:8080/"
        }
      },
      "id": "RgzaIFv4lvvH",
      "execution_count": 13,
      "outputs": [
        {
          "output_type": "stream",
          "name": "stdout",
          "text": [
            "number of texts: 82\n"
          ]
        }
      ]
    },
    {
      "cell_type": "code",
      "source": [
        "# sample text\n",
        "print(f\"sample text: {text_list[0][:500]}\")"
      ],
      "metadata": {
        "id": "OvWlRuF7kt2e",
        "outputId": "c8f2e0c5-3ccb-4e75-e638-d745dd982702",
        "colab": {
          "base_uri": "https://localhost:8080/"
        }
      },
      "id": "OvWlRuF7kt2e",
      "execution_count": 14,
      "outputs": [
        {
          "output_type": "stream",
          "name": "stdout",
          "text": [
            "sample text: \n",
            "Mr. President, Mr. Speaker, Members of the 85th Congress:\n",
            "It is again my high privilege to extend personal greetings to the members of the 85th Congress.\n",
            "All of us realize that, as this new session begins, many Americans are troubled about recent world developments which they believe may threaten our nation's safety. Honest men differ in their appraisal of America's material and intellectual strength, and the dangers that confront us. But all know these dangers are real.\n",
            "The purpose of this mes\n"
          ]
        }
      ]
    },
    {
      "cell_type": "code",
      "execution_count": 16,
      "id": "b253656b-2310-4973-8f8f-a131b116dae8",
      "metadata": {
        "id": "b253656b-2310-4973-8f8f-a131b116dae8",
        "outputId": "4a8cba05-7513-4c91-bf7f-7cb11d8f9bb0",
        "colab": {
          "base_uri": "https://localhost:8080/",
          "height": 337
        }
      },
      "outputs": [
        {
          "output_type": "execute_result",
          "data": {
            "text/plain": [
              "   Index        President                                         Categories  \\\n",
              "0      0  Harry S. Truman  ['Presidential', 'State of the Union Addresses...   \n",
              "1      1  Harry S. Truman  ['Presidential', 'State of the Union Addresses...   \n",
              "2      2  Harry S. Truman  ['Presidential', 'State of the Union Addresses...   \n",
              "3      3  Harry S. Truman  ['Presidential', 'State of the Union Addresses...   \n",
              "4      4  Harry S. Truman  ['Presidential', 'State of the Union Addresses...   \n",
              "\n",
              "               Date                                           Citation  \\\n",
              "0  January 06, 1947  Harry S. Truman, Annual Message to the Congres...   \n",
              "1  January 07, 1948  Harry S. Truman, Annual Message to the Congres...   \n",
              "2  January 05, 1949  Harry S. Truman, Annual Message to the Congres...   \n",
              "3  January 04, 1950  Harry S. Truman, Annual Message to the Congres...   \n",
              "4  January 08, 1951  Harry S. Truman, Annual Message to the Congres...   \n",
              "\n",
              "                                               Title  \n",
              "0  Annual Message to the Congress on the State of...  \n",
              "1  Annual Message to the Congress on the State of...  \n",
              "2  Annual Message to the Congress on the State of...  \n",
              "3  Annual Message to the Congress on the State of...  \n",
              "4  Annual Message to the Congress on the State of...  "
            ],
            "text/html": [
              "\n",
              "  <div id=\"df-6b147a97-f11d-4edb-b133-4dd0bd836fd2\">\n",
              "    <div class=\"colab-df-container\">\n",
              "      <div>\n",
              "<style scoped>\n",
              "    .dataframe tbody tr th:only-of-type {\n",
              "        vertical-align: middle;\n",
              "    }\n",
              "\n",
              "    .dataframe tbody tr th {\n",
              "        vertical-align: top;\n",
              "    }\n",
              "\n",
              "    .dataframe thead th {\n",
              "        text-align: right;\n",
              "    }\n",
              "</style>\n",
              "<table border=\"1\" class=\"dataframe\">\n",
              "  <thead>\n",
              "    <tr style=\"text-align: right;\">\n",
              "      <th></th>\n",
              "      <th>Index</th>\n",
              "      <th>President</th>\n",
              "      <th>Categories</th>\n",
              "      <th>Date</th>\n",
              "      <th>Citation</th>\n",
              "      <th>Title</th>\n",
              "    </tr>\n",
              "  </thead>\n",
              "  <tbody>\n",
              "    <tr>\n",
              "      <th>0</th>\n",
              "      <td>0</td>\n",
              "      <td>Harry S. Truman</td>\n",
              "      <td>['Presidential', 'State of the Union Addresses...</td>\n",
              "      <td>January 06, 1947</td>\n",
              "      <td>Harry S. Truman, Annual Message to the Congres...</td>\n",
              "      <td>Annual Message to the Congress on the State of...</td>\n",
              "    </tr>\n",
              "    <tr>\n",
              "      <th>1</th>\n",
              "      <td>1</td>\n",
              "      <td>Harry S. Truman</td>\n",
              "      <td>['Presidential', 'State of the Union Addresses...</td>\n",
              "      <td>January 07, 1948</td>\n",
              "      <td>Harry S. Truman, Annual Message to the Congres...</td>\n",
              "      <td>Annual Message to the Congress on the State of...</td>\n",
              "    </tr>\n",
              "    <tr>\n",
              "      <th>2</th>\n",
              "      <td>2</td>\n",
              "      <td>Harry S. Truman</td>\n",
              "      <td>['Presidential', 'State of the Union Addresses...</td>\n",
              "      <td>January 05, 1949</td>\n",
              "      <td>Harry S. Truman, Annual Message to the Congres...</td>\n",
              "      <td>Annual Message to the Congress on the State of...</td>\n",
              "    </tr>\n",
              "    <tr>\n",
              "      <th>3</th>\n",
              "      <td>3</td>\n",
              "      <td>Harry S. Truman</td>\n",
              "      <td>['Presidential', 'State of the Union Addresses...</td>\n",
              "      <td>January 04, 1950</td>\n",
              "      <td>Harry S. Truman, Annual Message to the Congres...</td>\n",
              "      <td>Annual Message to the Congress on the State of...</td>\n",
              "    </tr>\n",
              "    <tr>\n",
              "      <th>4</th>\n",
              "      <td>4</td>\n",
              "      <td>Harry S. Truman</td>\n",
              "      <td>['Presidential', 'State of the Union Addresses...</td>\n",
              "      <td>January 08, 1951</td>\n",
              "      <td>Harry S. Truman, Annual Message to the Congres...</td>\n",
              "      <td>Annual Message to the Congress on the State of...</td>\n",
              "    </tr>\n",
              "  </tbody>\n",
              "</table>\n",
              "</div>\n",
              "      <button class=\"colab-df-convert\" onclick=\"convertToInteractive('df-6b147a97-f11d-4edb-b133-4dd0bd836fd2')\"\n",
              "              title=\"Convert this dataframe to an interactive table.\"\n",
              "              style=\"display:none;\">\n",
              "        \n",
              "  <svg xmlns=\"http://www.w3.org/2000/svg\" height=\"24px\"viewBox=\"0 0 24 24\"\n",
              "       width=\"24px\">\n",
              "    <path d=\"M0 0h24v24H0V0z\" fill=\"none\"/>\n",
              "    <path d=\"M18.56 5.44l.94 2.06.94-2.06 2.06-.94-2.06-.94-.94-2.06-.94 2.06-2.06.94zm-11 1L8.5 8.5l.94-2.06 2.06-.94-2.06-.94L8.5 2.5l-.94 2.06-2.06.94zm10 10l.94 2.06.94-2.06 2.06-.94-2.06-.94-.94-2.06-.94 2.06-2.06.94z\"/><path d=\"M17.41 7.96l-1.37-1.37c-.4-.4-.92-.59-1.43-.59-.52 0-1.04.2-1.43.59L10.3 9.45l-7.72 7.72c-.78.78-.78 2.05 0 2.83L4 21.41c.39.39.9.59 1.41.59.51 0 1.02-.2 1.41-.59l7.78-7.78 2.81-2.81c.8-.78.8-2.07 0-2.86zM5.41 20L4 18.59l7.72-7.72 1.47 1.35L5.41 20z\"/>\n",
              "  </svg>\n",
              "      </button>\n",
              "      \n",
              "  <style>\n",
              "    .colab-df-container {\n",
              "      display:flex;\n",
              "      flex-wrap:wrap;\n",
              "      gap: 12px;\n",
              "    }\n",
              "\n",
              "    .colab-df-convert {\n",
              "      background-color: #E8F0FE;\n",
              "      border: none;\n",
              "      border-radius: 50%;\n",
              "      cursor: pointer;\n",
              "      display: none;\n",
              "      fill: #1967D2;\n",
              "      height: 32px;\n",
              "      padding: 0 0 0 0;\n",
              "      width: 32px;\n",
              "    }\n",
              "\n",
              "    .colab-df-convert:hover {\n",
              "      background-color: #E2EBFA;\n",
              "      box-shadow: 0px 1px 2px rgba(60, 64, 67, 0.3), 0px 1px 3px 1px rgba(60, 64, 67, 0.15);\n",
              "      fill: #174EA6;\n",
              "    }\n",
              "\n",
              "    [theme=dark] .colab-df-convert {\n",
              "      background-color: #3B4455;\n",
              "      fill: #D2E3FC;\n",
              "    }\n",
              "\n",
              "    [theme=dark] .colab-df-convert:hover {\n",
              "      background-color: #434B5C;\n",
              "      box-shadow: 0px 1px 3px 1px rgba(0, 0, 0, 0.15);\n",
              "      filter: drop-shadow(0px 1px 2px rgba(0, 0, 0, 0.3));\n",
              "      fill: #FFFFFF;\n",
              "    }\n",
              "  </style>\n",
              "\n",
              "      <script>\n",
              "        const buttonEl =\n",
              "          document.querySelector('#df-6b147a97-f11d-4edb-b133-4dd0bd836fd2 button.colab-df-convert');\n",
              "        buttonEl.style.display =\n",
              "          google.colab.kernel.accessAllowed ? 'block' : 'none';\n",
              "\n",
              "        async function convertToInteractive(key) {\n",
              "          const element = document.querySelector('#df-6b147a97-f11d-4edb-b133-4dd0bd836fd2');\n",
              "          const dataTable =\n",
              "            await google.colab.kernel.invokeFunction('convertToInteractive',\n",
              "                                                     [key], {});\n",
              "          if (!dataTable) return;\n",
              "\n",
              "          const docLinkHtml = 'Like what you see? Visit the ' +\n",
              "            '<a target=\"_blank\" href=https://colab.research.google.com/notebooks/data_table.ipynb>data table notebook</a>'\n",
              "            + ' to learn more about interactive tables.';\n",
              "          element.innerHTML = '';\n",
              "          dataTable['output_type'] = 'display_data';\n",
              "          await google.colab.output.renderOutput(dataTable, element);\n",
              "          const docLink = document.createElement('div');\n",
              "          docLink.innerHTML = docLinkHtml;\n",
              "          element.appendChild(docLink);\n",
              "        }\n",
              "      </script>\n",
              "    </div>\n",
              "  </div>\n",
              "  "
            ]
          },
          "metadata": {},
          "execution_count": 16
        }
      ],
      "source": [
        "df = pd.read_csv(\"./Data/metadata.csv\")\n",
        "df.head()"
      ]
    },
    {
      "cell_type": "markdown",
      "source": [
        "#### Change Date Type to datetime"
      ],
      "metadata": {
        "id": "4axQUZMMmetO"
      },
      "id": "4axQUZMMmetO"
    },
    {
      "cell_type": "code",
      "execution_count": 18,
      "id": "879ca449-379a-48ab-a80b-e60532fbe187",
      "metadata": {
        "id": "879ca449-379a-48ab-a80b-e60532fbe187",
        "outputId": "aea3b6b5-4ae7-4cd4-b5df-055814b948a0",
        "colab": {
          "base_uri": "https://localhost:8080/"
        }
      },
      "outputs": [
        {
          "output_type": "stream",
          "name": "stdout",
          "text": [
            "object\n"
          ]
        }
      ],
      "source": [
        "print(df['Title'].dtypes)"
      ]
    },
    {
      "cell_type": "code",
      "execution_count": 19,
      "id": "282f32ed-bf2c-4ccc-8c98-5cc12901fe85",
      "metadata": {
        "id": "282f32ed-bf2c-4ccc-8c98-5cc12901fe85",
        "outputId": "defbbeec-4809-4b15-e683-54d2077b7052",
        "colab": {
          "base_uri": "https://localhost:8080/"
        }
      },
      "outputs": [
        {
          "output_type": "execute_result",
          "data": {
            "text/plain": [
              "0    1947-01-06\n",
              "1    1948-01-07\n",
              "2    1949-01-05\n",
              "3    1950-01-04\n",
              "4    1951-01-08\n",
              "        ...    \n",
              "77   2016-01-12\n",
              "78   2018-01-30\n",
              "79   2019-02-05\n",
              "80   2020-02-04\n",
              "81   2022-03-01\n",
              "Name: Date, Length: 82, dtype: datetime64[ns]"
            ]
          },
          "metadata": {},
          "execution_count": 19
        }
      ],
      "source": [
        "df['Date'] = pd.to_datetime(df['Date'], format='%B %d, %Y')\n",
        "df['Date']"
      ]
    },
    {
      "cell_type": "markdown",
      "source": [
        "#### Groupby persidents:\n",
        "`dict[president_name]` = `[texts]`\n"
      ],
      "metadata": {
        "id": "lgT1Zb1CmovG"
      },
      "id": "lgT1Zb1CmovG"
    },
    {
      "cell_type": "code",
      "execution_count": null,
      "id": "ee391dbb-899d-4847-82db-199160b4818c",
      "metadata": {
        "id": "ee391dbb-899d-4847-82db-199160b4818c"
      },
      "outputs": [],
      "source": [
        "president_name = df['President'].tolist()\n",
        "president_text_dict = {keys: [i for _, i in sub] for keys, sub in groupby(\n",
        "         zip(president_name, text_list), key = itemgetter(0))}"
      ]
    },
    {
      "cell_type": "code",
      "execution_count": null,
      "id": "75359f45-ceae-4124-96e3-4e3b9ef537ff",
      "metadata": {
        "id": "75359f45-ceae-4124-96e3-4e3b9ef537ff",
        "outputId": "c0f5e4d6-3552-4e6d-eb2b-7b82dfb2e067"
      },
      "outputs": [
        {
          "data": {
            "text/plain": [
              "dict_keys(['Harry S. Truman', 'Dwight D. Eisenhower', 'John F. Kennedy', 'Lyndon B. Johnson', 'Richard Nixon', 'Gerald R. Ford', 'Jimmy Carter', 'Ronald Reagan', 'George Bush', 'William J. Clinton', 'George W. Bush', 'Barack Obama', 'Donald J. Trump', 'Joseph R. Biden'])"
            ]
          },
          "execution_count": 17,
          "metadata": {},
          "output_type": "execute_result"
        }
      ],
      "source": [
        "president_text_dict.keys()"
      ]
    },
    {
      "cell_type": "code",
      "execution_count": null,
      "id": "4d9427e7-9145-4184-8b90-77b62d834872",
      "metadata": {
        "id": "4d9427e7-9145-4184-8b90-77b62d834872",
        "outputId": "a61f14c4-1d79-44b1-aef5-75add238a3b2"
      },
      "outputs": [
        {
          "data": {
            "text/plain": [
              "7"
            ]
          },
          "execution_count": 19,
          "metadata": {},
          "output_type": "execute_result"
        }
      ],
      "source": [
        "len(president_text_dict['Barack Obama'])"
      ]
    },
    {
      "cell_type": "code",
      "execution_count": null,
      "id": "69ff092b-0dd8-458b-88e9-5d7c8dad74e3",
      "metadata": {
        "id": "69ff092b-0dd8-458b-88e9-5d7c8dad74e3"
      },
      "outputs": [],
      "source": [
        "# http://stackoverflow.com/questions/36353125/nltk-regular-expression-tokenizer\n",
        "pattern = r'''(?x)          # set flag to allow verbose regexps\n",
        "        (?:[A-Z]\\.)+        # abbreviations, e.g. U.S.A.\n",
        "      | \\w+(?:-\\w+)*        # words with optional internal hyphens\n",
        "      | \\$?\\d+(?:\\.\\d+)?%?\\s?  # currency and percentages, e.g. $12.40, 82%\n",
        "      | \\.\\.\\.              # ellipsis\n",
        "      | [][.,;\"'?():_`-]    # these are separate tokens; includes ], [\n",
        "    '''\n",
        "\n",
        "pattern = re.compile(pattern)\n",
        "\n",
        "def tokenize_text(text):\n",
        "    return regexp_tokenize(text, pattern)"
      ]
    },
    {
      "cell_type": "code",
      "execution_count": null,
      "id": "5361f260-bc04-4dd7-b6bc-ac627eebc793",
      "metadata": {
        "id": "5361f260-bc04-4dd7-b6bc-ac627eebc793"
      },
      "outputs": [],
      "source": [
        "def lemmatize_all(sentence):\n",
        "    l = []\n",
        "    wnl = WordNetLemmatizer()\n",
        "    for word, tag in pos_tag(tokenize_text(sentence)):\n",
        "        if tag.startswith('N'):\n",
        "            l.append(wnl.lemmatize(word, pos='n'))\n",
        "        elif tag.startswith('V'):\n",
        "            l.append(wnl.lemmatize(word, pos='v'))\n",
        "        elif tag.startswith('J'):\n",
        "            l.append(wnl.lemmatize(word, pos='a'))\n",
        "        elif tag.startswith('R'):\n",
        "            l.append(wnl.lemmatize(word, pos='r'))\n",
        "            \n",
        "        else:\n",
        "            l.append(wnl.lemmatize(word, pos='n'))\n",
        "    return l"
      ]
    },
    {
      "cell_type": "code",
      "execution_count": null,
      "id": "13190e72-5ae3-4427-8fcb-d7c02fe5bd99",
      "metadata": {
        "id": "13190e72-5ae3-4427-8fcb-d7c02fe5bd99",
        "outputId": "f565af92-ca1a-4ddd-b667-6307a008e59f"
      },
      "outputs": [
        {
          "name": "stdout",
          "output_type": "stream",
          "text": [
            "['The', 'striped', 'bat', 'be', 'hang', 'on', 'their', 'foot', 'for', 'best', 'and', 'write', 'you', 'be']\n"
          ]
        }
      ],
      "source": [
        "sentence_sample = 'The striped bats are  hanging on their feet for best and wrote you are'\n",
        "print(lemmatize_all(sentence_sample))\n",
        "\n"
      ]
    },
    {
      "cell_type": "code",
      "execution_count": null,
      "id": "53b4f313-78c8-4477-8079-719ab6e7a842",
      "metadata": {
        "id": "53b4f313-78c8-4477-8079-719ab6e7a842"
      },
      "outputs": [],
      "source": [
        "stop_words = set(stopwords.words('english'))\n",
        "def normalize_and_cleaning(text, remove_punct, lower, stop_word, remove_number, min_len):\n",
        "    \n",
        "    word_tokens = tokenize_text(text)\n",
        "    \n",
        "    if remove_punct:\n",
        "        out =' '.join([word for word in word_tokens if word not in string.punctuation])\n",
        "\n",
        "        \n",
        "    if lower:\n",
        "        text = text.lower()\n",
        "\n",
        "    \n",
        "    if remove_number:\n",
        "        my_reg = r'\\$?\\d+\\.?\\d*\\w*\\d*'\n",
        "        text = re.sub(my_reg, '', t)\n",
        "    \n",
        "        \n",
        "    if stop_word:\n",
        "        text = [w for w in word_tokens if not w.lower() in stop_words]\n",
        "        \n",
        "    \n",
        "    text = re.sub(' +', ' ', text)\n",
        "\n",
        "    \n",
        "    "
      ]
    },
    {
      "cell_type": "code",
      "execution_count": null,
      "id": "7952b5c1-daf9-4fc2-80bc-c3185e1fb539",
      "metadata": {
        "id": "7952b5c1-daf9-4fc2-80bc-c3185e1fb539",
        "outputId": "5f5ea804-bff0-4b05-e9a3-d52a7bd2b683"
      },
      "outputs": [
        {
          "name": "stdout",
          "output_type": "stream",
          "text": [
            "That U.S.A. poster-print e.g the U.S costs $12.40  amir hello\n",
            "That U.S.A poster-print e.g the U.S costs 12.40  amir hello\n"
          ]
        }
      ],
      "source": [
        "l = tokenize_text('That U.S.A. poster-print e.g the U.S costs $12.40 amir. hello')\n",
        "t = 'That U.S.A. poster-print e.g the U.S costs $12.40 amir. hello'\n",
        "def punct(text):\n",
        "    text = ' '.join([t for t in tokenize_text(text) if len(t) > 1])\n",
        "    text = ' '.join(word.strip(punctuation) for word in tokenize_text(text))\n",
        "    return text\n",
        "        \n",
        "#punct(t) \n",
        "import re, string\n",
        "\n",
        "def test(text):\n",
        "    out =' '.join([word for word in tokenize_text(text) if word not in string.punctuation])\n",
        "\n",
        "    return out\n",
        "print(test(t))\n",
        "print(punct(t))\n",
        "#print(l)"
      ]
    },
    {
      "cell_type": "code",
      "execution_count": null,
      "id": "a17f4fa1-f1ae-4c39-bb46-b7f8f6c825a0",
      "metadata": {
        "id": "a17f4fa1-f1ae-4c39-bb46-b7f8f6c825a0",
        "outputId": "bde0e6b6-6a72-4a44-c00d-36e9b0fa281e"
      },
      "outputs": [
        {
          "name": "stdout",
          "output_type": "stream",
          "text": [
            "That U.S.A. poster-print e.g the U.S costs amir hello year\n"
          ]
        }
      ],
      "source": [
        "l = 'That U.S.A. poster-print e.g the U.S costs $12.40 3th amir. hello 7. 9 2th 2nd2 5-year $56 $4 1890'\n",
        "\n",
        "def remove_num(t):\n",
        "    my_reg = r'\\$?\\d+\\.?\\d*\\w*\\d*'\n",
        "    text = re.sub(my_reg, '', t)\n",
        "    text = re.sub(' +', ' ', text)\n",
        "    return text\n",
        "\n",
        "y = remove_num(l)\n",
        "print(test(y))\n"
      ]
    },
    {
      "cell_type": "code",
      "execution_count": null,
      "id": "5e46dba9-2eed-4eee-9f1f-bb2376813952",
      "metadata": {
        "id": "5e46dba9-2eed-4eee-9f1f-bb2376813952",
        "outputId": "53961979-2a24-4cd9-bedb-dee01d14dc5c"
      },
      "outputs": [
        {
          "name": "stdout",
          "output_type": "stream",
          "text": [
            "['i', 'me', 'my', 'myself', 'we', 'our', 'ours', 'ourselves', 'you', \"you're\", \"you've\", \"you'll\", \"you'd\", 'your', 'yours', 'yourself', 'yourselves', 'he', 'him', 'his', 'himself', 'she', \"she's\", 'her', 'hers', 'herself', 'it', \"it's\", 'its', 'itself', 'they', 'them', 'their', 'theirs', 'themselves', 'what', 'which', 'who', 'whom', 'this', 'that', \"that'll\", 'these', 'those', 'am', 'is', 'are', 'was', 'were', 'be', 'been', 'being', 'have', 'has', 'had', 'having', 'do', 'does', 'did', 'doing', 'a', 'an', 'the', 'and', 'but', 'if', 'or', 'because', 'as', 'until', 'while', 'of', 'at', 'by', 'for', 'with', 'about', 'against', 'between', 'into', 'through', 'during', 'before', 'after', 'above', 'below', 'to', 'from', 'up', 'down', 'in', 'out', 'on', 'off', 'over', 'under', 'again', 'further', 'then', 'once', 'here', 'there', 'when', 'where', 'why', 'how', 'all', 'any', 'both', 'each', 'few', 'more', 'most', 'other', 'some', 'such', 'no', 'nor', 'not', 'only', 'own', 'same', 'so', 'than', 'too', 'very', 's', 't', 'can', 'will', 'just', 'don', \"don't\", 'should', \"should've\", 'now', 'd', 'll', 'm', 'o', 're', 've', 'y', 'ain', 'aren', \"aren't\", 'couldn', \"couldn't\", 'didn', \"didn't\", 'doesn', \"doesn't\", 'hadn', \"hadn't\", 'hasn', \"hasn't\", 'haven', \"haven't\", 'isn', \"isn't\", 'ma', 'mightn', \"mightn't\", 'mustn', \"mustn't\", 'needn', \"needn't\", 'shan', \"shan't\", 'shouldn', \"shouldn't\", 'wasn', \"wasn't\", 'weren', \"weren't\", 'won', \"won't\", 'wouldn', \"wouldn't\"]\n"
          ]
        }
      ],
      "source": [
        "print(stopwords.words('english'))\n"
      ]
    },
    {
      "cell_type": "code",
      "execution_count": null,
      "id": "e200206d-1c47-418f-af85-daf103cdbe83",
      "metadata": {
        "id": "e200206d-1c47-418f-af85-daf103cdbe83"
      },
      "outputs": [],
      "source": [
        ""
      ]
    }
  ],
  "metadata": {
    "kernelspec": {
      "display_name": "Python 3 (ipykernel)",
      "language": "python",
      "name": "python3"
    },
    "language_info": {
      "codemirror_mode": {
        "name": "ipython",
        "version": 3
      },
      "file_extension": ".py",
      "mimetype": "text/x-python",
      "name": "python",
      "nbconvert_exporter": "python",
      "pygments_lexer": "ipython3",
      "version": "3.9.9"
    },
    "colab": {
      "name": "Main.ipynb",
      "provenance": []
    }
  },
  "nbformat": 4,
  "nbformat_minor": 5
}