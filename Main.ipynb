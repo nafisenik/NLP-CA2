{
 "cells": [
  {
   "cell_type": "markdown",
   "id": "9fc90568",
   "metadata": {
    "colab_type": "text",
    "id": "view-in-github"
   },
   "source": [
    "<a href=\"https://colab.research.google.com/github/nafisenik/NLP-CA2/blob/main/Main.ipynb\" target=\"_parent\"><img src=\"https://colab.research.google.com/assets/colab-badge.svg\" alt=\"Open In Colab\"/></a>"
   ]
  },
  {
   "cell_type": "markdown",
   "id": "2lmOoa_tdhho",
   "metadata": {
    "id": "2lmOoa_tdhho"
   },
   "source": [
    "### Import libraries"
   ]
  },
  {
   "cell_type": "code",
   "execution_count": 1,
   "id": "27zO7gTRmtd8",
   "metadata": {
    "colab": {
     "base_uri": "https://localhost:8080/"
    },
    "id": "27zO7gTRmtd8",
    "outputId": "571d3324-043a-4597-df93-b11acdd4a34e"
   },
   "outputs": [],
   "source": [
    "!pip install ner-d"
   ]
  },
  {
   "cell_type": "code",
   "execution_count": 4,
   "id": "0cffcd95-f61f-4027-9739-1ec66b3631c8",
   "metadata": {
    "id": "0cffcd95-f61f-4027-9739-1ec66b3631c8"
   },
   "outputs": [
    {
     "ename": "ModuleNotFoundError",
     "evalue": "No module named 'nerd'",
     "output_type": "error",
     "traceback": [
      "\u001b[1;31m---------------------------------------------------------------------------\u001b[0m",
      "\u001b[1;31mModuleNotFoundError\u001b[0m                       Traceback (most recent call last)",
      "Input \u001b[1;32mIn [4]\u001b[0m, in \u001b[0;36m<module>\u001b[1;34m\u001b[0m\n\u001b[0;32m     28\u001b[0m \u001b[38;5;28;01mimport\u001b[39;00m \u001b[38;5;21;01mspacy\u001b[39;00m\n\u001b[0;32m     29\u001b[0m \u001b[38;5;28;01mfrom\u001b[39;00m \u001b[38;5;21;01mspacy\u001b[39;00m \u001b[38;5;28;01mimport\u001b[39;00m displacy\n\u001b[1;32m---> 31\u001b[0m \u001b[38;5;28;01mfrom\u001b[39;00m \u001b[38;5;21;01mnerd\u001b[39;00m \u001b[38;5;28;01mimport\u001b[39;00m ner\n\u001b[0;32m     33\u001b[0m \u001b[38;5;28;01mimport\u001b[39;00m \u001b[38;5;21;01mdatetime\u001b[39;00m\n",
      "\u001b[1;31mModuleNotFoundError\u001b[0m: No module named 'nerd'"
     ]
    }
   ],
   "source": [
    "import os\n",
    "import pandas as pd\n",
    "from itertools import groupby\n",
    "from operator import itemgetter\n",
    "import re\n",
    "from collections import Counter\n",
    "import numpy as np\n",
    "import tqdm\n",
    "#from wordcloud import WordCloud\n",
    "import matplotlib.pyplot as plt\n",
    "from string import punctuation\n",
    "import string\n",
    "\n",
    "\n",
    "\n",
    "from nltk import regexp_tokenize\n",
    "from nltk.stem.wordnet import WordNetLemmatizer\n",
    "from nltk import pos_tag\n",
    "import nltk\n",
    "from nltk.corpus import stopwords\n",
    "from nltk.tokenize import word_tokenize\n",
    "\n",
    "from sklearn.feature_extraction.text import TfidfVectorizer\n",
    "from sklearn.cluster import KMeans\n",
    "from sklearn.decomposition import PCA\n",
    "from sklearn.manifold import TSNE\n",
    "\n",
    "import spacy\n",
    "from spacy import displacy\n",
    "\n",
    "from nerd import ner\n",
    "\n",
    "import datetime"
   ]
  },
  {
   "cell_type": "code",
   "execution_count": null,
   "id": "8b24a21b-9359-460d-b368-560dd0ab5060",
   "metadata": {},
   "outputs": [],
   "source": [
    "!pip install wordcloud"
   ]
  },
  {
   "cell_type": "markdown",
   "id": "ILqFQySfd1I9",
   "metadata": {
    "id": "ILqFQySfd1I9"
   },
   "source": [
    "### Download nltk packages"
   ]
  },
  {
   "cell_type": "code",
   "execution_count": null,
   "id": "n9MYiLjGjxsN",
   "metadata": {
    "colab": {
     "base_uri": "https://localhost:8080/"
    },
    "id": "n9MYiLjGjxsN",
    "outputId": "bb6ab7cc-3df5-4d2a-eb9e-1292a3503536"
   },
   "outputs": [],
   "source": [
    "nltk.download('averaged_perceptron_tagger')\n",
    "nltk.download('omw-1.4')\n",
    "nltk.download('wordnet')\n",
    "nltk.download('stopwords')\n",
    "nltk.download('punkt')"
   ]
  },
  {
   "cell_type": "markdown",
   "id": "73qNUnuqeNI6",
   "metadata": {
    "id": "73qNUnuqeNI6"
   },
   "source": [
    "### Read text files and save as a list"
   ]
  },
  {
   "cell_type": "code",
   "execution_count": null,
   "id": "ee2612ba-0267-410e-b0d5-d4e52524556d",
   "metadata": {
    "id": "ee2612ba-0267-410e-b0d5-d4e52524556d"
   },
   "outputs": [],
   "source": [
    "# a function to read files \n",
    "def read_file(file):\n",
    "    with open(file, 'r', encoding=\"utf-8\") as f:\n",
    "        text = f.read()\n",
    "    return text\n",
    "\n",
    "# set path to text files\n",
    "file_dir = './Data/Text_Files/'\n",
    "text_list = []\n",
    "\n",
    "# find files with .txt and read them\n",
    "for file in os.listdir(file_dir):\n",
    "    if file.endswith(\".txt\"):\n",
    "        file_path = f'{file_dir}{file}'\n",
    "        text_list.append(read_file(file_path))"
   ]
  },
  {
   "cell_type": "code",
   "execution_count": null,
   "id": "RgzaIFv4lvvH",
   "metadata": {
    "colab": {
     "base_uri": "https://localhost:8080/"
    },
    "id": "RgzaIFv4lvvH",
    "outputId": "5e7e80f6-1adc-4cc6-8217-f4bc091ca468"
   },
   "outputs": [],
   "source": [
    "print(f\"number of texts: {len(text_list)}\")"
   ]
  },
  {
   "cell_type": "markdown",
   "id": "012zu9Z7eaYJ",
   "metadata": {
    "id": "012zu9Z7eaYJ"
   },
   "source": [
    "### Sample of our data"
   ]
  },
  {
   "cell_type": "code",
   "execution_count": null,
   "id": "OvWlRuF7kt2e",
   "metadata": {
    "colab": {
     "base_uri": "https://localhost:8080/"
    },
    "id": "OvWlRuF7kt2e",
    "outputId": "d663e507-beda-479f-8f8f-071b48409a46"
   },
   "outputs": [],
   "source": [
    "# sample text\n",
    "print(f\"sample text: {text_list[0][:500]}\")"
   ]
  },
  {
   "cell_type": "code",
   "execution_count": null,
   "id": "b253656b-2310-4973-8f8f-a131b116dae8",
   "metadata": {
    "colab": {
     "base_uri": "https://localhost:8080/",
     "height": 424
    },
    "id": "b253656b-2310-4973-8f8f-a131b116dae8",
    "outputId": "51497b2c-0f22-447b-f739-13966aee299c"
   },
   "outputs": [],
   "source": [
    "df = pd.read_csv(\"./Data/metadata.csv\")\n",
    "df.head()"
   ]
  },
  {
   "cell_type": "markdown",
   "id": "4axQUZMMmetO",
   "metadata": {
    "id": "4axQUZMMmetO"
   },
   "source": [
    "#### Change Date Type to datetime"
   ]
  },
  {
   "cell_type": "code",
   "execution_count": null,
   "id": "879ca449-379a-48ab-a80b-e60532fbe187",
   "metadata": {
    "colab": {
     "base_uri": "https://localhost:8080/"
    },
    "id": "879ca449-379a-48ab-a80b-e60532fbe187",
    "outputId": "f07c9ea7-10aa-452e-8a2f-d7a499801780"
   },
   "outputs": [],
   "source": [
    "print(df['Title'].dtypes)"
   ]
  },
  {
   "cell_type": "code",
   "execution_count": null,
   "id": "282f32ed-bf2c-4ccc-8c98-5cc12901fe85",
   "metadata": {
    "colab": {
     "base_uri": "https://localhost:8080/"
    },
    "id": "282f32ed-bf2c-4ccc-8c98-5cc12901fe85",
    "outputId": "d8306756-baef-4514-ba61-bbf28d753e8c"
   },
   "outputs": [],
   "source": [
    "df['Date'] = pd.to_datetime(df['Date'], format='%B %d, %Y')\n",
    "df['Date']"
   ]
  },
  {
   "cell_type": "markdown",
   "id": "lgT1Zb1CmovG",
   "metadata": {
    "id": "lgT1Zb1CmovG"
   },
   "source": [
    "### Groupby persidents:\n",
    "`dict[president_name]` = `[texts]`\n"
   ]
  },
  {
   "cell_type": "code",
   "execution_count": null,
   "id": "ee391dbb-899d-4847-82db-199160b4818c",
   "metadata": {
    "id": "ee391dbb-899d-4847-82db-199160b4818c"
   },
   "outputs": [],
   "source": [
    "president_name = df['President'].tolist()\n",
    "president_text_dict = {keys: [i for _, i in sub] for keys, sub in groupby(\n",
    "         zip(president_name, text_list), key = itemgetter(0))}"
   ]
  },
  {
   "cell_type": "code",
   "execution_count": null,
   "id": "75359f45-ceae-4124-96e3-4e3b9ef537ff",
   "metadata": {
    "colab": {
     "base_uri": "https://localhost:8080/"
    },
    "id": "75359f45-ceae-4124-96e3-4e3b9ef537ff",
    "outputId": "d604ecce-2a5c-45d4-fc3f-96874a708c44"
   },
   "outputs": [],
   "source": [
    "president_text_dict.keys()"
   ]
  },
  {
   "cell_type": "code",
   "execution_count": null,
   "id": "4d9427e7-9145-4184-8b90-77b62d834872",
   "metadata": {
    "colab": {
     "base_uri": "https://localhost:8080/"
    },
    "id": "4d9427e7-9145-4184-8b90-77b62d834872",
    "outputId": "2d94623a-faeb-433f-fbc1-b0bacd6d2e4c"
   },
   "outputs": [],
   "source": [
    "len(president_text_dict['Barack Obama'])"
   ]
  },
  {
   "cell_type": "markdown",
   "id": "qkUF2encenjV",
   "metadata": {
    "id": "qkUF2encenjV"
   },
   "source": [
    "### Tokenizer"
   ]
  },
  {
   "cell_type": "code",
   "execution_count": null,
   "id": "69ff092b-0dd8-458b-88e9-5d7c8dad74e3",
   "metadata": {
    "id": "69ff092b-0dd8-458b-88e9-5d7c8dad74e3"
   },
   "outputs": [],
   "source": [
    "# http://stackoverflow.com/questions/36353125/nltk-regular-expression-tokenizer\n",
    "pattern = r'''(?x)          # set flag to allow verbose regexps\n",
    "        (?:[a-zA-Z]\\.)+(?:[a-zA-Z])?         # abbreviations, e.g. U.S.A.\n",
    "      | \\w+(?:-\\w+)*        # words with optional internal hyphens\n",
    "      | \\$?\\d+(?:\\.\\d+)?%?\\s?  # currency and percentages, e.g. $12.40, 82%\n",
    "      | \\.\\.\\.              # ellipsis\n",
    "      | [][.,;\"'?():_`-]    # these are separate tokens; includes ], [\n",
    "    '''\n",
    "\n",
    "pattern = re.compile(pattern)\n",
    "\n",
    "def tokenize_text(text):\n",
    "    return regexp_tokenize(text, pattern)"
   ]
  },
  {
   "cell_type": "markdown",
   "id": "jhJV0CUse5QV",
   "metadata": {
    "id": "jhJV0CUse5QV"
   },
   "source": [
    "### Lemmatizer"
   ]
  },
  {
   "cell_type": "code",
   "execution_count": null,
   "id": "5361f260-bc04-4dd7-b6bc-ac627eebc793",
   "metadata": {
    "id": "5361f260-bc04-4dd7-b6bc-ac627eebc793"
   },
   "outputs": [],
   "source": [
    "def lemmatize_all(sentence):\n",
    "    l = []\n",
    "    wnl = WordNetLemmatizer()\n",
    "    for word, tag in pos_tag(tokenize_text(sentence)):\n",
    "        if tag.startswith('N'):\n",
    "            l.append(wnl.lemmatize(word, pos='n'))\n",
    "        elif tag.startswith('V'):\n",
    "            l.append(wnl.lemmatize(word, pos='v'))\n",
    "        elif tag.startswith('J'):\n",
    "            l.append(wnl.lemmatize(word, pos='a'))\n",
    "        elif tag.startswith('R'):\n",
    "            l.append(wnl.lemmatize(word, pos='r'))\n",
    "            \n",
    "        else:\n",
    "            l.append(wnl.lemmatize(word, pos='n'))\n",
    "    return l"
   ]
  },
  {
   "cell_type": "code",
   "execution_count": null,
   "id": "WHNLENIpfF3u",
   "metadata": {
    "id": "WHNLENIpfF3u"
   },
   "outputs": [],
   "source": []
  },
  {
   "cell_type": "markdown",
   "id": "IMGj56ZYfGp6",
   "metadata": {
    "id": "IMGj56ZYfGp6"
   },
   "source": [
    "#### Test of lemmatizer"
   ]
  },
  {
   "cell_type": "code",
   "execution_count": null,
   "id": "13190e72-5ae3-4427-8fcb-d7c02fe5bd99",
   "metadata": {
    "colab": {
     "base_uri": "https://localhost:8080/"
    },
    "id": "13190e72-5ae3-4427-8fcb-d7c02fe5bd99",
    "outputId": "26a871ba-a464-4d55-ec1e-fd97629c71af"
   },
   "outputs": [],
   "source": [
    "sentence_sample = 'The striped bats are  hanging on their feet for best and wrote you are'\n",
    "print(lemmatize_all(sentence_sample))\n",
    "\n"
   ]
  },
  {
   "cell_type": "code",
   "execution_count": null,
   "id": "_H7OjHINfg_b",
   "metadata": {
    "id": "_H7OjHINfg_b"
   },
   "outputs": [],
   "source": []
  },
  {
   "cell_type": "markdown",
   "id": "nJsrIaVHfh3g",
   "metadata": {
    "id": "nJsrIaVHfh3g"
   },
   "source": [
    "### Normalizing and Cleaning"
   ]
  },
  {
   "cell_type": "code",
   "execution_count": null,
   "id": "53b4f313-78c8-4477-8079-719ab6e7a842",
   "metadata": {
    "id": "53b4f313-78c8-4477-8079-719ab6e7a842"
   },
   "outputs": [],
   "source": [
    "stop_words = set(stopwords.words('english'))\n",
    "def normalize_and_cleaning(text, lemm=True, remove_punct=True, lower=True, stop_word=True, remove_number=True, min_len = 2):\n",
    "\n",
    "    text = re.sub(r'(:?\\[Laughter\\]|\\[Applause\\]|\\[applause\\]|\\[laughter\\])', '', text)\n",
    "    \n",
    "\n",
    "    word_tokens = tokenize_text(text)\n",
    "    \n",
    "    if lower:\n",
    "        text = text.lower()\n",
    "    \n",
    "    \n",
    "    if remove_number:\n",
    "        my_reg = r'\\$?\\d+\\.?\\d*\\w*\\d*'\n",
    "        text = re.sub(my_reg, '', text)\n",
    "    \n",
    "    if remove_punct:\n",
    "        #text =' '.join([word.strip(punctuation) for word in tokenize_text(text) if len(word) > 1])\n",
    "        text =' '.join([word.strip(punctuation) for word in tokenize_text(text) if word not in string.punctuation])\n",
    "    \n",
    "    if lemm:\n",
    "        text = ' '.join(lemmatize_all(text))\n",
    "    \n",
    "    \n",
    "    if stop_word:\n",
    "        text = ' '.join([w for w in tokenize_text(text) if not w.lower() in stop_words])\n",
    "    \n",
    "\n",
    "    \n",
    "    if min_len>1:\n",
    "        text = ' '.join([word for word in tokenize_text(text) if len(word)>min_len])  \n",
    "\n",
    "    \n",
    "    text = re.sub(' +', ' ', text)\n",
    "    \n",
    "    return text\n",
    "    \n",
    "    "
   ]
  },
  {
   "cell_type": "code",
   "execution_count": null,
   "id": "OtOV3xIPvNp1",
   "metadata": {
    "colab": {
     "base_uri": "https://localhost:8080/"
    },
    "id": "OtOV3xIPvNp1",
    "outputId": "2aa06902-bc17-4704-d63f-5333bcc5b17f"
   },
   "outputs": [],
   "source": [
    "#Test normalize_and_cleaning\n",
    "test_text ='''[Laughter]poster-print The President. That 1993s Asia—the asia-pacific 22nd 33nd33 6-year U.S.A. wrote good example. [Applause] Well—[applause]. are [Applause] costs $12.40... Michelle Move! u.'''\n",
    "tokens = tokenize_text(test_text)\n",
    "res = normalize_and_cleaning(test_text)\n",
    "res2 = normalize_and_cleaning(test_text,remove_number=False)\n",
    "print(res)\n",
    "\n",
    "print(res2)\n",
    "\n"
   ]
  },
  {
   "cell_type": "markdown",
   "id": "IXLosu6ijU9y",
   "metadata": {
    "id": "IXLosu6ijU9y"
   },
   "source": [
    "### Join all text and create our corpuse"
   ]
  },
  {
   "cell_type": "code",
   "execution_count": null,
   "id": "2fm9irBxY2lI",
   "metadata": {
    "id": "2fm9irBxY2lI"
   },
   "outputs": [],
   "source": [
    "all_doc = ' '.join(text_list)\n",
    "clean_corpuse = normalize_and_cleaning(all_doc)\n",
    "corpuse_tokens = tokenize_text(clean_corpuse)\n"
   ]
  },
  {
   "cell_type": "markdown",
   "id": "dPQI4zd5jpBV",
   "metadata": {
    "id": "dPQI4zd5jpBV"
   },
   "source": [
    "### Most frequent words of our corpuse"
   ]
  },
  {
   "cell_type": "code",
   "execution_count": null,
   "id": "wpvOJ-XQRc6C",
   "metadata": {
    "colab": {
     "base_uri": "https://localhost:8080/",
     "height": 1000
    },
    "id": "wpvOJ-XQRc6C",
    "outputId": "f673719e-d86c-4763-eea0-1a181c5ee25c"
   },
   "outputs": [],
   "source": [
    "counter = Counter(corpuse_tokens)\n",
    "most_occur = counter.most_common(50)\n",
    "corpuse_fre_df = pd.DataFrame.from_records(most_occur, columns =['word', 'frequency'])\n",
    "total_freq = [(x[1]/len(corpuse_tokens))*100 for x in most_occur]\n",
    "corpuse_fre_df['% total frequency'] = total_freq\n",
    "corpuse_fre_df"
   ]
  },
  {
   "cell_type": "code",
   "execution_count": null,
   "id": "hEz9uvGFlJir",
   "metadata": {
    "id": "hEz9uvGFlJir"
   },
   "outputs": [],
   "source": []
  },
  {
   "cell_type": "markdown",
   "id": "2AT0m8wglKov",
   "metadata": {
    "id": "2AT0m8wglKov"
   },
   "source": [
    "### Statistical information"
   ]
  },
  {
   "cell_type": "code",
   "execution_count": null,
   "id": "yc3HdXpuTy6-",
   "metadata": {
    "id": "yc3HdXpuTy6-"
   },
   "outputs": [],
   "source": [
    "def Statistical_info(text_tokens):\n",
    "  print (f\"Number of words : {len(text_tokens)}\")\n",
    "  print (f\"Number of unique  words : {len(set(text_tokens))}\")\n",
    "  word_len_avg = sum(map(len, text_tokens))/float(len(text_tokens))\n",
    "  print (f\"Average word length : {word_len_avg}\")\n",
    "  sent_len_avg = np.mean([len(' '.join(s)) for s in text_tokens])\n",
    "  max_w = max(text_tokens, key=len)\n",
    "  min_w = min(text_tokens, key=len)\n",
    "  print (f\"Longest word : {max_w}\")\n",
    "  print (f\"Shortest word : {min_w}\")"
   ]
  },
  {
   "cell_type": "markdown",
   "id": "Uu5cUNTUlVTc",
   "metadata": {
    "id": "Uu5cUNTUlVTc"
   },
   "source": [
    "### Word cloud of corpuse"
   ]
  },
  {
   "cell_type": "code",
   "execution_count": null,
   "id": "NGELSfswUBsz",
   "metadata": {
    "colab": {
     "base_uri": "https://localhost:8080/",
     "height": 607
    },
    "id": "NGELSfswUBsz",
    "outputId": "1f28e07e-c08e-4710-a6f3-8317039aebbd"
   },
   "outputs": [],
   "source": [
    "wordcloud = WordCloud(width = 800, height = 800,\n",
    "                background_color ='white',\n",
    "                min_font_size = 10).generate(clean_corpuse)\n",
    " \n",
    "# plot the WordCloud image                      \n",
    "plt.figure(figsize = (8, 8), facecolor = None)\n",
    "plt.imshow(wordcloud)\n",
    "plt.axis(\"off\")\n",
    "plt.tight_layout(pad = 0)\n",
    " \n",
    "plt.show()"
   ]
  },
  {
   "cell_type": "markdown",
   "id": "HaKu78zAlpOg",
   "metadata": {
    "id": "HaKu78zAlpOg"
   },
   "source": [
    "### Statistical information of corpuse"
   ]
  },
  {
   "cell_type": "code",
   "execution_count": null,
   "id": "-4FepXeFPJhd",
   "metadata": {
    "colab": {
     "base_uri": "https://localhost:8080/"
    },
    "id": "-4FepXeFPJhd",
    "outputId": "291d89ff-81ac-4b13-a1b8-1ce7c6c5e05b"
   },
   "outputs": [],
   "source": [
    "  print('*' *50)\n",
    "  print('Statical information of corpus')\n",
    "  print('*' *50)\n",
    "  Statistical_info(corpuse_tokens)"
   ]
  },
  {
   "cell_type": "markdown",
   "id": "9VKPJSS9mdGx",
   "metadata": {
    "id": "9VKPJSS9mdGx"
   },
   "source": [
    "###Statistical information for each president"
   ]
  },
  {
   "cell_type": "code",
   "execution_count": null,
   "id": "20skmL3Pw244",
   "metadata": {
    "colab": {
     "base_uri": "https://localhost:8080/",
     "height": 1000,
     "referenced_widgets": [
      "c8717491c1454e2c9a5a449f57e13f36",
      "debf48c80d2c4409b9a5482a4e15e031",
      "8cdbe096107740b1b323da739c92728b",
      "598e7fa87b8a426e93d4184e121fdf7e",
      "faacb4d6261e44d6a9d4e423f70ed5a9",
      "f1f0e92a68d747b684409ec90aa18278",
      "8705bb7bf6974ce2bd9dfe5628c311df",
      "e78440fa64014f52a602f2111c351b0a",
      "35b6aa852f534f2c93c971ee4c0f27b9",
      "cedf296522214f6da07950323544a76f",
      "5591f662312e4c30bd3e03a2c44dac72"
     ]
    },
    "id": "20skmL3Pw244",
    "outputId": "a370df55-1123-4c4a-f4f4-33dae293fbfe"
   },
   "outputs": [],
   "source": [
    "for president, text_list in tqdm.tqdm_notebook(president_text_dict.items()):\n",
    "  president_texts = (' '.join(text_list))\n",
    "  clean_text = normalize_and_cleaning(president_texts)\n",
    "  president_tokens = tokenize_text(clean_text)\n",
    "  print('*' *50)\n",
    "  print(president)\n",
    "  print('*' *50)\n",
    "  Statistical_info(president_tokens)\n"
   ]
  },
  {
   "cell_type": "code",
   "execution_count": null,
   "id": "GktujBdtyU60",
   "metadata": {
    "colab": {
     "base_uri": "https://localhost:8080/",
     "height": 124,
     "referenced_widgets": [
      "59058189c026444ebac32ef28cbf509e",
      "07e5ef2225e84cc3b49d3108eb7ba442",
      "03b4724b931540309c26791ce03ed48a",
      "792cd2e1b7d34a2a81c886028e14acca",
      "e6c4957cafea44578de386ca058d7a6b",
      "209d45b5ab6b46c6b13b76ff85b45261",
      "8680a633227a45b19fa35e78c0f463a7",
      "202929fc59854871a9260d361ef6ab16",
      "45259a954c814f099cc63385bb6ec8f0",
      "f038018030ce42648e9ff80f4757a22b",
      "7c44a354e270422ba424d2ac9f0118f7"
     ]
    },
    "id": "GktujBdtyU60",
    "outputId": "99ed393c-63a6-4df5-b601-e6a6973c9c79"
   },
   "outputs": [],
   "source": [
    "from sklearn.feature_extraction.text import TfidfVectorizer\n",
    "all_p_text =[]\n",
    "for president, text_list in tqdm.tqdm_notebook(president_text_dict.items()):\n",
    "  president_texts = (' '.join(text_list))\n",
    "  clean_text = normalize_and_cleaning(president_texts)\n",
    "  all_p_text.append(clean_text)\n",
    "\n"
   ]
  },
  {
   "cell_type": "markdown",
   "id": "9Q_hGtrhyVqs",
   "metadata": {
    "id": "9Q_hGtrhyVqs"
   },
   "source": [
    "### Clustering"
   ]
  },
  {
   "cell_type": "code",
   "execution_count": null,
   "id": "GdYHphS-ij1H",
   "metadata": {
    "colab": {
     "base_uri": "https://localhost:8080/",
     "height": 654
    },
    "id": "GdYHphS-ij1H",
    "outputId": "c87c8483-6603-4818-8fd9-5841ba2ae180"
   },
   "outputs": [],
   "source": [
    "vectorizer = TfidfVectorizer(tokenizer=tokenize_text)\n",
    "X = vectorizer.fit_transform(all_p_text)\n",
    "vectorizer.get_feature_names_out()\n",
    "print(X.shape)\n",
    "#X = vect.fit_transform(docs) \n",
    "count_vect_df = pd.DataFrame(X.todense(), columns=vectorizer.get_feature_names())\n",
    "count_vect_df\n",
    "#X_df = pd.DataFrame(X)\n"
   ]
  },
  {
   "cell_type": "code",
   "execution_count": null,
   "id": "0fo23FrGb1HA",
   "metadata": {
    "id": "0fo23FrGb1HA"
   },
   "outputs": [],
   "source": [
    "\n"
   ]
  },
  {
   "cell_type": "code",
   "execution_count": null,
   "id": "OinznuPJPtOZ",
   "metadata": {
    "id": "OinznuPJPtOZ"
   },
   "outputs": [],
   "source": [
    "from sklearn.cluster import KMeans\n",
    "kmeans = KMeans(n_clusters=3, random_state=0)\n",
    "y = kmeans.fit_predict(X)\n",
    "p_names = list(president_text_dict.keys())\n",
    "vect_df = pd.DataFrame(p_names, columns = ['President'])\n",
    "vect_df['Label'] = y"
   ]
  },
  {
   "cell_type": "code",
   "execution_count": null,
   "id": "D0e44vxcXz85",
   "metadata": {
    "colab": {
     "base_uri": "https://localhost:8080/",
     "height": 488
    },
    "id": "D0e44vxcXz85",
    "outputId": "729b2ab0-c655-4cdf-c68e-4c1d67cf7e69"
   },
   "outputs": [],
   "source": [
    "vect_df"
   ]
  },
  {
   "cell_type": "code",
   "execution_count": null,
   "id": "nix3nmzWnaQo",
   "metadata": {
    "colab": {
     "base_uri": "https://localhost:8080/",
     "height": 745
    },
    "id": "nix3nmzWnaQo",
    "outputId": "5dd450fe-150c-4081-c115-7b9e92d7841f"
   },
   "outputs": [],
   "source": [
    "final_df = pd.concat([vect_df, count_vect_df], axis=1)\n",
    "f = final_df.iloc[0:12,:]\n",
    "f"
   ]
  },
  {
   "cell_type": "code",
   "execution_count": null,
   "id": "4r5pOPOGn2G3",
   "metadata": {
    "colab": {
     "base_uri": "https://localhost:8080/",
     "height": 165
    },
    "id": "4r5pOPOGn2G3",
    "outputId": "ff51342b-c733-417d-c45e-3eecc91e8e7b"
   },
   "outputs": [],
   "source": [
    "num_clusters = 3\n",
    "num_seeds = 3\n",
    "max_iterations = 300\n",
    "labels_color_map = {\n",
    "    0: '#20b2aa', 1: '#ff7373', 2: '#ffe4e1'\n",
    "}\n",
    "pca_num_components = 2\n",
    "tsne_num_components = 2\n",
    "\n",
    "X1 = X.todense()\n",
    "reduced_data = PCA(n_components=pca_num_components).fit_transform(X1)\n",
    "# print reduced_data\n",
    "dense_df = pd.DataFrame(reduced_data, columns=['X','Y'])\n",
    "dense_df\n"
   ]
  },
  {
   "cell_type": "code",
   "execution_count": null,
   "id": "JCkddVzwwb5U",
   "metadata": {
    "colab": {
     "base_uri": "https://localhost:8080/",
     "height": 488
    },
    "id": "JCkddVzwwb5U",
    "outputId": "c9aba724-ef64-402d-f4fb-fcea9f89e735"
   },
   "outputs": [],
   "source": [
    "dense_df"
   ]
  },
  {
   "cell_type": "code",
   "execution_count": null,
   "id": "gd_DLsgOw0MO",
   "metadata": {
    "colab": {
     "base_uri": "https://localhost:8080/",
     "height": 488
    },
    "id": "gd_DLsgOw0MO",
    "outputId": "5d4b64df-2dfb-4412-cd6a-d2d138530601"
   },
   "outputs": [],
   "source": [
    "final_dense_df = pd.concat([vect_df, dense_df], axis=1)\n",
    "final_dense_df"
   ]
  },
  {
   "cell_type": "code",
   "execution_count": null,
   "id": "1Tv9s5zBx8Hc",
   "metadata": {
    "colab": {
     "base_uri": "https://localhost:8080/",
     "height": 413
    },
    "id": "1Tv9s5zBx8Hc",
    "outputId": "1030e60a-e72b-484e-a6ec-2024794a1c4e"
   },
   "outputs": [],
   "source": [
    "groups = final_dense_df.groupby('Label')\n",
    "cluster_names_0 = {0: 'Cluster 0', 1: 'Cluster 1', 2: 'Cluster 2'}\n",
    "# set up plot\n",
    "fig, ax = plt.subplots(figsize=(17, 9)) # set size\n",
    "ax.margins(0.05) # Optional, just adds 5% padding to the autoscaling\n",
    "\n",
    "#iterate through groups to layer the plot\n",
    "for name, group in groups:\n",
    "    ax.plot(group.X, group.Y, marker='o', linestyle='', ms=12, \n",
    "            label=cluster_names_0[name], \n",
    "            mec='none')\n",
    "    ax.set_aspect('auto')\n",
    "    ax.tick_params(\\\n",
    "        axis= 'x',          \n",
    "        which='both',       #both major and minor ticks are affected\n",
    "        bottom=False,      \n",
    "        top=False,         \n",
    "        labelbottom=False)\n",
    "    ax.tick_params(\\\n",
    "        axis= 'y',         \n",
    "        which='both',     \n",
    "        left=False,      \n",
    "        top=False,         \n",
    "        labelleft=False)\n",
    "    \n",
    "ax.legend(numpoints=1, loc='upper left')  #show legend with only 1 point\n",
    "\n",
    "#add label in x,y position with the label as the speech title\n",
    "for i in range(len(final_dense_df)):\n",
    "    ax.text(final_dense_df.loc[i]['X'], final_dense_df.loc[i]['Y'], final_dense_df.loc[i]['President'], size=13)  \n",
    "\n",
    "    \n",
    "    \n",
    "plt.show()"
   ]
  },
  {
   "cell_type": "markdown",
   "id": "-OrxCZBGIUiu",
   "metadata": {
    "id": "-OrxCZBGIUiu"
   },
   "source": [
    "NER"
   ]
  },
  {
   "cell_type": "code",
   "execution_count": null,
   "id": "MajC9u05TIfF",
   "metadata": {
    "id": "MajC9u05TIfF"
   },
   "outputs": [],
   "source": [
    "def specify_NER(raw_text):\n",
    "  doc = ner.name(raw_text, language='en_core_web_sm')\n",
    "  print(doc)\n",
    "  text_label = [(X.text, X.label_) for X in doc]\n",
    "  for text, label in text_label:\n",
    "    if(label != 'GPE'):\n",
    "      raw_text = raw_text.replace(text, label)\n",
    "  return raw_text"
   ]
  },
  {
   "cell_type": "code",
   "execution_count": null,
   "id": "3otcFORETJ8m",
   "metadata": {
    "colab": {
     "base_uri": "https://localhost:8080/",
     "height": 54
    },
    "id": "3otcFORETJ8m",
    "outputId": "1ae07c5e-7030-4d5d-fda9-91a750751413"
   },
   "outputs": [],
   "source": [
    "input_text = \"That U.S.A. poster-print e.g the U.S costs $12.40 that created in 2008 by Jeff Atwood and Joel Spolsky.\"\n",
    "specify_NER(input_text)"
   ]
  },
  {
   "cell_type": "code",
   "execution_count": null,
   "id": "KsNRrhXqCmMh",
   "metadata": {
    "colab": {
     "base_uri": "https://localhost:8080/",
     "height": 52
    },
    "id": "KsNRrhXqCmMh",
    "outputId": "4c308a4b-e407-4d89-e172-a51cf334df48"
   },
   "outputs": [],
   "source": [
    "NER = spacy.load(\"en_core_web_sm\")\n",
    "raw_text = 'That U.S.A. poster-print e.g the U.S costs $12.40'\n",
    "text1= NER(raw_text)\n",
    "displacy.render(text1,style=\"ent\",jupyter=True)\n",
    "\n"
   ]
  },
  {
   "cell_type": "code",
   "execution_count": null,
   "id": "QCxMu6RNFwYL",
   "metadata": {
    "colab": {
     "base_uri": "https://localhost:8080/"
    },
    "id": "QCxMu6RNFwYL",
    "outputId": "6a971376-2ad2-426b-df3f-4c2fcc32e38e"
   },
   "outputs": [],
   "source": [
    "\n",
    "s = \"That U.S.A. and Nicolas poster-print e.g the U.S costs $12.40\"\n",
    "doc = NER(s)\n",
    "word_tokens = tokenize_text(s)\n",
    "\n",
    "a = \" \".join([t.text if not t.ent_type_ else t.ent_type_ for t in doc])\n",
    "print(tokenize_text(a))\n"
   ]
  },
  {
   "cell_type": "code",
   "execution_count": null,
   "id": "7952b5c1-daf9-4fc2-80bc-c3185e1fb539",
   "metadata": {
    "colab": {
     "base_uri": "https://localhost:8080/"
    },
    "id": "7952b5c1-daf9-4fc2-80bc-c3185e1fb539",
    "outputId": "0c792ca3-34ed-4805-c00e-0ea55a524312"
   },
   "outputs": [],
   "source": [
    "l = tokenize_text('That U.S.A. poster-print e.g the U.S costs $12.40 amir. hello')\n",
    "t = 'That U.S.A. poster-print e.g the U.S costs $12.40 amir. hello'\n",
    "def punct(text):\n",
    "    text = ' '.join([t for t in tokenize_text(text) if len(t) > 1])\n",
    "    text = ' '.join(word.strip(punctuation) for word in tokenize_text(text))\n",
    "    return text\n",
    "        \n",
    "#punct(t) \n",
    "import re, string\n",
    "\n",
    "def test(text):\n",
    "    out =' '.join([word for word in tokenize_text(text) if word not in string.punctuation])\n",
    "\n",
    "    return out\n",
    "print(test(t))\n",
    "print(punct(t))\n",
    "#print(l)"
   ]
  },
  {
   "cell_type": "code",
   "execution_count": null,
   "id": "a17f4fa1-f1ae-4c39-bb46-b7f8f6c825a0",
   "metadata": {
    "colab": {
     "base_uri": "https://localhost:8080/"
    },
    "id": "a17f4fa1-f1ae-4c39-bb46-b7f8f6c825a0",
    "outputId": "2534841b-2971-4232-851b-203dfe570294"
   },
   "outputs": [],
   "source": [
    "l = 'That U.S.A. poster-print e.g the U.S costs $12.40 3th amir. hello 7. 9 2th 2nd2 5-year $56 $4 1890'\n",
    "\n",
    "def remove_num(t):\n",
    "    my_reg = r'\\$?\\d+\\.?\\d*\\w*\\d*'\n",
    "    text = re.sub(my_reg, '', t)\n",
    "    text = re.sub(' +', ' ', text)\n",
    "    return text\n",
    "\n",
    "y = remove_num(l)\n",
    "print(test(y))\n"
   ]
  },
  {
   "cell_type": "code",
   "execution_count": null,
   "id": "5e46dba9-2eed-4eee-9f1f-bb2376813952",
   "metadata": {
    "colab": {
     "base_uri": "https://localhost:8080/"
    },
    "id": "5e46dba9-2eed-4eee-9f1f-bb2376813952",
    "outputId": "2cbc5767-8d97-4792-9f4f-5bfaefe4a2e1"
   },
   "outputs": [],
   "source": [
    "print(stopwords.words('english'))\n"
   ]
  },
  {
   "cell_type": "code",
   "execution_count": null,
   "id": "e200206d-1c47-418f-af85-daf103cdbe83",
   "metadata": {
    "id": "e200206d-1c47-418f-af85-daf103cdbe83"
   },
   "outputs": [],
   "source": [
    "from nltk.tokenize import word_tokenize\n",
    "min_len = 2\n",
    "l = 'That U.S.A. poster-print e.g the U.S cs $12.40 3th am'\n",
    "t = word_tokenize(l)\n",
    "if min_len>1:\n",
    "    text = ' '.join([word for word in t if len(word)>min_len]) "
   ]
  },
  {
   "cell_type": "code",
   "execution_count": null,
   "id": "H2PYJAopvRLz",
   "metadata": {
    "colab": {
     "base_uri": "https://localhost:8080/",
     "height": 35
    },
    "id": "H2PYJAopvRLz",
    "outputId": "6c192682-af14-4db0-f14a-4f2825d6860c"
   },
   "outputs": [],
   "source": [
    "text"
   ]
  },
  {
   "cell_type": "code",
   "execution_count": null,
   "id": "VVIwK4lWvhSC",
   "metadata": {
    "colab": {
     "base_uri": "https://localhost:8080/",
     "height": 35
    },
    "id": "VVIwK4lWvhSC",
    "outputId": "7a42f96e-7f28-4b9c-85c7-6a9e929dc691"
   },
   "outputs": [],
   "source": [
    "text = '[Laughter]poster-print The President. That 1993s [Applause] Asia—the asia-pacific'\n",
    "tt = re.sub(r'(:?\\[Laughter\\]|\\[Applause\\]|\\[applause\\]|\\[laughter\\])', '', text)\n",
    "tt"
   ]
  },
  {
   "cell_type": "code",
   "execution_count": null,
   "id": "4Jgq-X8gxcgt",
   "metadata": {
    "id": "4Jgq-X8gxcgt"
   },
   "outputs": [],
   "source": []
  }
 ],
 "metadata": {
  "colab": {
   "include_colab_link": true,
   "name": "Main.ipynb",
   "provenance": []
  },
  "kernelspec": {
   "display_name": "Python 3 (ipykernel)",
   "language": "python",
   "name": "python3"
  },
  "language_info": {
   "codemirror_mode": {
    "name": "ipython",
    "version": 3
   },
   "file_extension": ".py",
   "mimetype": "text/x-python",
   "name": "python",
   "nbconvert_exporter": "python",
   "pygments_lexer": "ipython3",
   "version": "3.9.9"
  },
  "widgets": {
   "application/vnd.jupyter.widget-state+json": {
    "03b4724b931540309c26791ce03ed48a": {
     "model_module": "@jupyter-widgets/controls",
     "model_module_version": "1.5.0",
     "model_name": "FloatProgressModel",
     "state": {
      "_dom_classes": [],
      "_model_module": "@jupyter-widgets/controls",
      "_model_module_version": "1.5.0",
      "_model_name": "FloatProgressModel",
      "_view_count": null,
      "_view_module": "@jupyter-widgets/controls",
      "_view_module_version": "1.5.0",
      "_view_name": "ProgressView",
      "bar_style": "success",
      "description": "",
      "description_tooltip": null,
      "layout": "IPY_MODEL_202929fc59854871a9260d361ef6ab16",
      "max": 14,
      "min": 0,
      "orientation": "horizontal",
      "style": "IPY_MODEL_45259a954c814f099cc63385bb6ec8f0",
      "value": 14
     }
    },
    "07e5ef2225e84cc3b49d3108eb7ba442": {
     "model_module": "@jupyter-widgets/controls",
     "model_module_version": "1.5.0",
     "model_name": "HTMLModel",
     "state": {
      "_dom_classes": [],
      "_model_module": "@jupyter-widgets/controls",
      "_model_module_version": "1.5.0",
      "_model_name": "HTMLModel",
      "_view_count": null,
      "_view_module": "@jupyter-widgets/controls",
      "_view_module_version": "1.5.0",
      "_view_name": "HTMLView",
      "description": "",
      "description_tooltip": null,
      "layout": "IPY_MODEL_209d45b5ab6b46c6b13b76ff85b45261",
      "placeholder": "​",
      "style": "IPY_MODEL_8680a633227a45b19fa35e78c0f463a7",
      "value": "100%"
     }
    },
    "202929fc59854871a9260d361ef6ab16": {
     "model_module": "@jupyter-widgets/base",
     "model_module_version": "1.2.0",
     "model_name": "LayoutModel",
     "state": {
      "_model_module": "@jupyter-widgets/base",
      "_model_module_version": "1.2.0",
      "_model_name": "LayoutModel",
      "_view_count": null,
      "_view_module": "@jupyter-widgets/base",
      "_view_module_version": "1.2.0",
      "_view_name": "LayoutView",
      "align_content": null,
      "align_items": null,
      "align_self": null,
      "border": null,
      "bottom": null,
      "display": null,
      "flex": null,
      "flex_flow": null,
      "grid_area": null,
      "grid_auto_columns": null,
      "grid_auto_flow": null,
      "grid_auto_rows": null,
      "grid_column": null,
      "grid_gap": null,
      "grid_row": null,
      "grid_template_areas": null,
      "grid_template_columns": null,
      "grid_template_rows": null,
      "height": null,
      "justify_content": null,
      "justify_items": null,
      "left": null,
      "margin": null,
      "max_height": null,
      "max_width": null,
      "min_height": null,
      "min_width": null,
      "object_fit": null,
      "object_position": null,
      "order": null,
      "overflow": null,
      "overflow_x": null,
      "overflow_y": null,
      "padding": null,
      "right": null,
      "top": null,
      "visibility": null,
      "width": null
     }
    },
    "209d45b5ab6b46c6b13b76ff85b45261": {
     "model_module": "@jupyter-widgets/base",
     "model_module_version": "1.2.0",
     "model_name": "LayoutModel",
     "state": {
      "_model_module": "@jupyter-widgets/base",
      "_model_module_version": "1.2.0",
      "_model_name": "LayoutModel",
      "_view_count": null,
      "_view_module": "@jupyter-widgets/base",
      "_view_module_version": "1.2.0",
      "_view_name": "LayoutView",
      "align_content": null,
      "align_items": null,
      "align_self": null,
      "border": null,
      "bottom": null,
      "display": null,
      "flex": null,
      "flex_flow": null,
      "grid_area": null,
      "grid_auto_columns": null,
      "grid_auto_flow": null,
      "grid_auto_rows": null,
      "grid_column": null,
      "grid_gap": null,
      "grid_row": null,
      "grid_template_areas": null,
      "grid_template_columns": null,
      "grid_template_rows": null,
      "height": null,
      "justify_content": null,
      "justify_items": null,
      "left": null,
      "margin": null,
      "max_height": null,
      "max_width": null,
      "min_height": null,
      "min_width": null,
      "object_fit": null,
      "object_position": null,
      "order": null,
      "overflow": null,
      "overflow_x": null,
      "overflow_y": null,
      "padding": null,
      "right": null,
      "top": null,
      "visibility": null,
      "width": null
     }
    },
    "35b6aa852f534f2c93c971ee4c0f27b9": {
     "model_module": "@jupyter-widgets/controls",
     "model_module_version": "1.5.0",
     "model_name": "ProgressStyleModel",
     "state": {
      "_model_module": "@jupyter-widgets/controls",
      "_model_module_version": "1.5.0",
      "_model_name": "ProgressStyleModel",
      "_view_count": null,
      "_view_module": "@jupyter-widgets/base",
      "_view_module_version": "1.2.0",
      "_view_name": "StyleView",
      "bar_color": null,
      "description_width": ""
     }
    },
    "45259a954c814f099cc63385bb6ec8f0": {
     "model_module": "@jupyter-widgets/controls",
     "model_module_version": "1.5.0",
     "model_name": "ProgressStyleModel",
     "state": {
      "_model_module": "@jupyter-widgets/controls",
      "_model_module_version": "1.5.0",
      "_model_name": "ProgressStyleModel",
      "_view_count": null,
      "_view_module": "@jupyter-widgets/base",
      "_view_module_version": "1.2.0",
      "_view_name": "StyleView",
      "bar_color": null,
      "description_width": ""
     }
    },
    "5591f662312e4c30bd3e03a2c44dac72": {
     "model_module": "@jupyter-widgets/controls",
     "model_module_version": "1.5.0",
     "model_name": "DescriptionStyleModel",
     "state": {
      "_model_module": "@jupyter-widgets/controls",
      "_model_module_version": "1.5.0",
      "_model_name": "DescriptionStyleModel",
      "_view_count": null,
      "_view_module": "@jupyter-widgets/base",
      "_view_module_version": "1.2.0",
      "_view_name": "StyleView",
      "description_width": ""
     }
    },
    "59058189c026444ebac32ef28cbf509e": {
     "model_module": "@jupyter-widgets/controls",
     "model_module_version": "1.5.0",
     "model_name": "HBoxModel",
     "state": {
      "_dom_classes": [],
      "_model_module": "@jupyter-widgets/controls",
      "_model_module_version": "1.5.0",
      "_model_name": "HBoxModel",
      "_view_count": null,
      "_view_module": "@jupyter-widgets/controls",
      "_view_module_version": "1.5.0",
      "_view_name": "HBoxView",
      "box_style": "",
      "children": [
       "IPY_MODEL_07e5ef2225e84cc3b49d3108eb7ba442",
       "IPY_MODEL_03b4724b931540309c26791ce03ed48a",
       "IPY_MODEL_792cd2e1b7d34a2a81c886028e14acca"
      ],
      "layout": "IPY_MODEL_e6c4957cafea44578de386ca058d7a6b"
     }
    },
    "598e7fa87b8a426e93d4184e121fdf7e": {
     "model_module": "@jupyter-widgets/controls",
     "model_module_version": "1.5.0",
     "model_name": "HTMLModel",
     "state": {
      "_dom_classes": [],
      "_model_module": "@jupyter-widgets/controls",
      "_model_module_version": "1.5.0",
      "_model_name": "HTMLModel",
      "_view_count": null,
      "_view_module": "@jupyter-widgets/controls",
      "_view_module_version": "1.5.0",
      "_view_name": "HTMLView",
      "description": "",
      "description_tooltip": null,
      "layout": "IPY_MODEL_cedf296522214f6da07950323544a76f",
      "placeholder": "​",
      "style": "IPY_MODEL_5591f662312e4c30bd3e03a2c44dac72",
      "value": " 14/14 [00:34&lt;00:00,  2.88s/it]"
     }
    },
    "792cd2e1b7d34a2a81c886028e14acca": {
     "model_module": "@jupyter-widgets/controls",
     "model_module_version": "1.5.0",
     "model_name": "HTMLModel",
     "state": {
      "_dom_classes": [],
      "_model_module": "@jupyter-widgets/controls",
      "_model_module_version": "1.5.0",
      "_model_name": "HTMLModel",
      "_view_count": null,
      "_view_module": "@jupyter-widgets/controls",
      "_view_module_version": "1.5.0",
      "_view_name": "HTMLView",
      "description": "",
      "description_tooltip": null,
      "layout": "IPY_MODEL_f038018030ce42648e9ff80f4757a22b",
      "placeholder": "​",
      "style": "IPY_MODEL_7c44a354e270422ba424d2ac9f0118f7",
      "value": " 14/14 [00:29&lt;00:00,  1.46s/it]"
     }
    },
    "7c44a354e270422ba424d2ac9f0118f7": {
     "model_module": "@jupyter-widgets/controls",
     "model_module_version": "1.5.0",
     "model_name": "DescriptionStyleModel",
     "state": {
      "_model_module": "@jupyter-widgets/controls",
      "_model_module_version": "1.5.0",
      "_model_name": "DescriptionStyleModel",
      "_view_count": null,
      "_view_module": "@jupyter-widgets/base",
      "_view_module_version": "1.2.0",
      "_view_name": "StyleView",
      "description_width": ""
     }
    },
    "8680a633227a45b19fa35e78c0f463a7": {
     "model_module": "@jupyter-widgets/controls",
     "model_module_version": "1.5.0",
     "model_name": "DescriptionStyleModel",
     "state": {
      "_model_module": "@jupyter-widgets/controls",
      "_model_module_version": "1.5.0",
      "_model_name": "DescriptionStyleModel",
      "_view_count": null,
      "_view_module": "@jupyter-widgets/base",
      "_view_module_version": "1.2.0",
      "_view_name": "StyleView",
      "description_width": ""
     }
    },
    "8705bb7bf6974ce2bd9dfe5628c311df": {
     "model_module": "@jupyter-widgets/controls",
     "model_module_version": "1.5.0",
     "model_name": "DescriptionStyleModel",
     "state": {
      "_model_module": "@jupyter-widgets/controls",
      "_model_module_version": "1.5.0",
      "_model_name": "DescriptionStyleModel",
      "_view_count": null,
      "_view_module": "@jupyter-widgets/base",
      "_view_module_version": "1.2.0",
      "_view_name": "StyleView",
      "description_width": ""
     }
    },
    "8cdbe096107740b1b323da739c92728b": {
     "model_module": "@jupyter-widgets/controls",
     "model_module_version": "1.5.0",
     "model_name": "FloatProgressModel",
     "state": {
      "_dom_classes": [],
      "_model_module": "@jupyter-widgets/controls",
      "_model_module_version": "1.5.0",
      "_model_name": "FloatProgressModel",
      "_view_count": null,
      "_view_module": "@jupyter-widgets/controls",
      "_view_module_version": "1.5.0",
      "_view_name": "ProgressView",
      "bar_style": "success",
      "description": "",
      "description_tooltip": null,
      "layout": "IPY_MODEL_e78440fa64014f52a602f2111c351b0a",
      "max": 14,
      "min": 0,
      "orientation": "horizontal",
      "style": "IPY_MODEL_35b6aa852f534f2c93c971ee4c0f27b9",
      "value": 14
     }
    },
    "c8717491c1454e2c9a5a449f57e13f36": {
     "model_module": "@jupyter-widgets/controls",
     "model_module_version": "1.5.0",
     "model_name": "HBoxModel",
     "state": {
      "_dom_classes": [],
      "_model_module": "@jupyter-widgets/controls",
      "_model_module_version": "1.5.0",
      "_model_name": "HBoxModel",
      "_view_count": null,
      "_view_module": "@jupyter-widgets/controls",
      "_view_module_version": "1.5.0",
      "_view_name": "HBoxView",
      "box_style": "",
      "children": [
       "IPY_MODEL_debf48c80d2c4409b9a5482a4e15e031",
       "IPY_MODEL_8cdbe096107740b1b323da739c92728b",
       "IPY_MODEL_598e7fa87b8a426e93d4184e121fdf7e"
      ],
      "layout": "IPY_MODEL_faacb4d6261e44d6a9d4e423f70ed5a9"
     }
    },
    "cedf296522214f6da07950323544a76f": {
     "model_module": "@jupyter-widgets/base",
     "model_module_version": "1.2.0",
     "model_name": "LayoutModel",
     "state": {
      "_model_module": "@jupyter-widgets/base",
      "_model_module_version": "1.2.0",
      "_model_name": "LayoutModel",
      "_view_count": null,
      "_view_module": "@jupyter-widgets/base",
      "_view_module_version": "1.2.0",
      "_view_name": "LayoutView",
      "align_content": null,
      "align_items": null,
      "align_self": null,
      "border": null,
      "bottom": null,
      "display": null,
      "flex": null,
      "flex_flow": null,
      "grid_area": null,
      "grid_auto_columns": null,
      "grid_auto_flow": null,
      "grid_auto_rows": null,
      "grid_column": null,
      "grid_gap": null,
      "grid_row": null,
      "grid_template_areas": null,
      "grid_template_columns": null,
      "grid_template_rows": null,
      "height": null,
      "justify_content": null,
      "justify_items": null,
      "left": null,
      "margin": null,
      "max_height": null,
      "max_width": null,
      "min_height": null,
      "min_width": null,
      "object_fit": null,
      "object_position": null,
      "order": null,
      "overflow": null,
      "overflow_x": null,
      "overflow_y": null,
      "padding": null,
      "right": null,
      "top": null,
      "visibility": null,
      "width": null
     }
    },
    "debf48c80d2c4409b9a5482a4e15e031": {
     "model_module": "@jupyter-widgets/controls",
     "model_module_version": "1.5.0",
     "model_name": "HTMLModel",
     "state": {
      "_dom_classes": [],
      "_model_module": "@jupyter-widgets/controls",
      "_model_module_version": "1.5.0",
      "_model_name": "HTMLModel",
      "_view_count": null,
      "_view_module": "@jupyter-widgets/controls",
      "_view_module_version": "1.5.0",
      "_view_name": "HTMLView",
      "description": "",
      "description_tooltip": null,
      "layout": "IPY_MODEL_f1f0e92a68d747b684409ec90aa18278",
      "placeholder": "​",
      "style": "IPY_MODEL_8705bb7bf6974ce2bd9dfe5628c311df",
      "value": "100%"
     }
    },
    "e6c4957cafea44578de386ca058d7a6b": {
     "model_module": "@jupyter-widgets/base",
     "model_module_version": "1.2.0",
     "model_name": "LayoutModel",
     "state": {
      "_model_module": "@jupyter-widgets/base",
      "_model_module_version": "1.2.0",
      "_model_name": "LayoutModel",
      "_view_count": null,
      "_view_module": "@jupyter-widgets/base",
      "_view_module_version": "1.2.0",
      "_view_name": "LayoutView",
      "align_content": null,
      "align_items": null,
      "align_self": null,
      "border": null,
      "bottom": null,
      "display": null,
      "flex": null,
      "flex_flow": null,
      "grid_area": null,
      "grid_auto_columns": null,
      "grid_auto_flow": null,
      "grid_auto_rows": null,
      "grid_column": null,
      "grid_gap": null,
      "grid_row": null,
      "grid_template_areas": null,
      "grid_template_columns": null,
      "grid_template_rows": null,
      "height": null,
      "justify_content": null,
      "justify_items": null,
      "left": null,
      "margin": null,
      "max_height": null,
      "max_width": null,
      "min_height": null,
      "min_width": null,
      "object_fit": null,
      "object_position": null,
      "order": null,
      "overflow": null,
      "overflow_x": null,
      "overflow_y": null,
      "padding": null,
      "right": null,
      "top": null,
      "visibility": null,
      "width": null
     }
    },
    "e78440fa64014f52a602f2111c351b0a": {
     "model_module": "@jupyter-widgets/base",
     "model_module_version": "1.2.0",
     "model_name": "LayoutModel",
     "state": {
      "_model_module": "@jupyter-widgets/base",
      "_model_module_version": "1.2.0",
      "_model_name": "LayoutModel",
      "_view_count": null,
      "_view_module": "@jupyter-widgets/base",
      "_view_module_version": "1.2.0",
      "_view_name": "LayoutView",
      "align_content": null,
      "align_items": null,
      "align_self": null,
      "border": null,
      "bottom": null,
      "display": null,
      "flex": null,
      "flex_flow": null,
      "grid_area": null,
      "grid_auto_columns": null,
      "grid_auto_flow": null,
      "grid_auto_rows": null,
      "grid_column": null,
      "grid_gap": null,
      "grid_row": null,
      "grid_template_areas": null,
      "grid_template_columns": null,
      "grid_template_rows": null,
      "height": null,
      "justify_content": null,
      "justify_items": null,
      "left": null,
      "margin": null,
      "max_height": null,
      "max_width": null,
      "min_height": null,
      "min_width": null,
      "object_fit": null,
      "object_position": null,
      "order": null,
      "overflow": null,
      "overflow_x": null,
      "overflow_y": null,
      "padding": null,
      "right": null,
      "top": null,
      "visibility": null,
      "width": null
     }
    },
    "f038018030ce42648e9ff80f4757a22b": {
     "model_module": "@jupyter-widgets/base",
     "model_module_version": "1.2.0",
     "model_name": "LayoutModel",
     "state": {
      "_model_module": "@jupyter-widgets/base",
      "_model_module_version": "1.2.0",
      "_model_name": "LayoutModel",
      "_view_count": null,
      "_view_module": "@jupyter-widgets/base",
      "_view_module_version": "1.2.0",
      "_view_name": "LayoutView",
      "align_content": null,
      "align_items": null,
      "align_self": null,
      "border": null,
      "bottom": null,
      "display": null,
      "flex": null,
      "flex_flow": null,
      "grid_area": null,
      "grid_auto_columns": null,
      "grid_auto_flow": null,
      "grid_auto_rows": null,
      "grid_column": null,
      "grid_gap": null,
      "grid_row": null,
      "grid_template_areas": null,
      "grid_template_columns": null,
      "grid_template_rows": null,
      "height": null,
      "justify_content": null,
      "justify_items": null,
      "left": null,
      "margin": null,
      "max_height": null,
      "max_width": null,
      "min_height": null,
      "min_width": null,
      "object_fit": null,
      "object_position": null,
      "order": null,
      "overflow": null,
      "overflow_x": null,
      "overflow_y": null,
      "padding": null,
      "right": null,
      "top": null,
      "visibility": null,
      "width": null
     }
    },
    "f1f0e92a68d747b684409ec90aa18278": {
     "model_module": "@jupyter-widgets/base",
     "model_module_version": "1.2.0",
     "model_name": "LayoutModel",
     "state": {
      "_model_module": "@jupyter-widgets/base",
      "_model_module_version": "1.2.0",
      "_model_name": "LayoutModel",
      "_view_count": null,
      "_view_module": "@jupyter-widgets/base",
      "_view_module_version": "1.2.0",
      "_view_name": "LayoutView",
      "align_content": null,
      "align_items": null,
      "align_self": null,
      "border": null,
      "bottom": null,
      "display": null,
      "flex": null,
      "flex_flow": null,
      "grid_area": null,
      "grid_auto_columns": null,
      "grid_auto_flow": null,
      "grid_auto_rows": null,
      "grid_column": null,
      "grid_gap": null,
      "grid_row": null,
      "grid_template_areas": null,
      "grid_template_columns": null,
      "grid_template_rows": null,
      "height": null,
      "justify_content": null,
      "justify_items": null,
      "left": null,
      "margin": null,
      "max_height": null,
      "max_width": null,
      "min_height": null,
      "min_width": null,
      "object_fit": null,
      "object_position": null,
      "order": null,
      "overflow": null,
      "overflow_x": null,
      "overflow_y": null,
      "padding": null,
      "right": null,
      "top": null,
      "visibility": null,
      "width": null
     }
    },
    "faacb4d6261e44d6a9d4e423f70ed5a9": {
     "model_module": "@jupyter-widgets/base",
     "model_module_version": "1.2.0",
     "model_name": "LayoutModel",
     "state": {
      "_model_module": "@jupyter-widgets/base",
      "_model_module_version": "1.2.0",
      "_model_name": "LayoutModel",
      "_view_count": null,
      "_view_module": "@jupyter-widgets/base",
      "_view_module_version": "1.2.0",
      "_view_name": "LayoutView",
      "align_content": null,
      "align_items": null,
      "align_self": null,
      "border": null,
      "bottom": null,
      "display": null,
      "flex": null,
      "flex_flow": null,
      "grid_area": null,
      "grid_auto_columns": null,
      "grid_auto_flow": null,
      "grid_auto_rows": null,
      "grid_column": null,
      "grid_gap": null,
      "grid_row": null,
      "grid_template_areas": null,
      "grid_template_columns": null,
      "grid_template_rows": null,
      "height": null,
      "justify_content": null,
      "justify_items": null,
      "left": null,
      "margin": null,
      "max_height": null,
      "max_width": null,
      "min_height": null,
      "min_width": null,
      "object_fit": null,
      "object_position": null,
      "order": null,
      "overflow": null,
      "overflow_x": null,
      "overflow_y": null,
      "padding": null,
      "right": null,
      "top": null,
      "visibility": null,
      "width": null
     }
    }
   }
  }
 },
 "nbformat": 4,
 "nbformat_minor": 5
}
