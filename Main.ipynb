{
  "cells": [
    {
      "cell_type": "markdown",
      "metadata": {
        "id": "view-in-github",
        "colab_type": "text"
      },
      "source": [
        "<a href=\"https://colab.research.google.com/github/nafisenik/NLP-CA2/blob/main/Main.ipynb\" target=\"_parent\"><img src=\"https://colab.research.google.com/assets/colab-badge.svg\" alt=\"Open In Colab\"/></a>"
      ]
    },
    {
      "cell_type": "code",
      "execution_count": 35,
      "id": "0cffcd95-f61f-4027-9739-1ec66b3631c8",
      "metadata": {
        "id": "0cffcd95-f61f-4027-9739-1ec66b3631c8"
      },
      "outputs": [],
      "source": [
        "import os\n",
        "import pandas as pd\n",
        "from itertools import groupby\n",
        "from operator import itemgetter\n",
        "import re\n",
        "from collections import Counter\n",
        "import numpy as np\n",
        "import tqdm\n",
        "from wordcloud import WordCloud\n",
        "import matplotlib.pyplot as plt\n",
        "from vaderSentiment.vaderSentiment import SentimentIntensityAnalyzer\n",
        "\n",
        "\n",
        "\n",
        "from nltk import regexp_tokenize\n",
        "from nltk.stem.wordnet import WordNetLemmatizer\n",
        "from nltk import pos_tag\n",
        "import nltk\n",
        "from nltk.corpus import stopwords\n",
        "from string import punctuation\n",
        "import string\n",
        "from nltk.tokenize import word_tokenize\n",
        "\n",
        "import spacy\n",
        "from spacy import displacy\n",
        "\n",
        "from nerd import ner\n",
        "\n",
        "import datetime"
      ]
    },
    {
      "cell_type": "code",
      "source": [
        "nltk.download('averaged_perceptron_tagger')\n",
        "nltk.download('omw-1.4')\n",
        "nltk.download('wordnet')\n",
        "nltk.download('stopwords')\n",
        "nltk.download('punkt')"
      ],
      "metadata": {
        "id": "n9MYiLjGjxsN",
        "colab": {
          "base_uri": "https://localhost:8080/"
        },
        "outputId": "c5d12865-a942-4881-d35b-9ebbbe4b8f00"
      },
      "id": "n9MYiLjGjxsN",
      "execution_count": 2,
      "outputs": [
        {
          "output_type": "stream",
          "name": "stdout",
          "text": [
            "[nltk_data] Downloading package averaged_perceptron_tagger to\n",
            "[nltk_data]     /root/nltk_data...\n",
            "[nltk_data]   Package averaged_perceptron_tagger is already up-to-\n",
            "[nltk_data]       date!\n",
            "[nltk_data] Downloading package omw-1.4 to /root/nltk_data...\n",
            "[nltk_data]   Package omw-1.4 is already up-to-date!\n",
            "[nltk_data] Downloading package wordnet to /root/nltk_data...\n",
            "[nltk_data]   Package wordnet is already up-to-date!\n",
            "[nltk_data] Downloading package stopwords to /root/nltk_data...\n",
            "[nltk_data]   Package stopwords is already up-to-date!\n",
            "[nltk_data] Downloading package punkt to /root/nltk_data...\n",
            "[nltk_data]   Package punkt is already up-to-date!\n"
          ]
        },
        {
          "output_type": "execute_result",
          "data": {
            "text/plain": [
              "True"
            ]
          },
          "metadata": {},
          "execution_count": 2
        }
      ]
    },
    {
      "cell_type": "code",
      "execution_count": 3,
      "id": "ee2612ba-0267-410e-b0d5-d4e52524556d",
      "metadata": {
        "id": "ee2612ba-0267-410e-b0d5-d4e52524556d"
      },
      "outputs": [],
      "source": [
        "# a function to read files \n",
        "def read_file(file):\n",
        "    with open(file, 'r', encoding=\"utf-8\") as f:\n",
        "        text = f.read()\n",
        "    return text\n",
        "\n",
        "# set path to text files\n",
        "file_dir = './Data/Text_Files/'\n",
        "text_list = []\n",
        "\n",
        "# find files with .txt and read them\n",
        "for file in os.listdir(file_dir):\n",
        "    if file.endswith(\".txt\"):\n",
        "        file_path = f'{file_dir}{file}'\n",
        "        text_list.append(read_file(file_path))"
      ]
    },
    {
      "cell_type": "code",
      "source": [
        "print(f\"number of texts: {len(text_list)}\")"
      ],
      "metadata": {
        "id": "RgzaIFv4lvvH",
        "outputId": "b41f2ac9-9be0-4b6b-86d8-68c9f6c4a0a2",
        "colab": {
          "base_uri": "https://localhost:8080/"
        }
      },
      "id": "RgzaIFv4lvvH",
      "execution_count": 4,
      "outputs": [
        {
          "output_type": "stream",
          "name": "stdout",
          "text": [
            "number of texts: 82\n"
          ]
        }
      ]
    },
    {
      "cell_type": "code",
      "source": [
        "# sample text\n",
        "print(f\"sample text: {text_list[0][:500]}\")"
      ],
      "metadata": {
        "id": "OvWlRuF7kt2e",
        "outputId": "f1d25485-ad5d-4535-ca93-1ddcd252631d",
        "colab": {
          "base_uri": "https://localhost:8080/"
        }
      },
      "id": "OvWlRuF7kt2e",
      "execution_count": 5,
      "outputs": [
        {
          "output_type": "stream",
          "name": "stdout",
          "text": [
            "sample text: \n",
            "Thank you. Mr. Speaker, Mr. Vice President, Members of Congress, my fellow Americans: Tonight marks the eighth year that I've come here to report on the State of the Union. And for this final one, I'm going to try to make it a little shorter. I know some of you are antsy to get back to Iowa. [Laughter] I've been there. I'll be shaking hands afterwards if you want some tips. [Laughter]\n",
            "Now, I understand that because it's an election season, expectations for what we will achieve this year are low\n"
          ]
        }
      ]
    },
    {
      "cell_type": "code",
      "execution_count": 6,
      "id": "b253656b-2310-4973-8f8f-a131b116dae8",
      "metadata": {
        "id": "b253656b-2310-4973-8f8f-a131b116dae8",
        "outputId": "378c1fa9-d6fa-4e76-a8a5-934d2cc67077",
        "colab": {
          "base_uri": "https://localhost:8080/",
          "height": 337
        }
      },
      "outputs": [
        {
          "output_type": "execute_result",
          "data": {
            "text/plain": [
              "   Index        President                                         Categories  \\\n",
              "0      0  Harry S. Truman  ['Presidential', 'State of the Union Addresses...   \n",
              "1      1  Harry S. Truman  ['Presidential', 'State of the Union Addresses...   \n",
              "2      2  Harry S. Truman  ['Presidential', 'State of the Union Addresses...   \n",
              "3      3  Harry S. Truman  ['Presidential', 'State of the Union Addresses...   \n",
              "4      4  Harry S. Truman  ['Presidential', 'State of the Union Addresses...   \n",
              "\n",
              "               Date                                           Citation  \\\n",
              "0  January 06, 1947  Harry S. Truman, Annual Message to the Congres...   \n",
              "1  January 07, 1948  Harry S. Truman, Annual Message to the Congres...   \n",
              "2  January 05, 1949  Harry S. Truman, Annual Message to the Congres...   \n",
              "3  January 04, 1950  Harry S. Truman, Annual Message to the Congres...   \n",
              "4  January 08, 1951  Harry S. Truman, Annual Message to the Congres...   \n",
              "\n",
              "                                               Title  \n",
              "0  Annual Message to the Congress on the State of...  \n",
              "1  Annual Message to the Congress on the State of...  \n",
              "2  Annual Message to the Congress on the State of...  \n",
              "3  Annual Message to the Congress on the State of...  \n",
              "4  Annual Message to the Congress on the State of...  "
            ],
            "text/html": [
              "\n",
              "  <div id=\"df-86a67877-8a45-40e0-a277-0bdbabcce2ea\">\n",
              "    <div class=\"colab-df-container\">\n",
              "      <div>\n",
              "<style scoped>\n",
              "    .dataframe tbody tr th:only-of-type {\n",
              "        vertical-align: middle;\n",
              "    }\n",
              "\n",
              "    .dataframe tbody tr th {\n",
              "        vertical-align: top;\n",
              "    }\n",
              "\n",
              "    .dataframe thead th {\n",
              "        text-align: right;\n",
              "    }\n",
              "</style>\n",
              "<table border=\"1\" class=\"dataframe\">\n",
              "  <thead>\n",
              "    <tr style=\"text-align: right;\">\n",
              "      <th></th>\n",
              "      <th>Index</th>\n",
              "      <th>President</th>\n",
              "      <th>Categories</th>\n",
              "      <th>Date</th>\n",
              "      <th>Citation</th>\n",
              "      <th>Title</th>\n",
              "    </tr>\n",
              "  </thead>\n",
              "  <tbody>\n",
              "    <tr>\n",
              "      <th>0</th>\n",
              "      <td>0</td>\n",
              "      <td>Harry S. Truman</td>\n",
              "      <td>['Presidential', 'State of the Union Addresses...</td>\n",
              "      <td>January 06, 1947</td>\n",
              "      <td>Harry S. Truman, Annual Message to the Congres...</td>\n",
              "      <td>Annual Message to the Congress on the State of...</td>\n",
              "    </tr>\n",
              "    <tr>\n",
              "      <th>1</th>\n",
              "      <td>1</td>\n",
              "      <td>Harry S. Truman</td>\n",
              "      <td>['Presidential', 'State of the Union Addresses...</td>\n",
              "      <td>January 07, 1948</td>\n",
              "      <td>Harry S. Truman, Annual Message to the Congres...</td>\n",
              "      <td>Annual Message to the Congress on the State of...</td>\n",
              "    </tr>\n",
              "    <tr>\n",
              "      <th>2</th>\n",
              "      <td>2</td>\n",
              "      <td>Harry S. Truman</td>\n",
              "      <td>['Presidential', 'State of the Union Addresses...</td>\n",
              "      <td>January 05, 1949</td>\n",
              "      <td>Harry S. Truman, Annual Message to the Congres...</td>\n",
              "      <td>Annual Message to the Congress on the State of...</td>\n",
              "    </tr>\n",
              "    <tr>\n",
              "      <th>3</th>\n",
              "      <td>3</td>\n",
              "      <td>Harry S. Truman</td>\n",
              "      <td>['Presidential', 'State of the Union Addresses...</td>\n",
              "      <td>January 04, 1950</td>\n",
              "      <td>Harry S. Truman, Annual Message to the Congres...</td>\n",
              "      <td>Annual Message to the Congress on the State of...</td>\n",
              "    </tr>\n",
              "    <tr>\n",
              "      <th>4</th>\n",
              "      <td>4</td>\n",
              "      <td>Harry S. Truman</td>\n",
              "      <td>['Presidential', 'State of the Union Addresses...</td>\n",
              "      <td>January 08, 1951</td>\n",
              "      <td>Harry S. Truman, Annual Message to the Congres...</td>\n",
              "      <td>Annual Message to the Congress on the State of...</td>\n",
              "    </tr>\n",
              "  </tbody>\n",
              "</table>\n",
              "</div>\n",
              "      <button class=\"colab-df-convert\" onclick=\"convertToInteractive('df-86a67877-8a45-40e0-a277-0bdbabcce2ea')\"\n",
              "              title=\"Convert this dataframe to an interactive table.\"\n",
              "              style=\"display:none;\">\n",
              "        \n",
              "  <svg xmlns=\"http://www.w3.org/2000/svg\" height=\"24px\"viewBox=\"0 0 24 24\"\n",
              "       width=\"24px\">\n",
              "    <path d=\"M0 0h24v24H0V0z\" fill=\"none\"/>\n",
              "    <path d=\"M18.56 5.44l.94 2.06.94-2.06 2.06-.94-2.06-.94-.94-2.06-.94 2.06-2.06.94zm-11 1L8.5 8.5l.94-2.06 2.06-.94-2.06-.94L8.5 2.5l-.94 2.06-2.06.94zm10 10l.94 2.06.94-2.06 2.06-.94-2.06-.94-.94-2.06-.94 2.06-2.06.94z\"/><path d=\"M17.41 7.96l-1.37-1.37c-.4-.4-.92-.59-1.43-.59-.52 0-1.04.2-1.43.59L10.3 9.45l-7.72 7.72c-.78.78-.78 2.05 0 2.83L4 21.41c.39.39.9.59 1.41.59.51 0 1.02-.2 1.41-.59l7.78-7.78 2.81-2.81c.8-.78.8-2.07 0-2.86zM5.41 20L4 18.59l7.72-7.72 1.47 1.35L5.41 20z\"/>\n",
              "  </svg>\n",
              "      </button>\n",
              "      \n",
              "  <style>\n",
              "    .colab-df-container {\n",
              "      display:flex;\n",
              "      flex-wrap:wrap;\n",
              "      gap: 12px;\n",
              "    }\n",
              "\n",
              "    .colab-df-convert {\n",
              "      background-color: #E8F0FE;\n",
              "      border: none;\n",
              "      border-radius: 50%;\n",
              "      cursor: pointer;\n",
              "      display: none;\n",
              "      fill: #1967D2;\n",
              "      height: 32px;\n",
              "      padding: 0 0 0 0;\n",
              "      width: 32px;\n",
              "    }\n",
              "\n",
              "    .colab-df-convert:hover {\n",
              "      background-color: #E2EBFA;\n",
              "      box-shadow: 0px 1px 2px rgba(60, 64, 67, 0.3), 0px 1px 3px 1px rgba(60, 64, 67, 0.15);\n",
              "      fill: #174EA6;\n",
              "    }\n",
              "\n",
              "    [theme=dark] .colab-df-convert {\n",
              "      background-color: #3B4455;\n",
              "      fill: #D2E3FC;\n",
              "    }\n",
              "\n",
              "    [theme=dark] .colab-df-convert:hover {\n",
              "      background-color: #434B5C;\n",
              "      box-shadow: 0px 1px 3px 1px rgba(0, 0, 0, 0.15);\n",
              "      filter: drop-shadow(0px 1px 2px rgba(0, 0, 0, 0.3));\n",
              "      fill: #FFFFFF;\n",
              "    }\n",
              "  </style>\n",
              "\n",
              "      <script>\n",
              "        const buttonEl =\n",
              "          document.querySelector('#df-86a67877-8a45-40e0-a277-0bdbabcce2ea button.colab-df-convert');\n",
              "        buttonEl.style.display =\n",
              "          google.colab.kernel.accessAllowed ? 'block' : 'none';\n",
              "\n",
              "        async function convertToInteractive(key) {\n",
              "          const element = document.querySelector('#df-86a67877-8a45-40e0-a277-0bdbabcce2ea');\n",
              "          const dataTable =\n",
              "            await google.colab.kernel.invokeFunction('convertToInteractive',\n",
              "                                                     [key], {});\n",
              "          if (!dataTable) return;\n",
              "\n",
              "          const docLinkHtml = 'Like what you see? Visit the ' +\n",
              "            '<a target=\"_blank\" href=https://colab.research.google.com/notebooks/data_table.ipynb>data table notebook</a>'\n",
              "            + ' to learn more about interactive tables.';\n",
              "          element.innerHTML = '';\n",
              "          dataTable['output_type'] = 'display_data';\n",
              "          await google.colab.output.renderOutput(dataTable, element);\n",
              "          const docLink = document.createElement('div');\n",
              "          docLink.innerHTML = docLinkHtml;\n",
              "          element.appendChild(docLink);\n",
              "        }\n",
              "      </script>\n",
              "    </div>\n",
              "  </div>\n",
              "  "
            ]
          },
          "metadata": {},
          "execution_count": 6
        }
      ],
      "source": [
        "df = pd.read_csv(\"./Data/metadata.csv\")\n",
        "df.head()"
      ]
    },
    {
      "cell_type": "markdown",
      "source": [
        "#### Change Date Type to datetime"
      ],
      "metadata": {
        "id": "4axQUZMMmetO"
      },
      "id": "4axQUZMMmetO"
    },
    {
      "cell_type": "code",
      "execution_count": 7,
      "id": "879ca449-379a-48ab-a80b-e60532fbe187",
      "metadata": {
        "id": "879ca449-379a-48ab-a80b-e60532fbe187",
        "outputId": "1c1d9191-0c7d-4cbd-b36e-948c29f32419",
        "colab": {
          "base_uri": "https://localhost:8080/"
        }
      },
      "outputs": [
        {
          "output_type": "stream",
          "name": "stdout",
          "text": [
            "object\n"
          ]
        }
      ],
      "source": [
        "print(df['Title'].dtypes)"
      ]
    },
    {
      "cell_type": "code",
      "execution_count": 8,
      "id": "282f32ed-bf2c-4ccc-8c98-5cc12901fe85",
      "metadata": {
        "id": "282f32ed-bf2c-4ccc-8c98-5cc12901fe85",
        "outputId": "7677ba7f-e451-4691-a7d7-bdba1e9277fe",
        "colab": {
          "base_uri": "https://localhost:8080/"
        }
      },
      "outputs": [
        {
          "output_type": "execute_result",
          "data": {
            "text/plain": [
              "0    1947-01-06\n",
              "1    1948-01-07\n",
              "2    1949-01-05\n",
              "3    1950-01-04\n",
              "4    1951-01-08\n",
              "        ...    \n",
              "77   2016-01-12\n",
              "78   2018-01-30\n",
              "79   2019-02-05\n",
              "80   2020-02-04\n",
              "81   2022-03-01\n",
              "Name: Date, Length: 82, dtype: datetime64[ns]"
            ]
          },
          "metadata": {},
          "execution_count": 8
        }
      ],
      "source": [
        "df['Date'] = pd.to_datetime(df['Date'], format='%B %d, %Y')\n",
        "df['Date']"
      ]
    },
    {
      "cell_type": "markdown",
      "source": [
        "#### Groupby persidents:\n",
        "`dict[president_name]` = `[texts]`\n"
      ],
      "metadata": {
        "id": "lgT1Zb1CmovG"
      },
      "id": "lgT1Zb1CmovG"
    },
    {
      "cell_type": "code",
      "execution_count": 9,
      "id": "ee391dbb-899d-4847-82db-199160b4818c",
      "metadata": {
        "id": "ee391dbb-899d-4847-82db-199160b4818c"
      },
      "outputs": [],
      "source": [
        "president_name = df['President'].tolist()\n",
        "president_text_dict = {keys: [i for _, i in sub] for keys, sub in groupby(\n",
        "         zip(president_name, text_list), key = itemgetter(0))}"
      ]
    },
    {
      "cell_type": "code",
      "execution_count": 10,
      "id": "75359f45-ceae-4124-96e3-4e3b9ef537ff",
      "metadata": {
        "id": "75359f45-ceae-4124-96e3-4e3b9ef537ff",
        "outputId": "195a59ee-6a39-4853-dfcb-be22ea268050",
        "colab": {
          "base_uri": "https://localhost:8080/"
        }
      },
      "outputs": [
        {
          "output_type": "execute_result",
          "data": {
            "text/plain": [
              "dict_keys(['Harry S. Truman', 'Dwight D. Eisenhower', 'John F. Kennedy', 'Lyndon B. Johnson', 'Richard Nixon', 'Gerald R. Ford', 'Jimmy Carter', 'Ronald Reagan', 'George Bush', 'William J. Clinton', 'George W. Bush', 'Barack Obama', 'Donald J. Trump', 'Joseph R. Biden'])"
            ]
          },
          "metadata": {},
          "execution_count": 10
        }
      ],
      "source": [
        "president_text_dict.keys()"
      ]
    },
    {
      "cell_type": "code",
      "execution_count": 11,
      "id": "4d9427e7-9145-4184-8b90-77b62d834872",
      "metadata": {
        "id": "4d9427e7-9145-4184-8b90-77b62d834872",
        "outputId": "6ae85f56-4e6d-4df1-eecd-ecb893931712",
        "colab": {
          "base_uri": "https://localhost:8080/"
        }
      },
      "outputs": [
        {
          "output_type": "execute_result",
          "data": {
            "text/plain": [
              "7"
            ]
          },
          "metadata": {},
          "execution_count": 11
        }
      ],
      "source": [
        "len(president_text_dict['Barack Obama'])"
      ]
    },
    {
      "cell_type": "code",
      "execution_count": 12,
      "id": "69ff092b-0dd8-458b-88e9-5d7c8dad74e3",
      "metadata": {
        "id": "69ff092b-0dd8-458b-88e9-5d7c8dad74e3"
      },
      "outputs": [],
      "source": [
        "# http://stackoverflow.com/questions/36353125/nltk-regular-expression-tokenizer\n",
        "pattern = r'''(?x)          # set flag to allow verbose regexps\n",
        "        (?:[a-zA-Z]\\.)+(?:[a-zA-Z])?         # abbreviations, e.g. U.S.A.\n",
        "      | \\w+(?:-\\w+)*        # words with optional internal hyphens\n",
        "      | \\$?\\d+(?:\\.\\d+)?%?\\s?  # currency and percentages, e.g. $12.40, 82%\n",
        "      | \\.\\.\\.              # ellipsis\n",
        "      | [][.,;\"'?():_`-]    # these are separate tokens; includes ], [\n",
        "    '''\n",
        "\n",
        "pattern = re.compile(pattern)\n",
        "\n",
        "def tokenize_text(text):\n",
        "    return regexp_tokenize(text, pattern)"
      ]
    },
    {
      "cell_type": "code",
      "execution_count": 13,
      "id": "5361f260-bc04-4dd7-b6bc-ac627eebc793",
      "metadata": {
        "id": "5361f260-bc04-4dd7-b6bc-ac627eebc793"
      },
      "outputs": [],
      "source": [
        "def lemmatize_all(sentence):\n",
        "    l = []\n",
        "    wnl = WordNetLemmatizer()\n",
        "    for word, tag in pos_tag(tokenize_text(sentence)):\n",
        "        if tag.startswith('N'):\n",
        "            l.append(wnl.lemmatize(word, pos='n'))\n",
        "        elif tag.startswith('V'):\n",
        "            l.append(wnl.lemmatize(word, pos='v'))\n",
        "        elif tag.startswith('J'):\n",
        "            l.append(wnl.lemmatize(word, pos='a'))\n",
        "        elif tag.startswith('R'):\n",
        "            l.append(wnl.lemmatize(word, pos='r'))\n",
        "            \n",
        "        else:\n",
        "            l.append(wnl.lemmatize(word, pos='n'))\n",
        "    return l"
      ]
    },
    {
      "cell_type": "code",
      "execution_count": 14,
      "id": "13190e72-5ae3-4427-8fcb-d7c02fe5bd99",
      "metadata": {
        "id": "13190e72-5ae3-4427-8fcb-d7c02fe5bd99",
        "outputId": "00a6e3e4-7054-47db-cbe4-e2575e3f0feb",
        "colab": {
          "base_uri": "https://localhost:8080/"
        }
      },
      "outputs": [
        {
          "output_type": "stream",
          "name": "stdout",
          "text": [
            "['The', 'striped', 'bat', 'be', 'hang', 'on', 'their', 'foot', 'for', 'best', 'and', 'write', 'you', 'be']\n"
          ]
        }
      ],
      "source": [
        "sentence_sample = 'The striped bats are  hanging on their feet for best and wrote you are'\n",
        "print(lemmatize_all(sentence_sample))\n",
        "\n"
      ]
    },
    {
      "cell_type": "code",
      "execution_count": 15,
      "id": "53b4f313-78c8-4477-8079-719ab6e7a842",
      "metadata": {
        "id": "53b4f313-78c8-4477-8079-719ab6e7a842"
      },
      "outputs": [],
      "source": [
        "stop_words = set(stopwords.words('english'))\n",
        "def normalize_and_cleaning(text, lemm=True, remove_punct=True, lower=True, stop_word=True, remove_number=True, min_len = 2):\n",
        "\n",
        "    text = re.sub(r'(:?\\[Laughter\\]|\\[Applause\\]|\\[applause\\]|\\[laughter\\])', '', text)\n",
        "    \n",
        "\n",
        "    word_tokens = tokenize_text(text)\n",
        "    \n",
        "    if lower:\n",
        "        text = text.lower()\n",
        "    \n",
        "    \n",
        "    if remove_number:\n",
        "        my_reg = r'\\$?\\d+\\.?\\d*\\w*\\d*'\n",
        "        text = re.sub(my_reg, '', text)\n",
        "    \n",
        "    if remove_punct:\n",
        "        #text =' '.join([word.strip(punctuation) for word in tokenize_text(text) if len(word) > 1])\n",
        "        text =' '.join([word.strip(punctuation) for word in tokenize_text(text) if word not in string.punctuation])\n",
        "    \n",
        "    if lemm:\n",
        "      text = ' '.join(lemmatize_all(text))\n",
        "    \n",
        "    \n",
        "    if stop_word:\n",
        "        text = ' '.join([w for w in tokenize_text(text) if not w.lower() in stop_words])\n",
        "    \n",
        "\n",
        "    \n",
        "    if min_len>1:\n",
        "        text = ' '.join([word for word in tokenize_text(text) if len(word)>min_len])  \n",
        "\n",
        "    \n",
        "    text = re.sub(' +', ' ', text)\n",
        "    \n",
        "    return text\n",
        "    \n",
        "    "
      ]
    },
    {
      "cell_type": "code",
      "source": [
        "#Test normalize_and_cleaning\n",
        "test_text ='''[Laughter]poster-print The President. That 1993s Asia—the asia-pacific 22nd 33nd33 6-year U.S.A. wrote good example. [Applause] Well—[applause]. are [Applause] costs $12.40... Michelle Move! u.'''\n",
        "tokens = tokenize_text(test_text)\n",
        "res = normalize_and_cleaning(test_text)\n",
        "res2 = normalize_and_cleaning(test_text,remove_number=False)\n",
        "print(res)\n",
        "\n",
        "print(res2)\n",
        "\n"
      ],
      "metadata": {
        "id": "OtOV3xIPvNp1",
        "outputId": "eed6a830-492b-4039-c132-46a5ffd8874b",
        "colab": {
          "base_uri": "https://localhost:8080/"
        }
      },
      "id": "OtOV3xIPvNp1",
      "execution_count": 16,
      "outputs": [
        {
          "output_type": "stream",
          "name": "stdout",
          "text": [
            "poster-print president asia asia-pacific year u.s.a write good example well cost michelle move\n",
            "poster-print president 1993s asia asia-pacific 22nd 33nd33 6-year u.s.a write good example well cost michelle move\n"
          ]
        }
      ]
    },
    {
      "cell_type": "code",
      "source": [
        "all_doc = ' '.join(text_list)\n",
        "clean_corpuse = normalize_and_cleaning(all_doc)\n",
        "corpuse_tokens = tokenize_text(clean_corpuse)\n"
      ],
      "metadata": {
        "id": "2fm9irBxY2lI"
      },
      "id": "2fm9irBxY2lI",
      "execution_count": 17,
      "outputs": []
    },
    {
      "cell_type": "code",
      "source": [
        "counter = Counter(corpuse_tokens)\n",
        "most_occur = counter.most_common(50)\n",
        "corpuse_fre_df = pd.DataFrame.from_records(most_occur, columns =['word', 'frequency'])\n",
        "total_freq = [(x[1]/len(corpuse_tokens))*100 for x in most_occur]\n",
        "corpuse_fre_df['% total frequency'] = total_freq\n",
        "corpuse_fre_df"
      ],
      "metadata": {
        "id": "wpvOJ-XQRc6C",
        "outputId": "49908cd6-e1f2-42c4-9c67-0bf4bedba9d9",
        "colab": {
          "base_uri": "https://localhost:8080/",
          "height": 1000
        }
      },
      "id": "wpvOJ-XQRc6C",
      "execution_count": 18,
      "outputs": [
        {
          "output_type": "execute_result",
          "data": {
            "text/plain": [
              "              word  frequency  % total frequency\n",
              "0             year       3291           1.132855\n",
              "1         american       2114           0.727698\n",
              "2              new       2047           0.704635\n",
              "3           people       1904           0.655410\n",
              "4           nation       1870           0.643707\n",
              "5             must       1848           0.636134\n",
              "6             make       1829           0.629593\n",
              "7         congress       1828           0.629249\n",
              "8          program       1773           0.610317\n",
              "9            world       1747           0.601367\n",
              "10            work       1603           0.551798\n",
              "11         america       1565           0.538717\n",
              "12      government       1540           0.530111\n",
              "13           state       1539           0.529767\n",
              "14            need       1360           0.468150\n",
              "15         federal       1296           0.446120\n",
              "16            help       1261           0.434072\n",
              "17             one       1125           0.387257\n",
              "18         country       1071           0.368668\n",
              "19            also       1070           0.368324\n",
              "20           great       1054           0.362816\n",
              "21            time       1050           0.361440\n",
              "22        increase       1015           0.349392\n",
              "23        continue        966           0.332524\n",
              "24            last        957           0.329426\n",
              "25        economic        925           0.318411\n",
              "26            good        899           0.309461\n",
              "27          effort        898           0.309117\n",
              "28            take        882           0.303609\n",
              "29           every        849           0.292250\n",
              "30           would        844           0.290529\n",
              "31             job        834           0.287086\n",
              "32             tax        833           0.286742\n",
              "33         provide        833           0.286742\n",
              "34           right        829           0.285365\n",
              "35  administration        806           0.277448\n",
              "36         million        803           0.276415\n",
              "37        security        796           0.274006\n",
              "38          system        790           0.271940\n",
              "39        national        790           0.271940\n",
              "40          united        768           0.264367\n",
              "41            many        752           0.258860\n",
              "42          health        743           0.255762\n",
              "43           peace        743           0.255762\n",
              "44           first        739           0.254385\n",
              "45           child        723           0.248877\n",
              "46         economy        722           0.248533\n",
              "47          policy        718           0.247156\n",
              "48         support        716           0.246467\n",
              "49             act        715           0.246123"
            ],
            "text/html": [
              "\n",
              "  <div id=\"df-6c8db262-0f09-4dec-8913-9d6ac537dbf1\">\n",
              "    <div class=\"colab-df-container\">\n",
              "      <div>\n",
              "<style scoped>\n",
              "    .dataframe tbody tr th:only-of-type {\n",
              "        vertical-align: middle;\n",
              "    }\n",
              "\n",
              "    .dataframe tbody tr th {\n",
              "        vertical-align: top;\n",
              "    }\n",
              "\n",
              "    .dataframe thead th {\n",
              "        text-align: right;\n",
              "    }\n",
              "</style>\n",
              "<table border=\"1\" class=\"dataframe\">\n",
              "  <thead>\n",
              "    <tr style=\"text-align: right;\">\n",
              "      <th></th>\n",
              "      <th>word</th>\n",
              "      <th>frequency</th>\n",
              "      <th>% total frequency</th>\n",
              "    </tr>\n",
              "  </thead>\n",
              "  <tbody>\n",
              "    <tr>\n",
              "      <th>0</th>\n",
              "      <td>year</td>\n",
              "      <td>3291</td>\n",
              "      <td>1.132855</td>\n",
              "    </tr>\n",
              "    <tr>\n",
              "      <th>1</th>\n",
              "      <td>american</td>\n",
              "      <td>2114</td>\n",
              "      <td>0.727698</td>\n",
              "    </tr>\n",
              "    <tr>\n",
              "      <th>2</th>\n",
              "      <td>new</td>\n",
              "      <td>2047</td>\n",
              "      <td>0.704635</td>\n",
              "    </tr>\n",
              "    <tr>\n",
              "      <th>3</th>\n",
              "      <td>people</td>\n",
              "      <td>1904</td>\n",
              "      <td>0.655410</td>\n",
              "    </tr>\n",
              "    <tr>\n",
              "      <th>4</th>\n",
              "      <td>nation</td>\n",
              "      <td>1870</td>\n",
              "      <td>0.643707</td>\n",
              "    </tr>\n",
              "    <tr>\n",
              "      <th>5</th>\n",
              "      <td>must</td>\n",
              "      <td>1848</td>\n",
              "      <td>0.636134</td>\n",
              "    </tr>\n",
              "    <tr>\n",
              "      <th>6</th>\n",
              "      <td>make</td>\n",
              "      <td>1829</td>\n",
              "      <td>0.629593</td>\n",
              "    </tr>\n",
              "    <tr>\n",
              "      <th>7</th>\n",
              "      <td>congress</td>\n",
              "      <td>1828</td>\n",
              "      <td>0.629249</td>\n",
              "    </tr>\n",
              "    <tr>\n",
              "      <th>8</th>\n",
              "      <td>program</td>\n",
              "      <td>1773</td>\n",
              "      <td>0.610317</td>\n",
              "    </tr>\n",
              "    <tr>\n",
              "      <th>9</th>\n",
              "      <td>world</td>\n",
              "      <td>1747</td>\n",
              "      <td>0.601367</td>\n",
              "    </tr>\n",
              "    <tr>\n",
              "      <th>10</th>\n",
              "      <td>work</td>\n",
              "      <td>1603</td>\n",
              "      <td>0.551798</td>\n",
              "    </tr>\n",
              "    <tr>\n",
              "      <th>11</th>\n",
              "      <td>america</td>\n",
              "      <td>1565</td>\n",
              "      <td>0.538717</td>\n",
              "    </tr>\n",
              "    <tr>\n",
              "      <th>12</th>\n",
              "      <td>government</td>\n",
              "      <td>1540</td>\n",
              "      <td>0.530111</td>\n",
              "    </tr>\n",
              "    <tr>\n",
              "      <th>13</th>\n",
              "      <td>state</td>\n",
              "      <td>1539</td>\n",
              "      <td>0.529767</td>\n",
              "    </tr>\n",
              "    <tr>\n",
              "      <th>14</th>\n",
              "      <td>need</td>\n",
              "      <td>1360</td>\n",
              "      <td>0.468150</td>\n",
              "    </tr>\n",
              "    <tr>\n",
              "      <th>15</th>\n",
              "      <td>federal</td>\n",
              "      <td>1296</td>\n",
              "      <td>0.446120</td>\n",
              "    </tr>\n",
              "    <tr>\n",
              "      <th>16</th>\n",
              "      <td>help</td>\n",
              "      <td>1261</td>\n",
              "      <td>0.434072</td>\n",
              "    </tr>\n",
              "    <tr>\n",
              "      <th>17</th>\n",
              "      <td>one</td>\n",
              "      <td>1125</td>\n",
              "      <td>0.387257</td>\n",
              "    </tr>\n",
              "    <tr>\n",
              "      <th>18</th>\n",
              "      <td>country</td>\n",
              "      <td>1071</td>\n",
              "      <td>0.368668</td>\n",
              "    </tr>\n",
              "    <tr>\n",
              "      <th>19</th>\n",
              "      <td>also</td>\n",
              "      <td>1070</td>\n",
              "      <td>0.368324</td>\n",
              "    </tr>\n",
              "    <tr>\n",
              "      <th>20</th>\n",
              "      <td>great</td>\n",
              "      <td>1054</td>\n",
              "      <td>0.362816</td>\n",
              "    </tr>\n",
              "    <tr>\n",
              "      <th>21</th>\n",
              "      <td>time</td>\n",
              "      <td>1050</td>\n",
              "      <td>0.361440</td>\n",
              "    </tr>\n",
              "    <tr>\n",
              "      <th>22</th>\n",
              "      <td>increase</td>\n",
              "      <td>1015</td>\n",
              "      <td>0.349392</td>\n",
              "    </tr>\n",
              "    <tr>\n",
              "      <th>23</th>\n",
              "      <td>continue</td>\n",
              "      <td>966</td>\n",
              "      <td>0.332524</td>\n",
              "    </tr>\n",
              "    <tr>\n",
              "      <th>24</th>\n",
              "      <td>last</td>\n",
              "      <td>957</td>\n",
              "      <td>0.329426</td>\n",
              "    </tr>\n",
              "    <tr>\n",
              "      <th>25</th>\n",
              "      <td>economic</td>\n",
              "      <td>925</td>\n",
              "      <td>0.318411</td>\n",
              "    </tr>\n",
              "    <tr>\n",
              "      <th>26</th>\n",
              "      <td>good</td>\n",
              "      <td>899</td>\n",
              "      <td>0.309461</td>\n",
              "    </tr>\n",
              "    <tr>\n",
              "      <th>27</th>\n",
              "      <td>effort</td>\n",
              "      <td>898</td>\n",
              "      <td>0.309117</td>\n",
              "    </tr>\n",
              "    <tr>\n",
              "      <th>28</th>\n",
              "      <td>take</td>\n",
              "      <td>882</td>\n",
              "      <td>0.303609</td>\n",
              "    </tr>\n",
              "    <tr>\n",
              "      <th>29</th>\n",
              "      <td>every</td>\n",
              "      <td>849</td>\n",
              "      <td>0.292250</td>\n",
              "    </tr>\n",
              "    <tr>\n",
              "      <th>30</th>\n",
              "      <td>would</td>\n",
              "      <td>844</td>\n",
              "      <td>0.290529</td>\n",
              "    </tr>\n",
              "    <tr>\n",
              "      <th>31</th>\n",
              "      <td>job</td>\n",
              "      <td>834</td>\n",
              "      <td>0.287086</td>\n",
              "    </tr>\n",
              "    <tr>\n",
              "      <th>32</th>\n",
              "      <td>tax</td>\n",
              "      <td>833</td>\n",
              "      <td>0.286742</td>\n",
              "    </tr>\n",
              "    <tr>\n",
              "      <th>33</th>\n",
              "      <td>provide</td>\n",
              "      <td>833</td>\n",
              "      <td>0.286742</td>\n",
              "    </tr>\n",
              "    <tr>\n",
              "      <th>34</th>\n",
              "      <td>right</td>\n",
              "      <td>829</td>\n",
              "      <td>0.285365</td>\n",
              "    </tr>\n",
              "    <tr>\n",
              "      <th>35</th>\n",
              "      <td>administration</td>\n",
              "      <td>806</td>\n",
              "      <td>0.277448</td>\n",
              "    </tr>\n",
              "    <tr>\n",
              "      <th>36</th>\n",
              "      <td>million</td>\n",
              "      <td>803</td>\n",
              "      <td>0.276415</td>\n",
              "    </tr>\n",
              "    <tr>\n",
              "      <th>37</th>\n",
              "      <td>security</td>\n",
              "      <td>796</td>\n",
              "      <td>0.274006</td>\n",
              "    </tr>\n",
              "    <tr>\n",
              "      <th>38</th>\n",
              "      <td>system</td>\n",
              "      <td>790</td>\n",
              "      <td>0.271940</td>\n",
              "    </tr>\n",
              "    <tr>\n",
              "      <th>39</th>\n",
              "      <td>national</td>\n",
              "      <td>790</td>\n",
              "      <td>0.271940</td>\n",
              "    </tr>\n",
              "    <tr>\n",
              "      <th>40</th>\n",
              "      <td>united</td>\n",
              "      <td>768</td>\n",
              "      <td>0.264367</td>\n",
              "    </tr>\n",
              "    <tr>\n",
              "      <th>41</th>\n",
              "      <td>many</td>\n",
              "      <td>752</td>\n",
              "      <td>0.258860</td>\n",
              "    </tr>\n",
              "    <tr>\n",
              "      <th>42</th>\n",
              "      <td>health</td>\n",
              "      <td>743</td>\n",
              "      <td>0.255762</td>\n",
              "    </tr>\n",
              "    <tr>\n",
              "      <th>43</th>\n",
              "      <td>peace</td>\n",
              "      <td>743</td>\n",
              "      <td>0.255762</td>\n",
              "    </tr>\n",
              "    <tr>\n",
              "      <th>44</th>\n",
              "      <td>first</td>\n",
              "      <td>739</td>\n",
              "      <td>0.254385</td>\n",
              "    </tr>\n",
              "    <tr>\n",
              "      <th>45</th>\n",
              "      <td>child</td>\n",
              "      <td>723</td>\n",
              "      <td>0.248877</td>\n",
              "    </tr>\n",
              "    <tr>\n",
              "      <th>46</th>\n",
              "      <td>economy</td>\n",
              "      <td>722</td>\n",
              "      <td>0.248533</td>\n",
              "    </tr>\n",
              "    <tr>\n",
              "      <th>47</th>\n",
              "      <td>policy</td>\n",
              "      <td>718</td>\n",
              "      <td>0.247156</td>\n",
              "    </tr>\n",
              "    <tr>\n",
              "      <th>48</th>\n",
              "      <td>support</td>\n",
              "      <td>716</td>\n",
              "      <td>0.246467</td>\n",
              "    </tr>\n",
              "    <tr>\n",
              "      <th>49</th>\n",
              "      <td>act</td>\n",
              "      <td>715</td>\n",
              "      <td>0.246123</td>\n",
              "    </tr>\n",
              "  </tbody>\n",
              "</table>\n",
              "</div>\n",
              "      <button class=\"colab-df-convert\" onclick=\"convertToInteractive('df-6c8db262-0f09-4dec-8913-9d6ac537dbf1')\"\n",
              "              title=\"Convert this dataframe to an interactive table.\"\n",
              "              style=\"display:none;\">\n",
              "        \n",
              "  <svg xmlns=\"http://www.w3.org/2000/svg\" height=\"24px\"viewBox=\"0 0 24 24\"\n",
              "       width=\"24px\">\n",
              "    <path d=\"M0 0h24v24H0V0z\" fill=\"none\"/>\n",
              "    <path d=\"M18.56 5.44l.94 2.06.94-2.06 2.06-.94-2.06-.94-.94-2.06-.94 2.06-2.06.94zm-11 1L8.5 8.5l.94-2.06 2.06-.94-2.06-.94L8.5 2.5l-.94 2.06-2.06.94zm10 10l.94 2.06.94-2.06 2.06-.94-2.06-.94-.94-2.06-.94 2.06-2.06.94z\"/><path d=\"M17.41 7.96l-1.37-1.37c-.4-.4-.92-.59-1.43-.59-.52 0-1.04.2-1.43.59L10.3 9.45l-7.72 7.72c-.78.78-.78 2.05 0 2.83L4 21.41c.39.39.9.59 1.41.59.51 0 1.02-.2 1.41-.59l7.78-7.78 2.81-2.81c.8-.78.8-2.07 0-2.86zM5.41 20L4 18.59l7.72-7.72 1.47 1.35L5.41 20z\"/>\n",
              "  </svg>\n",
              "      </button>\n",
              "      \n",
              "  <style>\n",
              "    .colab-df-container {\n",
              "      display:flex;\n",
              "      flex-wrap:wrap;\n",
              "      gap: 12px;\n",
              "    }\n",
              "\n",
              "    .colab-df-convert {\n",
              "      background-color: #E8F0FE;\n",
              "      border: none;\n",
              "      border-radius: 50%;\n",
              "      cursor: pointer;\n",
              "      display: none;\n",
              "      fill: #1967D2;\n",
              "      height: 32px;\n",
              "      padding: 0 0 0 0;\n",
              "      width: 32px;\n",
              "    }\n",
              "\n",
              "    .colab-df-convert:hover {\n",
              "      background-color: #E2EBFA;\n",
              "      box-shadow: 0px 1px 2px rgba(60, 64, 67, 0.3), 0px 1px 3px 1px rgba(60, 64, 67, 0.15);\n",
              "      fill: #174EA6;\n",
              "    }\n",
              "\n",
              "    [theme=dark] .colab-df-convert {\n",
              "      background-color: #3B4455;\n",
              "      fill: #D2E3FC;\n",
              "    }\n",
              "\n",
              "    [theme=dark] .colab-df-convert:hover {\n",
              "      background-color: #434B5C;\n",
              "      box-shadow: 0px 1px 3px 1px rgba(0, 0, 0, 0.15);\n",
              "      filter: drop-shadow(0px 1px 2px rgba(0, 0, 0, 0.3));\n",
              "      fill: #FFFFFF;\n",
              "    }\n",
              "  </style>\n",
              "\n",
              "      <script>\n",
              "        const buttonEl =\n",
              "          document.querySelector('#df-6c8db262-0f09-4dec-8913-9d6ac537dbf1 button.colab-df-convert');\n",
              "        buttonEl.style.display =\n",
              "          google.colab.kernel.accessAllowed ? 'block' : 'none';\n",
              "\n",
              "        async function convertToInteractive(key) {\n",
              "          const element = document.querySelector('#df-6c8db262-0f09-4dec-8913-9d6ac537dbf1');\n",
              "          const dataTable =\n",
              "            await google.colab.kernel.invokeFunction('convertToInteractive',\n",
              "                                                     [key], {});\n",
              "          if (!dataTable) return;\n",
              "\n",
              "          const docLinkHtml = 'Like what you see? Visit the ' +\n",
              "            '<a target=\"_blank\" href=https://colab.research.google.com/notebooks/data_table.ipynb>data table notebook</a>'\n",
              "            + ' to learn more about interactive tables.';\n",
              "          element.innerHTML = '';\n",
              "          dataTable['output_type'] = 'display_data';\n",
              "          await google.colab.output.renderOutput(dataTable, element);\n",
              "          const docLink = document.createElement('div');\n",
              "          docLink.innerHTML = docLinkHtml;\n",
              "          element.appendChild(docLink);\n",
              "        }\n",
              "      </script>\n",
              "    </div>\n",
              "  </div>\n",
              "  "
            ]
          },
          "metadata": {},
          "execution_count": 18
        }
      ]
    },
    {
      "cell_type": "code",
      "source": [
        "def Statistical_info(text_tokens):\n",
        "  print (f\"Number of words : {len(text_tokens)}\")\n",
        "  print (f\"Number of unique  words : {len(set(text_tokens))}\")\n",
        "  word_len_avg = sum(map(len, text_tokens))/float(len(text_tokens))\n",
        "  print (f\"Average word length : {word_len_avg}\")\n",
        "  sent_len_avg = np.mean([len(' '.join(s)) for s in text_tokens])\n",
        "  max_w = max(text_tokens, key=len)\n",
        "  min_w = min(text_tokens, key=len)\n",
        "  print (f\"Longest word : {max_w}\")\n",
        "  print (f\"Shortest word : {min_w}\")"
      ],
      "metadata": {
        "id": "yc3HdXpuTy6-"
      },
      "id": "yc3HdXpuTy6-",
      "execution_count": 19,
      "outputs": []
    },
    {
      "cell_type": "code",
      "source": [
        "wordcloud = WordCloud(width = 800, height = 800,\n",
        "                background_color ='white',\n",
        "                min_font_size = 10).generate(clean_corpuse)\n",
        " \n",
        "# plot the WordCloud image                      \n",
        "plt.figure(figsize = (8, 8), facecolor = None)\n",
        "plt.imshow(wordcloud)\n",
        "plt.axis(\"off\")\n",
        "plt.tight_layout(pad = 0)\n",
        " \n",
        "plt.show()"
      ],
      "metadata": {
        "id": "NGELSfswUBsz",
        "outputId": "1357969f-692f-49b4-c284-556bb3b01e45",
        "colab": {
          "base_uri": "https://localhost:8080/",
          "height": 607
        }
      },
      "id": "NGELSfswUBsz",
      "execution_count": 20,
      "outputs": [
        {
          "output_type": "display_data",
          "data": {
            "text/plain": [
              "<Figure size 576x576 with 1 Axes>"
            ],
            "image/png": "[encoded data removed]"
          },
          "metadata": {
            "needs_background": "light"
          }
        }
      ]
    },
    {
      "cell_type": "code",
      "source": [
        "  print('*' *50)\n",
        "  print('Statical information of corpus')\n",
        "  print('*' *50)\n",
        "  Statistical_info(corpuse_tokens)"
      ],
      "metadata": {
        "id": "-4FepXeFPJhd",
        "outputId": "2aaaef48-a3e0-42c3-c3f1-abaa381bc5f9",
        "colab": {
          "base_uri": "https://localhost:8080/"
        }
      },
      "id": "-4FepXeFPJhd",
      "execution_count": 21,
      "outputs": [
        {
          "output_type": "stream",
          "name": "stdout",
          "text": [
            "**************************************************\n",
            "Statical information of corpus\n",
            "**************************************************\n",
            "Number of words : 290505\n",
            "Number of unique  words : 12245\n",
            "Average word length : 6.419256122958297\n",
            "Longest word : weapons-of-mass-destruction-related\n",
            "Shortest word : one\n"
          ]
        }
      ]
    },
    {
      "cell_type": "code",
      "source": [
        "for president, text_list in tqdm.tqdm_notebook(president_text_dict.items()):\n",
        "  president_texts = (' '.join(text_list))\n",
        "  clean_text = normalize_and_cleaning(president_texts)\n",
        "  president_tokens = tokenize_text(clean_text)\n",
        "  print('*' *50)\n",
        "  print(president)\n",
        "  print('*' *50)\n",
        "  Statistical_info(president_tokens)\n"
      ],
      "metadata": {
        "id": "20skmL3Pw244",
        "outputId": "fbda5cb3-9c0c-4ec4-b4c8-3dc74128833c",
        "colab": {
          "base_uri": "https://localhost:8080/",
          "height": 1000,
          "referenced_widgets": [
            "c8af37f132a84bfda6410c1f896c9481",
            "adb1e56ac6764cc1a6de6b998455562a",
            "7269955475e04e1f82097052e594dd10",
            "2299a78cc0df436fa66b98288f3487d1",
            "f7475075c45d439ca65f33568d37ec63",
            "6b6420ef3b9445c2a2bd341456e3916e",
            "e4a8ce802b1e459592df8e0cc68f17b9",
            "5c520f4e05614be9aa7c0110cbfc9ec3",
            "7a5e3834d2d34aeaa5c2acbd036a337d",
            "f558882992994d9898fd40262a7de5ef",
            "f0761af13c0c410f9b0f97867089a544"
          ]
        }
      },
      "id": "20skmL3Pw244",
      "execution_count": 22,
      "outputs": [
        {
          "output_type": "stream",
          "name": "stderr",
          "text": [
            "/usr/local/lib/python3.7/dist-packages/ipykernel_launcher.py:1: TqdmDeprecationWarning: This function will be removed in tqdm==5.0.0\n",
            "Please use `tqdm.notebook.tqdm` instead of `tqdm.tqdm_notebook`\n",
            "  \"\"\"Entry point for launching an IPython kernel.\n"
          ]
        },
        {
          "output_type": "display_data",
          "data": {
            "text/plain": [
              "  0%|          | 0/14 [00:00<?, ?it/s]"
            ],
            "application/vnd.jupyter.widget-view+json": {
              "version_major": 2,
              "version_minor": 0,
              "model_id": "c8af37f132a84bfda6410c1f896c9481"
            }
          },
          "metadata": {}
        },
        {
          "output_type": "stream",
          "name": "stdout",
          "text": [
            "**************************************************\n",
            "Harry S. Truman\n",
            "**************************************************\n",
            "Number of words : 32942\n",
            "Number of unique  words : 4734\n",
            "Average word length : 6.673122457652845\n",
            "Longest word : employer-employee-government\n",
            "Shortest word : one\n",
            "**************************************************\n",
            "Dwight D. Eisenhower\n",
            "**************************************************\n",
            "Number of words : 40940\n",
            "Number of unique  words : 5066\n",
            "Average word length : 6.56123595505618\n",
            "Longest word : reservation-by-reservation\n",
            "Shortest word : new\n",
            "**************************************************\n",
            "John F. Kennedy\n",
            "**************************************************\n",
            "Number of words : 11131\n",
            "Number of unique  words : 2285\n",
            "Average word length : 5.928757524031983\n",
            "Longest word : multimillion-dollar\n",
            "Shortest word : two\n",
            "**************************************************\n",
            "Lyndon B. Johnson\n",
            "**************************************************\n",
            "Number of words : 14523\n",
            "Number of unique  words : 2975\n",
            "Average word length : 6.3902774908765405\n",
            "Longest word : aggression-present\n",
            "Shortest word : two\n",
            "**************************************************\n",
            "Richard Nixon\n",
            "**************************************************\n",
            "Number of words : 30140\n",
            "Number of unique  words : 4507\n",
            "Average word length : 6.16841406768414\n",
            "Longest word : weapons-of-mass-destruction-related\n",
            "Shortest word : may\n",
            "**************************************************\n",
            "Gerald R. Ford\n",
            "**************************************************\n",
            "Number of words : 11883\n",
            "Number of unique  words : 2435\n",
            "Average word length : 6.733148194900278\n",
            "Longest word : information-gathering\n",
            "Shortest word : one\n",
            "**************************************************\n",
            "Jimmy Carter\n",
            "**************************************************\n",
            "Number of words : 28471\n",
            "Number of unique  words : 4223\n",
            "Average word length : 6.4196902110919885\n",
            "Longest word : agriculturally-related\n",
            "Shortest word : ago\n",
            "**************************************************\n",
            "Ronald Reagan\n",
            "**************************************************\n",
            "Number of words : 20967\n",
            "Number of unique  words : 4004\n",
            "Average word length : 6.270138789526398\n",
            "Longest word : congressional-executive\n",
            "Shortest word : men\n",
            "**************************************************\n",
            "George Bush\n",
            "**************************************************\n",
            "Number of words : 6559\n",
            "Number of unique  words : 1894\n",
            "Average word length : 6.444427504192713\n",
            "Longest word : administrations-two\n",
            "Shortest word : new\n",
            "**************************************************\n",
            "William J. Clinton\n",
            "**************************************************\n",
            "Number of words : 22418\n",
            "Number of unique  words : 3973\n",
            "Average word length : 6.537782139352307\n",
            "Longest word : never-to-be-forgotten\n",
            "Shortest word : new\n",
            "**************************************************\n",
            "George W. Bush\n",
            "**************************************************\n",
            "Number of words : 19460\n",
            "Number of unique  words : 3822\n",
            "Average word length : 6.3147482014388485\n",
            "Longest word : representatives-which\n",
            "Shortest word : p.m\n",
            "**************************************************\n",
            "Barack Obama\n",
            "**************************************************\n",
            "Number of words : 38303\n",
            "Number of unique  words : 4974\n",
            "Average word length : 6.463436284364149\n",
            "Longest word : government-to-government\n",
            "Shortest word : add\n",
            "**************************************************\n",
            "Donald J. Trump\n",
            "**************************************************\n",
            "Number of words : 11085\n",
            "Number of unique  words : 2363\n",
            "Average word length : 6.06468200270636\n",
            "Longest word : non-discrimination\n",
            "Shortest word : let\n",
            "**************************************************\n",
            "Joseph R. Biden\n",
            "**************************************************\n",
            "Number of words : 1683\n",
            "Number of unique  words : 781\n",
            "Average word length : 6.478312537136066\n",
            "Longest word : self-determination\n",
            "Shortest word : new\n"
          ]
        }
      ]
    },
    {
      "cell_type": "code",
      "source": [
        ""
      ],
      "metadata": {
        "id": "GktujBdtyU60"
      },
      "id": "GktujBdtyU60",
      "execution_count": null,
      "outputs": []
    },
    {
      "cell_type": "markdown",
      "source": [
        "#### Sentiment Analysis"
      ],
      "metadata": {
        "id": "9Q_hGtrhyVqs"
      },
      "id": "9Q_hGtrhyVqs"
    },
    {
      "cell_type": "code",
      "source": [
        "def sentiment_scores(sentence):\n",
        "  sentiment_obj = SentimentIntensityAnalyzer()\n",
        "  sentiment_dict = sentiment_obj.polarity_scores(sentence)\n",
        "  print(\"Overall sentiment dictionary is : \", sentiment_dict)\n",
        "  print(\"sentence was rated as \", sentiment_dict['neg']*100, \"% Negative\")\n",
        "  print(\"sentence was rated as \", sentiment_dict['neu']*100, \"% Neutral\")\n",
        "  print(\"sentence was rated as \", sentiment_dict['pos']*100, \"% Positive\")\n",
        "  print(\"Sentence Overall Rated As\", end = \" \")\n",
        "  if sentiment_dict['compound'] >= 0.05 :\n",
        "      print(\"Positive\")\n",
        "\n",
        "  elif sentiment_dict['compound'] <= - 0.05 :\n",
        "      print(\"Negative\")\n",
        "\n",
        "  else :\n",
        "      print(\"Neutral\")\n",
        "  return sentiment_dict"
      ],
      "metadata": {
        "id": "GdYHphS-ij1H"
      },
      "id": "GdYHphS-ij1H",
      "execution_count": 36,
      "outputs": []
    },
    {
      "cell_type": "code",
      "source": [
        "for president, text_list in tqdm.tqdm_notebook(president_text_dict.items()):\n",
        "  president_texts = (' '.join(text_list))\n",
        "  clean_text = normalize_and_cleaning(president_texts)\n",
        "  print('*' *50)\n",
        "  print(president)\n",
        "  print('*' *50)\n",
        "  d = sentiment_scores(clean_text)"
      ],
      "metadata": {
        "id": "_foG4oLKjcco",
        "outputId": "81dd77d6-b9ff-4ee1-9f5f-6b05909fa4bb",
        "colab": {
          "base_uri": "https://localhost:8080/",
          "height": 1000,
          "referenced_widgets": [
            "25385984d63043af9a5788efce095956",
            "4a5e795a9f62443c903a605c75561e2f",
            "eddb5818f48440c1bcf844aeefe45898",
            "38e44853afdc4ae484f17987a244d824",
            "963e8802659c46c5b81085ed8abd524f",
            "39d1b427e78f4abc8dec006eb11aa326",
            "0752d412a7164a6cb3975cae89e0663b",
            "c8cb32f75c354534b68be40f713c184b",
            "f9c1b6b777b94b93bbc022882afdcf57",
            "6c26df90304943ff93c10cbce743d1cc",
            "1f25be7ca0c64eeab3438f63cad1aaaa"
          ]
        }
      },
      "id": "_foG4oLKjcco",
      "execution_count": 38,
      "outputs": [
        {
          "output_type": "stream",
          "name": "stderr",
          "text": [
            "/usr/local/lib/python3.7/dist-packages/ipykernel_launcher.py:2: TqdmDeprecationWarning: This function will be removed in tqdm==5.0.0\n",
            "Please use `tqdm.notebook.tqdm` instead of `tqdm.tqdm_notebook`\n",
            "  \n"
          ]
        },
        {
          "output_type": "display_data",
          "data": {
            "text/plain": [
              "  0%|          | 0/14 [00:00<?, ?it/s]"
            ],
            "application/vnd.jupyter.widget-view+json": {
              "version_major": 2,
              "version_minor": 0,
              "model_id": "25385984d63043af9a5788efce095956"
            }
          },
          "metadata": {}
        },
        {
          "output_type": "stream",
          "name": "stdout",
          "text": [
            "**************************************************\n",
            "Harry S. Truman\n",
            "**************************************************\n",
            "Overall sentiment dictionary is :  {'neg': 0.093, 'neu': 0.637, 'pos': 0.27, 'compound': 1.0}\n",
            "sentence was rated as  9.3 % Negative\n",
            "sentence was rated as  63.7 % Neutral\n",
            "sentence was rated as  27.0 % Positive\n",
            "Sentence Overall Rated As Positive\n",
            "**************************************************\n",
            "Dwight D. Eisenhower\n",
            "**************************************************\n",
            "Overall sentiment dictionary is :  {'neg': 0.107, 'neu': 0.624, 'pos': 0.269, 'compound': 1.0}\n",
            "sentence was rated as  10.7 % Negative\n",
            "sentence was rated as  62.4 % Neutral\n",
            "sentence was rated as  26.900000000000002 % Positive\n",
            "Sentence Overall Rated As Positive\n",
            "**************************************************\n",
            "John F. Kennedy\n",
            "**************************************************\n",
            "Overall sentiment dictionary is :  {'neg': 0.12, 'neu': 0.627, 'pos': 0.253, 'compound': 1.0}\n",
            "sentence was rated as  12.0 % Negative\n",
            "sentence was rated as  62.7 % Neutral\n",
            "sentence was rated as  25.3 % Positive\n",
            "Sentence Overall Rated As Positive\n",
            "**************************************************\n",
            "Lyndon B. Johnson\n",
            "**************************************************\n",
            "Overall sentiment dictionary is :  {'neg': 0.116, 'neu': 0.607, 'pos': 0.276, 'compound': 1.0}\n",
            "sentence was rated as  11.600000000000001 % Negative\n",
            "sentence was rated as  60.699999999999996 % Neutral\n",
            "sentence was rated as  27.6 % Positive\n",
            "Sentence Overall Rated As Positive\n",
            "**************************************************\n",
            "Richard Nixon\n",
            "**************************************************\n",
            "Overall sentiment dictionary is :  {'neg': 0.135, 'neu': 0.583, 'pos': 0.282, 'compound': 1.0}\n",
            "sentence was rated as  13.5 % Negative\n",
            "sentence was rated as  58.3 % Neutral\n",
            "sentence was rated as  28.199999999999996 % Positive\n",
            "Sentence Overall Rated As Positive\n",
            "**************************************************\n",
            "Gerald R. Ford\n",
            "**************************************************\n",
            "Overall sentiment dictionary is :  {'neg': 0.094, 'neu': 0.66, 'pos': 0.246, 'compound': 1.0}\n",
            "sentence was rated as  9.4 % Negative\n",
            "sentence was rated as  66.0 % Neutral\n",
            "sentence was rated as  24.6 % Positive\n",
            "Sentence Overall Rated As Positive\n",
            "**************************************************\n",
            "Jimmy Carter\n",
            "**************************************************\n",
            "Overall sentiment dictionary is :  {'neg': 0.106, 'neu': 0.64, 'pos': 0.254, 'compound': 1.0}\n",
            "sentence was rated as  10.6 % Negative\n",
            "sentence was rated as  64.0 % Neutral\n",
            "sentence was rated as  25.4 % Positive\n",
            "Sentence Overall Rated As Positive\n",
            "**************************************************\n",
            "Ronald Reagan\n",
            "**************************************************\n",
            "Overall sentiment dictionary is :  {'neg': 0.112, 'neu': 0.612, 'pos': 0.275, 'compound': 1.0}\n",
            "sentence was rated as  11.200000000000001 % Negative\n",
            "sentence was rated as  61.199999999999996 % Neutral\n",
            "sentence was rated as  27.500000000000004 % Positive\n",
            "Sentence Overall Rated As Positive\n",
            "**************************************************\n",
            "George Bush\n",
            "**************************************************\n",
            "Overall sentiment dictionary is :  {'neg': 0.107, 'neu': 0.615, 'pos': 0.278, 'compound': 1.0}\n",
            "sentence was rated as  10.7 % Negative\n",
            "sentence was rated as  61.5 % Neutral\n",
            "sentence was rated as  27.800000000000004 % Positive\n",
            "Sentence Overall Rated As Positive\n",
            "**************************************************\n",
            "William J. Clinton\n",
            "**************************************************\n",
            "Overall sentiment dictionary is :  {'neg': 0.099, 'neu': 0.614, 'pos': 0.287, 'compound': 1.0}\n",
            "sentence was rated as  9.9 % Negative\n",
            "sentence was rated as  61.4 % Neutral\n",
            "sentence was rated as  28.7 % Positive\n",
            "Sentence Overall Rated As Positive\n",
            "**************************************************\n",
            "George W. Bush\n",
            "**************************************************\n",
            "Overall sentiment dictionary is :  {'neg': 0.111, 'neu': 0.613, 'pos': 0.277, 'compound': 1.0}\n",
            "sentence was rated as  11.1 % Negative\n",
            "sentence was rated as  61.3 % Neutral\n",
            "sentence was rated as  27.700000000000003 % Positive\n",
            "Sentence Overall Rated As Positive\n",
            "**************************************************\n",
            "Barack Obama\n",
            "**************************************************\n",
            "Overall sentiment dictionary is :  {'neg': 0.103, 'neu': 0.644, 'pos': 0.252, 'compound': 1.0}\n",
            "sentence was rated as  10.299999999999999 % Negative\n",
            "sentence was rated as  64.4 % Neutral\n",
            "sentence was rated as  25.2 % Positive\n",
            "Sentence Overall Rated As Positive\n",
            "**************************************************\n",
            "Donald J. Trump\n",
            "**************************************************\n",
            "Overall sentiment dictionary is :  {'neg': 0.1, 'neu': 0.605, 'pos': 0.296, 'compound': 1.0}\n",
            "sentence was rated as  10.0 % Negative\n",
            "sentence was rated as  60.5 % Neutral\n",
            "sentence was rated as  29.599999999999998 % Positive\n",
            "Sentence Overall Rated As Positive\n",
            "**************************************************\n",
            "Joseph R. Biden\n",
            "**************************************************\n",
            "Overall sentiment dictionary is :  {'neg': 0.103, 'neu': 0.558, 'pos': 0.339, 'compound': 0.9999}\n",
            "sentence was rated as  10.299999999999999 % Negative\n",
            "sentence was rated as  55.800000000000004 % Neutral\n",
            "sentence was rated as  33.900000000000006 % Positive\n",
            "Sentence Overall Rated As Positive\n"
          ]
        }
      ]
    },
    {
      "cell_type": "markdown",
      "source": [
        "NER"
      ],
      "metadata": {
        "id": "-OrxCZBGIUiu"
      },
      "id": "-OrxCZBGIUiu"
    },
    {
      "cell_type": "code",
      "source": [
        "def specify_NER(raw_text):\n",
        "  doc = ner.name(raw_text, language='en_core_web_sm')\n",
        "  text_label = [(X.text, X.label_) for X in doc]\n",
        "  for text, label in text_label:\n",
        "    raw_text = raw_text.replace(text, label)\n",
        "  return raw_text"
      ],
      "metadata": {
        "id": "MajC9u05TIfF"
      },
      "id": "MajC9u05TIfF",
      "execution_count": 23,
      "outputs": []
    },
    {
      "cell_type": "code",
      "source": [
        "input_text = \"That U.S.A. poster-print e.g the U.S costs $12.40 that created in 2008 by Jeff Atwood and Joel Spolsky.\"\n",
        "specify_NER(input_text)"
      ],
      "metadata": {
        "id": "3otcFORETJ8m",
        "outputId": "e38a32c2-06ba-4df4-bb72-1f4fd4e1581e",
        "colab": {
          "base_uri": "https://localhost:8080/",
          "height": 35
        }
      },
      "id": "3otcFORETJ8m",
      "execution_count": 24,
      "outputs": [
        {
          "output_type": "execute_result",
          "data": {
            "text/plain": [
              "'That GPE poster-print e.g the GPE costs $MONEY that created in DATE by PERSON and PERSON.'"
            ],
            "application/vnd.google.colaboratory.intrinsic+json": {
              "type": "string"
            }
          },
          "metadata": {},
          "execution_count": 24
        }
      ]
    },
    {
      "cell_type": "code",
      "source": [
        "NER = spacy.load(\"en_core_web_sm\")\n",
        "raw_text = 'That U.S.A. poster-print e.g the U.S costs $12.40'\n",
        "text1= NER(raw_text)\n",
        "displacy.render(text1,style=\"ent\",jupyter=True)\n",
        "\n"
      ],
      "metadata": {
        "id": "KsNRrhXqCmMh",
        "outputId": "f916223b-1b7d-449b-bc6c-f8a70e8d0f3c",
        "colab": {
          "base_uri": "https://localhost:8080/",
          "height": 52
        }
      },
      "id": "KsNRrhXqCmMh",
      "execution_count": 25,
      "outputs": [
        {
          "output_type": "display_data",
          "data": {
            "text/plain": [
              "<IPython.core.display.HTML object>"
            ],
            "text/html": [
              "<div class=\"entities\" style=\"line-height: 2.5; direction: ltr\">That \n",
              "<mark class=\"entity\" style=\"background: #feca74; padding: 0.45em 0.6em; margin: 0 0.25em; line-height: 1; border-radius: 0.35em;\">\n",
              "    U.S.A.\n",
              "    <span style=\"font-size: 0.8em; font-weight: bold; line-height: 1; border-radius: 0.35em; text-transform: uppercase; vertical-align: middle; margin-left: 0.5rem\">GPE</span>\n",
              "</mark>\n",
              " poster-print e.g the \n",
              "<mark class=\"entity\" style=\"background: #feca74; padding: 0.45em 0.6em; margin: 0 0.25em; line-height: 1; border-radius: 0.35em;\">\n",
              "    U.S\n",
              "    <span style=\"font-size: 0.8em; font-weight: bold; line-height: 1; border-radius: 0.35em; text-transform: uppercase; vertical-align: middle; margin-left: 0.5rem\">GPE</span>\n",
              "</mark>\n",
              " costs $\n",
              "<mark class=\"entity\" style=\"background: #e4e7d2; padding: 0.45em 0.6em; margin: 0 0.25em; line-height: 1; border-radius: 0.35em;\">\n",
              "    12.40\n",
              "    <span style=\"font-size: 0.8em; font-weight: bold; line-height: 1; border-radius: 0.35em; text-transform: uppercase; vertical-align: middle; margin-left: 0.5rem\">MONEY</span>\n",
              "</mark>\n",
              "</div>"
            ]
          },
          "metadata": {}
        }
      ]
    },
    {
      "cell_type": "code",
      "source": [
        "\n",
        "s = \"That U.S.A. and Nicolas poster-print e.g the U.S costs $12.40\"\n",
        "doc = NER(s)\n",
        "word_tokens = tokenize_text(s)\n",
        "\n",
        "a = \" \".join([t.text if not t.ent_type_ else t.ent_type_ for t in doc])\n",
        "print(tokenize_text(a))\n"
      ],
      "metadata": {
        "id": "QCxMu6RNFwYL",
        "outputId": "9963a7f1-ae08-4b19-9ec0-4045b3dc1e95",
        "colab": {
          "base_uri": "https://localhost:8080/"
        }
      },
      "id": "QCxMu6RNFwYL",
      "execution_count": 26,
      "outputs": [
        {
          "output_type": "stream",
          "name": "stdout",
          "text": [
            "['That', 'GPE', 'and', 'PERSON', 'poster', '-', 'print', 'e.g', 'the', 'GPE', 'costs', 'MONEY']\n"
          ]
        }
      ]
    },
    {
      "cell_type": "code",
      "execution_count": 27,
      "id": "7952b5c1-daf9-4fc2-80bc-c3185e1fb539",
      "metadata": {
        "id": "7952b5c1-daf9-4fc2-80bc-c3185e1fb539",
        "outputId": "0090800c-c4c5-4d50-d488-1374c2912a8c",
        "colab": {
          "base_uri": "https://localhost:8080/"
        }
      },
      "outputs": [
        {
          "output_type": "stream",
          "name": "stdout",
          "text": [
            "That U.S.A. poster-print e.g the U.S costs $12.40  amir hello\n",
            "That U.S.A poster-print e.g the U.S costs 12.40  amir hello\n"
          ]
        }
      ],
      "source": [
        "l = tokenize_text('That U.S.A. poster-print e.g the U.S costs $12.40 amir. hello')\n",
        "t = 'That U.S.A. poster-print e.g the U.S costs $12.40 amir. hello'\n",
        "def punct(text):\n",
        "    text = ' '.join([t for t in tokenize_text(text) if len(t) > 1])\n",
        "    text = ' '.join(word.strip(punctuation) for word in tokenize_text(text))\n",
        "    return text\n",
        "        \n",
        "#punct(t) \n",
        "import re, string\n",
        "\n",
        "def test(text):\n",
        "    out =' '.join([word for word in tokenize_text(text) if word not in string.punctuation])\n",
        "\n",
        "    return out\n",
        "print(test(t))\n",
        "print(punct(t))\n",
        "#print(l)"
      ]
    },
    {
      "cell_type": "code",
      "execution_count": 28,
      "id": "a17f4fa1-f1ae-4c39-bb46-b7f8f6c825a0",
      "metadata": {
        "id": "a17f4fa1-f1ae-4c39-bb46-b7f8f6c825a0",
        "outputId": "2b476f88-e23b-4ba2-d7cc-6c67da7c830a",
        "colab": {
          "base_uri": "https://localhost:8080/"
        }
      },
      "outputs": [
        {
          "output_type": "stream",
          "name": "stdout",
          "text": [
            "That U.S.A. poster-print e.g the U.S costs amir hello year\n"
          ]
        }
      ],
      "source": [
        "l = 'That U.S.A. poster-print e.g the U.S costs $12.40 3th amir. hello 7. 9 2th 2nd2 5-year $56 $4 1890'\n",
        "\n",
        "def remove_num(t):\n",
        "    my_reg = r'\\$?\\d+\\.?\\d*\\w*\\d*'\n",
        "    text = re.sub(my_reg, '', t)\n",
        "    text = re.sub(' +', ' ', text)\n",
        "    return text\n",
        "\n",
        "y = remove_num(l)\n",
        "print(test(y))\n"
      ]
    },
    {
      "cell_type": "code",
      "execution_count": 29,
      "id": "5e46dba9-2eed-4eee-9f1f-bb2376813952",
      "metadata": {
        "id": "5e46dba9-2eed-4eee-9f1f-bb2376813952",
        "outputId": "f49d6349-a8c2-4364-b6b2-742d49775dca",
        "colab": {
          "base_uri": "https://localhost:8080/"
        }
      },
      "outputs": [
        {
          "output_type": "stream",
          "name": "stdout",
          "text": [
            "['i', 'me', 'my', 'myself', 'we', 'our', 'ours', 'ourselves', 'you', \"you're\", \"you've\", \"you'll\", \"you'd\", 'your', 'yours', 'yourself', 'yourselves', 'he', 'him', 'his', 'himself', 'she', \"she's\", 'her', 'hers', 'herself', 'it', \"it's\", 'its', 'itself', 'they', 'them', 'their', 'theirs', 'themselves', 'what', 'which', 'who', 'whom', 'this', 'that', \"that'll\", 'these', 'those', 'am', 'is', 'are', 'was', 'were', 'be', 'been', 'being', 'have', 'has', 'had', 'having', 'do', 'does', 'did', 'doing', 'a', 'an', 'the', 'and', 'but', 'if', 'or', 'because', 'as', 'until', 'while', 'of', 'at', 'by', 'for', 'with', 'about', 'against', 'between', 'into', 'through', 'during', 'before', 'after', 'above', 'below', 'to', 'from', 'up', 'down', 'in', 'out', 'on', 'off', 'over', 'under', 'again', 'further', 'then', 'once', 'here', 'there', 'when', 'where', 'why', 'how', 'all', 'any', 'both', 'each', 'few', 'more', 'most', 'other', 'some', 'such', 'no', 'nor', 'not', 'only', 'own', 'same', 'so', 'than', 'too', 'very', 's', 't', 'can', 'will', 'just', 'don', \"don't\", 'should', \"should've\", 'now', 'd', 'll', 'm', 'o', 're', 've', 'y', 'ain', 'aren', \"aren't\", 'couldn', \"couldn't\", 'didn', \"didn't\", 'doesn', \"doesn't\", 'hadn', \"hadn't\", 'hasn', \"hasn't\", 'haven', \"haven't\", 'isn', \"isn't\", 'ma', 'mightn', \"mightn't\", 'mustn', \"mustn't\", 'needn', \"needn't\", 'shan', \"shan't\", 'shouldn', \"shouldn't\", 'wasn', \"wasn't\", 'weren', \"weren't\", 'won', \"won't\", 'wouldn', \"wouldn't\"]\n"
          ]
        }
      ],
      "source": [
        "print(stopwords.words('english'))\n"
      ]
    },
    {
      "cell_type": "code",
      "execution_count": 30,
      "id": "e200206d-1c47-418f-af85-daf103cdbe83",
      "metadata": {
        "id": "e200206d-1c47-418f-af85-daf103cdbe83"
      },
      "outputs": [],
      "source": [
        "from nltk.tokenize import word_tokenize\n",
        "min_len = 2\n",
        "l = 'That U.S.A. poster-print e.g the U.S cs $12.40 3th am'\n",
        "t = word_tokenize(l)\n",
        "if min_len>1:\n",
        "    text = ' '.join([word for word in t if len(word)>min_len]) "
      ]
    },
    {
      "cell_type": "code",
      "source": [
        "text"
      ],
      "metadata": {
        "colab": {
          "base_uri": "https://localhost:8080/",
          "height": 35
        },
        "id": "H2PYJAopvRLz",
        "outputId": "083ba72c-fdf6-472d-c7f5-ccf4ab0089e1"
      },
      "id": "H2PYJAopvRLz",
      "execution_count": 31,
      "outputs": [
        {
          "output_type": "execute_result",
          "data": {
            "text/plain": [
              "'That U.S.A. poster-print e.g the U.S 12.40 3th'"
            ],
            "application/vnd.google.colaboratory.intrinsic+json": {
              "type": "string"
            }
          },
          "metadata": {},
          "execution_count": 31
        }
      ]
    },
    {
      "cell_type": "code",
      "source": [
        "text = '[Laughter]poster-print The President. That 1993s [Applause] Asia—the asia-pacific'\n",
        "tt = re.sub(r'(:?\\[Laughter\\]|\\[Applause\\]|\\[applause\\]|\\[laughter\\])', '', text)\n",
        "tt"
      ],
      "metadata": {
        "colab": {
          "base_uri": "https://localhost:8080/",
          "height": 35
        },
        "id": "VVIwK4lWvhSC",
        "outputId": "e65efe38-c833-4944-a42f-1c0cb16d4b18"
      },
      "id": "VVIwK4lWvhSC",
      "execution_count": 32,
      "outputs": [
        {
          "output_type": "execute_result",
          "data": {
            "text/plain": [
              "'poster-print The President. That 1993s  Asia—the asia-pacific'"
            ],
            "application/vnd.google.colaboratory.intrinsic+json": {
              "type": "string"
            }
          },
          "metadata": {},
          "execution_count": 32
        }
      ]
    },
    {
      "cell_type": "code",
      "source": [
        ""
      ],
      "metadata": {
        "id": "4Jgq-X8gxcgt"
      },
      "id": "4Jgq-X8gxcgt",
      "execution_count": 32,
      "outputs": []
    }
  ],
  "metadata": {
    "kernelspec": {
      "display_name": "Python 3 (ipykernel)",
      "language": "python",
      "name": "python3"
    },
    "language_info": {
      "codemirror_mode": {
        "name": "ipython",
        "version": 3
      },
      "file_extension": ".py",
      "mimetype": "text/x-python",
      "name": "python",
      "nbconvert_exporter": "python",
      "pygments_lexer": "ipython3",
      "version": "3.9.9"
    },
    "colab": {
      "name": "Main.ipynb",
      "provenance": [],
      "include_colab_link": true
    },
    "widgets": {
      "application/vnd.jupyter.widget-state+json": {
        "c8af37f132a84bfda6410c1f896c9481": {
          "model_module": "@jupyter-widgets/controls",
          "model_name": "HBoxModel",
          "model_module_version": "1.5.0",
          "state": {
            "_dom_classes": [],
            "_model_module": "@jupyter-widgets/controls",
            "_model_module_version": "1.5.0",
            "_model_name": "HBoxModel",
            "_view_count": null,
            "_view_module": "@jupyter-widgets/controls",
            "_view_module_version": "1.5.0",
            "_view_name": "HBoxView",
            "box_style": "",
            "children": [
              "IPY_MODEL_adb1e56ac6764cc1a6de6b998455562a",
              "IPY_MODEL_7269955475e04e1f82097052e594dd10",
              "IPY_MODEL_2299a78cc0df436fa66b98288f3487d1"
            ],
            "layout": "IPY_MODEL_f7475075c45d439ca65f33568d37ec63"
          }
        },
        "adb1e56ac6764cc1a6de6b998455562a": {
          "model_module": "@jupyter-widgets/controls",
          "model_name": "HTMLModel",
          "model_module_version": "1.5.0",
          "state": {
            "_dom_classes": [],
            "_model_module": "@jupyter-widgets/controls",
            "_model_module_version": "1.5.0",
            "_model_name": "HTMLModel",
            "_view_count": null,
            "_view_module": "@jupyter-widgets/controls",
            "_view_module_version": "1.5.0",
            "_view_name": "HTMLView",
            "description": "",
            "description_tooltip": null,
            "layout": "IPY_MODEL_6b6420ef3b9445c2a2bd341456e3916e",
            "placeholder": "​",
            "style": "IPY_MODEL_e4a8ce802b1e459592df8e0cc68f17b9",
            "value": "100%"
          }
        },
        "7269955475e04e1f82097052e594dd10": {
          "model_module": "@jupyter-widgets/controls",
          "model_name": "FloatProgressModel",
          "model_module_version": "1.5.0",
          "state": {
            "_dom_classes": [],
            "_model_module": "@jupyter-widgets/controls",
            "_model_module_version": "1.5.0",
            "_model_name": "FloatProgressModel",
            "_view_count": null,
            "_view_module": "@jupyter-widgets/controls",
            "_view_module_version": "1.5.0",
            "_view_name": "ProgressView",
            "bar_style": "success",
            "description": "",
            "description_tooltip": null,
            "layout": "IPY_MODEL_5c520f4e05614be9aa7c0110cbfc9ec3",
            "max": 14,
            "min": 0,
            "orientation": "horizontal",
            "style": "IPY_MODEL_7a5e3834d2d34aeaa5c2acbd036a337d",
            "value": 14
          }
        },
        "2299a78cc0df436fa66b98288f3487d1": {
          "model_module": "@jupyter-widgets/controls",
          "model_name": "HTMLModel",
          "model_module_version": "1.5.0",
          "state": {
            "_dom_classes": [],
            "_model_module": "@jupyter-widgets/controls",
            "_model_module_version": "1.5.0",
            "_model_name": "HTMLModel",
            "_view_count": null,
            "_view_module": "@jupyter-widgets/controls",
            "_view_module_version": "1.5.0",
            "_view_name": "HTMLView",
            "description": "",
            "description_tooltip": null,
            "layout": "IPY_MODEL_f558882992994d9898fd40262a7de5ef",
            "placeholder": "​",
            "style": "IPY_MODEL_f0761af13c0c410f9b0f97867089a544",
            "value": " 14/14 [00:29&lt;00:00,  1.51s/it]"
          }
        },
        "f7475075c45d439ca65f33568d37ec63": {
          "model_module": "@jupyter-widgets/base",
          "model_name": "LayoutModel",
          "model_module_version": "1.2.0",
          "state": {
            "_model_module": "@jupyter-widgets/base",
            "_model_module_version": "1.2.0",
            "_model_name": "LayoutModel",
            "_view_count": null,
            "_view_module": "@jupyter-widgets/base",
            "_view_module_version": "1.2.0",
            "_view_name": "LayoutView",
            "align_content": null,
            "align_items": null,
            "align_self": null,
            "border": null,
            "bottom": null,
            "display": null,
            "flex": null,
            "flex_flow": null,
            "grid_area": null,
            "grid_auto_columns": null,
            "grid_auto_flow": null,
            "grid_auto_rows": null,
            "grid_column": null,
            "grid_gap": null,
            "grid_row": null,
            "grid_template_areas": null,
            "grid_template_columns": null,
            "grid_template_rows": null,
            "height": null,
            "justify_content": null,
            "justify_items": null,
            "left": null,
            "margin": null,
            "max_height": null,
            "max_width": null,
            "min_height": null,
            "min_width": null,
            "object_fit": null,
            "object_position": null,
            "order": null,
            "overflow": null,
            "overflow_x": null,
            "overflow_y": null,
            "padding": null,
            "right": null,
            "top": null,
            "visibility": null,
            "width": null
          }
        },
        "6b6420ef3b9445c2a2bd341456e3916e": {
          "model_module": "@jupyter-widgets/base",
          "model_name": "LayoutModel",
          "model_module_version": "1.2.0",
          "state": {
            "_model_module": "@jupyter-widgets/base",
            "_model_module_version": "1.2.0",
            "_model_name": "LayoutModel",
            "_view_count": null,
            "_view_module": "@jupyter-widgets/base",
            "_view_module_version": "1.2.0",
            "_view_name": "LayoutView",
            "align_content": null,
            "align_items": null,
            "align_self": null,
            "border": null,
            "bottom": null,
            "display": null,
            "flex": null,
            "flex_flow": null,
            "grid_area": null,
            "grid_auto_columns": null,
            "grid_auto_flow": null,
            "grid_auto_rows": null,
            "grid_column": null,
            "grid_gap": null,
            "grid_row": null,
            "grid_template_areas": null,
            "grid_template_columns": null,
            "grid_template_rows": null,
            "height": null,
            "justify_content": null,
            "justify_items": null,
            "left": null,
            "margin": null,
            "max_height": null,
            "max_width": null,
            "min_height": null,
            "min_width": null,
            "object_fit": null,
            "object_position": null,
            "order": null,
            "overflow": null,
            "overflow_x": null,
            "overflow_y": null,
            "padding": null,
            "right": null,
            "top": null,
            "visibility": null,
            "width": null
          }
        },
        "e4a8ce802b1e459592df8e0cc68f17b9": {
          "model_module": "@jupyter-widgets/controls",
          "model_name": "DescriptionStyleModel",
          "model_module_version": "1.5.0",
          "state": {
            "_model_module": "@jupyter-widgets/controls",
            "_model_module_version": "1.5.0",
            "_model_name": "DescriptionStyleModel",
            "_view_count": null,
            "_view_module": "@jupyter-widgets/base",
            "_view_module_version": "1.2.0",
            "_view_name": "StyleView",
            "description_width": ""
          }
        },
        "5c520f4e05614be9aa7c0110cbfc9ec3": {
          "model_module": "@jupyter-widgets/base",
          "model_name": "LayoutModel",
          "model_module_version": "1.2.0",
          "state": {
            "_model_module": "@jupyter-widgets/base",
            "_model_module_version": "1.2.0",
            "_model_name": "LayoutModel",
            "_view_count": null,
            "_view_module": "@jupyter-widgets/base",
            "_view_module_version": "1.2.0",
            "_view_name": "LayoutView",
            "align_content": null,
            "align_items": null,
            "align_self": null,
            "border": null,
            "bottom": null,
            "display": null,
            "flex": null,
            "flex_flow": null,
            "grid_area": null,
            "grid_auto_columns": null,
            "grid_auto_flow": null,
            "grid_auto_rows": null,
            "grid_column": null,
            "grid_gap": null,
            "grid_row": null,
            "grid_template_areas": null,
            "grid_template_columns": null,
            "grid_template_rows": null,
            "height": null,
            "justify_content": null,
            "justify_items": null,
            "left": null,
            "margin": null,
            "max_height": null,
            "max_width": null,
            "min_height": null,
            "min_width": null,
            "object_fit": null,
            "object_position": null,
            "order": null,
            "overflow": null,
            "overflow_x": null,
            "overflow_y": null,
            "padding": null,
            "right": null,
            "top": null,
            "visibility": null,
            "width": null
          }
        },
        "7a5e3834d2d34aeaa5c2acbd036a337d": {
          "model_module": "@jupyter-widgets/controls",
          "model_name": "ProgressStyleModel",
          "model_module_version": "1.5.0",
          "state": {
            "_model_module": "@jupyter-widgets/controls",
            "_model_module_version": "1.5.0",
            "_model_name": "ProgressStyleModel",
            "_view_count": null,
            "_view_module": "@jupyter-widgets/base",
            "_view_module_version": "1.2.0",
            "_view_name": "StyleView",
            "bar_color": null,
            "description_width": ""
          }
        },
        "f558882992994d9898fd40262a7de5ef": {
          "model_module": "@jupyter-widgets/base",
          "model_name": "LayoutModel",
          "model_module_version": "1.2.0",
          "state": {
            "_model_module": "@jupyter-widgets/base",
            "_model_module_version": "1.2.0",
            "_model_name": "LayoutModel",
            "_view_count": null,
            "_view_module": "@jupyter-widgets/base",
            "_view_module_version": "1.2.0",
            "_view_name": "LayoutView",
            "align_content": null,
            "align_items": null,
            "align_self": null,
            "border": null,
            "bottom": null,
            "display": null,
            "flex": null,
            "flex_flow": null,
            "grid_area": null,
            "grid_auto_columns": null,
            "grid_auto_flow": null,
            "grid_auto_rows": null,
            "grid_column": null,
            "grid_gap": null,
            "grid_row": null,
            "grid_template_areas": null,
            "grid_template_columns": null,
            "grid_template_rows": null,
            "height": null,
            "justify_content": null,
            "justify_items": null,
            "left": null,
            "margin": null,
            "max_height": null,
            "max_width": null,
            "min_height": null,
            "min_width": null,
            "object_fit": null,
            "object_position": null,
            "order": null,
            "overflow": null,
            "overflow_x": null,
            "overflow_y": null,
            "padding": null,
            "right": null,
            "top": null,
            "visibility": null,
            "width": null
          }
        },
        "f0761af13c0c410f9b0f97867089a544": {
          "model_module": "@jupyter-widgets/controls",
          "model_name": "DescriptionStyleModel",
          "model_module_version": "1.5.0",
          "state": {
            "_model_module": "@jupyter-widgets/controls",
            "_model_module_version": "1.5.0",
            "_model_name": "DescriptionStyleModel",
            "_view_count": null,
            "_view_module": "@jupyter-widgets/base",
            "_view_module_version": "1.2.0",
            "_view_name": "StyleView",
            "description_width": ""
          }
        },
        "25385984d63043af9a5788efce095956": {
          "model_module": "@jupyter-widgets/controls",
          "model_name": "HBoxModel",
          "model_module_version": "1.5.0",
          "state": {
            "_dom_classes": [],
            "_model_module": "@jupyter-widgets/controls",
            "_model_module_version": "1.5.0",
            "_model_name": "HBoxModel",
            "_view_count": null,
            "_view_module": "@jupyter-widgets/controls",
            "_view_module_version": "1.5.0",
            "_view_name": "HBoxView",
            "box_style": "",
            "children": [
              "IPY_MODEL_4a5e795a9f62443c903a605c75561e2f",
              "IPY_MODEL_eddb5818f48440c1bcf844aeefe45898",
              "IPY_MODEL_38e44853afdc4ae484f17987a244d824"
            ],
            "layout": "IPY_MODEL_963e8802659c46c5b81085ed8abd524f"
          }
        },
        "4a5e795a9f62443c903a605c75561e2f": {
          "model_module": "@jupyter-widgets/controls",
          "model_name": "HTMLModel",
          "model_module_version": "1.5.0",
          "state": {
            "_dom_classes": [],
            "_model_module": "@jupyter-widgets/controls",
            "_model_module_version": "1.5.0",
            "_model_name": "HTMLModel",
            "_view_count": null,
            "_view_module": "@jupyter-widgets/controls",
            "_view_module_version": "1.5.0",
            "_view_name": "HTMLView",
            "description": "",
            "description_tooltip": null,
            "layout": "IPY_MODEL_39d1b427e78f4abc8dec006eb11aa326",
            "placeholder": "​",
            "style": "IPY_MODEL_0752d412a7164a6cb3975cae89e0663b",
            "value": "100%"
          }
        },
        "eddb5818f48440c1bcf844aeefe45898": {
          "model_module": "@jupyter-widgets/controls",
          "model_name": "FloatProgressModel",
          "model_module_version": "1.5.0",
          "state": {
            "_dom_classes": [],
            "_model_module": "@jupyter-widgets/controls",
            "_model_module_version": "1.5.0",
            "_model_name": "FloatProgressModel",
            "_view_count": null,
            "_view_module": "@jupyter-widgets/controls",
            "_view_module_version": "1.5.0",
            "_view_name": "ProgressView",
            "bar_style": "success",
            "description": "",
            "description_tooltip": null,
            "layout": "IPY_MODEL_c8cb32f75c354534b68be40f713c184b",
            "max": 14,
            "min": 0,
            "orientation": "horizontal",
            "style": "IPY_MODEL_f9c1b6b777b94b93bbc022882afdcf57",
            "value": 14
          }
        },
        "38e44853afdc4ae484f17987a244d824": {
          "model_module": "@jupyter-widgets/controls",
          "model_name": "HTMLModel",
          "model_module_version": "1.5.0",
          "state": {
            "_dom_classes": [],
            "_model_module": "@jupyter-widgets/controls",
            "_model_module_version": "1.5.0",
            "_model_name": "HTMLModel",
            "_view_count": null,
            "_view_module": "@jupyter-widgets/controls",
            "_view_module_version": "1.5.0",
            "_view_name": "HTMLView",
            "description": "",
            "description_tooltip": null,
            "layout": "IPY_MODEL_6c26df90304943ff93c10cbce743d1cc",
            "placeholder": "​",
            "style": "IPY_MODEL_1f25be7ca0c64eeab3438f63cad1aaaa",
            "value": " 14/14 [21:15&lt;00:00, 62.58s/it]"
          }
        },
        "963e8802659c46c5b81085ed8abd524f": {
          "model_module": "@jupyter-widgets/base",
          "model_name": "LayoutModel",
          "model_module_version": "1.2.0",
          "state": {
            "_model_module": "@jupyter-widgets/base",
            "_model_module_version": "1.2.0",
            "_model_name": "LayoutModel",
            "_view_count": null,
            "_view_module": "@jupyter-widgets/base",
            "_view_module_version": "1.2.0",
            "_view_name": "LayoutView",
            "align_content": null,
            "align_items": null,
            "align_self": null,
            "border": null,
            "bottom": null,
            "display": null,
            "flex": null,
            "flex_flow": null,
            "grid_area": null,
            "grid_auto_columns": null,
            "grid_auto_flow": null,
            "grid_auto_rows": null,
            "grid_column": null,
            "grid_gap": null,
            "grid_row": null,
            "grid_template_areas": null,
            "grid_template_columns": null,
            "grid_template_rows": null,
            "height": null,
            "justify_content": null,
            "justify_items": null,
            "left": null,
            "margin": null,
            "max_height": null,
            "max_width": null,
            "min_height": null,
            "min_width": null,
            "object_fit": null,
            "object_position": null,
            "order": null,
            "overflow": null,
            "overflow_x": null,
            "overflow_y": null,
            "padding": null,
            "right": null,
            "top": null,
            "visibility": null,
            "width": null
          }
        },
        "39d1b427e78f4abc8dec006eb11aa326": {
          "model_module": "@jupyter-widgets/base",
          "model_name": "LayoutModel",
          "model_module_version": "1.2.0",
          "state": {
            "_model_module": "@jupyter-widgets/base",
            "_model_module_version": "1.2.0",
            "_model_name": "LayoutModel",
            "_view_count": null,
            "_view_module": "@jupyter-widgets/base",
            "_view_module_version": "1.2.0",
            "_view_name": "LayoutView",
            "align_content": null,
            "align_items": null,
            "align_self": null,
            "border": null,
            "bottom": null,
            "display": null,
            "flex": null,
            "flex_flow": null,
            "grid_area": null,
            "grid_auto_columns": null,
            "grid_auto_flow": null,
            "grid_auto_rows": null,
            "grid_column": null,
            "grid_gap": null,
            "grid_row": null,
            "grid_template_areas": null,
            "grid_template_columns": null,
            "grid_template_rows": null,
            "height": null,
            "justify_content": null,
            "justify_items": null,
            "left": null,
            "margin": null,
            "max_height": null,
            "max_width": null,
            "min_height": null,
            "min_width": null,
            "object_fit": null,
            "object_position": null,
            "order": null,
            "overflow": null,
            "overflow_x": null,
            "overflow_y": null,
            "padding": null,
            "right": null,
            "top": null,
            "visibility": null,
            "width": null
          }
        },
        "0752d412a7164a6cb3975cae89e0663b": {
          "model_module": "@jupyter-widgets/controls",
          "model_name": "DescriptionStyleModel",
          "model_module_version": "1.5.0",
          "state": {
            "_model_module": "@jupyter-widgets/controls",
            "_model_module_version": "1.5.0",
            "_model_name": "DescriptionStyleModel",
            "_view_count": null,
            "_view_module": "@jupyter-widgets/base",
            "_view_module_version": "1.2.0",
            "_view_name": "StyleView",
            "description_width": ""
          }
        },
        "c8cb32f75c354534b68be40f713c184b": {
          "model_module": "@jupyter-widgets/base",
          "model_name": "LayoutModel",
          "model_module_version": "1.2.0",
          "state": {
            "_model_module": "@jupyter-widgets/base",
            "_model_module_version": "1.2.0",
            "_model_name": "LayoutModel",
            "_view_count": null,
            "_view_module": "@jupyter-widgets/base",
            "_view_module_version": "1.2.0",
            "_view_name": "LayoutView",
            "align_content": null,
            "align_items": null,
            "align_self": null,
            "border": null,
            "bottom": null,
            "display": null,
            "flex": null,
            "flex_flow": null,
            "grid_area": null,
            "grid_auto_columns": null,
            "grid_auto_flow": null,
            "grid_auto_rows": null,
            "grid_column": null,
            "grid_gap": null,
            "grid_row": null,
            "grid_template_areas": null,
            "grid_template_columns": null,
            "grid_template_rows": null,
            "height": null,
            "justify_content": null,
            "justify_items": null,
            "left": null,
            "margin": null,
            "max_height": null,
            "max_width": null,
            "min_height": null,
            "min_width": null,
            "object_fit": null,
            "object_position": null,
            "order": null,
            "overflow": null,
            "overflow_x": null,
            "overflow_y": null,
            "padding": null,
            "right": null,
            "top": null,
            "visibility": null,
            "width": null
          }
        },
        "f9c1b6b777b94b93bbc022882afdcf57": {
          "model_module": "@jupyter-widgets/controls",
          "model_name": "ProgressStyleModel",
          "model_module_version": "1.5.0",
          "state": {
            "_model_module": "@jupyter-widgets/controls",
            "_model_module_version": "1.5.0",
            "_model_name": "ProgressStyleModel",
            "_view_count": null,
            "_view_module": "@jupyter-widgets/base",
            "_view_module_version": "1.2.0",
            "_view_name": "StyleView",
            "bar_color": null,
            "description_width": ""
          }
        },
        "6c26df90304943ff93c10cbce743d1cc": {
          "model_module": "@jupyter-widgets/base",
          "model_name": "LayoutModel",
          "model_module_version": "1.2.0",
          "state": {
            "_model_module": "@jupyter-widgets/base",
            "_model_module_version": "1.2.0",
            "_model_name": "LayoutModel",
            "_view_count": null,
            "_view_module": "@jupyter-widgets/base",
            "_view_module_version": "1.2.0",
            "_view_name": "LayoutView",
            "align_content": null,
            "align_items": null,
            "align_self": null,
            "border": null,
            "bottom": null,
            "display": null,
            "flex": null,
            "flex_flow": null,
            "grid_area": null,
            "grid_auto_columns": null,
            "grid_auto_flow": null,
            "grid_auto_rows": null,
            "grid_column": null,
            "grid_gap": null,
            "grid_row": null,
            "grid_template_areas": null,
            "grid_template_columns": null,
            "grid_template_rows": null,
            "height": null,
            "justify_content": null,
            "justify_items": null,
            "left": null,
            "margin": null,
            "max_height": null,
            "max_width": null,
            "min_height": null,
            "min_width": null,
            "object_fit": null,
            "object_position": null,
            "order": null,
            "overflow": null,
            "overflow_x": null,
            "overflow_y": null,
            "padding": null,
            "right": null,
            "top": null,
            "visibility": null,
            "width": null
          }
        },
        "1f25be7ca0c64eeab3438f63cad1aaaa": {
          "model_module": "@jupyter-widgets/controls",
          "model_name": "DescriptionStyleModel",
          "model_module_version": "1.5.0",
          "state": {
            "_model_module": "@jupyter-widgets/controls",
            "_model_module_version": "1.5.0",
            "_model_name": "DescriptionStyleModel",
            "_view_count": null,
            "_view_module": "@jupyter-widgets/base",
            "_view_module_version": "1.2.0",
            "_view_name": "StyleView",
            "description_width": ""
          }
        }
      }
    }
  },
  "nbformat": 4,
  "nbformat_minor": 5
}