{
  "nbformat": 4,
  "nbformat_minor": 0,
  "metadata": {
    "colab": {
      "name": "Untitled4.ipynb",
      "provenance": [],
      "authorship_tag": "ABX9TyOMymQeT/xTAO3FyY9vLeIN",
      "include_colab_link": true
    },
    "kernelspec": {
      "name": "python3",
      "display_name": "Python 3"
    },
    "language_info": {
      "name": "python"
    },
    "widgets": {
      "application/vnd.jupyter.widget-state+json": {
        "321d2f15d5bf47f8985a66f5940eb8b0": {
          "model_module": "@jupyter-widgets/controls",
          "model_name": "HBoxModel",
          "model_module_version": "1.5.0",
          "state": {
            "_dom_classes": [],
            "_model_module": "@jupyter-widgets/controls",
            "_model_module_version": "1.5.0",
            "_model_name": "HBoxModel",
            "_view_count": null,
            "_view_module": "@jupyter-widgets/controls",
            "_view_module_version": "1.5.0",
            "_view_name": "HBoxView",
            "box_style": "",
            "children": [
              "IPY_MODEL_d3986a8ddbc244468c7c457bde9cb50f",
              "IPY_MODEL_c2ea3ea259e04596bf76e39291b8d978",
              "IPY_MODEL_f2939d1f9b054ced922dfd110b817428"
            ],
            "layout": "IPY_MODEL_2562b131fd1d457ca29cd79e56ee9b24"
          }
        },
        "d3986a8ddbc244468c7c457bde9cb50f": {
          "model_module": "@jupyter-widgets/controls",
          "model_name": "HTMLModel",
          "model_module_version": "1.5.0",
          "state": {
            "_dom_classes": [],
            "_model_module": "@jupyter-widgets/controls",
            "_model_module_version": "1.5.0",
            "_model_name": "HTMLModel",
            "_view_count": null,
            "_view_module": "@jupyter-widgets/controls",
            "_view_module_version": "1.5.0",
            "_view_name": "HTMLView",
            "description": "",
            "description_tooltip": null,
            "layout": "IPY_MODEL_649843f04841488781341ee90cb3c91a",
            "placeholder": "​",
            "style": "IPY_MODEL_32957ea7e83c4ee3887b9a22a043a0c3",
            "value": "100%"
          }
        },
        "c2ea3ea259e04596bf76e39291b8d978": {
          "model_module": "@jupyter-widgets/controls",
          "model_name": "FloatProgressModel",
          "model_module_version": "1.5.0",
          "state": {
            "_dom_classes": [],
            "_model_module": "@jupyter-widgets/controls",
            "_model_module_version": "1.5.0",
            "_model_name": "FloatProgressModel",
            "_view_count": null,
            "_view_module": "@jupyter-widgets/controls",
            "_view_module_version": "1.5.0",
            "_view_name": "ProgressView",
            "bar_style": "success",
            "description": "",
            "description_tooltip": null,
            "layout": "IPY_MODEL_eef2cd73608a43d1bae89a15215420a9",
            "max": 82,
            "min": 0,
            "orientation": "horizontal",
            "style": "IPY_MODEL_fe5c5c1184c0415fa7996afc89c31242",
            "value": 82
          }
        },
        "f2939d1f9b054ced922dfd110b817428": {
          "model_module": "@jupyter-widgets/controls",
          "model_name": "HTMLModel",
          "model_module_version": "1.5.0",
          "state": {
            "_dom_classes": [],
            "_model_module": "@jupyter-widgets/controls",
            "_model_module_version": "1.5.0",
            "_model_name": "HTMLModel",
            "_view_count": null,
            "_view_module": "@jupyter-widgets/controls",
            "_view_module_version": "1.5.0",
            "_view_name": "HTMLView",
            "description": "",
            "description_tooltip": null,
            "layout": "IPY_MODEL_6cc0e8ed402a4da18111bec1dd67903e",
            "placeholder": "​",
            "style": "IPY_MODEL_d36bbccb68b342cda5f72f17a923d894",
            "value": " 82/82 [04:23&lt;00:00,  3.21s/it]"
          }
        },
        "2562b131fd1d457ca29cd79e56ee9b24": {
          "model_module": "@jupyter-widgets/base",
          "model_name": "LayoutModel",
          "model_module_version": "1.2.0",
          "state": {
            "_model_module": "@jupyter-widgets/base",
            "_model_module_version": "1.2.0",
            "_model_name": "LayoutModel",
            "_view_count": null,
            "_view_module": "@jupyter-widgets/base",
            "_view_module_version": "1.2.0",
            "_view_name": "LayoutView",
            "align_content": null,
            "align_items": null,
            "align_self": null,
            "border": null,
            "bottom": null,
            "display": null,
            "flex": null,
            "flex_flow": null,
            "grid_area": null,
            "grid_auto_columns": null,
            "grid_auto_flow": null,
            "grid_auto_rows": null,
            "grid_column": null,
            "grid_gap": null,
            "grid_row": null,
            "grid_template_areas": null,
            "grid_template_columns": null,
            "grid_template_rows": null,
            "height": null,
            "justify_content": null,
            "justify_items": null,
            "left": null,
            "margin": null,
            "max_height": null,
            "max_width": null,
            "min_height": null,
            "min_width": null,
            "object_fit": null,
            "object_position": null,
            "order": null,
            "overflow": null,
            "overflow_x": null,
            "overflow_y": null,
            "padding": null,
            "right": null,
            "top": null,
            "visibility": null,
            "width": null
          }
        },
        "649843f04841488781341ee90cb3c91a": {
          "model_module": "@jupyter-widgets/base",
          "model_name": "LayoutModel",
          "model_module_version": "1.2.0",
          "state": {
            "_model_module": "@jupyter-widgets/base",
            "_model_module_version": "1.2.0",
            "_model_name": "LayoutModel",
            "_view_count": null,
            "_view_module": "@jupyter-widgets/base",
            "_view_module_version": "1.2.0",
            "_view_name": "LayoutView",
            "align_content": null,
            "align_items": null,
            "align_self": null,
            "border": null,
            "bottom": null,
            "display": null,
            "flex": null,
            "flex_flow": null,
            "grid_area": null,
            "grid_auto_columns": null,
            "grid_auto_flow": null,
            "grid_auto_rows": null,
            "grid_column": null,
            "grid_gap": null,
            "grid_row": null,
            "grid_template_areas": null,
            "grid_template_columns": null,
            "grid_template_rows": null,
            "height": null,
            "justify_content": null,
            "justify_items": null,
            "left": null,
            "margin": null,
            "max_height": null,
            "max_width": null,
            "min_height": null,
            "min_width": null,
            "object_fit": null,
            "object_position": null,
            "order": null,
            "overflow": null,
            "overflow_x": null,
            "overflow_y": null,
            "padding": null,
            "right": null,
            "top": null,
            "visibility": null,
            "width": null
          }
        },
        "32957ea7e83c4ee3887b9a22a043a0c3": {
          "model_module": "@jupyter-widgets/controls",
          "model_name": "DescriptionStyleModel",
          "model_module_version": "1.5.0",
          "state": {
            "_model_module": "@jupyter-widgets/controls",
            "_model_module_version": "1.5.0",
            "_model_name": "DescriptionStyleModel",
            "_view_count": null,
            "_view_module": "@jupyter-widgets/base",
            "_view_module_version": "1.2.0",
            "_view_name": "StyleView",
            "description_width": ""
          }
        },
        "eef2cd73608a43d1bae89a15215420a9": {
          "model_module": "@jupyter-widgets/base",
          "model_name": "LayoutModel",
          "model_module_version": "1.2.0",
          "state": {
            "_model_module": "@jupyter-widgets/base",
            "_model_module_version": "1.2.0",
            "_model_name": "LayoutModel",
            "_view_count": null,
            "_view_module": "@jupyter-widgets/base",
            "_view_module_version": "1.2.0",
            "_view_name": "LayoutView",
            "align_content": null,
            "align_items": null,
            "align_self": null,
            "border": null,
            "bottom": null,
            "display": null,
            "flex": null,
            "flex_flow": null,
            "grid_area": null,
            "grid_auto_columns": null,
            "grid_auto_flow": null,
            "grid_auto_rows": null,
            "grid_column": null,
            "grid_gap": null,
            "grid_row": null,
            "grid_template_areas": null,
            "grid_template_columns": null,
            "grid_template_rows": null,
            "height": null,
            "justify_content": null,
            "justify_items": null,
            "left": null,
            "margin": null,
            "max_height": null,
            "max_width": null,
            "min_height": null,
            "min_width": null,
            "object_fit": null,
            "object_position": null,
            "order": null,
            "overflow": null,
            "overflow_x": null,
            "overflow_y": null,
            "padding": null,
            "right": null,
            "top": null,
            "visibility": null,
            "width": null
          }
        },
        "fe5c5c1184c0415fa7996afc89c31242": {
          "model_module": "@jupyter-widgets/controls",
          "model_name": "ProgressStyleModel",
          "model_module_version": "1.5.0",
          "state": {
            "_model_module": "@jupyter-widgets/controls",
            "_model_module_version": "1.5.0",
            "_model_name": "ProgressStyleModel",
            "_view_count": null,
            "_view_module": "@jupyter-widgets/base",
            "_view_module_version": "1.2.0",
            "_view_name": "StyleView",
            "bar_color": null,
            "description_width": ""
          }
        },
        "6cc0e8ed402a4da18111bec1dd67903e": {
          "model_module": "@jupyter-widgets/base",
          "model_name": "LayoutModel",
          "model_module_version": "1.2.0",
          "state": {
            "_model_module": "@jupyter-widgets/base",
            "_model_module_version": "1.2.0",
            "_model_name": "LayoutModel",
            "_view_count": null,
            "_view_module": "@jupyter-widgets/base",
            "_view_module_version": "1.2.0",
            "_view_name": "LayoutView",
            "align_content": null,
            "align_items": null,
            "align_self": null,
            "border": null,
            "bottom": null,
            "display": null,
            "flex": null,
            "flex_flow": null,
            "grid_area": null,
            "grid_auto_columns": null,
            "grid_auto_flow": null,
            "grid_auto_rows": null,
            "grid_column": null,
            "grid_gap": null,
            "grid_row": null,
            "grid_template_areas": null,
            "grid_template_columns": null,
            "grid_template_rows": null,
            "height": null,
            "justify_content": null,
            "justify_items": null,
            "left": null,
            "margin": null,
            "max_height": null,
            "max_width": null,
            "min_height": null,
            "min_width": null,
            "object_fit": null,
            "object_position": null,
            "order": null,
            "overflow": null,
            "overflow_x": null,
            "overflow_y": null,
            "padding": null,
            "right": null,
            "top": null,
            "visibility": null,
            "width": null
          }
        },
        "d36bbccb68b342cda5f72f17a923d894": {
          "model_module": "@jupyter-widgets/controls",
          "model_name": "DescriptionStyleModel",
          "model_module_version": "1.5.0",
          "state": {
            "_model_module": "@jupyter-widgets/controls",
            "_model_module_version": "1.5.0",
            "_model_name": "DescriptionStyleModel",
            "_view_count": null,
            "_view_module": "@jupyter-widgets/base",
            "_view_module_version": "1.2.0",
            "_view_name": "StyleView",
            "description_width": ""
          }
        }
      }
    }
  },
  "cells": [
    {
      "cell_type": "markdown",
      "metadata": {
        "id": "view-in-github",
        "colab_type": "text"
      },
      "source": [
        "<a href=\"https://colab.research.google.com/github/nafisenik/NLP-CA2/blob/main/Crawling.ipynb\" target=\"_parent\"><img src=\"https://colab.research.google.com/assets/colab-badge.svg\" alt=\"Open In Colab\"/></a>"
      ]
    },
    {
      "cell_type": "code",
      "execution_count": 13,
      "metadata": {
        "id": "FeBXZwqmZBGF"
      },
      "outputs": [],
      "source": [
        "from bs4 import BeautifulSoup\n",
        "import requests\n",
        "from tqdm.notebook import tqdm\n",
        "import time\n",
        "import json\n",
        "import csv\n",
        "import os"
      ]
    },
    {
      "cell_type": "code",
      "source": [
        "def save_url_file(url):\n",
        "    urls = []\n",
        "    root_url = \"https://www.presidency.ucsb.edu\"\n",
        "    while True:\n",
        "        req = requests.get(url)\n",
        "        soup = BeautifulSoup(req.text, 'html.parser')\n",
        "        all_urls = soup.find_all('td',class_='views-field-title')\n",
        "        \n",
        "        for u in all_urls:\n",
        "            link = u.find('a')['href']\n",
        "            urls.append(root_url + link)\n",
        "               \n",
        "        next_page = soup.find('a', {'title': 'Go to next page'})\n",
        "        if next_page:\n",
        "            url = root_url + next_page['href']\n",
        "        else:\n",
        "            break\n",
        "        time.sleep(5)\n",
        "        \n",
        "\n",
        "    f = open('urls.txt', 'w')\n",
        "    f.write('\\n'.join(urls))\n",
        "    f.close()"
      ],
      "metadata": {
        "id": "vxxPJgkUZEJ7"
      },
      "execution_count": 2,
      "outputs": []
    },
    {
      "cell_type": "code",
      "source": [
        "save_url_file(\"https://www.presidency.ucsb.edu/advanced-search?field-keywords=&field-keywords2=&field-keywords3=&from[date]=01-01-1947&to[date]=03-22-2022&person2=&category2[]=45&category2[]=400&items_per_page=50\")"
      ],
      "metadata": {
        "id": "CwRW6RlQZLDc"
      },
      "execution_count": 3,
      "outputs": []
    },
    {
      "cell_type": "code",
      "source": [
        "def crawl_data(file):\n",
        "    file1 = open(file , 'r')\n",
        "    urls = file1.readlines()\n",
        "    directory = \"./Data/\"\n",
        "    text_path = directory + \"Text_Files/\"\n",
        "    os.makedirs(directory, exist_ok=True)\n",
        "    os.makedirs(text_path, exist_ok=True)\n",
        "    rows=[]\n",
        "    index = 0\n",
        "        \n",
        "    for url in tqdm(urls):\n",
        "        req = requests.get(url)\n",
        "        soup = BeautifulSoup(req.text, 'html.parser')\n",
        "        text = soup.find('div', class_= 'field-docs-content').text\n",
        "        president = soup.find(\"h3\", class_='diet-title').text\n",
        "        categories = str([i.text for i in soup.findAll(attrs={\"property\": \"rdfs:label skos:prefLabel\", \"typeof\": \"skos:Concept\"})])\n",
        "        date = soup.find(\"span\", class_= 'date-display-single').text\n",
        "        citation = soup.find(\"p\", class_= 'ucsbapp_citation').text\n",
        "        title = soup.find(\"div\", class_= 'field-ds-doc-title').text.strip()\n",
        "        rows.append([str(index), president, categories, date, citation, title])\n",
        "        \n",
        "        with open(text_path + str(index)+\".txt\", 'w', encoding=\"utf-8\") as f:\n",
        "            f.write(text)\n",
        "            \n",
        "        time.sleep(3)\n",
        "        index+= 1\n",
        "        \n",
        "    fields = ['Index', 'President', 'Categories', 'Date', 'Citation', 'Title']     \n",
        "    with open(directory + 'metadata.csv', 'w', newline='') as csvfile:\n",
        "        writer = csv.writer(csvfile, delimiter=\",\")\n",
        "        writer.writerow(fields)\n",
        "        writer.writerows(rows)  "
      ],
      "metadata": {
        "id": "2qDFGJteaFQX"
      },
      "execution_count": 14,
      "outputs": []
    },
    {
      "cell_type": "code",
      "source": [
        "crawl_data('urls.txt')"
      ],
      "metadata": {
        "colab": {
          "base_uri": "https://localhost:8080/",
          "height": 49,
          "referenced_widgets": [
            "321d2f15d5bf47f8985a66f5940eb8b0",
            "d3986a8ddbc244468c7c457bde9cb50f",
            "c2ea3ea259e04596bf76e39291b8d978",
            "f2939d1f9b054ced922dfd110b817428",
            "2562b131fd1d457ca29cd79e56ee9b24",
            "649843f04841488781341ee90cb3c91a",
            "32957ea7e83c4ee3887b9a22a043a0c3",
            "eef2cd73608a43d1bae89a15215420a9",
            "fe5c5c1184c0415fa7996afc89c31242",
            "6cc0e8ed402a4da18111bec1dd67903e",
            "d36bbccb68b342cda5f72f17a923d894"
          ]
        },
        "id": "RiPADZmvaQg1",
        "outputId": "83831d80-ffa4-4179-bcd6-8917dd4f41c9"
      },
      "execution_count": 15,
      "outputs": [
        {
          "data": {
            "application/vnd.jupyter.widget-view+json": {
              "model_id": "321d2f15d5bf47f8985a66f5940eb8b0",
              "version_major": 2,
              "version_minor": 0
            },
            "text/plain": [
              "  0%|          | 0/82 [00:00<?, ?it/s]"
            ]
          },
          "metadata": {},
          "output_type": "display_data"
        }
      ]
    }
  ]
}